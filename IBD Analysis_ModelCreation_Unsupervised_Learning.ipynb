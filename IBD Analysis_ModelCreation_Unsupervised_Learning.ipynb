{
  "cells": [
    {
      "cell_type": "markdown",
      "id": "9ed922b9",
      "metadata": {
        "id": "9ed922b9"
      },
      "source": [
        "# Introduction"
      ]
    },
    {
      "cell_type": "code",
      "execution_count": null,
      "id": "6ea6d44b",
      "metadata": {
        "colab": {
          "base_uri": "https://localhost:8080/"
        },
        "id": "6ea6d44b",
        "outputId": "02bc5236-2885-4c36-fa8b-d9641a260232"
      },
      "outputs": [
        {
          "name": "stderr",
          "output_type": "stream",
          "text": [
            "[nltk_data] Downloading package punkt to /root/nltk_data...\n",
            "[nltk_data]   Unzipping tokenizers/punkt.zip.\n"
          ]
        },
        {
          "data": {
            "text/plain": [
              "True"
            ]
          },
          "execution_count": 9,
          "metadata": {},
          "output_type": "execute_result"
        }
      ],
      "source": [
        "import pandas as pd\n",
        "import numpy as np\n",
        "from nltk.tokenize import word_tokenize\n",
        "from sklearn.feature_extraction.text import TfidfVectorizer\n",
        "from sklearn.cluster import KMeans\n",
        "import nltk\n",
        "nltk.download('punkt')"
      ]
    },
    {
      "cell_type": "code",
      "execution_count": null,
      "id": "1e853d46",
      "metadata": {
        "id": "1e853d46"
      },
      "outputs": [],
      "source": [
        "import os\n",
        "os.environ['OMP_NUM_THREADS'] = '3'\n",
        "import warnings\n",
        "warnings.filterwarnings(\"ignore\", category=UserWarning)"
      ]
    },
    {
      "cell_type": "code",
      "execution_count": null,
      "id": "afa89d72",
      "metadata": {
        "id": "afa89d72"
      },
      "outputs": [],
      "source": [
        "#Loading the final cleaned datasets\n",
        "\n",
        "merged_file_df = pd.read_TYPE('Merged_File')"
      ]
    },
    {
      "cell_type": "code",
      "execution_count": null,
      "id": "d6StZfDKTg0x",
      "metadata": {
        "colab": {
          "base_uri": "https://localhost:8080/"
        },
        "id": "d6StZfDKTg0x",
        "outputId": "8445d0f0-38eb-4527-a615-1a9ce06b2d71"
      },
      "outputs": [
        {
          "name": "stdout",
          "output_type": "stream",
          "text": [
            "Mounted at /content/drive\n"
          ]
        }
      ],
      "source": [
        "from google.colab import drive\n",
        "drive.mount('/content/drive')"
      ]
    },
    {
      "cell_type": "markdown",
      "id": "3f41fdbe",
      "metadata": {
        "id": "3f41fdbe"
      },
      "source": [
        "## Tokenization"
      ]
    },
    {
      "cell_type": "code",
      "execution_count": null,
      "id": "c29ff0e3",
      "metadata": {
        "colab": {
          "base_uri": "https://localhost:8080/"
        },
        "id": "c29ff0e3",
        "outputId": "519ac38e-a180-4371-ed46-dcf7db113371"
      },
      "outputs": [
        {
          "name": "stdout",
          "output_type": "stream",
          "text": [
            "object\n"
          ]
        }
      ],
      "source": [
        "print(merged_file_df['Exam_Notes'].dtype)\n",
        "merged_file_df['Image_Info'] = merged_file_df['Image_Info'].astype(str)"
      ]
    },
    {
      "cell_type": "code",
      "execution_count": null,
      "id": "59b36b9e",
      "metadata": {
        "id": "59b36b9e"
      },
      "outputs": [],
      "source": [
        "# Convert Exam_Notes column to lowercase\n",
        "merged_file_df['Exam_Notes_lower'] = [note.lower() for note in merged_file_df['Exam_Notes'].tolist()]\n",
        "merged_file_df['Image_Info_lower'] = [note.lower() for note in merged_file_df['Image_Info'].tolist()]"
      ]
    },
    {
      "cell_type": "code",
      "execution_count": null,
      "id": "ed1f0e1f",
      "metadata": {
        "id": "ed1f0e1f"
      },
      "outputs": [],
      "source": [
        "# Tokenize the values in 'Exam_Notes' column\n",
        "merged_file_df['Exam_Notes_tokens'] = merged_file_df['Exam_Notes_lower'].apply(lambda x: word_tokenize(x))\n",
        "\n",
        "# Tokenize the values in 'Image_Info' column\n",
        "merged_file_df['Image_Info_tokens'] = merged_file_df['Image_Info_lower'].apply(lambda x: word_tokenize(x))"
      ]
    },
    {
      "cell_type": "code",
      "execution_count": null,
      "id": "004d2bc6",
      "metadata": {
        "colab": {
          "base_uri": "https://localhost:8080/",
          "height": 1000
        },
        "id": "004d2bc6",
        "outputId": "17169216-7855-477a-8b02-2967f313e155"
      },
      "outputs": [],
      "source": [
        "merged_file_df"
      ]
    },
    {
      "cell_type": "code",
      "execution_count": null,
      "id": "vds3VdwaTbt_",
      "metadata": {
        "id": "vds3VdwaTbt_"
      },
      "outputs": [],
      "source": [
        "import pandas as pd\n",
        "from sklearn.feature_extraction.text import TfidfVectorizer\n",
        "from sklearn.linear_model import LogisticRegression\n",
        "\n",
        "# Step 2: Preprocess the text\n",
        "# You may need to implement text preprocessing steps based on your specific requirements\n",
        "\n",
        "# Step 3: Feature extraction\n",
        "vectorizer = TfidfVectorizer()\n",
        "X = vectorizer.fit_transform(merged_file_df['Exam_Notes'])\n",
        "y = merged_file_df['Disease_Severity']\n"
      ]
    },
    {
      "cell_type": "code",
      "execution_count": null,
      "id": "bg6q3TsaTbqq",
      "metadata": {
        "colab": {
          "base_uri": "https://localhost:8080/",
          "height": 74
        },
        "id": "bg6q3TsaTbqq",
        "outputId": "d95e3009-9c7a-417f-9117-3667d593ef8a"
      },
      "outputs": [
        {
          "data": {
            "text/html": [
              "<style>#sk-container-id-1 {color: black;background-color: white;}#sk-container-id-1 pre{padding: 0;}#sk-container-id-1 div.sk-toggleable {background-color: white;}#sk-container-id-1 label.sk-toggleable__label {cursor: pointer;display: block;width: 100%;margin-bottom: 0;padding: 0.3em;box-sizing: border-box;text-align: center;}#sk-container-id-1 label.sk-toggleable__label-arrow:before {content: \"▸\";float: left;margin-right: 0.25em;color: #696969;}#sk-container-id-1 label.sk-toggleable__label-arrow:hover:before {color: black;}#sk-container-id-1 div.sk-estimator:hover label.sk-toggleable__label-arrow:before {color: black;}#sk-container-id-1 div.sk-toggleable__content {max-height: 0;max-width: 0;overflow: hidden;text-align: left;background-color: #f0f8ff;}#sk-container-id-1 div.sk-toggleable__content pre {margin: 0.2em;color: black;border-radius: 0.25em;background-color: #f0f8ff;}#sk-container-id-1 input.sk-toggleable__control:checked~div.sk-toggleable__content {max-height: 200px;max-width: 100%;overflow: auto;}#sk-container-id-1 input.sk-toggleable__control:checked~label.sk-toggleable__label-arrow:before {content: \"▾\";}#sk-container-id-1 div.sk-estimator input.sk-toggleable__control:checked~label.sk-toggleable__label {background-color: #d4ebff;}#sk-container-id-1 div.sk-label input.sk-toggleable__control:checked~label.sk-toggleable__label {background-color: #d4ebff;}#sk-container-id-1 input.sk-hidden--visually {border: 0;clip: rect(1px 1px 1px 1px);clip: rect(1px, 1px, 1px, 1px);height: 1px;margin: -1px;overflow: hidden;padding: 0;position: absolute;width: 1px;}#sk-container-id-1 div.sk-estimator {font-family: monospace;background-color: #f0f8ff;border: 1px dotted black;border-radius: 0.25em;box-sizing: border-box;margin-bottom: 0.5em;}#sk-container-id-1 div.sk-estimator:hover {background-color: #d4ebff;}#sk-container-id-1 div.sk-parallel-item::after {content: \"\";width: 100%;border-bottom: 1px solid gray;flex-grow: 1;}#sk-container-id-1 div.sk-label:hover label.sk-toggleable__label {background-color: #d4ebff;}#sk-container-id-1 div.sk-serial::before {content: \"\";position: absolute;border-left: 1px solid gray;box-sizing: border-box;top: 0;bottom: 0;left: 50%;z-index: 0;}#sk-container-id-1 div.sk-serial {display: flex;flex-direction: column;align-items: center;background-color: white;padding-right: 0.2em;padding-left: 0.2em;position: relative;}#sk-container-id-1 div.sk-item {position: relative;z-index: 1;}#sk-container-id-1 div.sk-parallel {display: flex;align-items: stretch;justify-content: center;background-color: white;position: relative;}#sk-container-id-1 div.sk-item::before, #sk-container-id-1 div.sk-parallel-item::before {content: \"\";position: absolute;border-left: 1px solid gray;box-sizing: border-box;top: 0;bottom: 0;left: 50%;z-index: -1;}#sk-container-id-1 div.sk-parallel-item {display: flex;flex-direction: column;z-index: 1;position: relative;background-color: white;}#sk-container-id-1 div.sk-parallel-item:first-child::after {align-self: flex-end;width: 50%;}#sk-container-id-1 div.sk-parallel-item:last-child::after {align-self: flex-start;width: 50%;}#sk-container-id-1 div.sk-parallel-item:only-child::after {width: 0;}#sk-container-id-1 div.sk-dashed-wrapped {border: 1px dashed gray;margin: 0 0.4em 0.5em 0.4em;box-sizing: border-box;padding-bottom: 0.4em;background-color: white;}#sk-container-id-1 div.sk-label label {font-family: monospace;font-weight: bold;display: inline-block;line-height: 1.2em;}#sk-container-id-1 div.sk-label-container {text-align: center;}#sk-container-id-1 div.sk-container {/* jupyter's `normalize.less` sets `[hidden] { display: none; }` but bootstrap.min.css set `[hidden] { display: none !important; }` so we also need the `!important` here to be able to override the default hidden behavior on the sphinx rendered scikit-learn.org. See: https://github.com/scikit-learn/scikit-learn/issues/21755 */display: inline-block !important;position: relative;}#sk-container-id-1 div.sk-text-repr-fallback {display: none;}</style><div id=\"sk-container-id-1\" class=\"sk-top-container\"><div class=\"sk-text-repr-fallback\"><pre>LogisticRegression()</pre><b>In a Jupyter environment, please rerun this cell to show the HTML representation or trust the notebook. <br />On GitHub, the HTML representation is unable to render, please try loading this page with nbviewer.org.</b></div><div class=\"sk-container\" hidden><div class=\"sk-item\"><div class=\"sk-estimator sk-toggleable\"><input class=\"sk-toggleable__control sk-hidden--visually\" id=\"sk-estimator-id-1\" type=\"checkbox\" checked><label for=\"sk-estimator-id-1\" class=\"sk-toggleable__label sk-toggleable__label-arrow\">LogisticRegression</label><div class=\"sk-toggleable__content\"><pre>LogisticRegression()</pre></div></div></div></div></div>"
            ],
            "text/plain": [
              "LogisticRegression()"
            ]
          },
          "execution_count": 14,
          "metadata": {},
          "output_type": "execute_result"
        }
      ],
      "source": [
        "\n",
        "# Step 4: Train a classification model\n",
        "model = LogisticRegression()\n",
        "model.fit(X, y)\n",
        "\n"
      ]
    },
    {
      "cell_type": "code",
      "execution_count": null,
      "id": "fpbaeVdGUPip",
      "metadata": {
        "id": "fpbaeVdGUPip"
      },
      "outputs": [],
      "source": [
        "# Step 6: Rank words by importance\n",
        "feature_importance = model.coef_[0]\n",
        "\n",
        "feature_names = vectorizer.get_feature_names_out()\n",
        "word_importance = dict(zip(feature_names, feature_importance))\n",
        "sorted_words = sorted(word_importance.items(), key=lambda x: x[1], reverse=True)\n"
      ]
    },
    {
      "cell_type": "code",
      "execution_count": null,
      "id": "sRYIJ9cQW77l",
      "metadata": {
        "id": "sRYIJ9cQW77l"
      },
      "outputs": [],
      "source": [
        "word_importance"
      ]
    },
    {
      "cell_type": "code",
      "execution_count": null,
      "id": "7G9hzOn4TbYP",
      "metadata": {
        "colab": {
          "base_uri": "https://localhost:8080/"
        },
        "id": "7G9hzOn4TbYP",
        "outputId": "77f8c047-0fbc-441c-a9f7-ada64893c1f8"
      },
      "outputs": [
        {
          "name": "stdout",
          "output_type": "stream",
          "text": [
            "Word: repeat, Importance: 1.4353793325870723\n",
            "Word: colonoscopy, Importance: 1.332060657864859\n",
            "Word: normal, Importance: 1.2174061440960282\n",
            "Word: colon, Importance: 0.9419876383859783\n",
            "Word: hemorrhoids, Importance: 0.9358914637393714\n",
            "Word: high, Importance: 0.8934274815414912\n",
            "Word: surveillance, Importance: 0.8775168577060309\n",
            "Word: scar, Importance: 0.7452091797698533\n",
            "Word: telephone, Importance: 0.739067041388822\n",
            "Word: gi, Importance: 0.7298854479216101\n",
            "Word: background, Importance: 0.7283524432294332\n",
            "Word: followup, Importance: 0.7187348857978393\n",
            "Word: complete, Importance: 0.7146566691865123\n",
            "Word: risk, Importance: 0.6567585249816631\n",
            "Word: tests, Importance: 0.6303474144332238\n",
            "Word: none, Importance: 0.6121083918242225\n",
            "Word: specimens, Importance: 0.5931871540378404\n",
            "Word: ec760rvl, Importance: 0.5486611401753334\n",
            "Word: polyp, Importance: 0.54264757271871\n",
            "Word: biopsies, Importance: 0.5341941271528733\n",
            "Word: 4c729g463, Importance: 0.5339978597916178\n",
            "Word: pain, Importance: 0.5271151974936076\n",
            "Word: lab, Importance: 0.5120015425620315\n",
            "Word: retroflexion, Importance: 0.5060740525680186\n",
            "Word: erythema, Importance: 0.4935204831924406\n",
            "Word: fiber, Importance: 0.47084122551340485\n",
            "Word: cancer, Importance: 0.46879558717929753\n",
            "Word: involved, Importance: 0.4658517007902595\n",
            "Word: onethird, Importance: 0.4658517007902595\n",
            "Word: yrs, Importance: 0.46583519837571236\n",
            "Word: years, Importance: 0.4577449074785299\n",
            "Word: resume, Importance: 0.45443059436906946\n",
            "Word: surgeon, Importance: 0.4532869966718702\n",
            "Word: endoscopes, Importance: 0.443667795756409\n",
            "Word: see, Importance: 0.43688771745807803\n",
            "Word: diet, Importance: 0.4350200715540841\n",
            "Word: cold, Importance: 0.4347204170284655\n",
            "Word: remission, Importance: 0.4300161416006162\n",
            "Word: band, Importance: 0.42427646581741446\n",
            "Word: imaging, Importance: 0.42427646581741446\n",
            "Word: magnification, Importance: 0.42427646581741446\n",
            "Word: narrow, Importance: 0.42427646581741446\n",
            "Word: total, Importance: 0.42324732062565207\n",
            "Word: landmarks, Importance: 0.40942464936542666\n",
            "Word: 4c729g453, Importance: 0.40520726920381644\n",
            "Word: note, Importance: 0.39957516637366663\n",
            "Word: needed, Importance: 0.382623156393994\n",
            "Word: poor, Importance: 0.3791403683318254\n",
            "Word: apriso, Importance: 0.3760719642789521\n",
            "Word: definitions, Importance: 0.36930608886299926\n",
            "Word: 116, Importance: 0.36603363491288154\n",
            "Word: polypectomy, Importance: 0.36119434688696667\n",
            "Word: home, Importance: 0.3582090474067913\n",
            "Word: reviewed, Importance: 0.35507507670777705\n",
            "Word: discharge, Importance: 0.3539615929247864\n",
            "Word: documentation, Importance: 0.34755073912558637\n",
            "Word: forceps, Importance: 0.34613938105486947\n",
            "Word: go, Importance: 0.3434481217327144\n",
            "Word: photographed, Importance: 0.34324438923831513\n",
            "Word: mucosal, Importance: 0.33986448263135\n",
            "Word: 5881, Importance: 0.33817688365146725\n",
            "Word: internal, Importance: 0.33702529210851023\n",
            "Word: surgery, Importance: 0.33579344582202325\n",
            "Word: 5683, Importance: 0.33215509401691096\n",
            "Word: pancolitis, Importance: 0.3313990560155195\n",
            "Word: ibd, Importance: 0.3292249448802133\n",
            "Word: psc, Importance: 0.3292249448802133\n",
            "Word: grade, Importance: 0.3291610276583049\n",
            "Word: 0622, Importance: 0.3219630817513689\n",
            "Word: allergies, Importance: 0.31744177728124334\n",
            "Word: consent, Importance: 0.31744177728124334\n",
            "Word: culosis, Importance: 0.31668100891713735\n",
            "Word: 85, Importance: 0.3153586259722135\n",
            "Word: fuji, Importance: 0.31294184447591333\n",
            "Word: fentanyl, Importance: 0.31275524491060747\n",
            "Word: single, Importance: 0.31254770195218434\n",
            "Word: abdominal, Importance: 0.30730314329260733\n",
            "Word: 5731, Importance: 0.3063607412347135\n",
            "Word: without, Importance: 0.30605578972760605\n",
            "Word: evidence, Importance: 0.2998905369666868\n",
            "Word: responsible, Importance: 0.2935090569777936\n",
            "Word: 446, Importance: 0.29240264050418613\n",
            "Word: olon, Importance: 0.2899097909261262\n",
            "Word: crohns, Importance: 0.2898478573474285\n",
            "Word: enema, Importance: 0.2871369597984651\n",
            "Word: await, Importance: 0.28677199326024383\n",
            "Word: endoscopy, Importance: 0.28477635892017117\n",
            "Word: instruction, Importance: 0.28438789824777877\n",
            "Word: rowasa, Importance: 0.2841766718604243\n",
            "Word: performed, Importance: 0.27555860153438716\n",
            "Word: ulceration, Importance: 0.2734848865937921\n",
            "Word: histology, Importance: 0.2724010904206804\n",
            "Word: intestine, Importance: 0.26929190652661233\n",
            "Word: previous, Importance: 0.26832343713367546\n",
            "Word: hp, Importance: 0.263709986486595\n",
            "Word: studies, Importance: 0.26178298768904723\n",
            "Word: moderate, Importance: 0.2616232730385063\n",
            "Word: large, Importance: 0.25987794321693347\n",
            "Word: certification, Importance: 0.25900056491087015\n",
            "Word: adult, Importance: 0.2589194008660334\n",
            "Word: scheduled, Importance: 0.25883604947213956\n",
            "Word: examined, Importance: 0.2585982444699821\n",
            "Word: midazolam, Importance: 0.25687818899535075\n",
            "Word: peat, Importance: 0.256136599513106\n",
            "Word: primary, Importance: 0.2544096860974404\n",
            "Word: 025, Importance: 0.24938744231762328\n",
            "Word: fuv, Importance: 0.244143430920049\n",
            "Word: telehealth, Importance: 0.244143430920049\n",
            "Word: entire, Importance: 0.24377874345380354\n",
            "Word: previously, Importance: 0.24275768742555962\n",
            "Word: anastomosis, Importance: 0.23968440702166985\n",
            "Word: prior, Importance: 0.23880829474043763\n",
            "Word: granuloma, Importance: 0.23838608653206197\n",
            "Word: suture, Importance: 0.23838608653206197\n",
            "Word: 5g402g894, Importance: 0.23259993496333878\n",
            "Word: 760r, Importance: 0.23259993496333878\n",
            "Word: pathology, Importance: 0.23128458581032255\n",
            "Word: bbps, Importance: 0.2279225717510408\n",
            "Word: 99, Importance: 0.22744256923264713\n",
            "Word: 5g402g887, Importance: 0.22483476369723557\n",
            "Word: eg760r, Importance: 0.22483476369723557\n",
            "Word: upper, Importance: 0.22454908346652708\n",
            "Word: aspirin, Importance: 0.2230347610857988\n",
            "Word: indefinitely, Importance: 0.2227429219503025\n",
            "Word: duration, Importance: 0.2218218960859356\n",
            "Word: pelvic, Importance: 0.2170271849463118\n",
            "Word: sphincter, Importance: 0.2132457521631675\n",
            "Word: meet, Importance: 0.21258879632552113\n",
            "Word: results, Importance: 0.2122408412193907\n",
            "Word: nonbleeding, Importance: 0.21156707785122292\n",
            "Word: include, Importance: 0.21079708275637535\n",
            "Word: post, Importance: 0.20597826535884084\n",
            "Word: 374, Importance: 0.2042535700399651\n",
            "Word: fh, Importance: 0.20273067694202457\n",
            "Word: vidence, Importance: 0.2007913075552386\n",
            "Word: 4c729g468, Importance: 0.20024925054222048\n",
            "Word: bps, Importance: 0.1999516306847039\n",
            "Word: op, Importance: 0.19731688092653538\n",
            "Word: orders, Importance: 0.19731688092653538\n",
            "Word: appeared, Importance: 0.1944935138978467\n",
            "Word: healthy, Importance: 0.19443640767659287\n",
            "Word: hq190l, Importance: 0.1932838174074968\n",
            "Word: obtained, Importance: 0.19199937522673308\n",
            "Word: tone, Importance: 0.18984347428785114\n",
            "Word: 107, Importance: 0.1896064109562881\n",
            "Word: bm, Importance: 0.18958602891924572\n",
            "Word: imodium, Importance: 0.18958602891924572\n",
            "Word: loose, Importance: 0.18958602891924572\n",
            "Word: tab, Importance: 0.18958602891924572\n",
            "Word: nsaid, Importance: 0.1893002712827808\n",
            "Word: ds, Importance: 0.18651188339712144\n",
            "Word: redundant, Importance: 0.18550487529613116\n",
            "Word: mm, Importance: 0.18435484357838355\n",
            "Word: avoidance, Importance: 0.1839288852411688\n",
            "Word: welchol, Importance: 0.18316242723678253\n",
            "Word: one, Importance: 0.18285970121763973\n",
            "Word: 0649, Importance: 0.182760092690473\n",
            "Word: oids, Importance: 0.18112678121377648\n",
            "Word: office, Importance: 0.17958910365889585\n",
            "Word: 529, Importance: 0.17842897812428213\n",
            "Word: ent, Importance: 0.17697391201925194\n",
            "Word: withdrawal, Importance: 0.17628144828585116\n",
            "Word: tortuous, Importance: 0.17618290642361356\n",
            "Word: administration, Importance: 0.17469970240660843\n",
            "Word: conscious, Importance: 0.17469970240660843\n",
            "Word: ulcer, Importance: 0.17454270003296513\n",
            "Word: sessile, Importance: 0.17329752025161288\n",
            "Word: mid, Importance: 0.17262346972400955\n",
            "Word: 67, Importance: 0.17260016672487793\n",
            "Word: colonic, Importance: 0.17258560081064106\n",
            "Word: relative, Importance: 0.1708347562473883\n",
            "Word: risks, Importance: 0.16954511448237347\n",
            "Word: ne, Importance: 0.16739909494029429\n",
            "Word: 115, Importance: 0.16618938012663756\n",
            "Word: removed, Importance: 0.1655829969823708\n",
            "Word: time, Importance: 0.16511393293123375\n",
            "Word: tissue, Importance: 0.1627539535314249\n",
            "Word: 863, Importance: 0.16262282381033188\n",
            "Word: prn, Importance: 0.1619529881107645\n",
            "Word: use, Importance: 0.15808355549885084\n",
            "Word: discussed, Importance: 0.1552026957874894\n",
            "Word: 1st, Importance: 0.1528128630199096\n",
            "Word: degree, Importance: 0.1528128630199096\n",
            "Word: bid, Importance: 0.15071893492651695\n",
            "Word: 152, Importance: 0.15036660720399309\n",
            "Word: patent, Importance: 0.14946798110533896\n",
            "Word: 4c729g467, Importance: 0.1484906883814671\n",
            "Word: 124, Importance: 0.14816903592632277\n",
            "Word: heme, Importance: 0.14784619470961144\n",
            "Word: criteria, Importance: 0.14736689653128016\n",
            "Word: met, Importance: 0.14736689653128016\n",
            "Word: melena, Importance: 0.14724764563878057\n",
            "Word: designated, Importance: 0.1467545284888968\n",
            "Word: 5695, Importance: 0.1464464063288881\n",
            "Word: snare, Importance: 0.14427838434473367\n",
            "Word: resection, Importance: 0.14293472585577505\n",
            "Word: portion, Importance: 0.14246896716463325\n",
            "Word: bleed, Importance: 0.14138479738267917\n",
            "Word: rectosigmoiditis, Importance: 0.14138479738267917\n",
            "Word: example, Importance: 0.14105793998885144\n",
            "Word: florastor, Importance: 0.14105793998885144\n",
            "Word: jarrodophilus, Importance: 0.14105793998885144\n",
            "Word: lactobacillus, Importance: 0.14105793998885144\n",
            "Word: metamucil, Importance: 0.14105793998885144\n",
            "Word: probiotic, Importance: 0.14105793998885144\n",
            "Word: sugarfree, Importance: 0.14105793998885144\n",
            "Word: tsp, Importance: 0.14105793998885144\n",
            "Word: 0655, Importance: 0.14098575196053703\n",
            "Word: 4698, Importance: 0.14076651175303517\n",
            "Word: medications, Importance: 0.14065108237617757\n",
            "Word: negatives, Importance: 0.1405117890677359\n",
            "Word: pertinent, Importance: 0.1405117890677359\n",
            "Word: lesions, Importance: 0.13919679683671854\n",
            "Word: ifficult, Importance: 0.13892034185295601\n",
            "Word: diphenhydramine, Importance: 0.13727870917091595\n",
            "Word: 5713, Importance: 0.13702143218318005\n",
            "Word: ed, Importance: 0.13702143218318005\n",
            "Word: somewhat, Importance: 0.13668572244736238\n",
            "Word: decreased, Importance: 0.13418716906901543\n",
            "Word: capsule, Importance: 0.13304665186175052\n",
            "Word: video, Importance: 0.13304665186175052\n",
            "Word: difficult, Importance: 0.13255352076345167\n",
            "Word: po, Importance: 0.13247304485325173\n",
            "Word: bp, Importance: 0.13212793694946476\n",
            "Word: hr, Importance: 0.13212793694946476\n",
            "Word: o2, Importance: 0.13212793694946476\n",
            "Word: rn, Importance: 0.13212793694946476\n",
            "Word: rtc, Importance: 0.13212793694946476\n",
            "Word: 5726, Importance: 0.13176243756076433\n",
            "Word: 2876285, Importance: 0.13140173436443323\n",
            "Word: eat, Importance: 0.12657597373991755\n",
            "Word: retrieved, Importance: 0.1254241205931495\n",
            "Word: 106, Importance: 0.12335467378174973\n",
            "Word: mildly, Importance: 0.12249355298190762\n",
            "Word: lower, Importance: 0.12186155944531091\n",
            "Word: hart, Importance: 0.1208438883776406\n",
            "Word: egd, Importance: 0.12024419329956766\n",
            "Word: resected, Importance: 0.11858241886479132\n",
            "Word: benefits, Importance: 0.11849330480704849\n",
            "Word: loaner, Importance: 0.11839282722892691\n",
            "Word: nonthrombosed, Importance: 0.11717137085964821\n",
            "Word: 0636, Importance: 0.11659308181077135\n",
            "Word: appearing, Importance: 0.11613924538594854\n",
            "Word: otherwise, Importance: 0.1158065968683184\n",
            "Word: referral, Importance: 0.11521417998926764\n",
            "Word: 407, Importance: 0.11487372010055608\n",
            "Word: h180al, Importance: 0.11467710904674029\n",
            "Word: diverticula, Importance: 0.1144737813305593\n",
            "Word: complications, Importance: 0.11385040074464693\n",
            "Word: score, Importance: 0.11377286036941431\n",
            "Word: prostate, Importance: 0.1134311695972134\n",
            "Word: digital, Importance: 0.11287628500345229\n",
            "Word: retrieval, Importance: 0.1127872760807397\n",
            "Word: prolapse, Importance: 0.11234176403617004\n",
            "Word: 511, Importance: 0.11189031834216928\n",
            "Word: extent, Importance: 0.11126078631454585\n",
            "Word: colonoscope, Importance: 0.11090846234012318\n",
            "Word: diverticular, Importance: 0.11084983509659273\n",
            "Word: 86, Importance: 0.11076356746791784\n",
            "Word: benefiber, Importance: 0.11076356746791784\n",
            "Word: hc, Importance: 0.11076356746791784\n",
            "Word: iverticulosis, Importance: 0.11076356746791784\n",
            "Word: la, Importance: 0.11076356746791784\n",
            "Word: qd, Importance: 0.11076356746791784\n",
            "Word: tsps, Importance: 0.11076356746791784\n",
            "Word: appearance, Importance: 0.10980052139525248\n",
            "Word: p674, Importance: 0.10901526273927031\n",
            "Word: shed, Importance: 0.10889545810253759\n",
            "Word: enlarged, Importance: 0.10820676623071843\n",
            "Word: maneuver, Importance: 0.10761421747175917\n",
            "Word: uality, Importance: 0.10463089546936273\n",
            "Word: 500, Importance: 0.10430617053792401\n",
            "Word: cipro, Importance: 0.10430617053792401\n",
            "Word: leum, Importance: 0.10403771031408651\n",
            "Word: 0028, Importance: 0.10384278235942276\n",
            "Word: asge, Importance: 0.1027783554596754\n",
            "Word: qi, Importance: 0.1027783554596754\n",
            "Word: practitioner, Importance: 0.10241903585947448\n",
            "Word: ambulatory, Importance: 0.10210361935065\n",
            "Word: ge, Importance: 0.10138433468331795\n",
            "Word: 0625, Importance: 0.10113580437435452\n",
            "Word: random, Importance: 0.10021193635896751\n",
            "Word: physician, Importance: 0.09992611882616646\n",
            "Word: nstructions, Importance: 0.09942480466681572\n",
            "Word: 122, Importance: 0.09926225387755826\n",
            "Word: 2c738g122, Importance: 0.09926225387755826\n",
            "Word: pseudopolyps, Importance: 0.0990066578699244\n",
            "Word: fat, Importance: 0.09895174172634963\n",
            "Word: generalized, Importance: 0.0989358626802786\n",
            "Word: assess, Importance: 0.09842247794155937\n",
            "Word: rectosigmoid, Importance: 0.09790116968338135\n",
            "Word: aspirinnsaid, Importance: 0.09697783534662312\n",
            "Word: 5848, Importance: 0.09556292075573017\n",
            "Word: unspecified, Importance: 0.09544500861871827\n",
            "Word: path, Importance: 0.09534654010110048\n",
            "Word: hypertrophied, Importance: 0.09527090343982596\n",
            "Word: papillae, Importance: 0.09527090343982596\n",
            "Word: palpable, Importance: 0.09279518731238669\n",
            "Word: col, Importance: 0.09158121361839126\n",
            "Word: finding, Importance: 0.09045756904849131\n",
            "Word: analperianal, Importance: 0.09006810232890275\n",
            "Word: place, Importance: 0.09006810232890275\n",
            "Word: setons, Importance: 0.09006810232890275\n",
            "Word: driving, Importance: 0.08805014650373345\n",
            "Word: 2290637, Importance: 0.08729345474046366\n",
            "Word: rash, Importance: 0.08698533720383012\n",
            "Word: 8478, Importance: 0.08650110389216654\n",
            "Word: traversed, Importance: 0.08645336562656268\n",
            "Word: care, Importance: 0.08539915198718807\n",
            "Word: tiva, Importance: 0.08253524520231204\n",
            "Word: tattoo, Importance: 0.08210657306133959\n",
            "Word: 2200353, Importance: 0.08201628523385299\n",
            "Word: endtoend, Importance: 0.08143737543269267\n",
            "Word: 8446, Importance: 0.08101099788205347\n",
            "Word: recommended, Importance: 0.08017995831925591\n",
            "Word: imported, Importance: 0.0789443857383225\n",
            "Word: appointment, Importance: 0.07880480062146532\n",
            "Word: constipation, Importance: 0.07855032300804535\n",
            "Word: administered, Importance: 0.07829978111888945\n",
            "Word: inflammed, Importance: 0.07727759219538226\n",
            "Word: personally, Importance: 0.07552347738290109\n",
            "Word: 1000, Importance: 0.07499087069974825\n",
            "Word: 247, Importance: 0.07487588463465626\n",
            "Word: colorectal, Importance: 0.07487106083630568\n",
            "Word: gastroenterologist, Importance: 0.07481990442150022\n",
            "Word: mesalamine, Importance: 0.07100257886612216\n",
            "Word: found, Importance: 0.0707528750281669\n",
            "Word: eus, Importance: 0.07074217264386018\n",
            "Word: nurse, Importance: 0.0698464326428857\n",
            "Word: lipomatous, Importance: 0.0688258336201164\n",
            "Word: condition, Importance: 0.06774723124681191\n",
            "Word: deemed, Importance: 0.06774723124681191\n",
            "Word: reviewing, Importance: 0.06774723124681191\n",
            "Word: satisfactory, Importance: 0.06774723124681191\n",
            "Word: undergo, Importance: 0.06774723124681191\n",
            "Word: 5831, Importance: 0.0675137075743581\n",
            "Word: 4689, Importance: 0.06564582404085989\n",
            "Word: peds, Importance: 0.06564582404085989\n",
            "Word: largemouthed, Importance: 0.0634670331314142\n",
            "Word: qhs, Importance: 0.06334361063850406\n",
            "Word: limbs, Importance: 0.06328138641312099\n",
            "Word: pouch, Importance: 0.06328138641312099\n",
            "Word: pouchanal, Importance: 0.06328138641312099\n",
            "Word: 1fuji, Importance: 0.06318771808656305\n",
            "Word: 4c729g470, Importance: 0.06289926511003428\n",
            "Word: leus, Importance: 0.061629905736033816\n",
            "Word: origin, Importance: 0.06103408093903021\n",
            "Word: anticoags, Importance: 0.059856852677533504\n",
            "Word: antiplatelets, Importance: 0.059856852677533504\n",
            "Word: bentyl, Importance: 0.05927682596052614\n",
            "Word: dicyclomine, Importance: 0.05927682596052614\n",
            "Word: 10, Importance: 0.057975967585336366\n",
            "Word: also, Importance: 0.057890829801226076\n",
            "Word: sigmoid, Importance: 0.057539218344967696\n",
            "Word: collected, Importance: 0.05690879185114108\n",
            "Word: regarding, Importance: 0.055862684627803125\n",
            "Word: exclusion, Importance: 0.05493625674658373\n",
            "Word: scope, Importance: 0.05483748004105322\n",
            "Word: body, Importance: 0.05442848315274232\n",
            "Word: ileocolonic, Importance: 0.054315869455810635\n",
            "Word: left, Importance: 0.054148106976488475\n",
            "Word: inadequate, Importance: 0.05291038667463726\n",
            "Word: perform, Importance: 0.052536533747643534\n",
            "Word: 60, Importance: 0.05241031401197892\n",
            "Word: therapeutic, Importance: 0.05224424116379754\n",
            "Word: month, Importance: 0.05185889305925956\n",
            "Word: levels, Importance: 0.051512325181465805\n",
            "Word: positive, Importance: 0.05140655727774479\n",
            "Word: answered, Importance: 0.051051809675325\n",
            "Word: discharged, Importance: 0.051051809675325\n",
            "Word: informed, Importance: 0.051051809675325\n",
            "Word: options, Importance: 0.051051809675325\n",
            "Word: questions, Importance: 0.051051809675325\n",
            "Word: systemic, Importance: 0.051051809675325\n",
            "Word: tolerance, Importance: 0.051051809675325\n",
            "Word: reassessment, Importance: 0.05080492060536388\n",
            "Word: completeness, Importance: 0.05067517785359897\n",
            "Word: many, Importance: 0.050506639857408574\n",
            "Word: using, Importance: 0.04999141557564924\n",
            "Word: olerated, Importance: 0.049892825400835075\n",
            "Word: contact, Importance: 0.04889750930574658\n",
            "Word: 290, Importance: 0.048313407532176826\n",
            "Word: 4c729g290, Importance: 0.048313407532176826\n",
            "Word: smallmouthed, Importance: 0.04819176891031845\n",
            "Word: physical, Importance: 0.048181228533382976\n",
            "Word: six, Importance: 0.04778436505734634\n",
            "Word: iii, Importance: 0.047299417789893244\n",
            "Word: fungal, Importance: 0.045865760411725284\n",
            "Word: fistula, Importance: 0.045034051164451375\n",
            "Word: good, Importance: 0.0449477265382271\n",
            "Word: foreign, Importance: 0.04416192580087191\n",
            "Word: necessary, Importance: 0.04406433326149572\n",
            "Word: ileocecal, Importance: 0.04382401931210361\n",
            "Word: ultrasound, Importance: 0.043634332656729634\n",
            "Word: aided, Importance: 0.04337734906868188\n",
            "Word: completion, Importance: 0.04337734906868188\n",
            "Word: benefit, Importance: 0.042418588947026235\n",
            "Word: might, Importance: 0.042418588947026235\n",
            "Word: erosion, Importance: 0.0423152815363515\n",
            "Word: introduced, Importance: 0.04219709870048537\n",
            "Word: 47, Importance: 0.042039259352766624\n",
            "Word: 400, Importance: 0.04173082479629918\n",
            "Word: eliquis, Importance: 0.041262267363845286\n",
            "Word: defect, Importance: 0.04108660382402255\n",
            "Word: abnormalities, Importance: 0.04058414804592882\n",
            "Word: iv, Importance: 0.039814682575349106\n",
            "Word: 35, Importance: 0.03927048131519076\n",
            "Word: meds, Importance: 0.03896580155696835\n",
            "Word: length, Importance: 0.03863879609769113\n",
            "Word: measuring, Importance: 0.03863879609769113\n",
            "Word: unknown, Importance: 0.03863879609769113\n",
            "Word: starting, Importance: 0.03753144170723615\n",
            "Word: tnf, Importance: 0.03753144170723615\n",
            "Word: identification, Importance: 0.03699879913465562\n",
            "Word: successful, Importance: 0.036982417334436656\n",
            "Word: 5asa, Importance: 0.03646821084655237\n",
            "Word: able, Importance: 0.03646821084655237\n",
            "Word: product, Importance: 0.03646821084655237\n",
            "Word: sided, Importance: 0.03615686322904057\n",
            "Word: 200, Importance: 0.03521153389164366\n",
            "Word: difficulty, Importance: 0.035185370196231504\n",
            "Word: successfully, Importance: 0.03517583220310395\n",
            "Word: quiescent, Importance: 0.03501464414121373\n",
            "Word: antibodies, Importance: 0.034636559306456836\n",
            "Word: checking, Importance: 0.034636559306456836\n",
            "Word: requested, Importance: 0.034636559306456836\n",
            "Word: valve, Importance: 0.03462926932168806\n",
            "Word: solitary, Importance: 0.0345725953728397\n",
            "Word: angiodysplastic, Importance: 0.03405238469371994\n",
            "Word: association, Importance: 0.03326710983995415\n",
            "Word: narrowing, Importance: 0.03326710983995415\n",
            "Word: opening, Importance: 0.03326710983995415\n",
            "Word: manual, Importance: 0.0331554963340732\n",
            "Word: loop, Importance: 0.032630627275731586\n",
            "Word: reduction, Importance: 0.032630627275731586\n",
            "Word: shortening, Importance: 0.032630627275731586\n",
            "Word: straightening, Importance: 0.032630627275731586\n",
            "Word: response, Importance: 0.03244955714019114\n",
            "Word: well, Importance: 0.032440816196827656\n",
            "Word: 4c729g446, Importance: 0.03240684966350721\n",
            "Word: review, Importance: 0.031985334054305245\n",
            "Word: 6g402g047, Importance: 0.031640693206560495\n",
            "Word: ileorectal, Importance: 0.031640693206560495\n",
            "Word: ada, Importance: 0.030946700522883966\n",
            "Word: diabetic, Importance: 0.030946700522883966\n",
            "Word: retreatment, Importance: 0.030946700522883966\n",
            "Word: abnormality, Importance: 0.03092402629417346\n",
            "Word: comorbidities, Importance: 0.03042943844886717\n",
            "Word: excision, Importance: 0.03042943844886717\n",
            "Word: tabs, Importance: 0.030297538524309775\n",
            "Word: glycopyrrolate, Importance: 0.030267124280430276\n",
            "Word: ondansetron, Importance: 0.030267124280430276\n",
            "Word: visualization, Importance: 0.030267124280430276\n",
            "Word: injectionlift, Importance: 0.030040892882287534\n",
            "Word: endtoside, Importance: 0.029890882197025608\n",
            "Word: every, Importance: 0.029782431991506143\n",
            "Word: olympus, Importance: 0.02929209889063013\n",
            "Word: clopidogrel, Importance: 0.02882032089284648\n",
            "Word: plavix, Importance: 0.02882032089284648\n",
            "Word: currently, Importance: 0.02862024640229709\n",
            "Word: tolerated, Importance: 0.028096176769337525\n",
            "Word: agents, Importance: 0.02766910610746633\n",
            "Word: antiplatelet, Importance: 0.02766910610746633\n",
            "Word: consistency, Importance: 0.02748978948830898\n",
            "Word: shape, Importance: 0.02748978948830898\n",
            "Word: bothers, Importance: 0.02742541647942963\n",
            "Word: cream, Importance: 0.02742541647942963\n",
            "Word: lotrimin, Importance: 0.02742541647942963\n",
            "Word: upcoming, Importance: 0.02742541647942963\n",
            "Word: clip, Importance: 0.027055925640434544\n",
            "Word: ida, Importance: 0.027055925640434544\n",
            "Word: placed, Importance: 0.027055925640434544\n",
            "Word: injected, Importance: 0.02690512376907894\n",
            "Word: stenosis, Importance: 0.026790826711033694\n",
            "Word: canasa, Importance: 0.02660123464288579\n",
            "Word: nonadvanced, Importance: 0.02642660532815096\n",
            "Word: colocolonic, Importance: 0.02594263119301463\n",
            "Word: sutures, Importance: 0.02594263119301463\n",
            "Word: visible, Importance: 0.02594263119301463\n",
            "Word: boston, Importance: 0.025838185902967756\n",
            "Word: equals, Importance: 0.025838185902967756\n",
            "Word: evaluated, Importance: 0.025838185902967756\n",
            "Word: scale, Importance: 0.025838185902967756\n",
            "Word: scores, Importance: 0.025838185902967756\n",
            "Word: applying, Importance: 0.025772030473490287\n",
            "Word: 5674, Importance: 0.025744885000631407\n",
            "Word: due, Importance: 0.023915966944814945\n",
            "Word: assistance, Importance: 0.023565274501549605\n",
            "Word: pill, Importance: 0.023565274501549605\n",
            "Word: receiving, Importance: 0.023565274501549605\n",
            "Word: staff, Importance: 0.023565274501549605\n",
            "Word: mayo, Importance: 0.02302354245099664\n",
            "Word: medium, Importance: 0.02297163251478406\n",
            "Word: 10mgkg, Importance: 0.022941944540038804\n",
            "Word: 5mgkg, Importance: 0.022941944540038804\n",
            "Word: dt, Importance: 0.022941944540038804\n",
            "Word: 2876269, Importance: 0.02272441074902595\n",
            "Word: cleared, Importance: 0.02258824867522762\n",
            "Word: determined, Importance: 0.02203216663074786\n",
            "Word: ga, Importance: 0.02203216663074786\n",
            "Word: mac, Importance: 0.02203216663074786\n",
            "Word: medically, Importance: 0.02203216663074786\n",
            "Word: site, Importance: 0.021533089662772384\n",
            "Word: specify, Importance: 0.021533089662772384\n",
            "Word: perianally, Importance: 0.021209294473513118\n",
            "Word: adenomatous, Importance: 0.02066237108354782\n",
            "Word: 72, Importance: 0.020631133681922643\n",
            "Word: fatty, Importance: 0.020631133681922643\n",
            "Word: hours, Importance: 0.020631133681922643\n",
            "Word: impacted, Importance: 0.020631133681922643\n",
            "Word: suspected, Importance: 0.020631133681922643\n",
            "Word: externalinternal, Importance: 0.020543301912011275\n",
            "Word: 72022, Importance: 0.02009114300071122\n",
            "Word: intolerance, Importance: 0.02009114300071122\n",
            "Word: recheck, Importance: 0.02009114300071122\n",
            "Word: reevaluation, Importance: 0.02009114300071122\n",
            "Word: tymlos, Importance: 0.02009114300071122\n",
            "Word: working, Importance: 0.02009114300071122\n",
            "Word: 2603980, Importance: 0.01890776375014108\n",
            "Word: pcfq180al, Importance: 0.01890776375014108\n",
            "Word: intact, Importance: 0.018905763694739817\n",
            "Word: line, Importance: 0.018905763694739817\n",
            "Word: staple, Importance: 0.018905763694739817\n",
            "Word: iffuse, Importance: 0.01876860978532416\n",
            "Word: 15cm, Importance: 0.018765720853618075\n",
            "Word: antibody, Importance: 0.018765720853618075\n",
            "Word: avsola, Importance: 0.018765720853618075\n",
            "Word: blockers, Importance: 0.018765720853618075\n",
            "Word: current, Importance: 0.018765720853618075\n",
            "Word: decision, Importance: 0.018765720853618075\n",
            "Word: development, Importance: 0.018765720853618075\n",
            "Word: doses, Importance: 0.018765720853618075\n",
            "Word: give, Importance: 0.018765720853618075\n",
            "Word: got, Importance: 0.018765720853618075\n",
            "Word: immunogenicity, Importance: 0.018765720853618075\n",
            "Word: methotrexate, Importance: 0.018765720853618075\n",
            "Word: orally, Importance: 0.018765720853618075\n",
            "Word: plans, Importance: 0.018765720853618075\n",
            "Word: premedication, Importance: 0.018765720853618075\n",
            "Word: purposes, Importance: 0.018765720853618075\n",
            "Word: suggesting, Importance: 0.018765720853618075\n",
            "Word: viewed, Importance: 0.018765720853618075\n",
            "Word: ibdu, Importance: 0.01857546621627534\n",
            "Word: 4c729g460, Importance: 0.018320203155652047\n",
            "Word: 5742, Importance: 0.017491961159666655\n",
            "Word: 4c729g518, Importance: 0.017318279653228418\n",
            "Word: 518, Importance: 0.017318279653228418\n",
            "Word: 8am, Importance: 0.017318279653228418\n",
            "Word: 91522, Importance: 0.017318279653228418\n",
            "Word: bedtime, Importance: 0.01728629768641985\n",
            "Word: fifteen, Importance: 0.01728629768641985\n",
            "Word: avoid, Importance: 0.01710910012947557\n",
            "Word: hemwell, Importance: 0.01710910012947557\n",
            "Word: occasional, Importance: 0.01710910012947557\n",
            "Word: seeds, Importance: 0.01710910012947557\n",
            "Word: angiodysplasia, Importance: 0.01702619234685997\n",
            "Word: estimated, Importance: 0.016838568548513906\n",
            "Word: habitus, Importance: 0.01673138781154887\n",
            "Word: improved, Importance: 0.016689758617708907\n",
            "Word: neoterminal, Importance: 0.016633554919977075\n",
            "Word: clinically, Importance: 0.016332040165600272\n",
            "Word: crna, Importance: 0.016282957419426973\n",
            "Word: supervision, Importance: 0.016282957419426973\n",
            "Word: bx, Importance: 0.016229755769522146\n",
            "Word: hematoma, Importance: 0.016229755769522146\n",
            "Word: scars, Importance: 0.016229755769522146\n",
            "Word: consider, Importance: 0.015868144390952316\n",
            "Word: 01, Importance: 0.015133562140215138\n",
            "Word: clearance, Importance: 0.015133562140215138\n",
            "Word: continued, Importance: 0.015133562140215138\n",
            "Word: interfering, Importance: 0.015133562140215138\n",
            "Word: resulting, Importance: 0.015133562140215138\n",
            "Word: robinul, Importance: 0.015133562140215138\n",
            "Word: sterile, Importance: 0.015133562140215138\n",
            "Word: water, Importance: 0.015133562140215138\n",
            "Word: zofran, Importance: 0.015133562140215138\n",
            "Word: ii, Importance: 0.015035536242646903\n",
            "Word: 310, Importance: 0.01472064193362397\n",
            "Word: augmented, Importance: 0.01472064193362397\n",
            "Word: colon3, Importance: 0.01472064193362397\n",
            "Word: material, Importance: 0.01472064193362397\n",
            "Word: suboptimal, Importance: 0.01472064193362397\n",
            "Word: vegetable, Importance: 0.01472064193362397\n",
            "Word: aborted, Importance: 0.014306499007311568\n",
            "Word: advancing, Importance: 0.014306499007311568\n",
            "Word: intention, Importance: 0.014306499007311568\n",
            "Word: anoscopy, Importance: 0.01426981529411391\n",
            "Word: data, Importance: 0.013817136594967314\n",
            "Word: giquic, Importance: 0.013817136594967314\n",
            "Word: 260, Importance: 0.013712708239714815\n",
            "Word: firm, Importance: 0.013712708239714815\n",
            "Word: nodules, Importance: 0.013712708239714815\n",
            "Word: suspect, Importance: 0.013712708239714815\n",
            "Word: 2021, Importance: 0.013527962820217272\n",
            "Word: ammonia, Importance: 0.013527962820217272\n",
            "Word: end, Importance: 0.013527962820217272\n",
            "Word: esrcrp, Importance: 0.013527962820217272\n",
            "Word: hematology, Importance: 0.013527962820217272\n",
            "Word: hemostasis, Importance: 0.013527962820217272\n",
            "Word: hemostatic, Importance: 0.013527962820217272\n",
            "Word: idapancytopenia, Importance: 0.013527962820217272\n",
            "Word: july, Importance: 0.013527962820217272\n",
            "Word: level, Importance: 0.013527962820217272\n",
            "Word: monoferric, Importance: 0.013527962820217272\n",
            "Word: pancytopenia, Importance: 0.013527962820217272\n",
            "Word: recommend, Importance: 0.013527962820217272\n",
            "Word: rivaroxaban, Importance: 0.013527962820217272\n",
            "Word: submucosal, Importance: 0.013527962820217272\n",
            "Word: unsuccessful, Importance: 0.013527962820217272\n",
            "Word: vce, Importance: 0.013527962820217272\n",
            "Word: xarelto, Importance: 0.013527962820217272\n",
            "Word: xeralto, Importance: 0.013527962820217272\n",
            "Word: four, Importance: 0.01351506920536675\n",
            "Word: evaluation, Importance: 0.013503154989157664\n",
            "Word: appendiceal, Importance: 0.01348311914723689\n",
            "Word: orifice, Importance: 0.01348311914723689\n",
            "Word: 15, Importance: 0.012971315596507315\n",
            "Word: sent, Importance: 0.011815195759877625\n",
            "Word: recommendations, Importance: 0.011508988922228245\n",
            "Word: incomplete, Importance: 0.011087469213364174\n",
            "Word: sq, Importance: 0.010348821537588529\n",
            "Word: 102022, Importance: 0.010315566840961321\n",
            "Word: 11, Importance: 0.010315566840961321\n",
            "Word: 11am, Importance: 0.010315566840961321\n",
            "Word: 323, Importance: 0.010315566840961321\n",
            "Word: 600, Importance: 0.010315566840961321\n",
            "Word: 68, Importance: 0.010315566840961321\n",
            "Word: apixaban, Importance: 0.010315566840961321\n",
            "Word: cap, Importance: 0.010315566840961321\n",
            "Word: cecal, Importance: 0.010315566840961321\n",
            "Word: cyst, Importance: 0.010315566840961321\n",
            "Word: definitive, Importance: 0.010315566840961321\n",
            "Word: eleview, Importance: 0.010315566840961321\n",
            "Word: encouraged, Importance: 0.010315566840961321\n",
            "Word: fibroscan, Importance: 0.010315566840961321\n",
            "Word: hour, Importance: 0.010315566840961321\n",
            "Word: kpa, Importance: 0.010315566840961321\n",
            "Word: least, Importance: 0.010315566840961321\n",
            "Word: lmc, Importance: 0.010315566840961321\n",
            "Word: maintaining, Importance: 0.010315566840961321\n",
            "Word: multipie, Importance: 0.010315566840961321\n",
            "Word: nash, Importance: 0.010315566840961321\n",
            "Word: polyposis, Importance: 0.010315566840961321\n",
            "Word: removal, Importance: 0.010315566840961321\n",
            "Word: renal, Importance: 0.010315566840961321\n",
            "Word: ssas, Importance: 0.010315566840961321\n",
            "Word: suggestive, Importance: 0.010315566840961321\n",
            "Word: syndrome, Importance: 0.010315566840961321\n",
            "Word: today, Importance: 0.010315566840961321\n",
            "Word: way, Importance: 0.010315566840961321\n",
            "Word: 123, Importance: 0.009917262529396122\n",
            "Word: 2c738g123, Importance: 0.009917262529396122\n",
            "Word: fulguration, Importance: 0.0096887153363337\n",
            "Word: saline, Importance: 0.0096887153363337\n",
            "Word: treated, Importance: 0.0096887153363337\n",
            "Word: general, Importance: 0.009314531925225623\n",
            "Word: terminal, Importance: 0.009085118989690336\n",
            "Word: ac, Importance: 0.007805873909939719\n",
            "Word: 048, Importance: 0.007473481946085633\n",
            "Word: 2c738g048, Importance: 0.007473481946085633\n",
            "Word: spasm, Importance: 0.007351526113126808\n",
            "Word: pedi, Importance: 0.00712346292233776\n",
            "Word: ulcerative, Importance: 0.006558918463450983\n",
            "Word: scarred, Importance: 0.006355634585919613\n",
            "Word: xifaxan, Importance: 0.006290142097950741\n",
            "Word: ml, Importance: 0.00545638293224688\n",
            "Word: impression, Importance: 0.0054134399116794185\n",
            "Word: 4c729g556, Importance: 0.0050705423086961614\n",
            "Word: 556, Importance: 0.0050705423086961614\n",
            "Word: mediumsized, Importance: 0.004170398213032622\n",
            "Word: pressure, Importance: 0.003916044782101403\n",
            "Word: microscopic, Importance: 0.0038462674733183585\n",
            "Word: number, Importance: 0.0033897575744810454\n",
            "Word: identified, Importance: 0.0032685608650619685\n",
            "Word: delayed, Importance: 0.0030521703639171545\n",
            "Word: written, Importance: 0.0030521703639171545\n",
            "Word: sensitivities, Importance: 0.00247373291063299\n",
            "Word: dose, Importance: 0.002420992088636665\n",
            "Word: ation, Importance: 0.0019717258940177445\n",
            "Word: rule, Importance: 0.0012556150810544326\n",
            "Word: scarring, Importance: 0.0004134450507137475\n"
          ]
        }
      ],
      "source": [
        "# Step 7: Use the importance scores\n",
        "# Assign higher numerical values to words responsible for classifying Active IBD\n",
        "for word, importance in sorted_words:\n",
        "    if importance > 0:\n",
        "        print(f\"Word: {word}, Importance: {importance}\")\n",
        "        # Apply the importance score to new exam notes accordingly"
      ]
    },
    {
      "cell_type": "code",
      "execution_count": null,
      "id": "JvLwLvmMVKPw",
      "metadata": {
        "id": "JvLwLvmMVKPw"
      },
      "outputs": [],
      "source": [
        "# Step 7: Use the importance scores\n",
        "# Assign higher numerical values to words responsible for classifying Active IBD\n",
        "important_words = [word for word, importance in sorted_words if importance > 0]\n",
        "\n"
      ]
    },
    {
      "cell_type": "code",
      "execution_count": null,
      "id": "IeHS47v_VKMQ",
      "metadata": {
        "id": "IeHS47v_VKMQ"
      },
      "outputs": [],
      "source": [
        "# Apply the importance scores to new exam notes\n",
        "new_exam_notes = [\"Your new exam note 1\", \"Your new exam note 2\", ...]  # Replace with actual new exam notes\n",
        "\n"
      ]
    },
    {
      "cell_type": "code",
      "execution_count": null,
      "id": "O4Vs9myJVKJk",
      "metadata": {
        "id": "O4Vs9myJVKJk"
      },
      "outputs": [],
      "source": [
        "# Method 1: Multiply TF-IDF values by importance scores\n",
        "new_X = vectorizer.transform(new_exam_notes)\n",
        "new_X_with_importance = new_X.multiply(feature_importance)\n",
        "\n"
      ]
    },
    {
      "cell_type": "code",
      "execution_count": null,
      "id": "esRg7hLsVKG6",
      "metadata": {
        "id": "esRg7hLsVKG6"
      },
      "outputs": [],
      "source": [
        "# Method 2: Use importance scores as weights in a weighted classification model\n",
        "# Apply the weights to the existing model\n",
        "weighted_model = LogisticRegression()\n",
        "weighted_model.coef_ = model.coef_ * feature_importance\n",
        "\n"
      ]
    },
    {
      "cell_type": "code",
      "execution_count": null,
      "id": "FfTbyWkuVKET",
      "metadata": {
        "id": "FfTbyWkuVKET"
      },
      "outputs": [],
      "source": [
        "# Classify new exam notes using the weighted model\n",
        "predictions = weighted_model.predict(new_X)\n",
        "\n",
        "# Print the ranked words by importance\n",
        "for word, importance in sorted_words:\n",
        "    print(f\"Word: {word}, Importance: {importance}\")\n",
        "\n",
        "# Print the classification predictions for new exam notes\n",
        "for note, prediction in zip(new_exam_notes, predictions):\n",
        "    print(f\"Exam Note: {note}, Prediction: {prediction}\")"
      ]
    },
    {
      "cell_type": "code",
      "execution_count": null,
      "id": "iW9BkLp2VKB1",
      "metadata": {
        "id": "iW9BkLp2VKB1"
      },
      "outputs": [],
      "source": []
    },
    {
      "cell_type": "code",
      "execution_count": null,
      "id": "GD-zgSkgVJ4U",
      "metadata": {
        "id": "GD-zgSkgVJ4U"
      },
      "outputs": [],
      "source": []
    },
    {
      "cell_type": "markdown",
      "id": "02a4422f",
      "metadata": {
        "id": "02a4422f"
      },
      "source": [
        "## Vectorization"
      ]
    },
    {
      "cell_type": "code",
      "execution_count": null,
      "id": "0873a400",
      "metadata": {
        "id": "0873a400"
      },
      "outputs": [],
      "source": [
        "def BagOfWordsVectorization(columns,newColumn):\n",
        "    # Get the tokenized text from the DataFrame\n",
        "    tokenized_text = merged_file_df[columns]\n",
        "\n",
        "    # Convert tokenized text back to strings\n",
        "    preprocessed_text = [' '.join(tokens) for tokens in tokenized_text]\n",
        "\n",
        "    # Create an instance of CountVectorizer\n",
        "    vectorizer = CountVectorizer()\n",
        "    # Fit the vectorizer on the preprocessed text and transform it\n",
        "    vectorized_data = vectorizer.fit_transform(preprocessed_text).toarray()\n",
        "\n",
        "    # Create a new column in the DataFrame with the vectorized data\n",
        "    merged_file_df[newColumn] = pd.Series(vectorized_data.tolist())"
      ]
    },
    {
      "cell_type": "code",
      "execution_count": null,
      "id": "20c9179a",
      "metadata": {
        "id": "20c9179a"
      },
      "outputs": [],
      "source": [
        "def NGramVectorization(columns,newColumn):\n",
        "    # Get the tokenized text from the DataFrame\n",
        "    tokenized_text = merged_file_df[columns]\n",
        "\n",
        "    # Convert tokenized text back to strings\n",
        "    preprocessed_text = [' '.join(tokens) for tokens in tokenized_text]\n",
        "\n",
        "    # Create an instance of TfidfVectorizer\n",
        "    vectorizer = TfidfVectorizer(ngram_range=(1, 1))\n",
        "    # Fit the vectorizer on the preprocessed text and transform it\n",
        "    vectorized_data = vectorizer.fit_transform(preprocessed_text).toarray()\n",
        "\n",
        "    # Create a new column in the DataFrame with the vectorized data\n",
        "    merged_file_df[newColumn] = pd.Series(vectorized_data.tolist())\n"
      ]
    },
    {
      "cell_type": "code",
      "execution_count": null,
      "id": "7ef2ce18",
      "metadata": {
        "id": "7ef2ce18",
        "outputId": "f9c8c175-20d9-4ea0-d0f0-a384fe1f95fe"
      },
      "outputs": [],
      "source": [
        "merged_file_df"
      ]
    },
    {
      "cell_type": "code",
      "execution_count": null,
      "id": "bd9b015e",
      "metadata": {
        "id": "bd9b015e"
      },
      "outputs": [],
      "source": [
        "NGramVectorization('Exam_Notes_tokens','Exam_Notes_vectorized')\n",
        "NGramVectorization('Image_Info_tokens','ImageInfo_vectorized')"
      ]
    },
    {
      "cell_type": "code",
      "execution_count": null,
      "id": "2b9a170b",
      "metadata": {
        "id": "2b9a170b"
      },
      "outputs": [],
      "source": [
        "merged_file_df = merged_file_df.drop(['Exam_ID','Exam_Notes','Exam_Notes_tokens','Image_Info_tokens','Image_Info'],axis=1)"
      ]
    },
    {
      "cell_type": "markdown",
      "id": "8a9d8267",
      "metadata": {
        "id": "8a9d8267"
      },
      "source": [
        "## Encoding categeorical variables"
      ]
    },
    {
      "cell_type": "code",
      "execution_count": null,
      "id": "e3ffd3b9",
      "metadata": {
        "id": "e3ffd3b9"
      },
      "outputs": [],
      "source": [
        "merged_file_df[\"Disease_Severity\"] = merged_file_df[\"Disease_Severity\"].apply(lambda x: 1 if x == \"Active\" else 0)\n",
        "merged_file_df[\"Ulcer\"] = merged_file_df[\"Ulcer\"].apply(lambda x: 1 if x == \"Yes\" else 0)"
      ]
    },
    {
      "cell_type": "code",
      "execution_count": null,
      "id": "c9f1a5d1",
      "metadata": {
        "id": "c9f1a5d1",
        "outputId": "4d6b2979-167f-48cd-ce47-66c68e14a7da"
      },
      "outputs": [],
      "source": [
        "merged_file_df"
      ]
    },
    {
      "cell_type": "code",
      "execution_count": null,
      "id": "c63e8ebe",
      "metadata": {
        "id": "c63e8ebe"
      },
      "outputs": [],
      "source": [
        "merged_file_df = merged_file_df.drop(['Exam_Notes_lower','Image_Info_lower'],axis=1)"
      ]
    },
    {
      "cell_type": "code",
      "execution_count": null,
      "id": "549ee0f3",
      "metadata": {
        "id": "549ee0f3",
        "outputId": "2386318c-f344-4e4a-cbe2-b19634b8e687"
      },
      "outputs": [],
      "source": [
        "merged_file_df"
      ]
    },
    {
      "cell_type": "markdown",
      "id": "52f88019",
      "metadata": {
        "id": "52f88019"
      },
      "source": [
        "# Clustering"
      ]
    },
    {
      "cell_type": "markdown",
      "id": "21cfd377",
      "metadata": {
        "id": "21cfd377"
      },
      "source": [
        "In this we are passing all the other vectors Exam_Notes_vectorized,ImageInfo_vectorized,Ulcer to kmeans and try to fit the columns"
      ]
    },
    {
      "cell_type": "code",
      "execution_count": null,
      "id": "e7bea1f3",
      "metadata": {
        "id": "e7bea1f3",
        "outputId": "cc0a1076-3218-4bfa-e32b-708df8728986",
        "scrolled": true
      },
      "outputs": [],
      "source": [
        "exam_notes_vectors = merged_file_df['Exam_Notes_vectorized'].tolist()\n",
        "image_info_vectors = merged_file_df['ImageInfo_vectorized'].tolist()\n",
        "Ulcer = merged_file_df[\"Ulcer\"].values.reshape(-1, 1)\n",
        "feature_vectors = np.concatenate((exam_notes_vectors, image_info_vectors, Ulcer), axis=1)\n",
        "\n",
        "kmeans = KMeans(n_clusters=2, random_state=0,n_init=10)\n",
        "kmeans.fit(feature_vectors)\n",
        "# Get the cluster labels\n",
        "cluster_labels = kmeans.labels_\n",
        "\n",
        "# Add the cluster labels to the DataFrame\n",
        "merged_file_df['Cluster'] = cluster_labels\n",
        "\n",
        "# Display the updated DataFrame\n",
        "merged_file_df"
      ]
    },
    {
      "cell_type": "code",
      "execution_count": null,
      "id": "d5257a3f",
      "metadata": {
        "id": "d5257a3f",
        "outputId": "47cea8ba-3e8b-49c1-b309-facdd30da871"
      },
      "outputs": [
        {
          "name": "stdout",
          "output_type": "stream",
          "text": [
            "Cluster             0    1\n",
            "Disease_Severity          \n",
            "0                 309   51\n",
            "1                  79  289\n"
          ]
        }
      ],
      "source": [
        "# Create the cross-tabulation\n",
        "cross_tab = pd.crosstab(merged_file_df['Disease_Severity'], merged_file_df['Cluster'])\n",
        "\n",
        "# Print the cross-tabulation\n",
        "print(cross_tab)"
      ]
    },
    {
      "cell_type": "code",
      "execution_count": null,
      "id": "9f50a42e",
      "metadata": {
        "id": "9f50a42e",
        "outputId": "74758554-1ee1-44cb-cb1a-de8e580774d8"
      },
      "outputs": [
        {
          "data": {
            "image/png": "[encoded data removed]",
            "text/plain": [
              "<Figure size 640x480 with 1 Axes>"
            ]
          },
          "metadata": {},
          "output_type": "display_data"
        }
      ],
      "source": [
        "import matplotlib.pyplot as plt\n",
        "\n",
        "# Calculate the count of Disease_Severity in each cluster\n",
        "cluster_counts = merged_file_df.groupby(['Cluster', 'Disease_Severity']).size().unstack()\n",
        "\n",
        "# Create the grouped bar plot\n",
        "cluster_counts.plot(kind='bar', stacked=True)\n",
        "plt.xlabel('Cluster')\n",
        "plt.ylabel('Count')\n",
        "plt.title('Clustering Results vs. Disease Severity')\n",
        "plt.legend(['Disease_Severity 0', 'Disease_Severity 1'])\n",
        "plt.show()"
      ]
    },
    {
      "cell_type": "code",
      "execution_count": null,
      "id": "93f5de89",
      "metadata": {
        "id": "93f5de89",
        "outputId": "91c9f0e7-ea1b-461f-ecd0-3e2183d4d06d"
      },
      "outputs": [
        {
          "name": "stdout",
          "output_type": "stream",
          "text": [
            "Accuracy: 0.8214285714285714\n"
          ]
        }
      ],
      "source": [
        "# Assign labels to clusters based on majority class of Disease_Severity\n",
        "cluster_labels = merged_file_df.groupby('Cluster')['Disease_Severity'].agg(lambda x: x.value_counts().idxmax())\n",
        "\n",
        "# Create a mapping dictionary for cluster labels\n",
        "label_mapping = dict(zip(cluster_labels.index, cluster_labels))\n",
        "\n",
        "# Map the cluster labels to the actual Disease_Severity labels\n",
        "predicted_labels = merged_file_df['Cluster'].map(label_mapping)\n",
        "\n",
        "# Calculate the accuracy\n",
        "accuracy = (predicted_labels == merged_file_df['Disease_Severity']).mean()\n",
        "\n",
        "print(\"Accuracy:\", accuracy)"
      ]
    },
    {
      "cell_type": "code",
      "execution_count": null,
      "id": "4001c567",
      "metadata": {
        "id": "4001c567"
      },
      "outputs": [],
      "source": []
    },
    {
      "cell_type": "code",
      "execution_count": null,
      "id": "cecf20ef",
      "metadata": {
        "id": "cecf20ef"
      },
      "outputs": [],
      "source": []
    }
  ],
  "metadata": {
    "colab": {
      "provenance": []
    },
    "kernelspec": {
      "display_name": "Python 3 (ipykernel)",
      "language": "python",
      "name": "python3"
    },
    "language_info": {
      "codemirror_mode": {
        "name": "ipython",
        "version": 3
      },
      "file_extension": ".py",
      "mimetype": "text/x-python",
      "name": "python",
      "nbconvert_exporter": "python",
      "pygments_lexer": "ipython3",
      "version": "3.10.9"
    }
  },
  "nbformat": 4,
  "nbformat_minor": 5
}
