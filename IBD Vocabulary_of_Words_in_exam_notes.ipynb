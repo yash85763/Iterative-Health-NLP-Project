{
  "cells": [
    {
      "cell_type": "code",
      "execution_count": null,
      "metadata": {
        "id": "X6SMDrgRGaAi"
      },
      "outputs": [],
      "source": [
        "import pandas as pd\n",
        "import numpy as np\n",
        "from nltk.stem import WordNetLemmatizer, PorterStemmer\n",
        "from nltk.tokenize import word_tokenize\n",
        "from sklearn.feature_extraction.text import CountVectorizer\n",
        "from sklearn.model_selection import train_test_split\n",
        "from sklearn.svm import SVC\n",
        "from sklearn.metrics import accuracy_score, classification_report\n",
        "from sklearn.metrics import f1_score, precision_score, recall_score, confusion_matrix\n",
        "import seaborn as sns\n",
        "import matplotlib.pyplot as plt\n",
        "from sklearn.neural_network import MLPClassifier\n",
        "from sklearn.ensemble import GradientBoostingClassifier\n",
        "from sklearn.tree import DecisionTreeClassifier\n",
        "from sklearn.model_selection import GridSearchCV\n",
        "from sklearn.tree import plot_tree\n",
        "from sklearn.metrics import roc_curve, roc_auc_score\n",
        "from tabulate import tabulate\n",
        "from sklearn.feature_extraction.text import TfidfVectorizer\n",
        "from nltk import trigrams\n",
        "from  nltk import ngrams\n",
        "import ipywidgets as widgets\n",
        "from IPython.display import display"
      ]
    },
    {
      "cell_type": "code",
      "execution_count": null,
      "metadata": {
        "id": "OzYurgj4GhIZ"
      },
      "outputs": [],
      "source": [
        "#Loading the final cleaned datasets\n",
        "\n",
        "merged_file_df = pd.read_TYPE('Merged_File')"
      ]
    },
    {
      "cell_type": "code",
      "execution_count": null,
      "metadata": {
        "colab": {
          "base_uri": "https://localhost:8080/",
          "height": 641
        },
        "id": "pexOSOWOGjT7",
        "outputId": "b3187885-5bd4-44e4-9177-d5a3859fed45"
      },
      "outputs": [],
      "source": [
        "merged_file_df"
      ]
    },
    {
      "cell_type": "code",
      "execution_count": null,
      "metadata": {
        "id": "7Kp9WHLyGk6x"
      },
      "outputs": [],
      "source": [
        "# DataFrame named 'merged_file_df' with a column 'Exam_Notes'\n",
        "exam_notes = merged_file_df['Exam_Notes'].tolist()  # Convert 'Exam_Notes' column to a list\n",
        "\n",
        "# Create a set to store unique words\n",
        "vocabulary = set()\n",
        "\n",
        "# Iterate over each note and split it into words\n",
        "for note in exam_notes:\n",
        "    words = note.lower().split()\n",
        "    vocabulary.update(words)\n",
        "\n",
        "\n",
        "# Convert the set back to a list for easier manipulation\n",
        "vocabulary = list(vocabulary)\n"
      ]
    },
    {
      "cell_type": "code",
      "execution_count": null,
      "metadata": {
        "id": "TXxRjWuHIK2d"
      },
      "outputs": [],
      "source": [
        "vocabulary"
      ]
    },
    {
      "cell_type": "code",
      "execution_count": null,
      "metadata": {
        "id": "l6RRTw7WGn_8"
      },
      "outputs": [],
      "source": [
        "# import pandas as pd\n",
        "\n",
        "# # DataFrame named 'merged_file_df' with columns 'Exam_Notes' and 'Disease_Severity'\n",
        "# exam_notes = merged_file_df['Exam_Notes'].tolist()  # Convert 'Exam_Notes' column to a list\n",
        "# disease_severity = merged_file_df['Disease_Severity'].tolist()  # Convert 'Disease_Severity' column to a list\n",
        "\n",
        "# vocabulary = set()  # Create a set to store unique words\n",
        "\n",
        "# # Step 1: Create vocabulary list\n",
        "# for note in exam_notes:\n",
        "#     words = note.lower().split()\n",
        "#     vocabulary.update(words)\n",
        "\n",
        "# # Step 2: Initialize dictionaries for word frequencies\n",
        "# active_freq = {word: 0 for word in vocabulary}\n",
        "# inactive_freq = {word: 0 for word in vocabulary}\n",
        "\n",
        "# # Step 3-5: Calculate word frequencies for each class\n",
        "# for note, severity in zip(exam_notes, disease_severity):\n",
        "#     words = note.split()\n",
        "#     word_freq = active_freq if severity == 'Active' else inactive_freq\n",
        "#     for word in words:\n",
        "#         if word in word_freq:\n",
        "#             word_freq[word] += 1\n",
        "\n",
        "# # # Step 6: Create new columns with word frequencies\n",
        "# # merged_file_df['Active_Freq'] = merged_file_df['Exam_Notes'].apply(lambda x: sum(active_freq[word] for word in x.split()))\n",
        "# # merged_file_df['Inactive_Freq'] = merged_file_df['Exam_Notes'].apply(lambda x: sum(inactive_freq[word] for word in x.split()))\n",
        "\n"
      ]
    },
    {
      "cell_type": "code",
      "execution_count": null,
      "metadata": {
        "colab": {
          "base_uri": "https://localhost:8080/"
        },
        "id": "3wkPmOA3_ue3",
        "outputId": "847b8ac9-2a14-49e4-81a4-f23295faaa27"
      },
      "outputs": [
        {
          "name": "stdout",
          "output_type": "stream",
          "text": [
            "            Word\n",
            "0           5714\n",
            "1          valve\n",
            "2     throughout\n",
            "3          large\n",
            "4           5829\n",
            "...          ...\n",
            "1398        skin\n",
            "1399        0034\n",
            "1400  endoscopes\n",
            "1401      degree\n",
            "1402   travelers\n",
            "\n",
            "[1403 rows x 1 columns]\n"
          ]
        }
      ],
      "source": [
        "\n",
        "\n",
        "# Create a set of distinct lowercase words\n",
        "word_set = set()\n",
        "for note in merged_file_df['Exam_Notes']:\n",
        "    words = note.lower().split()\n",
        "    word_set.update(words)\n",
        "\n",
        "# Create a new DataFrame with the distinct words\n",
        "df_word = pd.DataFrame({'Word': list(word_set)})\n",
        "\n",
        "# Display the resulting DataFrame\n",
        "print(df_word)"
      ]
    },
    {
      "cell_type": "code",
      "execution_count": null,
      "metadata": {
        "id": "qqu0dSmHHbn0"
      },
      "outputs": [],
      "source": [
        "merged_file_df"
      ]
    },
    {
      "cell_type": "markdown",
      "metadata": {
        "id": "5LkEHwhTzOQ0"
      },
      "source": [
        "# Stemming an lemmentization"
      ]
    },
    {
      "cell_type": "code",
      "execution_count": null,
      "metadata": {
        "colab": {
          "base_uri": "https://localhost:8080/"
        },
        "id": "liflxXBZBrgV",
        "outputId": "82dcdb95-c777-4d09-e38c-e5c7ebab695f"
      },
      "outputs": [
        {
          "name": "stdout",
          "output_type": "stream",
          "text": [
            "object\n"
          ]
        }
      ],
      "source": [
        "print(merged_file_df['Exam_Notes'].dtype)\n",
        "merged_file_df['Image_Info'] = merged_file_df['Image_Info'].astype(str)"
      ]
    },
    {
      "cell_type": "code",
      "execution_count": null,
      "metadata": {
        "id": "Y14_oqmABRAN"
      },
      "outputs": [],
      "source": [
        "# Convert Exam_Notes column to lowercase\n",
        "merged_file_df['Exam_Notes_lower'] = [note.lower() for note in merged_file_df['Exam_Notes'].tolist()]\n",
        "merged_file_df['Image_Info_lower'] = [note.lower() for note in merged_file_df['Image_Info'].tolist()]\n",
        "\n"
      ]
    },
    {
      "cell_type": "code",
      "execution_count": null,
      "metadata": {
        "colab": {
          "base_uri": "https://localhost:8080/"
        },
        "id": "0SbyOx2szRdp",
        "outputId": "c1f5cd6e-f86d-4791-cd14-2e9464cd779a"
      },
      "outputs": [
        {
          "name": "stderr",
          "output_type": "stream",
          "text": [
            "[nltk_data] Downloading package punkt to /root/nltk_data...\n",
            "[nltk_data]   Package punkt is already up-to-date!\n",
            "[nltk_data] Downloading package wordnet to /root/nltk_data...\n"
          ]
        }
      ],
      "source": [
        "import nltk\n",
        "nltk.download('punkt')\n",
        "nltk.download('wordnet')\n",
        "\n",
        "\n",
        "lemmatizer = WordNetLemmatizer()\n",
        "\n",
        "# Apply c on Exam_Notes column\n",
        "merged_file_df['Exam_Notes_tokens'] = merged_file_df['Exam_Notes_lower'].apply(lambda x: [lemmatizer.lemmatize(token) for token in word_tokenize(x)])\n",
        "\n",
        "# Apply lemmatization on Image_Info column\n",
        "merged_file_df['Image_Info_tokens'] = merged_file_df['Image_Info_lower'].apply(lambda x: [lemmatizer.lemmatize(token) for token in word_tokenize(x)])"
      ]
    },
    {
      "cell_type": "code",
      "execution_count": null,
      "metadata": {
        "colab": {
          "base_uri": "https://localhost:8080/",
          "height": 1000
        },
        "id": "KBixxwRTzRai",
        "outputId": "82f0898b-70a5-4589-c1fc-b938ae9d55bf"
      },
      "outputs": [],
      "source": [
        "merged_file_df"
      ]
    },
    {
      "cell_type": "code",
      "execution_count": null,
      "metadata": {
        "id": "V_4YPCUmzRYD"
      },
      "outputs": [],
      "source": []
    },
    {
      "cell_type": "code",
      "execution_count": null,
      "metadata": {
        "id": "NGf-GumszRVf"
      },
      "outputs": [],
      "source": []
    },
    {
      "cell_type": "code",
      "execution_count": null,
      "metadata": {
        "id": "5xGs8OxlzRTU"
      },
      "outputs": [],
      "source": [
        "# DataFrame named 'merged_file_df' with columns 'Exam_Notes' and 'Disease_Severity'\n",
        "exam_notes = merged_file_df['Exam_Notes_tokens'].tolist()  # Convert 'Exam_Notes' column to a list\n",
        "disease_severity = merged_file_df['Disease_Severity'].tolist()  # Convert 'Disease_Severity' column to a list\n",
        "\n",
        "vocabulary = set()  # Create a set to store unique words\n",
        "\n",
        "# Step 1: Create vocabulary list\n",
        "for note in exam_notes:\n",
        "    words = note.lower().split()\n",
        "    vocabulary.update(words)\n",
        "\n",
        "# Step 2: Initialize dictionaries for word frequencies\n",
        "active_freq = {word: 0 for word in vocabulary}\n",
        "inactive_freq = {word: 0 for word in vocabulary}\n",
        "\n",
        "# Step 3-5: Calculate word frequencies for each class\n",
        "for note, severity in zip(exam_notes, disease_severity):\n",
        "    words = note.split()\n",
        "    word_freq = active_freq if severity == 'Active' else inactive_freq\n",
        "    for word in words:\n",
        "        if word in word_freq:\n",
        "            word_freq[word] += 1"
      ]
    },
    {
      "cell_type": "code",
      "execution_count": null,
      "metadata": {
        "id": "jwO2MOJ_ETwr"
      },
      "outputs": [],
      "source": [
        "# import pandas as pd\n",
        "\n",
        "\n",
        "# # Flatten the token lists in 'Exam_notes'\n",
        "# flat_tokens = [token for tokens in merged_file_df['Exam_Notes_tokens'] for token in tokens]\n",
        "\n",
        "# # Calculate the word frequencies based on 'Disease_severity'\n",
        "# word_freq_active = pd.Series(flat_tokens).loc[merged_file_df['Disease_Severity'] == 'Active'].value_counts()\n",
        "# word_freq_inactive = pd.Series(flat_tokens).loc[merged_file_df['Disease_Severity'] == 'Inactive'].value_counts()\n",
        "\n",
        "# # Create new columns in the DataFrame\n",
        "# new_df_1['Word_Freq_Active'] = merged_file_df['Exam_Notes_tokens'].apply(lambda x: sum(token in word_freq_active.index for token in x))\n",
        "# new_df_1['Word_Freq_Inactive'] = merged_file_df['Exam_Notes_tokens'].apply(lambda x: sum(token in word_freq_inactive.index for token in x))\n"
      ]
    },
    {
      "cell_type": "markdown",
      "metadata": {
        "id": "zfrVlPKEMLbq"
      },
      "source": [
        "### On the basis of Column \"Disease_Severity\" which consists of two classes \"Active\" and \"Inactive\", make two columns \"Active_Freq\" and \"Inactive_Freq\" which contains word frequencies after matching from Vocabulary. Similar to feature extraction with frequencies in Sentiment analysis."
      ]
    },
    {
      "cell_type": "code",
      "execution_count": null,
      "metadata": {
        "id": "432bVfPrHcVp"
      },
      "outputs": [],
      "source": [
        "# import pandas as pd\n",
        "\n",
        "# # Create a list of tuples containing (word, active_freq, inactive_freq)\n",
        "# word_freq_list = [(word, active_freq[word], inactive_freq[word]) for word in vocabulary]\n",
        "\n",
        "# # Create a new DataFrame with columns 'Word', 'Active_Freq', 'Inactive_Freq'\n",
        "# new_df = pd.DataFrame(word_freq_list, columns=['Word', 'Active_Freq', 'Inactive_Freq'])\n",
        "\n",
        "\n",
        "\n",
        "import pandas as pd\n",
        "\n",
        "# Create an empty list to store the word frequency data\n",
        "word_freq_list = []\n",
        "\n",
        "# Iterate over the vocabulary list\n",
        "for word in vocabulary:\n",
        "    # Check if the word exists in the active_freq and inactive_freq dictionaries\n",
        "    if word in active_freq and word in inactive_freq:\n",
        "        # Append the word and its corresponding frequencies to the list\n",
        "        word_freq_list.append((word, active_freq[word], inactive_freq[word]))\n",
        "\n",
        "# Create a new DataFrame with columns 'Word', 'Active_Freq', 'Inactive_Freq'\n",
        "new_df = pd.DataFrame(word_freq_list, columns=['Word', 'Active_Freq', 'Inactive_Freq'])\n"
      ]
    },
    {
      "cell_type": "code",
      "execution_count": null,
      "metadata": {
        "id": "7kf_RFmqCjrL"
      },
      "outputs": [],
      "source": [
        "# # Flatten the token lists in 'Exam_notes'\n",
        "# flat_tokens = [token for tokens in merged_file_df['Exam_Notes_tokens'] for token in tokens]\n",
        "\n",
        "# # Calculate the token frequency\n",
        "# token_freq = pd.Series(flat_tokens).value_counts()\n",
        "\n",
        "# # Create a new DataFrame with columns 'Token' and 'Frequency'\n",
        "# new_df_1 = pd.DataFrame({'Token': token_freq.index, 'Frequency': token_freq.values})\n",
        "\n",
        "\n",
        "# Flatten the token lists in 'Exam_notes'\n",
        "flat_tokens = [token for tokens in merged_file_df['Exam_Notes_tokens'] for token in tokens]\n",
        "\n",
        "# Calculate the token frequency\n",
        "token_freq = pd.Series(flat_tokens).value_counts()\n",
        "\n",
        "# Create a new DataFrame with columns 'Token' and 'Frequency'\n",
        "new_df_1 = pd.DataFrame({'Token': token_freq.index, 'Frequency': token_freq.values})\n",
        "\n",
        "# Calculate the word frequencies based on 'Disease_Severity'\n",
        "word_freq_active = merged_file_df.loc[merged_file_df['Disease_Severity'] == 'Active', 'Exam_Notes_tokens'].explode().value_counts()\n",
        "word_freq_inactive = merged_file_df.loc[merged_file_df['Disease_Severity'] == 'Inactive', 'Exam_Notes_tokens'].explode().value_counts()\n",
        "\n",
        "# Add new columns to the DataFrame\n",
        "new_df_1['Word_Freq_Active'] = new_df_1['Token'].map(word_freq_active).fillna(0)\n",
        "new_df_1['Word_Freq_Inactive'] = new_df_1['Token'].map(word_freq_inactive).fillna(0)\n"
      ]
    },
    {
      "cell_type": "code",
      "execution_count": null,
      "metadata": {
        "id": "gAaZm6PcIF8e"
      },
      "outputs": [],
      "source": [
        "new_df_1['Word_Freq_Active'] = new_df_1['Word_Freq_Active'].astype(int)\n",
        "new_df_1['Word_Freq_Inactive'] = new_df_1['Word_Freq_Inactive'].astype(int)"
      ]
    },
    {
      "cell_type": "code",
      "execution_count": null,
      "metadata": {
        "colab": {
          "base_uri": "https://localhost:8080/",
          "height": 423
        },
        "id": "tOoBQ5ZgFsMB",
        "outputId": "91b6c5c5-3dda-400b-ff27-369c4cca684c"
      },
      "outputs": [],
      "source": [
        "new_df_1"
      ]
    },
    {
      "cell_type": "code",
      "execution_count": null,
      "metadata": {
        "id": "dZJXkwhqGkU7"
      },
      "outputs": [],
      "source": [
        "# Sort the DataFrame by the 'Frequency' column in descending order\n",
        "new_df_1 = new_df_1.sort_values(by='Frequency', ascending=True)\n",
        "\n",
        "# Add the 'Rank' column\n",
        "new_df_1['Rank'] = range(1, len(new_df_1) + 1)\n",
        "\n",
        "# Rearrange the columns\n",
        "new_df_1 = new_df_1[['Token', 'Frequency', 'Rank', 'Word_Freq_Active', 'Word_Freq_Inactive']]"
      ]
    },
    {
      "cell_type": "code",
      "execution_count": null,
      "metadata": {
        "colab": {
          "base_uri": "https://localhost:8080/",
          "height": 423
        },
        "id": "N250dncAGwsF",
        "outputId": "cc0f9643-ff11-456c-8578-239a4954d715"
      },
      "outputs": [],
      "source": [
        "new_df_1"
      ]
    },
    {
      "cell_type": "code",
      "execution_count": null,
      "metadata": {
        "id": "3r2esn9mKKWs"
      },
      "outputs": [],
      "source": [
        "Active_df = merged_file_df[merged_file_df['Disease_Severity'] == 'Active'].copy()\n",
        "\n",
        "Inactive_df = merged_file_df[merged_file_df['Disease_Severity'] == 'Inactive'].copy()"
      ]
    },
    {
      "cell_type": "code",
      "execution_count": null,
      "metadata": {
        "id": "yTC0g-VrKFa6"
      },
      "outputs": [],
      "source": [
        "import numpy as np\n",
        "import pandas as pd\n",
        "from sklearn.feature_extraction.text import CountVectorizer\n",
        "\n",
        "# Extract the text from the respective dataframes\n",
        "active_texts = Active_df['Exam_Notes'].tolist()\n",
        "inactive_texts = Inactive_df['Exam_Notes'].tolist()\n",
        "\n",
        "# Concatenate the active and inactive texts\n",
        "all_texts = Active_df['Exam_Notes'].tolist() + Inactive_df['Exam_Notes'].tolist()\n",
        "\n",
        "# Create an instance of the TF-IDF vectorizer\n",
        "vectorizer = CountVectorizer(ngram_range=(1, 1))\n",
        "\n",
        "# Fit and transform the vectorizer on all texts\n",
        "vectors = vectorizer.fit_transform(all_texts)\n",
        "\n",
        "# Split the vectors into active and inactive vectors\n",
        "active_vectors = vectors[:len(Active_df)]\n",
        "inactive_vectors = vectors[len(Active_df):]\n",
        "\n",
        "# Calculate the average vectors for each group\n",
        "active_avg_vector = np.mean(active_vectors, axis=0)\n",
        "inactive_avg_vector = np.mean(inactive_vectors, axis=0)\n",
        "\n",
        "# Calculate the difference between the average vectors\n",
        "difference = active_avg_vector - inactive_avg_vector\n",
        "\n",
        "# Get the vocabulary (dictionary of feature indices to feature names)\n",
        "vocabulary = vectorizer.vocabulary_\n",
        "\n",
        "# Get the feature names from the vectorizer\n",
        "feature_names = [word for word, index in sorted(vectorizer.vocabulary_.items(), key=lambda x: x[1])]\n",
        "\n",
        "# Calculate the total frequency, active frequency, and inactive frequency of each word\n",
        "total_freq = np.sum(vectors.toarray(), axis=0)\n",
        "active_freq = np.sum(active_vectors.toarray(), axis=0)\n",
        "inactive_freq = np.sum(inactive_vectors.toarray(), axis=0)\n",
        "\n",
        "# Create a dataframe with word, frequency, active frequency, inactive frequency, and rank\n",
        "new_df = pd.DataFrame({'Word': feature_names, 'Freq': total_freq, 'Active_Freq': active_freq, 'Inactive_Freq': inactive_freq, 'Rank': np.arange(1, len(feature_names) + 1)})"
      ]
    },
    {
      "cell_type": "code",
      "execution_count": null,
      "metadata": {
        "colab": {
          "base_uri": "https://localhost:8080/",
          "height": 423
        },
        "id": "crHF5ZuWK0xn",
        "outputId": "b403536c-8086-4e40-aa5d-2afcfc0ab48e"
      },
      "outputs": [],
      "source": [
        "new_df"
      ]
    },
    {
      "cell_type": "code",
      "execution_count": null,
      "metadata": {
        "colab": {
          "base_uri": "https://localhost:8080/",
          "height": 423
        },
        "id": "871G1xSzOBc6",
        "outputId": "6c9fce6b-1267-4b9f-cff9-b52bd05cb22c"
      },
      "outputs": [],
      "source": [
        "new_df.fillna(0)"
      ]
    },
    {
      "cell_type": "code",
      "execution_count": null,
      "metadata": {
        "colab": {
          "base_uri": "https://localhost:8080/"
        },
        "id": "E6N3kTtFUef8",
        "outputId": "27ffcba4-1917-46fd-898d-20a4b01fcd9c"
      },
      "outputs": [
        {
          "name": "stdout",
          "output_type": "stream",
          "text": [
            "Similar words to 'colon':\n",
            "perianalrectal\n",
            "0649\n",
            "8446\n",
            "findings\n",
            "5742\n"
          ]
        }
      ],
      "source": [
        "from gensim.models import Word2Vec\n",
        "from nltk.tokenize import word_tokenize\n",
        "\n",
        "# List of clinical notes\n",
        "clinical_notes = merged_file_df['Exam_Notes'].tolist()\n",
        "\n",
        "# Tokenize the clinical notes\n",
        "tokenized_notes = [word_tokenize(note.lower()) for note in clinical_notes]\n",
        "\n",
        "# Train the Word2Vec model\n",
        "model = Word2Vec(tokenized_notes, min_count=1)"
      ]
    },
    {
      "cell_type": "code",
      "execution_count": null,
      "metadata": {
        "colab": {
          "base_uri": "https://localhost:8080/"
        },
        "id": "nGkS62G0Uedp",
        "outputId": "23001639-38e0-4996-9a22-06531c3af909"
      },
      "outputs": [
        {
          "name": "stdout",
          "output_type": "stream",
          "text": [
            "Similar words to 'active':\n",
            "mayo\n",
            "endo\n",
            "uc\n",
            "graded\n",
            "simple\n"
          ]
        }
      ],
      "source": [
        "# Example usage\n",
        "word = \"active\"\n",
        "similar_words = model.wv.most_similar(word, topn=5)\n",
        "\n",
        "print(f\"Similar words to '{word}':\")\n",
        "for similar_word, similarity in similar_words:\n",
        "    print(similar_word)"
      ]
    },
    {
      "cell_type": "code",
      "execution_count": null,
      "metadata": {
        "id": "GpMiuMBYUebE"
      },
      "outputs": [],
      "source": [
        "from gensim.models import Word2Vec\n",
        "from nltk.tokenize import word_tokenize\n",
        "import numpy as np\n",
        "\n",
        "# List of clinical notes\n",
        "clinical_notes = merged_file_df['Exam_Notes'].tolist()\n",
        "\n",
        "# Tokenize the clinical notes\n",
        "tokenized_notes = [word_tokenize(note.lower()) for note in clinical_notes]\n",
        "\n",
        "# Train the Word2Vec model\n",
        "model = Word2Vec(tokenized_notes, min_count=1)\n",
        "\n",
        "# Calculate word rankings based on occurrence and similarity\n",
        "word_occurrence = {}\n",
        "word_rankings = {}\n",
        "\n",
        "for note in tokenized_notes:\n",
        "    for word in note:\n",
        "        if word not in word_occurrence:\n",
        "            word_occurrence[word] = 1\n",
        "        else:\n",
        "            word_occurrence[word] += 1\n",
        "        if word not in word_rankings:\n",
        "            word_embeddings = [model.wv[word] for word in note if word in model.wv]\n",
        "            word_rankings[word] = np.mean(word_embeddings) * (1 / word_occurrence[word])\n",
        "\n",
        "# Sort the words based on their rankings\n",
        "sorted_words = sorted(word_rankings, key=word_rankings.get, reverse=True)\n",
        "\n",
        "# Print the ranked words\n",
        "for word in sorted_words:\n",
        "    print(f\"Word: {word}, Rank: {word_rankings[word]*100}\")\n"
      ]
    },
    {
      "cell_type": "code",
      "execution_count": null,
      "metadata": {
        "colab": {
          "base_uri": "https://localhost:8080/",
          "height": 542
        },
        "id": "9WR8RS9WUeYv",
        "outputId": "7c3148bc-9a57-4bed-d1c5-75fe07a81705"
      },
      "outputs": [
        {
          "data": {
            "text/html": [
              "<html>\n",
              "<head><meta charset=\"utf-8\" /></head>\n",
              "<body>\n",
              "    <div>            <script src=\"https://cdnjs.cloudflare.com/ajax/libs/mathjax/2.7.5/MathJax.js?config=TeX-AMS-MML_SVG\"></script><script type=\"text/javascript\">if (window.MathJax && window.MathJax.Hub && window.MathJax.Hub.Config) {window.MathJax.Hub.Config({SVG: {font: \"STIX-Web\"}});}</script>                <script type=\"text/javascript\">window.PlotlyConfig = {MathJaxConfig: 'local'};</script>\n",
              "        <script src=\"https://cdn.plot.ly/plotly-2.18.2.min.js\"></script>                <div id=\"c065e076-8eaa-4509-b8eb-1755e61ab39c\" class=\"plotly-graph-div\" style=\"height:525px; width:100%;\"></div>            <script type=\"text/javascript\">                                    window.PLOTLYENV=window.PLOTLYENV || {};                                    if (document.getElementById(\"c065e076-8eaa-4509-b8eb-1755e61ab39c\")) {                    Plotly.newPlot(                        \"c065e076-8eaa-4509-b8eb-1755e61ab39c\",                        [{\"hovertemplate\":\"Word Rank=%{x}<br>Disease Severity=%{y}<extra></extra>\",\"legendgroup\":\"\",\"marker\":{\"color\":\"#636efa\",\"symbol\":\"circle\"},\"mode\":\"markers\",\"name\":\"\",\"showlegend\":false,\"x\":[0.03024541586637497,0.028687885031104088,0.028687885031104088,0.028687885031104088,0.028687885031104088,0.02811141312122345,0.02811141312122345,0.027601733803749084,0.026978135108947754,0.0266715195029974,0.0266715195029974,0.0266326442360878,0.0266326442360878,0.026333339512348175,0.026333339512348175,0.02626885287463665,0.02626885287463665,0.02626885287463665,0.02626885287463665,0.025976523756980896,0.02580764703452587,0.025568654760718346,0.025548914447426796,0.025342151522636414,0.024692144244909286,0.024122118949890137,0.024122118949890137,0.024122118949890137,0.024099772796034813,0.0239911787211895,0.0237655621021986,0.0237655621021986,0.023693297058343887,0.023693297058343887,0.02358866296708584,0.02358866296708584,0.02358866296708584,0.023468900471925735,0.023422647267580032,0.023422647267580032,0.023422647267580032,0.02333665080368519,0.023209046572446823,0.023209046572446823,0.023208847269415855,0.023208847269415855,0.02293546497821808,0.02293546497821808,0.02293546497821808,0.02293052151799202,0.02269739657640457,0.02269739657640457,0.02269739657640457,0.02269739657640457,0.02269739657640457,0.02269739657640457,0.02269739657640457,0.02269739657640457,0.022511228919029236,0.022449376061558723,0.022319572046399117,0.022319572046399117,0.02219695970416069,0.02212725766003132,0.02212725766003132,0.022069232538342476,0.021594149991869926,0.021594149991869926,0.021563423797488213,0.021372277289628983,0.021183105185627937,0.021183105185627937,0.021149618551135063,0.02114051580429077,0.021050479263067245,0.021006831899285316,0.021006831899285316,0.021006831899285316,0.021006831899285316,0.020937306806445122,0.02089797891676426,0.020894695073366165,0.020894695073366165,0.020859772339463234,0.020793013274669647,0.020793013274669647,0.020793013274669647,0.020793013274669647,0.020793013274669647,0.02074499987065792,0.02074499987065792,0.02074499987065792,0.02074499987065792,0.020510511472821236,0.020445261150598526,0.02041366510093212,0.02041366510093212,0.02041366510093212,0.02041366510093212,0.020257651805877686,0.020257651805877686,0.020257651805877686,0.020219163969159126,0.020156534388661385,0.02000722475349903,0.019991621375083923,0.019927693530917168,0.019695842638611794,0.019695842638611794,0.019695842638611794,0.019695842638611794,0.019673867151141167,0.019673867151141167,0.019673867151141167,0.019673867151141167,0.019673867151141167,0.019673867151141167,0.019613763317465782,0.01958605647087097,0.019569270312786102,0.019569270312786102,0.019569270312786102,0.0195644348859787,0.0195644348859787,0.0195644348859787,0.019544756039977074,0.01948939450085163,0.01946447417140007,0.01945209503173828,0.01936114951968193,0.01936114951968193,0.019310031086206436,0.019229907542467117,0.019229907542467117,0.019229907542467117,0.019229907542467117,0.019229907542467117,0.019127998501062393,0.01903432607650757,0.01903432607650757,0.01903432607650757,0.018946468830108643,0.018908577039837837,0.018908577039837837,0.018908577039837837,0.018908577039837837,0.018908577039837837,0.018908577039837837,0.018908577039837837,0.018908577039837837,0.018832942470908165,0.018797311931848526,0.018749970942735672,0.018722573295235634,0.01864609494805336,0.01864609494805336,0.01864609494805336,0.01862858049571514,0.01860697753727436,0.018562374636530876,0.018475741147994995,0.01845778338611126,0.01845778338611126,0.01845778338611126,0.01845778338611126,0.01845778338611126,0.01845778338611126,0.01845778338611126,0.01835319586098194,0.018339617177844048,0.018339617177844048,0.018339617177844048,0.018339617177844048,0.018317466601729393,0.01831386797130108,0.01831386797130108,0.01831386797130108,0.018312493339180946,0.018312493339180946,0.01829427108168602,0.01829427108168602,0.01829427108168602,0.018280528485774994,0.018276583403348923,0.018268117681145668,0.018268117681145668,0.018268117681145668,0.018268117681145668,0.018268117681145668,0.018268117681145668,0.018268117681145668,0.018268117681145668,0.0181855671107769,0.018170025199651718,0.018170025199651718,0.01813623122870922,0.01811213232576847,0.0181118194013834,0.0181118194013834,0.0181118194013834,0.018092459067702293,0.018039226531982422,0.018034081906080246,0.018034081906080246,0.018034081906080246,0.018034081906080246,0.018034081906080246,0.017980577424168587,0.017980577424168587,0.017976263538002968,0.017931319773197174,0.017889535054564476,0.017889535054564476,0.017885886132717133,0.017885886132717133,0.017885886132717133,0.017885886132717133,0.017885886132717133,0.017885886132717133,0.017885886132717133,0.017885886132717133,0.017885886132717133,0.017885886132717133,0.017885886132717133,0.017885886132717133,0.017885886132717133,0.01786022260785103,0.01782844588160515,0.017824050039052963,0.017804892733693123,0.017656462267041206,0.017644744366407394,0.017644744366407394,0.017644744366407394,0.017644744366407394,0.017644744366407394,0.017644744366407394,0.017644744366407394,0.017644744366407394,0.017644744366407394,0.017644744366407394,0.017644744366407394,0.017644744366407394,0.017644744366407394,0.017644744366407394,0.017644744366407394,0.017644744366407394,0.017644744366407394,0.017644744366407394,0.017644744366407394,0.017644744366407394,0.017644744366407394,0.017644744366407394,0.017644744366407394,0.017644744366407394,0.017644744366407394,0.017644744366407394,0.017644744366407394,0.017644744366407394,0.017644744366407394,0.017644744366407394,0.017644744366407394,0.017644744366407394,0.017644744366407394,0.017644744366407394,0.017644744366407394,0.017644744366407394,0.017644744366407394,0.017644744366407394,0.017644744366407394,0.017644744366407394,0.017644744366407394,0.017644744366407394,0.017644744366407394,0.017644744366407394,0.017644744366407394,0.017644744366407394,0.017644744366407394,0.017644744366407394,0.017644744366407394,0.017644744366407394,0.017644744366407394,0.017644744366407394,0.017644744366407394,0.017644744366407394,0.017644744366407394,0.017644744366407394,0.017644744366407394,0.017644744366407394,0.017644744366407394,0.017644744366407394,0.017644744366407394,0.017644744366407394,0.017644744366407394,0.017644744366407394,0.017644744366407394,0.017644744366407394,0.017644744366407394,0.017644744366407394,0.017644744366407394,0.017644744366407394,0.017644744366407394,0.017644744366407394,0.017644744366407394,0.017644744366407394,0.017644744366407394,0.017644744366407394,0.017644744366407394,0.017644744366407394,0.017644744366407394,0.017644744366407394,0.017644744366407394,0.017644744366407394,0.017644744366407394,0.017644744366407394,0.017644744366407394,0.017644744366407394,0.017644744366407394,0.017644744366407394,0.017644744366407394,0.017644744366407394,0.017644744366407394,0.017644744366407394,0.017644744366407394,0.017644744366407394,0.017644744366407394,0.017644744366407394,0.017644744366407394,0.01762007549405098,0.01762007549405098,0.01762007549405098,0.01762007549405098,0.01762007549405098,0.01760684698820114,0.017583364620804787,0.017583364620804787,0.017488151788711548,0.017488151788711548,0.017488151788711548,0.017488151788711548,0.017475657165050507,0.017475657165050507,0.017475657165050507,0.017475657165050507,0.017475657165050507,0.017375398427248,0.017309188842773438,0.017164111137390137,0.017164111137390137,0.017164111137390137,0.01713477075099945,0.01713477075099945,0.01713477075099945,0.01713477075099945,0.01713477075099945,0.01713477075099945,0.01713477075099945,0.01713477075099945,0.01713477075099945,0.01713477075099945,0.01713477075099945,0.017095530405640602,0.01708197593688965,0.01703812927007675,0.017028816044330597,0.017010122537612915,0.017010122537612915,0.017010122537612915,0.016996582970023155,0.016969455406069756,0.016969455406069756,0.016969455406069756,0.016934415325522423,0.016934415325522423,0.016934415325522423,0.01691948063671589,0.01691948063671589,0.01687620021402836,0.01679696887731552,0.01677197776734829,0.01674291305243969,0.0167231485247612,0.016643859446048737,0.016637438908219337,0.016602560877799988,0.01656913012266159,0.0165412500500679,0.016476672142744064,0.01647397130727768,0.01647397130727768,0.01647397130727768,0.01638341136276722,0.016311241313815117,0.016311241313815117,0.016311241313815117,0.016311241313815117,0.01620396412909031,0.01620396412909031,0.01620396412909031,0.01620396412909031,0.01620396412909031,0.01620396412909031,0.01620396412909031,0.01620396412909031,0.016201237216591835,0.01589714176952839,0.01589714176952839,0.015847541391849518,0.015755001455545425,0.015755001455545425,0.01568298414349556,0.015563112683594227,0.015563112683594227,0.015563112683594227,0.015538062900304794,0.015538062900304794,0.015538062900304794,0.015538062900304794,0.015538062900304794,0.015537912957370281,0.015537912957370281,0.015537912957370281,0.015537912957370281,0.015537912957370281,0.015537912957370281,0.015537912957370281,0.015537912957370281,0.015537912957370281,0.015537912957370281,0.015537912957370281,0.015537912957370281,0.015537912957370281,0.015537912957370281,0.015537912957370281,0.015537912957370281,0.015537912957370281,0.015537912957370281,0.015537912957370281,0.015537912957370281,0.015537912957370281,0.015537912957370281,0.015537912957370281,0.015537912957370281,0.015537150204181671,0.015537150204181671,0.015537150204181671,0.015537150204181671,0.015537150204181671,0.015535631217062473,0.015523900277912617,0.015523900277912617,0.015523900277912617,0.015523900277912617,0.015523900277912617,0.015523900277912617,0.015523900277912617,0.015523900277912617,0.015523900277912617,0.015509490855038166,0.015456216409802437,0.015413828194141388,0.015413828194141388,0.015413828194141388,0.015413828194141388,0.015355860814452171,0.015355860814452171,0.015355860814452171,0.015355860814452171,0.015355860814452171,0.015311540104448795,0.015294624492526054,0.015294624492526054,0.015294624492526054,0.015294624492526054,0.015146508812904358,0.015077841468155384,0.015077841468155384,0.015077841468155384,0.015070036984980106,0.015070036984980106,0.01506519503891468,0.015057808719575405,0.01504103746265173,0.01504103746265173,0.01504103746265173,0.01504103746265173,0.014994018711149693,0.014994018711149693,0.014994018711149693,0.014928316697478294,0.014928316697478294,0.014928316697478294,0.014797806739807129,0.014797806739807129,0.014797806739807129,0.014797806739807129,0.014795332215726376,0.014792383648455143,0.014792383648455143,0.014792383648455143,0.014792383648455143,0.014792383648455143,0.014792383648455143,0.014769252389669418,0.014540886506438255,0.014540886506438255,0.014540886506438255,0.014508537948131561,0.014508537948131561,0.014508537948131561,0.014508537948131561,0.014508537948131561,0.014508537948131561,0.014508537948131561,0.014506843872368336,0.014506843872368336,0.01443488895893097,0.01443488895893097,0.01443488895893097,0.01443488895893097,0.01443488895893097,0.01443488895893097,0.01443488895893097,0.014416873455047607,0.014416398480534554,0.014416398480534554,0.014341671951115131,0.014335746876895428,0.014306413941085339,0.014306413941085339,0.014268502593040466,0.014231458306312561,0.014231458306312561,0.014231458306312561,0.014200742356479168,0.014176519587635994,0.014112296514213085,0.014096006751060486,0.014096006751060486,0.014015435241162777,0.014015435241162777,0.014015435241162777,0.014015435241162777,0.014015435241162777,0.014011621475219727,0.013927753083407879,0.013927753083407879,0.013927753083407879,0.013927753083407879,0.013927753083407879,0.013927753083407879,0.013927753083407879,0.013927753083407879,0.013927753083407879,0.013927753083407879,0.013927753083407879,0.013927753083407879,0.013927753083407879,0.0139016043394804,0.013732543215155602,0.013732543215155602,0.013732543215155602,0.013732543215155602,0.013732543215155602,0.013732543215155602,0.013732543215155602,0.013732543215155602,0.013732543215155602,0.013732543215155602,0.013620457611978054,0.013574761338531971,0.013574761338531971,0.013574761338531971,0.013574761338531971,0.013574761338531971,0.013574761338531971,0.0135374516248703,0.0135374516248703,0.0135374516248703,0.0135374516248703,0.013523043133318424,0.01337458286434412,0.01337458286434412,0.013260832987725735,0.01306094229221344,0.01306094229221344,0.01306094229221344,0.012754984200000763,0.012754984200000763,0.012333511374890804,0.012333511374890804,0.012333511374890804,0.012175537645816803,0.012175537645816803,0.0121526587754488,0.0119481785222888,0.0119481785222888,0.0119481785222888,0.00910205952823162,0.00910205952823162,0.00910205952823162,0.00910205952823162,0.008229195140302181,0.008229195140302181,0.008229195140302181,0.007790197152644396,0.007790197152644396,0.007790197152644396,0.007790197152644396,0.00723488861694932,0.00723488861694932,0.00723488861694932,0.00723488861694932,0.00723488861694932,0.007137850858271122,0.007137850858271122,0.007137850858271122,0.007137850858271122,0.007137850858271122,0.007137850858271122,0.007137850858271122,0.007137850858271122,0.006881709676235914,0.006881709676235914,0.006881709676235914,0.006881709676235914,0.0067681437358260155,0.0067681437358260155,0.006079631391912699,0.006079631391912699,0.006079631391912699,0.006079631391912699,0.006079631391912699,0.006079631391912699,0.006013527978211641,0.006013527978211641,0.006013527978211641,0.006013527978211641,0.006013527978211641,0.006013527978211641,0.006013527978211641,0.006013527978211641,0.006013527978211641,0.005954036023467779,0.005954036023467779,0.005954036023467779,0.005954036023467779,0.005954036023467779,0.005954036023467779,0.005954036023467779,0.005954036023467779,0.005954036023467779,0.005350968800485134,0.005350968800485134,0.005350968800485134,0.005350968800485134,0.005350968800485134,0.005350968800485134,0.005350968800485134,0.005350968800485134,0.005350968800485134,0.005350968800485134,0.005350968800485134,0.005350968800485134,0.005350968800485134,0.005350968800485134,0.005350968800485134,0.005350968800485134,0.005350968800485134,0.005350968800485134,0.005350968800485134,0.005350968800485134,0.005350968800485134,0.005350968800485134,0.005350968800485134,0.005350968800485134,0.005350968800485134,0.00481451116502285,0.00481451116502285,0.00481451116502285,0.00481451116502285,0.00481451116502285,0.00481451116502285,0.00481451116502285,0.00481451116502285,0.00481451116502285,0.00481451116502285,0.00481451116502285,0.00481451116502285,0.00481451116502285,0.00481451116502285,0.00481451116502285,0.00481451116502285,0.00481451116502285,0.00481451116502285,0.00481451116502285,0.00481451116502285,0.00481451116502285,0.00481451116502285,0.00481451116502285,0.00481451116502285,0.00481451116502285,0.00481451116502285,0.00481451116502285,0.00481451116502285,0.00481451116502285,0.00481451116502285,0.00481451116502285,0.00481451116502285,0.00481451116502285,0.00481451116502285,0.004707783460617065,0.004618242383003235,0.004618242383003235,0.004562407732009888,0.004562407732009888,0.004562407732009888,0.004562407732009888,0.004562407732009888,0.004562407732009888,0.004261518828570843,0.004261518828570843,0.004261518828570843,0.004257962107658386,0.004257962107658386,0.004257962107658386,0.004257962107658386,0.004257962107658386,0.004257962107658386,0.004257962107658386,0.004257962107658386,0.004257962107658386,0.004257962107658386,0.004257962107658386,0.004257962107658386,0.004257962107658386,0.004257962107658386,0.004257962107658386,0.004257962107658386,0.004257962107658386,0.004257962107658386,0.004257962107658386,0.004257962107658386,0.004257962107658386,0.004257962107658386,0.004257962107658386,0.004257962107658386,0.004257962107658386,0.004215259104967117,0.004215259104967117,0.004215259104967117,0.004215259104967117,0.004209535196423531,0.004209535196423531,0.004209535196423531,0.004209535196423531,0.004209535196423531,0.004209535196423531,0.004209535196423531,0.004194993991404772,0.004194993991404772,0.004194993991404772,0.004194993991404772,0.004194993991404772,0.004194993991404772,0.004194993991404772,0.004194993991404772,0.004194993991404772,0.004194993991404772,0.004194993991404772,0.004194993991404772,0.004194993991404772,0.004194993991404772,0.004194993991404772,0.004194993991404772,0.004194993991404772,0.004177900962531567,0.004177900962531567,0.004177900962531567,0.004177900962531567,0.004177900962531567,0.004177900962531567,0.004177900962531567,0.004177900962531567,0.004177900962531567,0.004177900962531567,0.004177900962531567,0.004177900962531567,0.004177900962531567,0.004177900962531567,0.004177900962531567,0.004177900962531567,0.004177900962531567,0.004177900962531567,0.004177900962531567,0.004177900962531567,0.004177900962531567,0.004177900962531567,0.004078287165611982,0.004078287165611982,0.004078287165611982,0.004078287165611982,0.004078287165611982,0.004078287165611982,0.004078287165611982,0.004078287165611982,0.004078287165611982,0.004078287165611982,0.004078287165611982,0.004078287165611982,0.004078287165611982,0.004078287165611982,0.004045652691274881,0.004045652691274881,0.004045652691274881,0.004045652691274881,0.003972373902797699,0.003964273724704981,0.003964273724704981,0.003964273724704981,0.003964273724704981,0.003964273724704981,0.003964273724704981,0.003964273724704981,0.003964273724704981,0.003964273724704981,0.003964273724704981,0.003964273724704981,0.003964273724704981,0.003964273724704981,0.003964273724704981,0.003964273724704981,0.003964273724704981,0.003964273724704981,0.003964273724704981,0.003964273724704981,0.003964273724704981,0.003964273724704981,0.003964273724704981,0.003964273724704981,0.003964273724704981,0.003964273724704981,0.003964273724704981,0.003964273724704981,0.003964273724704981,0.003964273724704981,0.003964273724704981,0.003964273724704981,0.003964273724704981,0.003964273724704981,0.003964273724704981,0.003964273724704981,0.003964273724704981,0.003964273724704981,0.003964273724704981,0.003964273724704981,0.003964273724704981,0.003964273724704981,0.003964273724704981,0.003964273724704981,0.003964273724704981,0.003964273724704981,0.003964273724704981,0.003964273724704981,0.003964273724704981,0.003964273724704981,0.003964273724704981,0.003964273724704981,0.003964273724704981,0.003964273724704981,0.003964273724704981,0.003964273724704981,0.003964273724704981,0.003964273724704981,0.003964273724704981,0.003964273724704981,0.003952612169086933,0.003952612169086933,0.003952612169086933,0.003952612169086933,0.003952612169086933,0.003952612169086933,0.003952612169086933,0.003952612169086933,0.003952612169086933,0.003952612169086933,0.003952612169086933,0.003952612169086933,0.003952612169086933,0.003952612169086933,0.003952612169086933,0.003952612169086933,0.003952612169086933,0.003952612169086933,0.003952612169086933,0.003952612169086933,0.003952612169086933,0.003952612169086933,0.003952612169086933,0.003952612169086933,0.003952612169086933,0.003952612169086933,0.003952612169086933,0.003952612169086933,0.003952612169086933,0.003952612169086933,0.003952612169086933,0.003952612169086933,0.003952612169086933,0.003952612169086933,0.003952612169086933,0.003952612169086933,0.003952612169086933,0.003901977324858308,0.003901977324858308,0.003901977324858308,0.003901977324858308,0.003901977324858308,0.003901977324858308,0.003901977324858308,0.003901977324858308,0.003901977324858308,0.003901977324858308,0.003901977324858308,0.003901977324858308,0.003901977324858308,0.003901977324858308,0.003901977324858308,0.003901977324858308,0.003901977324858308,0.003901977324858308,0.003901977324858308,0.003901977324858308,0.003901977324858308,0.0038392702117562294,0.0038392702117562294,0.0038392702117562294,0.0038392702117562294,0.0038392702117562294,0.0038392702117562294,0.0038392702117562294,0.0037802879232913256,0.0037802879232913256,0.0037802879232913256,0.0037802879232913256,0.0037563983350992203,0.0037563983350992203,0.0037563983350992203,0.0037563983350992203,0.0037563983350992203,0.0036546108312904835,0.0036546108312904835,0.0036546108312904835,0.0036546108312904835,0.0036546108312904835,0.0036546108312904835,0.0036546108312904835,0.0036546108312904835,0.0036546108312904835,0.0036546108312904835,0.0036546108312904835,0.0036546108312904835,0.0036546108312904835,0.0036546108312904835,0.0036546108312904835,0.0036546108312904835,0.0036546108312904835,0.0036546108312904835,0.0036546108312904835,0.0036546108312904835,0.0036546108312904835,0.0036546108312904835,0.0036546108312904835,0.0036546108312904835,0.0036546108312904835,0.0036546108312904835,0.0036546108312904835,0.0036546108312904835,0.0036546108312904835,0.0036546108312904835,0.0036546108312904835,0.0036546108312904835,0.0036546108312904835,0.0036546108312904835,0.0036546108312904835,0.0036546108312904835,0.0036546108312904835,0.0036546108312904835,0.0036546108312904835,0.0036546108312904835,0.0036546108312904835,0.0036546108312904835,0.0036546108312904835,0.0036546108312904835,0.0036546108312904835,0.0036546108312904835,0.0036546108312904835,0.0036546108312904835,0.0036546108312904835,0.0036546108312904835,0.0036546108312904835,0.0036546108312904835,0.0036546108312904835,0.0036546108312904835,0.0036546108312904835,0.0036546108312904835,0.0036546108312904835,0.0036546108312904835,0.0036546108312904835,0.0036546108312904835,0.0036546108312904835,0.0036546108312904835,0.0036546108312904835,0.0036546108312904835,0.0036546108312904835,0.0036546108312904835,0.0036546108312904835,0.0036546108312904835,0.0036546108312904835,0.0036546108312904835,0.0036546108312904835,0.0036546108312904835,0.0036546108312904835,0.0036546108312904835,0.0036546108312904835,0.0036546108312904835,0.0036546108312904835,0.0036546108312904835,0.0036546108312904835,0.0036546108312904835,0.0036546108312904835,0.0036546108312904835,0.0036546108312904835,0.0036546108312904835,0.0036546108312904835,0.0036546108312904835,0.0036546108312904835,0.0036546108312904835,0.0036546108312904835,0.0036546108312904835,0.0036546108312904835,0.0036546108312904835,0.0036546108312904835,0.0036546108312904835,0.0036546108312904835,0.0036546108312904835,0.0036546108312904835,0.0036546108312904835,0.0036546108312904835,0.0036546108312904835,0.0036546108312904835,0.0036546108312904835,0.0036546108312904835,0.0036546108312904835,0.0036546108312904835,0.0036546108312904835,0.0036546108312904835,0.0036546108312904835,0.0036546108312904835,0.0036546108312904835,0.0036546108312904835,0.0036546108312904835,0.0036546108312904835,0.0036546108312904835,0.0036546108312904835,0.0036546108312904835,0.0036546108312904835,0.0036546108312904835,0.0036546108312904835,0.0036546108312904835,0.0036546108312904835,0.0036546108312904835,0.0036546108312904835,0.0036546108312904835,0.0036546108312904835,0.0036546108312904835,0.0036546108312904835,0.0036546108312904835,0.0036546108312904835,0.0036546108312904835,0.0036546108312904835,0.0036546108312904835,0.0036546108312904835,0.0036546108312904835,0.0036546108312904835,0.0036546108312904835,0.0036546108312904835,0.0036546108312904835,0.0035877525806427,0.0035877525806427,0.0035877525806427,0.0035877525806427,0.0035877525806427,0.0035877525806427,0.0035877525806427,0.0035877525806427,0.0035877525806427,0.0035877525806427,0.0035877525806427,0.0035877525806427,0.0035877525806427,0.0035877525806427,0.0035877525806427,0.0035877525806427,0.003501569153741002,0.003501569153741002,0.003501569153741002,0.003501569153741002,0.003501569153741002,0.003501569153741002,0.003501569153741002,0.003501569153741002,0.003501569153741002,0.003501569153741002,0.003501569153741002,0.003478878876194358,0.003478878876194358,0.003478878876194358,0.0034126436803489923,0.0034126436803489923,0.0034126436803489923,0.0034126436803489923,0.0034126436803489923,0.0034126436803489923,0.0034126436803489923,0.0034126436803489923,0.0034126436803489923,0.0034126436803489923,0.0034126436803489923,0.003389185993000865,0.003389185993000865,0.003389185993000865,0.003389185993000865,0.003389185993000865,0.003389185993000865,0.003389185993000865,0.003389185993000865,0.003389185993000865,0.003389185993000865,0.003389185993000865,0.003389185993000865,0.003389185993000865,0.003389185993000865,0.003389185993000865,0.003389185993000865,0.003389185993000865,0.003389185993000865,0.003389185993000865,0.003389185993000865,0.003389185993000865,0.003389185993000865,0.003389185993000865,0.003389185993000865,0.003389185993000865,0.003389185993000865,0.003389185993000865,0.003389185993000865,0.003389185993000865,0.003389185993000865,0.003389185993000865,0.003389185993000865,0.003389185993000865,0.003389185993000865,0.003389185993000865,0.003389185993000865,0.003389185993000865,0.003389185993000865,0.003389185993000865,0.003389185993000865,0.003389185993000865,0.003389185993000865,0.003389185993000865,0.003389185993000865,0.0032920746598392725,0.0032920746598392725,0.0032920746598392725,0.0032920746598392725,0.0032920746598392725,0.0032037890050560236,0.0032037890050560236,0.0032037890050560236,0.0032037890050560236,0.0032037890050560236,0.0032037890050560236,0.0032037890050560236,0.0032037890050560236,0.0032037890050560236,0.0032037890050560236,0.0032037890050560236,0.0032037890050560236,0.0032037890050560236,0.0032037890050560236,0.0032037890050560236,0.0032037890050560236,0.0032037890050560236,0.0032037890050560236,0.0032037890050560236,0.003082933370023966,0.003082933370023966,0.003082933370023966,0.003082933370023966,0.003082933370023966,0.003082933370023966,0.003082933370023966,0.003082933370023966,0.003082933370023966,0.003082933370023966,0.0030541003216058016,0.0030541003216058016,0.0030541003216058016,0.0030541003216058016,0.0030541003216058016,0.0030541003216058016,0.0030541003216058016,0.0030541003216058016,0.0030541003216058016,0.0030541003216058016,0.0030541003216058016,0.0030541003216058016,0.0030541003216058016,0.0030541003216058016,0.0030541003216058016,0.0030541003216058016,0.0030541003216058016,0.0030541003216058016,0.0030541003216058016,0.0030541003216058016,0.0030541003216058016,0.0030541003216058016,0.003035747678950429,0.003035747678950429,0.003035747678950429,0.003035747678950429,0.003035747678950429,0.003035747678950429,0.003035747678950429,0.003035747678950429,0.003035747678950429,0.002603320637717843,0.002603320637717843,0.002603320637717843,0.002603320637717843,0.002603320637717843,0.002603320637717843,0.002603320637717843,0.002603320637717843,0.002603320637717843,0.002603320637717843,0.002603320637717843,0.002603320637717843,0.002603320637717843,0.002603320637717843,0.002603320637717843,0.002603320637717843,0.002603320637717843,0.002603320637717843,0.002603320637717843,0.002603320637717843,0.002603320637717843,0.002603320637717843,0.002603320637717843,0.002603320637717843,0.002603320637717843,0.002603320637717843,0.002603320637717843,0.002603320637717843,0.002603320637717843,0.002603320637717843,0.002603320637717843,0.002603320637717843,0.002603320637717843,0.002603320637717843,0.002603320637717843,0.002603320637717843,0.002603320637717843,0.002603320637717843,0.002603320637717843,0.002603320637717843,0.002603320637717843,0.002603320637717843,0.002603320637717843,0.002603320637717843,0.002603320637717843,0.002603320637717843,0.002603320637717843,0.002603320637717843,0.002603320637717843,0.002603320637717843,0.002603320637717843,0.002603320637717843,0.002603320637717843,0.002603320637717843,0.002603320637717843,0.002603320637717843,0.00231799203902483,0.00231799203902483,0.00231799203902483,0.0023061325773596764,0.0023061325773596764,0.0023061325773596764,0.0023061325773596764,0.0022991779260337353,0.0022991779260337353,0.0022991779260337353,0.0022991779260337353,0.0022991779260337353,0.0022991779260337353,0.0022991779260337353,0.0022991779260337353,0.0022991779260337353,0.0022991779260337353,0.0022991779260337353,0.0022991779260337353,0.0022991779260337353,0.0022991779260337353,0.0022991779260337353,0.0022991779260337353,0.0022991779260337353,0.0022991779260337353,0.0022991779260337353,0.0022991779260337353,0.0022991779260337353,0.0022991779260337353,0.0022991779260337353,0.0022991779260337353,0.0022991779260337353,0.0022991779260337353,0.0022991779260337353,0.0022991779260337353,0.0022991779260337353,0.0022991779260337353,0.0022991779260337353,0.0022991779260337353,0.0022991779260337353,0.0022991779260337353,0.0022991779260337353,0.0022991779260337353,0.0022991779260337353,0.0022991779260337353,0.0022991779260337353,0.0022991779260337353,0.0022991779260337353,0.002264703856781125,0.002264703856781125,0.00179313775151968,0.00179313775151968,0.00179313775151968,0.00179313775151968,0.00179313775151968,0.00179313775151968,0.001647180411964655,0.001647180411964655,0.001647180411964655,0.001647180411964655,0.001647180411964655,0.001647180411964655,0.001647180411964655,0.0015239465283229947,0.0015239465283229947,0.0015239465283229947,0.0015239465283229947,0.0015239465283229947,0.0015239465283229947,0.0015239465283229947,0.0015239465283229947,0.0015239465283229947,0.0015239465283229947,0.0015239465283229947,0.0015239465283229947,0.0015239465283229947,0.0015239465283229947,0.0015239465283229947,0.0015239465283229947,0.0015239465283229947,0.0015239465283229947,0.0015239465283229947,0.0015239465283229947,0.0015239465283229947,0.0015239465283229947,0.0015239465283229947,0.0015239465283229947,0.0015239465283229947,0.0015239465283229947,0.0015239465283229947,0.0015239465283229947,0.0015239465283229947,0.0015020346036180854,0.0015020346036180854,0.0015020346036180854,0.0015020346036180854,0.0015020346036180854,0.0015020346036180854,0.0015020346036180854,0.0015020346036180854,0.0015020346036180854,0.0015020346036180854,0.0015020346036180854,0.0015020346036180854,0.0015020346036180854,0.0015020346036180854,0.0015020346036180854,0.0015020346036180854,0.0009457592968828976],\"xaxis\":\"x\",\"y\":[0,0,0,0,0,0,0,0,0,0,0,0,0,0,0,0,0,0,0,0,0,0,0,0,0,0,0,0,0,0,0,0,0,0,0,0,0,0,0,0,0,0,0,0,0,0,0,0,0,0,0,0,0,0,0,0,0,0,0,0,0,0,0,0,0,0,0,0,0,0,0,0,0,0,0,0,0,0,0,0,0,0,0,0,0,0,0,0,0,0,0,0,0,0,0,0,0,0,0,0,0,0,0,0,0,0,0,0,0,0,0,0,0,0,0,0,0,0,0,0,0,0,0,0,0,0,0,0,0,0,0,0,0,0,0,0,0,0,0,0,0,0,0,0,0,0,0,0,0,0,0,0,0,0,0,0,0,0,0,0,0,0,0,0,0,0,0,0,0,0,0,0,0,0,0,0,0,0,0,0,0,0,0,0,0,0,0,0,0,0,0,0,0,0,0,0,0,0,0,0,0,0,0,0,0,0,0,0,0,0,0,0,0,0,0,0,0,0,0,0,0,0,0,0,0,0,0,0,0,0,0,0,0,0,0,0,0,0,0,0,0,0,0,0,0,0,0,0,0,0,0,0,0,0,0,0,0,0,0,0,0,0,0,0,0,0,0,0,0,0,0,0,0,0,0,0,0,0,0,0,0,0,0,0,0,0,0,0,0,0,0,0,0,0,0,0,0,0,0,0,0,0,0,0,0,0,0,0,0,0,0,0,0,0,0,0,0,0,0,0,0,0,0,0,0,0,0,0,0,0,0,0,0,0,0,0,0,0,0,0,0,0,0,0,0,0,0,0,0,0,0,0,0,0,0,0,0,0,0,0,0,0,0,0,0,0,0,0,0,0,0,0,0,0,0,0,0,0,0,0,0,0,0,0,0,0,0,0,0,0,0,0,0,0,0,0,0,0,0,0,0,0,0,0,0,0,0,0,0,0,0,0,0,0,0,0,0,0,0,0,0,0,0,0,0,0,0,0,0,0,0,0,0,0,0,0,0,0,0,0,0,0,0,0,0,0,0,0,0,0,0,0,0,0,0,0,0,0,0,0,0,0,0,0,0,0,0,0,0,0,0,0,0,0,0,0,0,0,0,0,0,0,0,0,0,0,0,0,0,0,0,0,0,0,0,0,0,0,0,0,0,0,0,0,0,0,0,0,0,0,0,0,0,0,0,0,0,0,0,0,0,0,0,0,0,0,0,0,0,0,0,0,0,0,0,0,0,0,0,0,0,0,0,0,0,0,0,0,0,0,0,0,0,0,0,0,0,0,0,0,0,0,0,0,0,0,0,0,0,0,0,0,0,0,0,0,0,0,0,0,0,0,0,0,0,0,0,0,0,0,0,0,0,0,0,0,0,0,0,0,0,0,0,0,0,0,0,0,0,0,0,0,0,0,0,0,0,0,0,0,0,0,0,0,0,0,0,0,0,0,0,0,0,0,0,0,0,0,0,0,0,0,0,0,0,0,0,0,0,0,0,0,0,0,0,0,0,0,0,0,0,0,0,0,0,0,0,0,0,0,0,0,0,0,0,0,0,0,0,0,0,0,0,0,0,0,0,0,0,0,0,0,0,0,0,0,0,0,0,0,0,0,0,0,0,0,0,0,0,0,0,0,0,0,0,0,0,0,0,0,0,0,0,0,0,0,0,0,0,0,0,0,0,0,0,0,0,0,0,0,0,0,0,0,0,0,0,0,0,0,0,0,0,0,0,0,0,0,0,0,0,0,0,0,0,0,0,0,0,0,0,0,0,0,0,0,0,0,0,0,0,0,0,0,0,0,0,0,0,0,0,0,0,0,0,0,0,0,0,0,0,0,0,0,0,0,0,0,0,0,0,0,0,0,0,0,0,0,0,0,0,0,0,0,0,0,0,0,0,0,0,0,0,0,0,0,0,0,0,0,0,0,0,0,0,0,0,0,0,0,0,0,0,0,0,0,0,0,0,0,0,0,0,0,0,0,0,0,0,0,0,0,0,0,0,0,0,0,0,0,0,0,0,0,0,0,0,0,0,0,0,0,0,0,0,0,0,0,0,0,0,0,0,0,0,0,0,0,0,0,0,0,0,0,0,0,0,0,0,0,0,0,0,0,0,0,0,0,0,0,0,0,0,0,0,0,0,0,0,0,0,0,0,0,0,0,0,0,0,0,0,0,0,0,0,0,0,0,0,0,0,0,0,0,0,0,0,0,0,0,0,0,0,0,0,0,0,0,0,0,0,0,0,0,0,0,0,0,0,0,0,0,0,0,0,0,0,0,0,0,0,0,0,0,0,0,0,0,0,0,0,0,0,0,0,0,0,0,0,0,0,0,0,0,0,0,0,0,0,0,0,0,0,0,0,0,0,0,0,0,0,0,0,0,0,0,0,0,0,0,0,0,0,0,0,0,0,0,0,0,0,0,0,0,0,0,0,0,0,0,0,0,0,0,0,0,0,0,0,0,0,0,0,0,0,0,0,0,0,0,0,0,0,0,0,0,0,0,0,0,0,0,0,0,0,0,0,0,0,0,0,0,0,0,0,0,0,0,0,0,0,0,0,0,0,0,0,0,0,0,0,0,0,0,0,0,0,0,0,0,0,0,0,0,0,0,0,0,0,0,0,0,0,0,0,0,0,0,0,0,0,0,0,0,0,0,0,0,0,0,0,0,0,0,0,0,0,0,0,0,0,0,0,0,0,0,0,0,0,0,0,0,0,0,0,0,0,0,0,0,0,0,0,0,0,0,0,0,0,0,0,0,0,0,0,0,0,0,0,0,0,0,0,0,0,0,0,0,0,0,0,0,0,0,0,0,0,0,0,0,0,0,0,0,0,0,0,0,0,0,0,0,0,0,0,0,0,0,0,0,0,0,0,0,0,0,0,0,0,0,0,0,0,0,0,0,0,0,0,0,0,0,0,0,0,0,0,0,0,0,0,0,0,0,0,0,0,0,0,0,0,0,0,0,0,0,0,0,0,0,0,0,0,0,0,0,0,0,0,0,0,0,0,0,0,0,0,0,0,0,0,0,0,0,0,0,0,0,0,0,0,0,0,0,0,0,0,0,0,0,0,0,0,0,0,0,0,0,0,0,0,0,0,0,0,0,0,0,0,0,0,0,0,0,0,0,0,0,0,0,0,0,0,0,0,0,0,0,0,0,0,0,0,0,0,0,0,0,0,0,0,0,0],\"yaxis\":\"y\",\"type\":\"scattergl\"}],                        {\"template\":{\"data\":{\"histogram2dcontour\":[{\"type\":\"histogram2dcontour\",\"colorbar\":{\"outlinewidth\":0,\"ticks\":\"\"},\"colorscale\":[[0.0,\"#0d0887\"],[0.1111111111111111,\"#46039f\"],[0.2222222222222222,\"#7201a8\"],[0.3333333333333333,\"#9c179e\"],[0.4444444444444444,\"#bd3786\"],[0.5555555555555556,\"#d8576b\"],[0.6666666666666666,\"#ed7953\"],[0.7777777777777778,\"#fb9f3a\"],[0.8888888888888888,\"#fdca26\"],[1.0,\"#f0f921\"]]}],\"choropleth\":[{\"type\":\"choropleth\",\"colorbar\":{\"outlinewidth\":0,\"ticks\":\"\"}}],\"histogram2d\":[{\"type\":\"histogram2d\",\"colorbar\":{\"outlinewidth\":0,\"ticks\":\"\"},\"colorscale\":[[0.0,\"#0d0887\"],[0.1111111111111111,\"#46039f\"],[0.2222222222222222,\"#7201a8\"],[0.3333333333333333,\"#9c179e\"],[0.4444444444444444,\"#bd3786\"],[0.5555555555555556,\"#d8576b\"],[0.6666666666666666,\"#ed7953\"],[0.7777777777777778,\"#fb9f3a\"],[0.8888888888888888,\"#fdca26\"],[1.0,\"#f0f921\"]]}],\"heatmap\":[{\"type\":\"heatmap\",\"colorbar\":{\"outlinewidth\":0,\"ticks\":\"\"},\"colorscale\":[[0.0,\"#0d0887\"],[0.1111111111111111,\"#46039f\"],[0.2222222222222222,\"#7201a8\"],[0.3333333333333333,\"#9c179e\"],[0.4444444444444444,\"#bd3786\"],[0.5555555555555556,\"#d8576b\"],[0.6666666666666666,\"#ed7953\"],[0.7777777777777778,\"#fb9f3a\"],[0.8888888888888888,\"#fdca26\"],[1.0,\"#f0f921\"]]}],\"heatmapgl\":[{\"type\":\"heatmapgl\",\"colorbar\":{\"outlinewidth\":0,\"ticks\":\"\"},\"colorscale\":[[0.0,\"#0d0887\"],[0.1111111111111111,\"#46039f\"],[0.2222222222222222,\"#7201a8\"],[0.3333333333333333,\"#9c179e\"],[0.4444444444444444,\"#bd3786\"],[0.5555555555555556,\"#d8576b\"],[0.6666666666666666,\"#ed7953\"],[0.7777777777777778,\"#fb9f3a\"],[0.8888888888888888,\"#fdca26\"],[1.0,\"#f0f921\"]]}],\"contourcarpet\":[{\"type\":\"contourcarpet\",\"colorbar\":{\"outlinewidth\":0,\"ticks\":\"\"}}],\"contour\":[{\"type\":\"contour\",\"colorbar\":{\"outlinewidth\":0,\"ticks\":\"\"},\"colorscale\":[[0.0,\"#0d0887\"],[0.1111111111111111,\"#46039f\"],[0.2222222222222222,\"#7201a8\"],[0.3333333333333333,\"#9c179e\"],[0.4444444444444444,\"#bd3786\"],[0.5555555555555556,\"#d8576b\"],[0.6666666666666666,\"#ed7953\"],[0.7777777777777778,\"#fb9f3a\"],[0.8888888888888888,\"#fdca26\"],[1.0,\"#f0f921\"]]}],\"surface\":[{\"type\":\"surface\",\"colorbar\":{\"outlinewidth\":0,\"ticks\":\"\"},\"colorscale\":[[0.0,\"#0d0887\"],[0.1111111111111111,\"#46039f\"],[0.2222222222222222,\"#7201a8\"],[0.3333333333333333,\"#9c179e\"],[0.4444444444444444,\"#bd3786\"],[0.5555555555555556,\"#d8576b\"],[0.6666666666666666,\"#ed7953\"],[0.7777777777777778,\"#fb9f3a\"],[0.8888888888888888,\"#fdca26\"],[1.0,\"#f0f921\"]]}],\"mesh3d\":[{\"type\":\"mesh3d\",\"colorbar\":{\"outlinewidth\":0,\"ticks\":\"\"}}],\"scatter\":[{\"fillpattern\":{\"fillmode\":\"overlay\",\"size\":10,\"solidity\":0.2},\"type\":\"scatter\"}],\"parcoords\":[{\"type\":\"parcoords\",\"line\":{\"colorbar\":{\"outlinewidth\":0,\"ticks\":\"\"}}}],\"scatterpolargl\":[{\"type\":\"scatterpolargl\",\"marker\":{\"colorbar\":{\"outlinewidth\":0,\"ticks\":\"\"}}}],\"bar\":[{\"error_x\":{\"color\":\"#2a3f5f\"},\"error_y\":{\"color\":\"#2a3f5f\"},\"marker\":{\"line\":{\"color\":\"#E5ECF6\",\"width\":0.5},\"pattern\":{\"fillmode\":\"overlay\",\"size\":10,\"solidity\":0.2}},\"type\":\"bar\"}],\"scattergeo\":[{\"type\":\"scattergeo\",\"marker\":{\"colorbar\":{\"outlinewidth\":0,\"ticks\":\"\"}}}],\"scatterpolar\":[{\"type\":\"scatterpolar\",\"marker\":{\"colorbar\":{\"outlinewidth\":0,\"ticks\":\"\"}}}],\"histogram\":[{\"marker\":{\"pattern\":{\"fillmode\":\"overlay\",\"size\":10,\"solidity\":0.2}},\"type\":\"histogram\"}],\"scattergl\":[{\"type\":\"scattergl\",\"marker\":{\"colorbar\":{\"outlinewidth\":0,\"ticks\":\"\"}}}],\"scatter3d\":[{\"type\":\"scatter3d\",\"line\":{\"colorbar\":{\"outlinewidth\":0,\"ticks\":\"\"}},\"marker\":{\"colorbar\":{\"outlinewidth\":0,\"ticks\":\"\"}}}],\"scattermapbox\":[{\"type\":\"scattermapbox\",\"marker\":{\"colorbar\":{\"outlinewidth\":0,\"ticks\":\"\"}}}],\"scatterternary\":[{\"type\":\"scatterternary\",\"marker\":{\"colorbar\":{\"outlinewidth\":0,\"ticks\":\"\"}}}],\"scattercarpet\":[{\"type\":\"scattercarpet\",\"marker\":{\"colorbar\":{\"outlinewidth\":0,\"ticks\":\"\"}}}],\"carpet\":[{\"aaxis\":{\"endlinecolor\":\"#2a3f5f\",\"gridcolor\":\"white\",\"linecolor\":\"white\",\"minorgridcolor\":\"white\",\"startlinecolor\":\"#2a3f5f\"},\"baxis\":{\"endlinecolor\":\"#2a3f5f\",\"gridcolor\":\"white\",\"linecolor\":\"white\",\"minorgridcolor\":\"white\",\"startlinecolor\":\"#2a3f5f\"},\"type\":\"carpet\"}],\"table\":[{\"cells\":{\"fill\":{\"color\":\"#EBF0F8\"},\"line\":{\"color\":\"white\"}},\"header\":{\"fill\":{\"color\":\"#C8D4E3\"},\"line\":{\"color\":\"white\"}},\"type\":\"table\"}],\"barpolar\":[{\"marker\":{\"line\":{\"color\":\"#E5ECF6\",\"width\":0.5},\"pattern\":{\"fillmode\":\"overlay\",\"size\":10,\"solidity\":0.2}},\"type\":\"barpolar\"}],\"pie\":[{\"automargin\":true,\"type\":\"pie\"}]},\"layout\":{\"autotypenumbers\":\"strict\",\"colorway\":[\"#636efa\",\"#EF553B\",\"#00cc96\",\"#ab63fa\",\"#FFA15A\",\"#19d3f3\",\"#FF6692\",\"#B6E880\",\"#FF97FF\",\"#FECB52\"],\"font\":{\"color\":\"#2a3f5f\"},\"hovermode\":\"closest\",\"hoverlabel\":{\"align\":\"left\"},\"paper_bgcolor\":\"white\",\"plot_bgcolor\":\"#E5ECF6\",\"polar\":{\"bgcolor\":\"#E5ECF6\",\"angularaxis\":{\"gridcolor\":\"white\",\"linecolor\":\"white\",\"ticks\":\"\"},\"radialaxis\":{\"gridcolor\":\"white\",\"linecolor\":\"white\",\"ticks\":\"\"}},\"ternary\":{\"bgcolor\":\"#E5ECF6\",\"aaxis\":{\"gridcolor\":\"white\",\"linecolor\":\"white\",\"ticks\":\"\"},\"baxis\":{\"gridcolor\":\"white\",\"linecolor\":\"white\",\"ticks\":\"\"},\"caxis\":{\"gridcolor\":\"white\",\"linecolor\":\"white\",\"ticks\":\"\"}},\"coloraxis\":{\"colorbar\":{\"outlinewidth\":0,\"ticks\":\"\"}},\"colorscale\":{\"sequential\":[[0.0,\"#0d0887\"],[0.1111111111111111,\"#46039f\"],[0.2222222222222222,\"#7201a8\"],[0.3333333333333333,\"#9c179e\"],[0.4444444444444444,\"#bd3786\"],[0.5555555555555556,\"#d8576b\"],[0.6666666666666666,\"#ed7953\"],[0.7777777777777778,\"#fb9f3a\"],[0.8888888888888888,\"#fdca26\"],[1.0,\"#f0f921\"]],\"sequentialminus\":[[0.0,\"#0d0887\"],[0.1111111111111111,\"#46039f\"],[0.2222222222222222,\"#7201a8\"],[0.3333333333333333,\"#9c179e\"],[0.4444444444444444,\"#bd3786\"],[0.5555555555555556,\"#d8576b\"],[0.6666666666666666,\"#ed7953\"],[0.7777777777777778,\"#fb9f3a\"],[0.8888888888888888,\"#fdca26\"],[1.0,\"#f0f921\"]],\"diverging\":[[0,\"#8e0152\"],[0.1,\"#c51b7d\"],[0.2,\"#de77ae\"],[0.3,\"#f1b6da\"],[0.4,\"#fde0ef\"],[0.5,\"#f7f7f7\"],[0.6,\"#e6f5d0\"],[0.7,\"#b8e186\"],[0.8,\"#7fbc41\"],[0.9,\"#4d9221\"],[1,\"#276419\"]]},\"xaxis\":{\"gridcolor\":\"white\",\"linecolor\":\"white\",\"ticks\":\"\",\"title\":{\"standoff\":15},\"zerolinecolor\":\"white\",\"automargin\":true,\"zerolinewidth\":2},\"yaxis\":{\"gridcolor\":\"white\",\"linecolor\":\"white\",\"ticks\":\"\",\"title\":{\"standoff\":15},\"zerolinecolor\":\"white\",\"automargin\":true,\"zerolinewidth\":2},\"scene\":{\"xaxis\":{\"backgroundcolor\":\"#E5ECF6\",\"gridcolor\":\"white\",\"linecolor\":\"white\",\"showbackground\":true,\"ticks\":\"\",\"zerolinecolor\":\"white\",\"gridwidth\":2},\"yaxis\":{\"backgroundcolor\":\"#E5ECF6\",\"gridcolor\":\"white\",\"linecolor\":\"white\",\"showbackground\":true,\"ticks\":\"\",\"zerolinecolor\":\"white\",\"gridwidth\":2},\"zaxis\":{\"backgroundcolor\":\"#E5ECF6\",\"gridcolor\":\"white\",\"linecolor\":\"white\",\"showbackground\":true,\"ticks\":\"\",\"zerolinecolor\":\"white\",\"gridwidth\":2}},\"shapedefaults\":{\"line\":{\"color\":\"#2a3f5f\"}},\"annotationdefaults\":{\"arrowcolor\":\"#2a3f5f\",\"arrowhead\":0,\"arrowwidth\":1},\"geo\":{\"bgcolor\":\"white\",\"landcolor\":\"#E5ECF6\",\"subunitcolor\":\"white\",\"showland\":true,\"showlakes\":true,\"lakecolor\":\"white\"},\"title\":{\"x\":0.05},\"mapbox\":{\"style\":\"light\"}}},\"xaxis\":{\"anchor\":\"y\",\"domain\":[0.0,1.0],\"title\":{\"text\":\"Word Rank\"}},\"yaxis\":{\"anchor\":\"x\",\"domain\":[0.0,1.0],\"title\":{\"text\":\"Disease Severity\"}},\"legend\":{\"tracegroupgap\":0},\"margin\":{\"t\":60}},                        {\"responsive\": true}                    ).then(function(){\n",
              "                            \n",
              "var gd = document.getElementById('c065e076-8eaa-4509-b8eb-1755e61ab39c');\n",
              "var x = new MutationObserver(function (mutations, observer) {{\n",
              "        var display = window.getComputedStyle(gd).display;\n",
              "        if (!display || display === 'none') {{\n",
              "            console.log([gd, 'removed!']);\n",
              "            Plotly.purge(gd);\n",
              "            observer.disconnect();\n",
              "        }}\n",
              "}});\n",
              "\n",
              "// Listen for the removal of the full notebook cells\n",
              "var notebookContainer = gd.closest('#notebook-container');\n",
              "if (notebookContainer) {{\n",
              "    x.observe(notebookContainer, {childList: true});\n",
              "}}\n",
              "\n",
              "// Listen for the clearing of the current output cell\n",
              "var outputEl = gd.closest('.output');\n",
              "if (outputEl) {{\n",
              "    x.observe(outputEl, {childList: true});\n",
              "}}\n",
              "\n",
              "                        })                };                            </script>        </div>\n",
              "</body>\n",
              "</html>"
            ]
          },
          "metadata": {},
          "output_type": "display_data"
        }
      ],
      "source": [
        "import plotly.express as px\n",
        "\n",
        "# Create a DataFrame with the word ranks and disease severity\n",
        "data = pd.DataFrame({'Word Rank': word_rankings, 'Disease Severity': disease_severity})\n",
        "\n",
        "# Create a scatter plot using Plotly\n",
        "fig = px.scatter(data, x='Word Rank', y='Disease Severity')\n",
        "\n",
        "# Set the plot labels\n",
        "fig.update_layout(xaxis_title='Word Rank', yaxis_title='Disease Severity')\n",
        "\n",
        "# Show the plot\n",
        "fig.show()\n"
      ]
    },
    {
      "cell_type": "markdown",
      "metadata": {
        "id": "RCE_GAmVZXdS"
      },
      "source": [
        "from the above code, make a dataframe with columns(word, as_active, as_inactive, ranks):\n",
        "word: words from the above word\n",
        "as_active: ranks of these words when found in Active_df(contains all the clinical notes for active patients)\n",
        "as_inactive: ranks of these words when found in Inactive_df(contains all the clinical notes for inactive patients)\n",
        "ranks: ranks from the above code"
      ]
    },
    {
      "cell_type": "code",
      "execution_count": null,
      "metadata": {
        "id": "JrNKQie6UeV4"
      },
      "outputs": [],
      "source": [
        "import pandas as pd\n",
        "from gensim.models import Word2Vec\n",
        "from nltk.tokenize import word_tokenize\n",
        "import numpy as np\n",
        "\n",
        "# List of clinical notes\n",
        "clinical_notes_active = Active_df['Exam_Notes'].tolist()\n",
        "clinical_notes_inactive = Inactive_df['Exam_Notes'].tolist()\n",
        "\n",
        "# Tokenize the clinical notes\n",
        "tokenized_notes_active = [word_tokenize(note.lower()) for note in clinical_notes_active]\n",
        "tokenized_notes_inactive = [word_tokenize(note.lower()) for note in clinical_notes_inactive]\n",
        "\n",
        "# Train the Word2Vec model\n",
        "model = Word2Vec(tokenized_notes_active + tokenized_notes_inactive, min_count=1)\n",
        "\n",
        "# Calculate word rankings based on occurrence and similarity\n",
        "word_occurrence = {}\n",
        "word_rankings = {}\n",
        "\n",
        "for note in tokenized_notes_active:\n",
        "    for word in note:\n",
        "        if word not in word_occurrence:\n",
        "            word_occurrence[word] = 1\n",
        "        else:\n",
        "            word_occurrence[word] += 1\n",
        "        if word not in word_rankings:\n",
        "            word_embeddings = [model.wv[word] for word in note if word in model.wv]\n",
        "            word_rankings[word] = (np.mean(word_embeddings) * (1 / word_occurrence[word]))*100\n",
        "\n",
        "# Sort the words based on their rankings\n",
        "sorted_words = sorted(word_rankings, key=word_rankings.get, reverse=True)\n",
        "\n",
        "# Create the DataFrame with columns 'word' and active__ranks\n",
        "data = {\n",
        "    'word': sorted_words,\n",
        "    'active__ranks': [word_rankings[word] for word in sorted_words]\n",
        "}\n",
        "\n",
        "ranks_active_df = pd.DataFrame(data)"
      ]
    },
    {
      "cell_type": "code",
      "execution_count": null,
      "metadata": {
        "id": "5ay759aLbf-T"
      },
      "outputs": [],
      "source": [
        "import pandas as pd\n",
        "from gensim.models import Word2Vec\n",
        "from nltk.tokenize import word_tokenize\n",
        "import numpy as np\n",
        "\n",
        "# List of clinical notes\n",
        "clinical_notes_active = Active_df['Exam_Notes'].tolist()\n",
        "clinical_notes_inactive = Inactive_df['Exam_Notes'].tolist()\n",
        "\n",
        "# Tokenize the clinical notes\n",
        "tokenized_notes_active = [word_tokenize(note.lower()) for note in clinical_notes_active]\n",
        "tokenized_notes_inactive = [word_tokenize(note.lower()) for note in clinical_notes_inactive]\n",
        "\n",
        "# Train the Word2Vec model\n",
        "model = Word2Vec(tokenized_notes_active + tokenized_notes_inactive, min_count=1)\n",
        "\n",
        "# Calculate word rankings based on occurrence and similarity\n",
        "word_occurrence = {}\n",
        "word_rankings = {}\n",
        "\n",
        "for note in tokenized_notes_inactive:\n",
        "    for word in note:\n",
        "        if word not in word_occurrence:\n",
        "            word_occurrence[word] = 1\n",
        "        else:\n",
        "            word_occurrence[word] += 1\n",
        "        if word not in word_rankings:\n",
        "            word_embeddings = [model.wv[word] for word in note if word in model.wv]\n",
        "            word_rankings[word] = (np.mean(word_embeddings) * (1 / word_occurrence[word]))*100\n",
        "\n",
        "# Sort the words based on their rankings\n",
        "sorted_words = sorted(word_rankings, key=word_rankings.get, reverse=True)\n",
        "\n",
        "# Create the DataFrame with columns 'word' and inactive__ranks\n",
        "data = {\n",
        "    'word': sorted_words,\n",
        "    'inactive__ranks': [word_rankings[word] for word in sorted_words]\n",
        "}\n",
        "\n",
        "ranks_inactive_df = pd.DataFrame(data)"
      ]
    },
    {
      "cell_type": "code",
      "execution_count": null,
      "metadata": {
        "colab": {
          "base_uri": "https://localhost:8080/",
          "height": 423
        },
        "id": "tTowQbWyz3Co",
        "outputId": "798e7d9b-795e-48fc-ae9f-a8c355a64cea"
      },
      "outputs": [],
      "source": [
        "ranks_active_df"
      ]
    },
    {
      "cell_type": "code",
      "execution_count": null,
      "metadata": {
        "colab": {
          "base_uri": "https://localhost:8080/",
          "height": 423
        },
        "id": "hBqt0v5sz3AT",
        "outputId": "6f94a69f-7960-4ffb-b0e3-6bf5022056e6"
      },
      "outputs": [],
      "source": [
        "ranks_inactive_df"
      ]
    },
    {
      "cell_type": "code",
      "execution_count": null,
      "metadata": {
        "id": "8qZ7ZhEfcoSS"
      },
      "outputs": [],
      "source": [
        "merged_df = ranks_active_df.merge(ranks_inactive_df, on='word', how='left')\n"
      ]
    },
    {
      "cell_type": "code",
      "execution_count": null,
      "metadata": {
        "id": "kJhcjHxkcsev"
      },
      "outputs": [],
      "source": [
        "merged_df = merged_df.fillna(0)\n"
      ]
    },
    {
      "cell_type": "code",
      "execution_count": null,
      "metadata": {
        "id": "RsXVr6lwhA51"
      },
      "outputs": [],
      "source": [
        "merged_df.to_csv(\"Ranks_merged_df.csv\")"
      ]
    },
    {
      "cell_type": "code",
      "execution_count": null,
      "metadata": {
        "colab": {
          "base_uri": "https://localhost:8080/",
          "height": 423
        },
        "id": "VMwpTk34d-jd",
        "outputId": "740fa451-1498-4c9a-aafd-3d0d8df7b981"
      },
      "outputs": [],
      "source": [
        "from gensim.models import Word2Vec\n",
        "from nltk.tokenize import word_tokenize\n",
        "import numpy as np\n",
        "\n",
        "# List of inactive patient's clinical notes\n",
        "inactive_notes = Inactive_df['Exam_Notes'].tolist()\n",
        "\n",
        "# Tokenize the inactive patient's clinical notes\n",
        "tokenized_inactive_notes = [word_tokenize(note.lower()) for note in inactive_notes]\n",
        "\n",
        "# Calculate word rankings based on occurrence and similarity for inactive patient's clinical notes\n",
        "word_occurrence_inactive = {}\n",
        "word_rankings_inactive = {}\n",
        "\n",
        "for note in tokenized_inactive_notes:\n",
        "    for word in note:\n",
        "        if word not in word_occurrence_inactive:\n",
        "            word_occurrence_inactive[word] = 1\n",
        "        else:\n",
        "            word_occurrence_inactive[word] += 1\n",
        "        if word not in word_rankings_inactive:\n",
        "            word_embeddings_inactive = [model.wv[word] for word in note if word in model.wv]\n",
        "            word_rankings_inactive[word] = np.mean(word_embeddings_inactive) * (1 / word_occurrence_inactive[word])\n",
        "\n",
        "# Sort the words based on their rankings for inactive patient's clinical notes\n",
        "sorted_words_inactive = sorted(word_rankings_inactive, key=word_rankings_inactive.get, reverse=True)\n",
        "\n",
        "# Create a DataFrame with word, rank in active patient's clinical notes, rank in inactive patient's clinical notes\n",
        "df_inactive_ranks = pd.DataFrame({'Word': sorted_words_inactive, 'Inactive_Rank': [word_rankings_inactive[word]*100 for word in sorted_words_inactive]})\n",
        "df_inactive_ranks"
      ]
    },
    {
      "cell_type": "code",
      "execution_count": null,
      "metadata": {
        "colab": {
          "base_uri": "https://localhost:8080/",
          "height": 423
        },
        "id": "iP7qxIEMn4k6",
        "outputId": "d6712073-5277-4876-fefa-7086ac0336f5"
      },
      "outputs": [],
      "source": [
        "from collections import Counter\n",
        "\n",
        "# Combine active and inactive clinical notes into a single list\n",
        "all_notes = clinical_notes_active + clinical_notes_inactive\n",
        "\n",
        "# Tokenize all clinical notes\n",
        "tokenized_all_notes = [word_tokenize(note.lower()) for note in all_notes]\n",
        "\n",
        "# Count the occurrences of each word\n",
        "word_counts = Counter(word for note in tokenized_all_notes for word in note)\n",
        "\n",
        "# Create a DataFrame with word and frequency columns\n",
        "df_word_freq = pd.DataFrame({'word': word_counts.keys(), 'Frequency': word_counts.values()})\n",
        "\n",
        "# Sort the DataFrame by frequency in descending order\n",
        "df_word_freq = df_word_freq.sort_values('Frequency', ascending=False)\n",
        "\n",
        "\n",
        "df_word_freq"
      ]
    },
    {
      "cell_type": "code",
      "execution_count": null,
      "metadata": {
        "colab": {
          "base_uri": "https://localhost:8080/"
        },
        "id": "eQqgT52DoVjd",
        "outputId": "f538db39-d1bc-46c0-b103-ee566160979c"
      },
      "outputs": [
        {
          "data": {
            "text/plain": [
              "19918"
            ]
          },
          "execution_count": 154,
          "metadata": {},
          "output_type": "execute_result"
        }
      ],
      "source": [
        "merged_df_freq_ranks = merged_df.merge(df_word_freq, on='word', how='left')\n",
        "max(merged_df_freq_ranks['Frequency'])"
      ]
    },
    {
      "cell_type": "code",
      "execution_count": null,
      "metadata": {
        "colab": {
          "base_uri": "https://localhost:8080/",
          "height": 828
        },
        "id": "lpWHB52mywvP",
        "outputId": "1f97d7f0-a03b-4243-c323-4797764fa4c6"
      },
      "outputs": [],
      "source": [
        "merged_df_freq_ranks"
      ]
    },
    {
      "cell_type": "code",
      "execution_count": null,
      "metadata": {
        "id": "yejLKA4Zq-9w"
      },
      "outputs": [],
      "source": [
        "merged_df_freq_ranks.to_csv(\"Ranks_merged_Freq_df.csv\")"
      ]
    },
    {
      "cell_type": "code",
      "execution_count": null,
      "metadata": {
        "colab": {
          "base_uri": "https://localhost:8080/",
          "height": 542
        },
        "id": "UawuVX1Vz27Y",
        "outputId": "a938b55d-de26-4dd3-b595-8a38da574f51"
      },
      "outputs": [
        {
          "data": {
            "text/html": [
              "<html>\n",
              "<head><meta charset=\"utf-8\" /></head>\n",
              "<body>\n",
              "    <div>            <script src=\"https://cdnjs.cloudflare.com/ajax/libs/mathjax/2.7.5/MathJax.js?config=TeX-AMS-MML_SVG\"></script><script type=\"text/javascript\">if (window.MathJax && window.MathJax.Hub && window.MathJax.Hub.Config) {window.MathJax.Hub.Config({SVG: {font: \"STIX-Web\"}});}</script>                <script type=\"text/javascript\">window.PlotlyConfig = {MathJaxConfig: 'local'};</script>\n",
              "        <script src=\"https://cdn.plot.ly/plotly-2.18.2.min.js\"></script>                <div id=\"da2cd2a9-c124-4a71-be59-704acb389a6c\" class=\"plotly-graph-div\" style=\"height:525px; width:100%;\"></div>            <script type=\"text/javascript\">                                    window.PLOTLYENV=window.PLOTLYENV || {};                                    if (document.getElementById(\"da2cd2a9-c124-4a71-be59-704acb389a6c\")) {                    Plotly.newPlot(                        \"da2cd2a9-c124-4a71-be59-704acb389a6c\",                        [{\"hovertemplate\":\"active__ranks=%{x}<br>inactive__ranks=%{marker.color}<br>word=%{text}<extra></extra>\",\"legendgroup\":\"\",\"marker\":{\"color\":[1.93815678358078,0.531331729143858,0.531331729143858,-1.1245261877775192,-1.1245261877775192,0.6767175160348415,0.0,0.0,0.0,1.8727533519268036,1.9055860117077827,1.9055860117077827,1.93815678358078,0.531331729143858,0.531331729143858,0.531331729143858,1.3593998737633228,1.1983852833509445,1.93815678358078,1.1983852833509445,1.6558805480599403,0.0,1.6558805480599403,-0.07658944232389331,1.6558805480599403,1.3655598275363445,1.6558805480599403,-0.698654493317008,-1.1245261877775192,1.6558805480599403,1.93815678358078,1.93815678358078,1.93815678358078,1.6558805480599403,0.0,1.3655598275363445,1.3655598275363445,1.3655598275363445,1.1737704277038574,2.033536322414875,0.5979151930660009,1.93815678358078,0.0,1.9055860117077827,1.93815678358078,1.93815678358078,1.93815678358078,1.93815678358078,1.93815678358078,0.531331729143858,1.5450840815901756,0.0,-0.9075547568500042,1.93815678358078,1.93815678358078,1.93815678358078,1.4896228909492493,0.0,1.1737704277038574,1.6558805480599403,0.0,0.0,1.3655598275363445,0.0,-1.3537591323256493,0.0,0.0,1.93815678358078,1.93815678358078,1.93815678358078,1.93815678358078,1.93815678358078,1.5535790473222733,0.531331729143858,1.9055860117077827,0.0,0.0,0.9093577973544598,1.5530727803707123,1.8357392400503159,0.0,1.93815678358078,1.93815678358078,1.93815678358078,1.93815678358078,1.93815678358078,1.93815678358078,1.4214670285582542,1.4214670285582542,1.93815678358078,1.93815678358078,1.93815678358078,1.93815678358078,1.93815678358078,1.93815678358078,1.93815678358078,1.93815678358078,1.93815678358078,1.93815678358078,1.93815678358078,1.93815678358078,1.93815678358078,1.93815678358078,1.93815678358078,1.93815678358078,1.93815678358078,1.93815678358078,1.93815678358078,1.93815678358078,1.93815678358078,1.93815678358078,1.93815678358078,1.93815678358078,1.93815678358078,1.93815678358078,1.93815678358078,1.93815678358078,1.93815678358078,1.93815678358078,1.93815678358078,1.93815678358078,1.93815678358078,1.93815678358078,1.93815678358078,1.93815678358078,1.93815678358078,1.6558805480599403,1.6558805480599403,1.93815678358078,1.93815678358078,1.93815678358078,1.93815678358078,1.6558805480599403,1.93815678358078,1.93815678358078,1.93815678358078,1.93815678358078,1.93815678358078,1.93815678358078,1.8727533519268036,1.93815678358078,1.93815678358078,1.93815678358078,1.93815678358078,1.93815678358078,1.93815678358078,1.93815678358078,1.93815678358078,1.93815678358078,1.93815678358078,1.93815678358078,1.93815678358078,1.93815678358078,1.5535790473222733,1.5535790473222733,1.537446677684784,1.93815678358078,1.9055860117077827,0.531331729143858,1.9055860117077827,0.0,1.5450840815901756,1.93815678358078,1.93815678358078,0.531331729143858,0.531331729143858,1.3593998737633228,1.93815678358078,0.9184176102280617,0.8356847800314426,1.93815678358078,0.0,-0.9859340265393257,0.0,0.9184176102280617,0.9184176102280617,0.0,1.93815678358078,0.531331729143858,1.93815678358078,0.531331729143858,0.0,1.93815678358078,0.8356847800314426,1.93815678358078,1.93815678358078,1.93815678358078,1.93815678358078,1.93815678358078,1.93815678358078,1.93815678358078,1.93815678358078,1.93815678358078,1.93815678358078,1.93815678358078,1.93815678358078,1.93815678358078,1.5535790473222733,0.0,0.0,0.0,0.0,1.93815678358078,1.93815678358078,0.5979151930660009,0.5979151930660009,0.5979151930660009,1.9055860117077827,0.0,1.4000484719872475,-1.770062930881977,0.0,0.0,0.0,0.0,0.0,0.0,1.6558805480599403,0.0,0.0,0.0,0.0,0.0,0.0,0.0,0.0,1.8727533519268036,0.0,0.0,0.0,0.0,0.0,1.8347794190049171,0.0,0.0,1.6558805480599403,0.0,0.0,0.0,0.0,0.0,0.0,0.5979151930660009,1.6558805480599403,1.6558805480599403,0.0,0.0,0.0,0.0,1.6558805480599403,0.0,1.6558805480599403,0.0,1.93815678358078,0.531331729143858,0.0,0.0,0.0,0.0,1.1983852833509445,1.1983852833509445,1.430046372115612,0.0,1.8347794190049171,1.93815678358078,0.0,0.0,0.0,0.0,1.93815678358078,1.4896228909492493,1.4896228909492493,0.0,0.0,0.0,0.0,0.0,0.0,0.0,0.0,0.0,0.0,0.0,0.0,0.0,-0.7321791723370552,0.0,1.3593998737633228,0.0,-1.2304957956075668,0.0,0.0,0.0,1.6558805480599403,0.0,0.0,1.4896228909492493,0.0,0.0,0.0,0.0,0.0,1.6558805480599403,0.0,0.0,0.0,0.5979151930660009,0.0,0.0,2.033536322414875,0.0,0.0,0.0,0.0,0.0,0.0,0.0,0.0,0.0,0.0,0.0,0.0,0.0,-1.8744248896837234,1.8347794190049171,1.1983852833509445,1.6558805480599403,0.0,1.3655598275363445,1.6558805480599403,0.0,0.0,0.0,0.0,0.0,0.0,1.9055860117077827,0.0,0.0,0.0,0.0,0.0,0.0,-0.784526951611042,0.0,0.0,2.033536322414875,0.0,1.93815678358078,1.93815678358078,1.8347794190049171,1.1983852833509445,1.4000256545841694,1.1983852833509445,1.1983852833509445,1.1983852833509445,1.1983852833509445,1.1983852833509445,0.0,0.0,2.033536322414875,2.033536322414875,0.0,0.0,0.0,0.0,0.0,2.033536322414875,0.0,0.0,0.0,0.0,0.0,0.0,0.0,0.0,0.0,0.0,1.8347794190049171,1.8347794190049171,0.0,0.0,1.5535790473222733,1.5535790473222733,0.0,1.8347794190049171,0.0,-0.698654493317008,1.537446677684784,1.5535790473222733,1.5535790473222733,0.0,1.8347794190049171,0.0,0.0,0.0,-1.284197624772787,0.8356847800314426,1.6558805480599403,0.0,0.0,0.0,0.0,0.0,1.4896228909492493,0.0,1.4896228909492493,1.4896228909492493,1.93815678358078,1.537446677684784,0.0,1.5535790473222733,1.5535790473222733,1.9055860117077827,1.93815678358078,1.93815678358078,0.531331729143858,0.531331729143858,1.140790432691574,0.0,0.8356847800314426,1.93815678358078,1.93815678358078,1.1983852833509445,1.1983852833509445,1.1983852833509445,1.4000484719872475,1.8347794190049171,2.033536322414875,0.9184176102280617,0.0,0.0,0.8356847800314426,0.8356847800314426,1.1983852833509445,0.531331729143858,0.531331729143858,0.531331729143858,0.6767175160348415,0.6767175160348415,0.6767175160348415,1.1983852833509445,1.1983852833509445,0.6767175160348415,0.6767175160348415,0.6767175160348415,1.1983852833509445,0.6767175160348415,1.1983852833509445,1.1983852833509445,1.1983852833509445,1.1983852833509445,1.1983852833509445,1.1983852833509445,1.1983852833509445,1.1983852833509445,1.1983852833509445,1.1983852833509445,0.6767175160348415,1.5535790473222733,1.5535790473222733,1.5530727803707123,0.0,1.6712073236703873,1.6712073236703873,1.3655598275363445,0.5979151930660009,0.0,1.3468372635543346,1.93815678358078,1.93815678358078,0.6767175160348415,1.93815678358078,0.0,1.9055860117077827,0.0,0.0,1.5530727803707123,1.93815678358078,1.5530727803707123,0.0,0.0,2.033536322414875,1.6558805480599403,1.3593998737633228,0.8356847800314426,1.1737704277038574,1.1737704277038574,1.1737704277038574,0.6767175160348415,1.1737704277038574,-1.0477668605744839,-1.0477668605744839,-1.0477668605744839,-1.0477668605744839,-1.0477668605744839,0.0,0.531331729143858,0.0,0.0,0.0,0.0,0.0,1.1737704277038574,0.0,0.0,0.0,0.0,0.6767175160348415,0.6767175160348415,1.591278426349163,0.0,0.0,0.0,1.270492561161518,1.1737704277038574,1.1737704277038574,1.1737704277038574,1.1737704277038574,1.1737704277038574,1.140790432691574,1.5530727803707123,1.5530727803707123,0.0,1.8347794190049171,-0.666345888748765,1.3593998737633228,1.5530727803707123,1.6558805480599403,1.6558805480599403,1.6558805480599403,0.0,0.0,1.6558805480599403,1.316862367093563,1.316862367093563,-0.992379616945982,1.591278426349163,0.0,0.0,1.140790432691574,0.9184176102280617,0.0,-1.5635523945093155,0.0,0.0,-1.0818774811923504,0.013455183943733573,0.013455183943733573,-1.0818774811923504,0.0,-1.5442226082086563,-1.572331041097641,1.4896228909492493,1.4896228909492493,1.4896228909492493,1.4896228909492493,1.4896228909492493,0.531331729143858,1.1737704277038574,0.531331729143858,1.9055860117077827,0.531331729143858,0.531331729143858,1.4896228909492493,0.0,0.9184176102280617,0.0,0.0,0.0,1.4896228909492493,1.4896228909492493,1.4896228909492493,0.0,0.0,-1.7692914232611656,0.0,0.0,0.0,0.0,1.4896228909492493,0.0,0.0,0.0,1.4214670285582542,0.0,1.8347794190049171,-1.5101118013262749,0.0,1.6558805480599403,0.0,1.5530727803707123,0.0,0.0,0.0,0.0,0.0,0.0,0.0,0.0,0.0,0.0,0.0,0.0,0.0,0.0,0.0,0.0,0.0,0.0,0.0,0.0,0.0,0.0,0.0,1.6558805480599403,0.0,0.9184176102280617,0.6767175160348415,0.9184176102280617,0.9184176102280617,-0.07658944232389331,-0.07658944232389331,-0.4594439174979925,-0.6579244043678045,-1.0818774811923504,0.0,-1.193040143698454,0.0,0.0,0.0,-0.477851927280426,-0.1533716917037964,0.0,0.09367478778585792,0.09367478778585792,-0.9360704571008682,1.5535790473222733,-2.0141545683145523,-0.9656199254095554,-0.698654493317008,-1.0818774811923504,-1.3526152819395065,0.0,0.531331729143858,0.0,0.0,0.0,0.0,0.0,1.591278426349163,0.0,0.0,1.1737704277038574,0.0,-1.7909683287143707,0.0,0.0,0.0,1.6558805480599403,0.0,0.0,0.0,0.0,-0.9360704571008682,-0.07658944232389331,-1.0018689557909966,0.0,0.0,-1.3318877667188644,-1.0152922943234444,-0.666345888748765,0.0,-1.0152922943234444,0.0,-1.0477668605744839,-1.0477668605744839,-1.572331041097641,-1.0608548298478127,-0.07658944232389331,-0.07658944232389331,-0.07658944232389331,-0.666345888748765,-0.666345888748765,-0.9607706218957901,-0.9607706218957901,-0.7321791723370552,1.4000256545841694,-1.0183481499552727,0.0,0.0,-1.7692914232611656,0.0,0.0,-1.7358651384711266,-1.0018689557909966,1.537446677684784,-0.9133354760706425,1.6558805480599403,-1.046466175466776,-1.770062930881977,-2.0368970930576324,-2.0368970930576324,1.93815678358078,1.93815678358078,0.6767175160348415,1.93815678358078,1.93815678358078,0.0,-1.0212656110525131,-1.0212656110525131,-1.1323991231620312,-0.6579244043678045,-1.0402858257293701,0.0,-1.8744248896837234,-0.7619789335876703,-0.7619789335876703,1.93815678358078,-0.7040446624159813,-0.8803888224065304,-0.8965984918177128,0.0,-0.8430337533354759,-0.992379616945982,-0.992379616945982,0.0,-1.0152922943234444,-2.0368970930576324,-1.0152922943234444,-1.0152922943234444,1.93815678358078,-1.0152922943234444,-1.0152922943234444,0.0,1.6558805480599403,-0.8873860351741314,-0.8430337533354759,-1.217073481529951,-0.8638260886073112,-0.8693881332874298,-1.122412085533142,-1.209696102887392,-1.0527289472520351,-1.4635495841503143,-1.5101118013262749,-1.4635495841503143,-1.4635495841503143,-0.9075547568500042,-0.9075547568500042,-0.9075547568500042,-0.9075547568500042,-0.9075547568500042,-0.9075547568500042,-0.9075547568500042,0.0,0.0,-1.0978689417243004,-0.784526951611042,-0.784526951611042,-1.3954375870525837,-1.2801485136151314,-0.9075547568500042,-0.9075547568500042,-1.0234503075480461,-0.7321791723370552,-0.7321791723370552,0.0,1.3468372635543346,1.6558805480599403,-0.698654493317008,-1.5984270721673965,0.0,-0.8430337533354759,-1.7468851059675217,-0.9530302137136459,-0.9530302137136459,-0.8430337533354759,-0.8430337533354759,-0.8430337533354759,-1.4650623314082623,-1.4650623314082623,-0.8430337533354759,-0.8430337533354759,-0.8430337533354759,-1.0527289472520351,0.0,-0.8996567688882351,-0.8996567688882351,0.0,0.0,-1.1860606260597706,-1.0018689557909966,-0.7168329786509275,0.0,1.93815678358078,1.93815678358078,1.93815678358078,0.0,0.0,0.0,-1.1360395699739456,0.0,-1.0527289472520351,-0.6629223469644785,-0.9048118256032467,-0.992379616945982,-0.992379616945982,-0.9972650557756424,-0.9972650557756424,0.0,-1.0527289472520351,-1.0527289472520351,-0.7275828160345554,-0.9859340265393257,-0.9397781454026699,-0.992379616945982,-0.992379616945982,0.0,-1.0018689557909966,0.0,0.0,0.0,-1.5984270721673965,-0.698654493317008,0.0,-1.0527289472520351,-1.0527289472520351,-1.0527289472520351,-1.0527289472520351,1.9055860117077827,0.0,-0.992379616945982,-0.992379616945982,-0.992379616945982,-1.572331041097641,-1.1389797553420067,-1.1394643224775791,-1.0527289472520351,-0.9835699573159218,-1.0527289472520351,-1.0527289472520351,-1.0527289472520351,-1.0527289472520351,-1.0527289472520351,-1.284197624772787,-1.0527289472520351,-1.0018689557909966,-2.0368970930576324,-1.0527289472520351,-1.0527289472520351,-1.0527289472520351,-1.0527289472520351,-0.8430337533354759,-1.10990721732378,-1.10990721732378,-0.8430337533354759,-1.217073481529951,-1.217073481529951,-1.0527289472520351,-1.0527289472520351,-1.0527289472520351,-1.0527289472520351,-1.0527289472520351,-1.0527289472520351,-1.0527289472520351,-0.9835699573159218,-0.9835699573159218,-1.0527289472520351,-1.0527289472520351,-0.8430337533354759,-1.0527289472520351,-1.0527289472520351,-1.0527289472520351,-1.0527289472520351,-1.0527289472520351,-1.0527289472520351,-1.0527289472520351,-1.0527289472520351,-1.0527289472520351,-1.0527289472520351,-1.0527289472520351,-1.0527289472520351,-1.0527289472520351,-1.0527289472520351,-1.0527289472520351,-1.0527289472520351,-0.992379616945982,-0.992379616945982,-0.8873860351741314,-0.8873860351741314,-0.8873860351741314,-0.992379616945982,-1.5881853178143501,-1.5881853178143501,-1.5881853178143501,-1.3178839348256588,-1.0527289472520351,-1.0527289472520351,-1.284197624772787,-1.0527289472520351,-1.0527289472520351,-1.0527289472520351,-1.0527289472520351,-1.0527289472520351,-1.0527289472520351,-1.0527289472520351,-1.0527289472520351,-1.0527289472520351,-1.0527289472520351,-1.0527289472520351,-1.0527289472520351,-1.0527289472520351,-1.0527289472520351,-1.0527289472520351,-1.0527289472520351,-1.0527289472520351,-0.8430337533354759,-1.0527289472520351,-1.0527289472520351,-1.0527289472520351,-1.0527289472520351,-1.0527289472520351,-1.0527289472520351,-0.9530302137136459,-0.9530302137136459,-0.9530302137136459,-1.0527289472520351,-1.0527289472520351,-1.0527289472520351,-1.0527289472520351,-1.0527289472520351,-1.0527289472520351,-0.992379616945982,-1.5881853178143501,0.0,-1.09170600771904,-1.09170600771904,-1.0018689557909966,-1.0512621141970158,-1.0018689557909966,-1.315490249544382,-0.7059104740619659,0.0,-1.0212656110525131,0.0,-0.9859340265393257,-1.2255752459168434,-1.2255752459168434,-1.0207920335233212,-1.0207920335233212,-0.9972650557756424,0.0,-0.9509332478046417,1.591278426349163,-1.5442226082086563,0.0,0.0,-1.0207920335233212,-1.0207920335233212,-1.0207920335233212,0.0,-1.5442226082086563,0.0,-1.1389797553420067,-0.784526951611042,-0.784526951611042,-1.7154151573777199,0.0,-1.046466175466776,-1.0527289472520351,-1.0527289472520351,-1.0527289472520351,-1.0527289472520351,-1.0527289472520351,-1.0527289472520351,-1.0527289472520351,-1.0527289472520351,-1.0527289472520351,-1.0527289472520351,-1.0527289472520351,-1.208583079278469,-1.217073481529951,-1.217073481529951,-1.0527289472520351,-1.0527289472520351,-0.7003545295447111,-0.9530302137136459,-1.0527289472520351,-1.0527289472520351,0.0,-0.9859340265393257,-0.9859340265393257,-1.0207920335233212,-0.8430337533354759,0.0,-1.155775599181652,-1.217073481529951,-0.9835699573159218,-0.9835699573159218,-0.9835699573159218,-0.9835699573159218,-0.9835699573159218,-0.9835699573159218,-0.8873860351741314,-0.8873860351741314,-0.8873860351741314,-1.1360395699739456,-1.1360395699739456,0.0,0.0,-1.7358651384711266,-1.7358651384711266,0.20613332744687796,-0.7003545295447111,1.1983852833509445,-2.0368970930576324,-2.021542936563492,-1.8722152337431908,0.0,-1.0207920335233212,-1.0207920335233212,-1.0207920335233212,-1.7358651384711266,-2.0368970930576324,-2.0368970930576324,-2.0368970930576324,0.0,-1.770062930881977,-1.770062930881977,-0.8469658903777599,-1.2892712838947773,-1.2892712838947773,-1.2892712838947773,-1.2892712838947773,-1.2892712838947773,-0.8996567688882351,-1.284197624772787,1.1737704277038574,0.5979151930660009,-2.0368970930576324,-1.1793381534516811,0.0,0.0,-0.4908523987978697,1.93815678358078,1.93815678358078,-0.3208883572369814,-1.5984270721673965,-1.5984270721673965,-1.5984270721673965,-1.5984270721673965,-1.7100954428315163,-0.8803888224065304,1.8727533519268036,0.0,-0.4594439174979925,0.0,0.0,-0.7003545295447111,-1.4635495841503143,-1.4635495841503143,-1.7154151573777199,0.0,-1.3855818659067154,-1.5984270721673965,0.0,-1.2316475622355938,-1.284197624772787,-1.1335722170770168,-1.564851775765419,0.0,0.0,0.0,-0.7216414902359247,0.0,0.0,0.0,-2.0368970930576324,0.0,0.0,0.0,-0.8469658903777599,0.0,1.5530727803707123,0.0,-0.6206405349075794,-0.6206405349075794,0.531331729143858,0.0,-1.4597597531974316,-2.0368970930576324,-1.4597597531974316,0.0,-0.7619789335876703,-0.7321791723370552,-1.3473203405737877,-1.3473203405737877,-1.4597597531974316,0.0,0.0,0.0,0.0,1.537446677684784,-1.4635495841503143,1.93815678358078,1.6558805480599403,0.0,-1.0477668605744839,0.0,-1.4650623314082623,-1.1304405517876148,1.591278426349163,1.591278426349163,-1.0152922943234444,0.0,0.0,-2.0368970930576324,0.0,-1.478993333876133,-1.478993333876133,-1.572331041097641,-1.5881853178143501,-0.8469658903777599,-1.0018689557909966,-1.0018689557909966,-1.8722152337431908,-1.8722152337431908,-0.698654493317008,1.6558805480599403,-1.5632657334208488,-2.130066230893135,-1.9243452697992325,-1.284197624772787,-1.0207920335233212,-1.0207920335233212,-1.3526152819395065,-1.3526152819395065,-1.3526152819395065],\"coloraxis\":\"coloraxis\",\"symbol\":\"circle\"},\"mode\":\"markers\",\"name\":\"\",\"showlegend\":false,\"text\":[\"hybrid\",\"446\",\"4c729g446\",\"known\",\"dysplasia\",\"random\",\"invisible\",\"dysplastic\",\"550\",\"100\",\"skin\",\"tags\",\"prostate\",\"size\",\"shape\",\"consistency\",\"localized\",\"characterized\",\"mm\",\"proximal\",\"flat\",\"unsuccessfully\",\"injected\",\"10\",\"ml\",\"saline\",\"lift\",\"polypectomy\",\"removed\",\"hot\",\"snare\",\"resection\",\"retrieval\",\"distal\",\"piecemeal\",\"technique\",\"fulguration\",\"ablate\",\"successful\",\"ulcerated\",\"35\",\"cm\",\"scattered\",\"rectosigmoid\",\"nonbleeding\",\"internal\",\"nonthrombosed\",\"anoscopy\",\"prolapse\",\"patchy\",\"scarred\",\"ileitisileal\",\"x\",\"one\",\"resected\",\"retrieved\",\"treatment\",\"injection\",\"due\",\"unable\",\"remove\",\"initally\",\"treated\",\"around\",\"ulcer\",\"base\",\"looked\",\"ibuprofen\",\"naproxen\",\"nonsteroidal\",\"antiinflammatory\",\"drugs\",\"weeks\",\"months\",\"increase\",\"mercaptopurine\",\"100mg\",\"adenomatous\",\"tissue\",\"consider\",\"colectomy\",\"take\",\"including\",\"advil\",\"motrin\",\"nuprin\",\"four\",\"121\",\"2c738g121\",\"introduced\",\"anus\",\"terminal\",\"identification\",\"appendiceal\",\"orifice\",\"ileocecal\",\"valve\",\"physical\",\"s\",\"tolerance\",\"also\",\"risks\",\"benefits\",\"options\",\"discussed\",\"questions\",\"answered\",\"informed\",\"taken\",\"antiplatelet\",\"agents\",\"ii\",\"mild\",\"systemic\",\"reviewing\",\"deemed\",\"satisfactory\",\"condition\",\"undergo\",\"difficulty\",\"evaluated\",\"using\",\"boston\",\"scale\",\"scores\",\"right\",\"minor\",\"amount\",\"residual\",\"staining\",\"small\",\"fragments\",\"andor\",\"opaque\",\"liquid\",\"transverse\",\"equals\",\"dose\",\"iv\",\"300\",\"lidocaine\",\"50\",\"digital\",\"examinations\",\"pertinent\",\"negatives\",\"include\",\"abnormality\",\"palpable\",\"lesions\",\"sphincter\",\"tone\",\"appeared\",\"papillae\",\"hypertrophied\",\"diffuse\",\"area\",\"moderately\",\"erythematous\",\"inflamed\",\"eroded\",\"nodular\",\"found\",\"cecum\",\"ascending\",\"descending\",\"throughout\",\"sent\",\"inflammation\",\"graded\",\"moderate\",\"marked\",\"erythema\",\"absent\",\"friability\",\"erosions\",\"focused\",\"rectum\",\"sigmoid\",\"portion\",\"biopsied\",\"active\",\"ambulatory\",\"advance\",\"w\",\"recommendations\",\"responsible\",\"designated\",\"activities\",\"tomorrow\",\"available\",\"emergencies\",\"signs\",\"symptoms\",\"potential\",\"provided\",\"may\",\"need\",\"make\",\"jak\",\"inhibitors\",\"future\",\"discharged\",\"waiting\",\"intention\",\"advancing\",\"aborted\",\"400\",\"carpetlike\",\"medium\",\"scar\",\"protuberance\",\"colonlarge\",\"renttear\",\"stenotic\",\"pus\",\"coming\",\"incomplete\",\"study\",\"concern\",\"pulling\",\"pushing\",\"setting\",\"23\",\"rectumrectosigmoid\",\"ok\",\"except\",\"ap\",\"150\",\"ast\",\"62\",\"22\",\"immune\",\"b\",\"remaining\",\"ultrasound\",\"read\",\"records\",\"usf\",\"empiric\",\"flagyl\",\"oral\",\"completeness\",\"largo\",\"center\",\"er\",\"painfever\",\"develop\",\"cell\",\"lavage\",\"despite\",\"day\",\"extensive\",\"done\",\"constipation\",\"colonpatchymayo\",\"tc\",\"gluten\",\"free\",\"122\",\"2c738g122\",\"350\",\"ephedrine\",\"15mg\",\"mildly\",\"1302023\",\"4pm\",\"needs\",\"updated\",\"labs\",\"quantaferon\",\"gold\",\"xeljanz\",\"22mg\",\"lr\",\"todays\",\"asymptomatic\",\"received\",\"shingles\",\"vaccine\",\"506\",\"4c729g506\",\"lactoferrin\",\"calprotectin\",\"650\",\"stricture\",\"semipedunculated\",\"retained\",\"pills\",\"dre\",\"slip\",\"normalcy\",\"dc\",\"ac\",\"failing\",\"infusions\",\"along\",\"shells\",\"patulous\",\"ic\",\"taper\",\"20mg\",\"days\",\"10mg\",\"injections\",\"e\",\"given\",\"courtesy\",\"rx\",\"xifaxan\",\"200mg\",\"travelers\",\"going\",\"africa\",\"ana\",\"asma\",\"ama\",\"alpha\",\"antitrypsin\",\"ceruloplasmin\",\"qu\",\"elevated\",\"alt\",\"lab\",\"meds\",\"diverticular\",\"spasm\",\"peridiverticular\",\"canal\",\"diverticulum\",\"anastamosis\",\"neo\",\"thru\",\"come\",\"sleep\",\"apnea\",\"fat\",\"please\",\"ordered\",\"stools\",\"metfor\",\"metformin\",\"topical\",\"use\",\"helpful\",\"traverse\",\"scarring\",\"region\",\"290\",\"4c729g290\",\"ileocolonic\",\"anastomosis\",\"endtoside\",\"patent\",\"intact\",\"staple\",\"line\",\"traversed\",\"pan\",\"skip\",\"malodorous\",\"flatus\",\"persistent\",\"elevation\",\"crpesr\",\"ferritin\",\"sat\",\"skyrizi\",\"trial\",\"500mg\",\"treating\",\"esophageal\",\"ulcers\",\"viral\",\"ebv\",\"hsv\",\"cmv\",\"mtx\",\"joint\",\"pains\",\"folic\",\"acid\",\"although\",\"switch\",\"back\",\"weekly\",\"b6\",\"family\",\"year\",\"regular\",\"stelara\",\"90mcg\",\"would\",\"loading\",\"infusion\",\"first\",\"clinically\",\"improved\",\"liver\",\"transplant\",\"insurance\",\"company\",\"refusing\",\"follow\",\"next\",\"ggt\",\"oh\",\"vit\",\"every\",\"areas\",\"unusual\",\"noted\",\"incidental\",\"iii\",\"previously\",\"scheduled\",\"two\",\"recommended\",\"proctosigmoid\",\"new\",\"compared\",\"hepatic\",\"flexure\",\"splenic\",\"largemouthed\",\"diverticula\",\"mediumsized\",\"congestion\",\"edema\",\"vascularity\",\"patches\",\"surrounded\",\"continuous\",\"circumferential\",\"decreased\",\"evaluation\",\"microscopic\",\"tiva\",\"mac\",\"ga\",\"necessary\",\"supervision\",\"crna\",\"determined\",\"medically\",\"based\",\"older\",\"cleared\",\"pre\",\"examination\",\"revealed\",\"contraindications\",\"id\",\"verification\",\"proposed\",\"verified\",\"anesthetist\",\"room\",\"sensitivities\",\"048\",\"2c738g048\",\"2c738g123\",\"contained\",\"benignappearing\",\"intrinsic\",\"stenosis\",\"nontraversed\",\"severely\",\"stigmata\",\"recent\",\"review\",\"medical\",\"mid\",\"confluent\",\"severe\",\"spontaneous\",\"worsened\",\"diminutive\",\"sessile\",\"five\",\"pending\",\"clinical\",\"course\",\"tortuous\",\"body\",\"habitus\",\"completion\",\"aided\",\"manual\",\"identified\",\"2c738g117\",\"fh\",\"1st\",\"degree\",\"relative\",\"yrs\",\"firstdegree\",\"three\",\"heart\",\"rate\",\"respiratory\",\"oxygen\",\"saturations\",\"pressure\",\"adequacy\",\"pulmonary\",\"ventilation\",\"since\",\"556\",\"4c729g556\",\"good\",\"40cm\",\"30cm\",\"20cm\",\"2c738g115\",\"excessive\",\"external\",\"applied\",\"order\",\"accomplish\",\"aphthous\",\"comorbidity\",\"greater\",\"cologuard\",\"test\",\"positive\",\"significantly\",\"segmental\",\"hyperplastic\",\"applying\",\"increasing\",\"changing\",\"supine\",\"position\",\"withdrawing\",\"reinserting\",\"needed\",\"prn\",\"aphthae\",\"shallow\",\"ulcerations\",\"altered\",\"spared\",\"friable\",\"discuss\",\"biologics\",\"examined\",\"1fuji\",\"4c729g460\",\"fu\",\"531\",\"imported\",\"ct\",\"pelvis\",\"contrast\",\"scan\",\"computed\",\"tomography\",\"appointment\",\"abdomen\",\"eat\",\"low\",\"fiber\",\"perform\",\"stop\",\"sulfasalazine\",\"start\",\"12grams\",\"tapering\",\"schedule\",\"check\",\"cbc\",\"cmp\",\"crp\",\"esr\",\"studies\",\"b12\",\"folate\",\"quantife\",\"quantiferon\",\"tb\",\"hepatitis\",\"markers\",\"testing\",\"rule\",\"pathogens\",\"final\",\"path\",\"associate\",\"mizrahi\",\"whether\",\"large\",\"mass\",\"le\",\"could\",\"followed\",\"extremely\",\"aggressive\",\"concerned\",\"50cm\",\"appears\",\"maligcy\",\"looks\",\"like\",\"numerous\",\"colonrectum\",\"thick\",\"stalkpedunculated\",\"frondlikevillous\",\"nonobstructing\",\"noncircumferential\",\"mucus\",\"nodule\",\"posterior\",\"midline\",\"benign\",\"presumed\",\"secondary\",\"general\",\"505\",\"4c729g505\",\"fuji\",\"ec760rvl\",\"4c729g463\",\"record\",\"4c729g453\",\"melanosis\",\"2876294\",\"skinny\",\"566\",\"98\",\"p910\",\"4c729g469\",\"88\",\"7\",\"4c729g451\",\"proctosigmoiditis\",\"entyvio\",\"vedolizumab\",\"110\",\"86\",\"4\",\"40\",\"5723\",\"upper\",\"2855868\",\"cipro\",\"500\",\"functional\",\"118\",\"ileal\",\"visualized\",\"5690\",\"117\",\"gastrointestinal\",\"ibdu\",\"blank\",\"space\",\"report\",\"additional\",\"info\",\"mental\",\"status\",\"vital\",\"66\",\"4c729g467\",\"generalized\",\"postsurgical\",\"anatomy\",\"2876269\",\"change\",\"stool\",\"caliber\",\"habits\",\"113\",\"personal\",\"history\",\"surgeon\",\"92\",\"iron\",\"deficiency\",\"anemia\",\"complete\",\"grade\",\"abnormal\",\"perianal\",\"diphenhydramine\",\"lipoma\",\"distant\",\"relatives\",\"84\",\"prednisone\",\"30\",\"5714\",\"aphtha\",\"office\",\"obtain\",\"precise\",\"diagnosis\",\"5868\",\"111\",\"propofol\",\"per\",\"consent\",\"obtained\",\"hp\",\"allergies\",\"reviewed\",\"95\",\"evidence\",\"surgery\",\"0625\",\"4c729g470\",\"0666\",\"6088\",\"tests\",\"anticoags\",\"antiplatelets\",\"anal\",\"5674\",\"meet\",\"p674\",\"1889\",\"specimens\",\"advanced\",\"unassisted\",\"104\",\"lialda\",\"mesalamine\",\"12\",\"gm\",\"3\",\"daily\",\"generic\",\"mri\",\"68\",\"0649\",\"followup\",\"0655\",\"5695\",\"5742\",\"4686\",\"69\",\"granularity\",\"cfhq190l\",\"2876279\",\"deep\",\"sedation\",\"8478\",\"rn\",\"o2\",\"hr\",\"bp\",\"rtc\",\"reassessment\",\"drug\",\"3619\",\"portions\",\"biopsycold\",\"forcepsmicroscopic\",\"116\",\"0466\",\"fentanyl\",\"midazolam\",\"simple\",\"conscious\",\"administration\",\"hydrocortisone\",\"suppository\",\"25\",\"2\",\"pr\",\"5689\",\"egd\",\"established\",\"leftsided\",\"chronic\",\"home\",\"referring\",\"physician\",\"mucosal\",\"abnormalities\",\"quality\",\"bowel\",\"prep\",\"minimal\",\"tear\",\"comorbidities\",\"excision\",\"4c729g454\",\"5236\",\"106\",\"107\",\"c\",\"difficile\",\"colorectal\",\"maligt\",\"neoplasm\",\"clear\",\"gifh190\",\"2855830\",\"5881\",\"2041\",\"5844\",\"5726\",\"4690\",\"4695colon\",\"ped\",\"otherwise\",\"retroflexion\",\"0627\",\"ibd\",\"psc\",\"5683\",\"polyps\",\"0628colon\",\"giquic\",\"data\",\"3423\",\"diarrhea\",\"vancocin\",\"vancomycin\",\"125\",\"mg\",\"po\",\"qid\",\"uc\",\"mayo\",\"endo\",\"score\",\"congested\",\"exudate\",\"fellows\",\"endoscopic\",\"skills\",\"referral\",\"gastroenterologist\",\"5890\",\"endoscopes\",\"5879\",\"colon\",\"undefined\",\"complications\",\"immediate\",\"indication\",\"unexplained\",\"gi\",\"bleeding\",\"hematochezia\",\"high\",\"risk\",\"cancer\",\"surveillance\",\"ulcerative\",\"left\",\"sided\",\"colitis\",\"8\",\"years\",\"medication\",\"see\",\"anesthesia\",\"note\",\"documentation\",\"administered\",\"medications\",\"monitored\",\"care\",\"recommendation\",\"discharge\",\"driving\",\"diet\",\"continue\",\"present\",\"repeat\",\"colonoscopy\",\"contact\",\"number\",\"delayed\",\"return\",\"activity\",\"written\",\"instructions\",\"await\",\"pathology\",\"results\",\"impression\",\"diverticulosis\",\"seen\",\"single\",\"colonic\",\"polyp\",\"biopsy\",\"cold\",\"forceps\",\"histology\",\"hemorrhoids\",\"normal\",\"ileum\",\"mucosa\",\"attending\",\"dr\",\"participation\",\"personally\",\"performed\",\"entire\",\"difficultytolerance\",\"bbps\",\"difficult\",\"tolerated\",\"well\",\"landmarks\",\"photographed\",\"estimated\",\"blood\",\"loss\",\"ebl\",\"none\",\"maneuver\",\"profile\",\"age\",\"gender\",\"date\",\"last\",\"h\",\"p\",\"chart\",\"preanesthesia\",\"assessment\",\"shortcut\",\"asa\",\"anticoagulants\",\"findings\",\"finding\",\"go\",\"6726\",\"asge\",\"qi\",\"primary\",\"109\",\"rectal\",\"511\",\"58\",\"3641\",\"0669\",\"2840992\",\"0630\",\"multiple\",\"method\",\"polypoid\",\"lesion\",\"5735\",\"0034\",\"pcfh190l\",\"accomplished\",\"wease\",\"variable\",\"stopping\",\"entocort\",\"ec\",\"budesonide\",\"94\",\"374\",\"tumor\",\"erosion\",\"6\",\"4c729g456\",\"2840985\",\"ustekinumab\",\"pseudopolyps\",\"without\",\"definitions\",\"magnification\",\"narrow\",\"band\",\"imaging\",\"previous\",\"anticoagulant\",\"clinic\",\"perianalrectal\",\"exam\",\"5829\",\"pancolitis\",\"duration\",\"criteria\",\"met\",\"inflammatory\",\"disease\",\"background\",\"biopsies\",\"79\",\"preparation\",\"fair\",\"exclusion\",\"5693\",\"571\",\"0622\",\"pediatric\",\"resume\",\"index\",\"severity\",\"uceis\",\"total\",\"9\",\"prior\",\"aspirin\",\"nsaid\",\"determine\",\"extent\",\"5659\",\"1899\",\"remicade\",\"infliximab\",\"ulceration\",\"tattoo\",\"65\",\"olympus\",\"loaner\",\"adult\",\"568\",\"assess\",\"therapeutic\",\"response\",\"therapy\",\"post\",\"op\",\"orders\",\"uceris\",\"vascular\",\"pattern\",\"99\",\"bentyl\",\"dicyclomine\",\"bid\",\"specify\",\"site\",\"3131\",\"significant\",\"looping\",\"barium\",\"enema\",\"47\",\"airway\",\"3560\",\"67\",\"weight\",\"5\",\"4c729g468\",\"canasa\",\"1000\",\"1\",\"qhs\",\"124\",\"fairly\",\"adenoma\",\"105\",\"proctitis\",\"refer\",\"lrc\",\"telephone\",\"nurse\",\"practitioner\",\"pcfh190dl\",\"2840997\",\"115\",\"hemorrhage\",\"2855825\",\"5846\",\"origin\",\"ileitis\",\"144\",\"asacol\",\"hd\",\"800\",\"tabs\",\"tid\",\"colazal\",\"balsalazide\",\"rowasa\",\"suppositories\",\"2758\",\"90\",\"quadrant\",\"2200196\",\"123\",\"enterography\",\"video\",\"capsule\",\"endoscopy\",\"cortenema\",\"pedi\",\"scope\",\"764\",\"4319\",\"5848\",\"crohns\",\"onethird\",\"involved\",\"technically\",\"0672\",\"january\",\"2018\",\"endoscopist\",\"inadequate\",\"2876285\",\"screening\",\"increased\",\"father\",\"60\",\"4969cfh180al\",\"529\",\"0636\",\"flexible\",\"sigmoidoscopy\",\"poor\",\"251\",\"micro\",\"008\",\"77\",\"pcfq180al\",\"2603980\",\"tract\",\"apriso\",\"lower\",\"abdominal\",\"pain\",\"colonoscope\",\"025\",\"avoidance\",\"20\",\"aspirinnsaid\",\"intestine\",\"somewhat\",\"152\",\"humira\",\"adalimumab\",\"sq\",\"q\",\"week\"],\"x\":[1.9533662125468254,1.9533662125468254,1.9533662125468254,1.9533662125468254,1.9533662125468254,1.9533662125468254,1.9533662125468254,1.9533662125468254,1.9533662125468254,1.9533662125468254,1.9533662125468254,1.9533662125468254,1.9533662125468254,1.9533662125468254,1.9533662125468254,1.9533662125468254,1.9533662125468254,1.9533662125468254,1.9533662125468254,1.9533662125468254,1.9533662125468254,1.9533662125468254,1.9533662125468254,1.9533662125468254,1.9533662125468254,1.9533662125468254,1.9533662125468254,1.9533662125468254,1.9533662125468254,1.9533662125468254,1.9533662125468254,1.9533662125468254,1.9533662125468254,1.9533662125468254,1.9533662125468254,1.9533662125468254,1.9533662125468254,1.9533662125468254,1.9533662125468254,1.9533662125468254,1.9533662125468254,1.9533662125468254,1.9533662125468254,1.9533662125468254,1.9533662125468254,1.9533662125468254,1.9533662125468254,1.9533662125468254,1.9533662125468254,1.9533662125468254,1.9533662125468254,1.9533662125468254,1.9533662125468254,1.9533662125468254,1.9533662125468254,1.9533662125468254,1.9533662125468254,1.9533662125468254,1.9533662125468254,1.9533662125468254,1.9533662125468254,1.9533662125468254,1.9533662125468254,1.9533662125468254,1.9533662125468254,1.9533662125468254,1.9533662125468254,1.9533662125468254,1.9533662125468254,1.9533662125468254,1.9533662125468254,1.9533662125468254,1.9533662125468254,1.9533662125468254,1.9533662125468254,1.9533662125468254,1.9533662125468254,1.9533662125468254,1.9533662125468254,1.9533662125468254,1.9533662125468254,1.9533662125468254,1.9533662125468254,1.9533662125468254,1.9533662125468254,1.9533662125468254,1.9533662125468254,1.899312250316143,1.899312250316143,1.899312250316143,1.899312250316143,1.899312250316143,1.899312250316143,1.899312250316143,1.899312250316143,1.899312250316143,1.899312250316143,1.899312250316143,1.899312250316143,1.899312250316143,1.899312250316143,1.899312250316143,1.899312250316143,1.899312250316143,1.899312250316143,1.899312250316143,1.899312250316143,1.899312250316143,1.899312250316143,1.899312250316143,1.899312250316143,1.899312250316143,1.899312250316143,1.899312250316143,1.899312250316143,1.899312250316143,1.899312250316143,1.899312250316143,1.899312250316143,1.899312250316143,1.899312250316143,1.899312250316143,1.899312250316143,1.899312250316143,1.899312250316143,1.899312250316143,1.899312250316143,1.899312250316143,1.899312250316143,1.899312250316143,1.899312250316143,1.899312250316143,1.899312250316143,1.899312250316143,1.899312250316143,1.899312250316143,1.899312250316143,1.899312250316143,1.899312250316143,1.899312250316143,1.899312250316143,1.899312250316143,1.899312250316143,1.899312250316143,1.899312250316143,1.899312250316143,1.899312250316143,1.899312250316143,1.899312250316143,1.899312250316143,1.899312250316143,1.899312250316143,1.899312250316143,1.899312250316143,1.899312250316143,1.899312250316143,1.899312250316143,1.899312250316143,1.899312250316143,1.899312250316143,1.899312250316143,1.899312250316143,1.899312250316143,1.899312250316143,1.899312250316143,1.899312250316143,1.899312250316143,1.899312250316143,1.899312250316143,1.899312250316143,1.899312250316143,1.899312250316143,1.899312250316143,1.899312250316143,1.899312250316143,1.899312250316143,1.899312250316143,1.899312250316143,1.899312250316143,1.899312250316143,1.899312250316143,1.899312250316143,1.899312250316143,1.899312250316143,1.899312250316143,1.899312250316143,1.899312250316143,1.899312250316143,1.899312250316143,1.899312250316143,1.899312250316143,1.899312250316143,1.899312250316143,1.899312250316143,1.899312250316143,1.899312250316143,1.899312250316143,1.899312250316143,1.899312250316143,1.899312250316143,1.899312250316143,1.899312250316143,1.899312250316143,1.899312250316143,1.7824675887823105,1.7824675887823105,1.7824675887823105,1.7824675887823105,1.7824675887823105,1.7824675887823105,1.7824675887823105,1.7824675887823105,1.7824675887823105,1.7824675887823105,1.7824675887823105,1.7824675887823105,1.7824675887823105,1.7824675887823105,1.7824675887823105,1.7824675887823105,1.7824675887823105,1.7824675887823105,1.7824675887823105,1.7824675887823105,1.7824675887823105,1.7824675887823105,1.7824675887823105,1.7824675887823105,1.7824675887823105,1.7824675887823105,1.7824675887823105,1.7824675887823105,1.7824675887823105,1.7824675887823105,1.7824675887823105,1.7824675887823105,1.7824675887823105,1.7824675887823105,1.7824675887823105,1.7824675887823105,1.7824675887823105,1.7824675887823105,1.7824675887823105,1.7824675887823105,1.7824675887823105,1.7824675887823105,1.7824675887823105,1.7824675887823105,1.7824675887823105,1.6047289595007896,1.6047289595007896,1.6047289595007896,1.6047289595007896,1.6047289595007896,1.6047289595007896,1.6047289595007896,1.6047289595007896,1.6047289595007896,1.6047289595007896,1.592225395143032,1.592225395143032,1.592225395143032,1.592225395143032,1.592225395143032,1.592225395143032,1.592225395143032,1.592225395143032,1.592225395143032,1.592225395143032,1.592225395143032,1.592225395143032,1.592225395143032,1.592225395143032,1.592225395143032,1.592225395143032,1.592225395143032,1.592225395143032,1.592225395143032,1.592225395143032,1.592225395143032,1.5351061709225178,1.5351061709225178,1.5351061709225178,1.5351061709225178,1.5351061709225178,1.5351061709225178,1.5351061709225178,1.5351061709225178,1.5351061709225178,1.5351061709225178,1.5351061709225178,1.5351061709225178,1.5351061709225178,1.5351061709225178,1.5351061709225178,1.5351061709225178,1.5351061709225178,1.5351061709225178,1.5351061709225178,1.5351061709225178,1.5351061709225178,1.5351061709225178,1.5351061709225178,1.5351061709225178,1.5351061709225178,1.5351061709225178,1.5351061709225178,1.5351061709225178,1.5351061709225178,1.5351061709225178,1.5351061709225178,1.5351061709225178,1.5351061709225178,1.5351061709225178,1.5351061709225178,1.5351061709225178,1.5351061709225178,1.5351061709225178,1.5351061709225178,1.5351061709225178,1.5351061709225178,1.5351061709225178,1.5351061709225178,1.5351061709225178,1.5351061709225178,1.4188910834491253,1.4188910834491253,1.4188910834491253,1.4188910834491253,1.4188910834491253,1.4188910834491253,1.4188910834491253,1.4188910834491253,1.4188910834491253,1.4188910834491253,1.4188910834491253,1.4188910834491253,1.4188910834491253,1.4188910834491253,1.4188910834491253,1.4188910834491253,1.4188910834491253,1.4188910834491253,1.4188910834491253,1.4188910834491253,1.4188910834491253,1.4188910834491253,1.4188910834491253,1.4188910834491253,1.4188910834491253,1.3750189915299416,1.3750189915299416,1.3750189915299416,1.3750189915299416,1.3750189915299416,1.3750189915299416,1.3750189915299416,1.3750189915299416,1.3750189915299416,1.3750189915299416,1.3750189915299416,1.3750189915299416,1.3750189915299416,1.3750189915299416,1.3750189915299416,1.3750189915299416,1.3750189915299416,1.3750189915299416,1.3750189915299416,1.3750189915299416,1.3750189915299416,1.3750189915299416,1.3750189915299416,1.3750189915299416,1.3750189915299416,1.3750189915299416,1.3750189915299416,1.3750189915299416,1.3750189915299416,1.3750189915299416,1.3750189915299416,1.3750189915299416,1.3750189915299416,1.3750189915299416,1.3750189915299416,1.3750189915299416,1.3750189915299416,1.2681547552347183,1.2681547552347183,1.2681547552347183,1.2681547552347183,1.2681547552347183,1.2681547552347183,1.2681547552347183,1.2681547552347183,1.2681547552347183,1.2681547552347183,1.2681547552347183,1.2681547552347183,1.2681547552347183,1.2681547552347183,1.2681547552347183,1.2681547552347183,1.2681547552347183,1.2681547552347183,1.2681547552347183,1.2681547552347183,1.2681547552347183,1.2681547552347183,1.2681547552347183,1.2681547552347183,1.2681547552347183,1.2681547552347183,1.2681547552347183,1.2276587076485157,1.2276587076485157,1.2276587076485157,1.2276587076485157,1.2276587076485157,1.2276587076485157,1.2276587076485157,1.2276587076485157,1.2276587076485157,1.2276587076485157,1.2276587076485157,1.2276587076485157,1.2276587076485157,1.2276587076485157,1.2276587076485157,1.2276587076485157,1.2276587076485157,1.2276587076485157,1.2276587076485157,1.2276587076485157,1.2276587076485157,1.2276587076485157,1.2276587076485157,1.2276587076485157,1.2276587076485157,1.2276587076485157,1.2276587076485157,1.2276587076485157,1.2276587076485157,1.2276587076485157,1.2276587076485157,1.2276587076485157,1.2276587076485157,1.2276587076485157,1.2276587076485157,1.2276587076485157,1.2276587076485157,1.2276587076485157,1.2276587076485157,1.2276587076485157,1.2276587076485157,1.2276587076485157,1.2276587076485157,1.2276587076485157,1.2276587076485157,1.2276587076485157,1.2276587076485157,1.2113594450056553,1.2113594450056553,1.2113594450056553,1.2113594450056553,1.2113594450056553,1.2113594450056553,1.2113594450056553,1.2113594450056553,1.2113594450056553,1.195753924548626,1.195753924548626,1.195753924548626,1.195753924548626,1.195753924548626,1.195753924548626,1.195753924548626,1.195753924548626,1.195753924548626,1.195753924548626,1.1240282095968723,1.1240282095968723,1.1240282095968723,1.1240282095968723,1.1240282095968723,1.1240282095968723,1.1240282095968723,1.1240282095968723,1.1240282095968723,1.1240282095968723,1.0484782047569752,1.0484782047569752,1.0484782047569752,1.0484782047569752,1.0484782047569752,1.0484782047569752,1.0484782047569752,1.0484782047569752,0.9223847649991512,0.9223847649991512,0.9223847649991512,0.9223847649991512,0.9223847649991512,0.9223847649991512,0.9223847649991512,0.9223847649991512,0.9223847649991512,0.9223847649991512,0.921651441603899,0.921651441603899,0.921651441603899,0.921651441603899,0.921651441603899,0.921651441603899,0.9142876602709293,0.9142876602709293,0.9142876602709293,0.9142876602709293,0.9142876602709293,0.9142876602709293,0.9142876602709293,0.8792157284915447,0.8792157284915447,0.8792157284915447,0.8792157284915447,0.8792157284915447,0.8792157284915447,0.8792157284915447,0.8792157284915447,0.8792157284915447,0.8792157284915447,0.8792157284915447,0.8792157284915447,0.8792157284915447,0.8792157284915447,0.8792157284915447,0.8792157284915447,0.8792157284915447,0.8453956805169582,0.7781679276376963,0.7781679276376963,0.7781679276376963,0.7781679276376963,0.7781679276376963,0.7781679276376963,0.7781679276376963,0.6694865878671408,0.6694865878671408,0.6694865878671408,0.6694865878671408,0.6661347579210997,0.6163462996482849,0.5677946377545595,0.5677946377545595,0.5677946377545595,0.5677946377545595,0.5677946377545595,0.5677946377545595,0.5677946377545595,0.5677946377545595,0.5677946377545595,0.5677946377545595,0.5677946377545595,0.5677946377545595,0.5677946377545595,0.5677946377545595,0.5677946377545595,0.5677946377545595,0.5677946377545595,0.5677946377545595,0.5677946377545595,0.5677946377545595,0.5677946377545595,0.5677946377545595,0.5677946377545595,0.5677946377545595,0.5677946377545595,0.5677946377545595,0.5677946377545595,0.5677946377545595,0.5677946377545595,0.5677946377545595,0.5677946377545595,0.5677946377545595,0.5677946377545595,0.5677946377545595,0.5677946377545595,0.5677946377545595,0.5677946377545595,0.5677946377545595,0.5677946377545595,0.5677946377545595,0.5677946377545595,0.5677946377545595,0.5677946377545595,0.5677946377545595,0.5677946377545595,0.5677946377545595,0.5677946377545595,0.5677946377545595,0.5677946377545595,0.5677946377545595,0.5677946377545595,0.5677946377545595,0.5677946377545595,0.5677946377545595,0.5677946377545595,0.5677946377545595,0.5677946377545595,0.5677946377545595,0.5677946377545595,0.5677946377545595,0.5677946377545595,0.5677946377545595,0.5677946377545595,0.5677946377545595,0.5677946377545595,0.5677946377545595,0.5677946377545595,0.5677946377545595,0.5677946377545595,0.3191162832081318,0.3191162832081318,0.3191162832081318,0.3191162832081318,0.2961901482194662,0.23218314163386822,0.23218314163386822,0.2289964584633708,0.2289964584633708,0.2099163131788373,0.0831806450150907,0.08056701626628637,0.06986883818171918,0.06603655056096613,0.06603655056096613,0.043276260839775205,0.043276260839775205,0.043276260839775205,0.03215499164070934,0.004743865429190919,0.004743865429190919,0.004743865429190919,-0.004373880437924527,-0.012415554374456406,-0.050809705862775445,-0.050809705862775445,-0.050809705862775445,-0.10072111617773771,-0.1112479018047452,-0.1112479018047452,-0.1112479018047452,-0.12538067530840635,-0.12629509437829256,-0.12629509437829256,-0.12956486316397786,-0.12956486316397786,-0.12956486316397786,-0.12956486316397786,-0.12956486316397786,-0.12956486316397786,-0.12956486316397786,-0.12956486316397786,-0.12956486316397786,-0.14109479961916804,-0.15256550395861268,-0.1687621115706861,-0.1815485768020153,-0.1815485768020153,-0.19373398972675204,-0.19373398972675204,-0.19373398972675204,-0.19373398972675204,-0.19373398972675204,-0.19506779499351978,-0.19506779499351978,-0.19506779499351978,-0.1982624176889658,-0.1998409628868103,-0.1998409628868103,-0.1998409628868103,-0.1998409628868103,-0.1998409628868103,-0.1998409628868103,-0.1998409628868103,-0.1998409628868103,-0.20154186058789492,-0.20827711559832096,-0.20827711559832096,-0.20827711559832096,-0.23226148914545774,-0.23226148914545774,-0.23226148914545774,-0.23585092276334763,-0.23702401667833328,-0.24844594299793243,-0.24844594299793243,-0.24844594299793243,-0.24844594299793243,-0.24844594299793243,-0.2510512713342905,-0.2510512713342905,-0.2510512713342905,-0.25704519357532263,-0.25704519357532263,-0.25704519357532263,-0.25704519357532263,-0.25704519357532263,-0.2604353940114379,-0.27375363279134035,-0.27375363279134035,-0.27375363279134035,-0.2880340442061424,-0.2995230024680495,-0.30169645324349403,-0.30893960501998663,-0.3103331197053194,-0.3103331197053194,-0.3113239537924528,-0.3162161447107792,-0.31682513654232025,-0.31682513654232025,-0.3235962940379977,-0.3235962940379977,-0.3235962940379977,-0.3235962940379977,-0.3484241897240281,-0.3484241897240281,-0.3484241897240281,-0.3484241897240281,-0.3484241897240281,-0.3484241897240281,-0.3484241897240281,-0.3484241897240281,-0.3494036849588156,-0.355411134660244,-0.364555767737329,-0.364555767737329,-0.36653445567935705,-0.3670822596177459,-0.3760246327146888,-0.38354042917490005,-0.387156312353909,-0.40884586051106453,-0.40884586051106453,-0.40884586051106453,-0.40884586051106453,-0.40884586051106453,-0.4231102764606476,-0.4231102764606476,-0.4231102764606476,-0.4231102764606476,-0.4231102764606476,-0.4231102764606476,-0.4231102764606476,-0.43410593643784523,-0.43914690613746643,-0.43914690613746643,-0.4558398388326168,-0.4558398388326168,-0.4558398388326168,-0.4642193205654621,-0.4661637358367443,-0.4661637358367443,-0.4661637358367443,-0.4661637358367443,-0.4661637358367443,-0.4682724364101887,-0.4682724364101887,-0.4682724364101887,-0.4682724364101887,-0.4682724364101887,-0.4702405072748661,-0.4702405072748661,-0.4702405072748661,-0.4702405072748661,-0.4702405072748661,-0.4702405072748661,-0.4702405072748661,-0.4702405072748661,-0.4702405072748661,-0.4702405072748661,-0.4702405072748661,-0.4702405072748661,-0.4702405072748661,-0.4702405072748661,-0.47396086156368256,-0.47779614105820656,-0.47779614105820656,-0.48375213518738747,-0.484479870647192,-0.4926395136862993,-0.49406830221414566,-0.49406830221414566,-0.49406830221414566,-0.4969804547727108,-0.4969804547727108,-0.4969804547727108,-0.5005807150155306,-0.501752644777298,-0.501752644777298,-0.5053266882896423,-0.5219530779868364,-0.5265802145004272,-0.5394515115767717,-0.5503328051418066,-0.5601168144494295,-0.5601168144494295,-0.5601168144494295,-0.5601168144494295,-0.5624864250421524,-0.5635433830320835,-0.5635433830320835,-0.5785771645605564,-0.5806639790534973,-0.5806639790534973,-0.5814992357045412,-0.5814992357045412,-0.586578156799078,-0.586578156799078,-0.586578156799078,-0.586578156799078,-0.586578156799078,-0.586578156799078,-0.586578156799078,-0.586578156799078,-0.586578156799078,-0.586578156799078,-0.586578156799078,-0.586578156799078,-0.586578156799078,-0.586578156799078,-0.586578156799078,-0.586578156799078,-0.586578156799078,-0.5942172836512327,-0.5942172836512327,-0.5949284881353378,-0.5991677287966013,-0.5991677287966013,-0.5991677287966013,-0.5991677287966013,-0.5991677287966013,-0.5991677287966013,-0.5991677287966013,-0.5991677287966013,-0.5991677287966013,-0.5991677287966013,-0.5991677287966013,-0.5991677287966013,-0.5991677287966013,-0.5991677287966013,-0.5991677287966013,-0.5991677287966013,-0.5991677287966013,-0.5991677287966013,-0.5991677287966013,-0.5991677287966013,-0.5991677287966013,-0.5991677287966013,-0.5991677287966013,-0.5991677287966013,-0.5991677287966013,-0.5991677287966013,-0.5991677287966013,-0.5991677287966013,-0.5991677287966013,-0.5991677287966013,-0.5991677287966013,-0.5991677287966013,-0.5991677287966013,-0.5991677287966013,-0.5991677287966013,-0.5991677287966013,-0.5991677287966013,-0.5991677287966013,-0.5991677287966013,-0.5991677287966013,-0.5991677287966013,-0.5991677287966013,-0.5991677287966013,-0.5991677287966013,-0.5991677287966013,-0.5991677287966013,-0.5991677287966013,-0.5991677287966013,-0.5991677287966013,-0.5991677287966013,-0.5991677287966013,-0.5991677287966013,-0.5991677287966013,-0.5991677287966013,-0.5991677287966013,-0.5991677287966013,-0.5991677287966013,-0.5991677287966013,-0.5991677287966013,-0.5991677287966013,-0.5991677287966013,-0.5991677287966013,-0.5991677287966013,-0.5991677287966013,-0.5991677287966013,-0.5991677287966013,-0.5991677287966013,-0.5991677287966013,-0.5991677287966013,-0.5991677287966013,-0.5991677287966013,-0.5991677287966013,-0.5991677287966013,-0.5991677287966013,-0.5991677287966013,-0.5991677287966013,-0.5991677287966013,-0.5991677287966013,-0.5991677287966013,-0.5991677287966013,-0.5991677287966013,-0.5991677287966013,-0.5991677287966013,-0.5991677287966013,-0.5991677287966013,-0.5991677287966013,-0.5991677287966013,-0.5991677287966013,-0.5991677287966013,-0.5991677287966013,-0.5991677287966013,-0.5991677287966013,-0.5991677287966013,-0.5991677287966013,-0.5991677287966013,-0.5991677287966013,-0.5991677287966013,-0.6046711932867765,-0.6046711932867765,-0.6046711932867765,-0.6081943865865469,-0.6081943865865469,-0.6081943865865469,-0.6245059426873922,-0.6250323727726936,-0.642860122025013,-0.6495505571365356,-0.6576143205165863,-0.660279393196106,-0.660279393196106,-0.660279393196106,-0.660279393196106,-0.660279393196106,-0.6615558639168739,-0.6663149688392878,-0.6663149688392878,-0.6663149688392878,-0.6663149688392878,-0.6663149688392878,-0.6663149688392878,-0.667736679315567,-0.667736679315567,-0.667736679315567,-0.667736679315567,-0.6725546438246965,-0.6811029743403196,-0.6837858352810144,-0.6837858352810144,-0.6837858352810144,-0.6873575039207935,-0.687685888260603,-0.6978534627705812,-0.7010958157479763,-0.7010958157479763,-0.7010958157479763,-0.7010958157479763,-0.7010958157479763,-0.7010958157479763,-0.7010958157479763,-0.7010958157479763,-0.7010958157479763,-0.7010958157479763,-0.7010958157479763,-0.7010958157479763,-0.7010958157479763,-0.7010958157479763,-0.7010958157479763,-0.7010958157479763,-0.7010958157479763,-0.7010958157479763,-0.7010958157479763,-0.7010958157479763,-0.7109045051038265,-0.714214751496911,-0.714214751496911,-0.7185390219092369,-0.7296028081327677,-0.7319894153624773,-0.7411886006593704,-0.7411886006593704,-0.7411886006593704,-0.7411886006593704,-0.7411886006593704,-0.7411886006593704,-0.7411886006593704,-0.7411886006593704,-0.7411886006593704,-0.7411886006593704,-0.7411886006593704,-0.7469804491847754,-0.7469804491847754,-0.7597154472023249,-0.7603291887789965,-0.764036551117897,-0.764036551117897,-0.7799960672855377,-0.7807173300534487,-0.7807173300534487,-0.7860678248107433,-0.7860678248107433,-0.7860678248107433,-0.7860678248107433,-0.7860678248107433,-0.7860678248107433,-0.7860678248107433,-0.7860678248107433,-0.7860678248107433,-0.7860678248107433,-0.7860678248107433,-0.7948489859700203,-0.7948489859700203,-0.7948489859700203,-0.797733198851347,-0.797733198851347,-0.797733198851347,-0.797733198851347,-0.797733198851347,-0.797733198851347,-0.8206858299672604,-0.8226684294641018,-0.8226684294641018,-0.8226684294641018,-0.8226684294641018,-0.8226684294641018,-0.8279121480882168,-0.8287746459245682,-0.8328474126756191,-0.8328474126756191,-0.8332664147019386,-0.8332664147019386,-0.8343188092112541,-0.8343188092112541,-0.8343188092112541,-0.8343188092112541,-0.8440938778221607,-0.8440938778221607,-0.8466856554150581,-0.8708690293133259,-0.8708690293133259,-0.8708690293133259,-0.8708690293133259,-0.8708690293133259,-0.8708690293133259,-0.8708690293133259,-0.872358214110136,-0.872358214110136,-0.8807039819657803,-0.8807039819657803,-0.8863447234034538,-0.8885406889021397,-0.8885406889021397,-0.9031892754137516,-0.9042591787874699,-0.9042591787874699,-0.9042591787874699,-0.9042591787874699,-0.9042591787874699,-0.9042591787874699,-0.9287013672292233,-0.9287013672292233,-0.9287013672292233,-0.9287013672292233,-0.9305106475949287,-0.9728924371302128,-0.9728924371302128,-0.9753765538334846,-1.0016602464020252,-1.0019348934292793,-1.0126077570021152,-1.0126077570021152,-1.0126077570021152,-1.014585793018341,-1.014585793018341,-1.014585793018341,-1.014585793018341,-1.032772846519947,-1.0359307751059532,-1.0359307751059532,-1.0359307751059532,-1.0359307751059532,-1.0359307751059532,-1.0485506616532803,-1.0485506616532803,-1.0485506616532803,-1.0485506616532803,-1.0485506616532803,-1.0541393421590328,-1.0541393421590328,-1.0541393421590328,-1.0541393421590328,-1.0541393421590328,-1.0551029816269875,-1.06259910389781,-1.0983189567923546,-1.0983189567923546,-1.0983189567923546,-1.0983189567923546,-1.134844683110714,-1.134844683110714,-1.135533396154642,-1.1369599029421806,-1.188728492707014,-1.188728492707014,-1.2125872075557709,-1.2161959894001484,-1.2161959894001484,-1.2161959894001484,-1.2161959894001484,-1.2371769174933434,-1.2371769174933434,-1.409995835274458,-1.409995835274458,-1.409995835274458,-1.4156321994960308,-1.41577972099185,-1.4537639915943146,-1.5150568448007107,-1.5150568448007107,-1.5150568448007107,-1.5150568448007107,-1.5150568448007107],\"xaxis\":\"x\",\"y\":[1.93815678358078,0.531331729143858,0.531331729143858,-1.1245261877775192,-1.1245261877775192,0.6767175160348415,0.0,0.0,0.0,1.8727533519268036,1.9055860117077827,1.9055860117077827,1.93815678358078,0.531331729143858,0.531331729143858,0.531331729143858,1.3593998737633228,1.1983852833509445,1.93815678358078,1.1983852833509445,1.6558805480599403,0.0,1.6558805480599403,-0.07658944232389331,1.6558805480599403,1.3655598275363445,1.6558805480599403,-0.698654493317008,-1.1245261877775192,1.6558805480599403,1.93815678358078,1.93815678358078,1.93815678358078,1.6558805480599403,0.0,1.3655598275363445,1.3655598275363445,1.3655598275363445,1.1737704277038574,2.033536322414875,0.5979151930660009,1.93815678358078,0.0,1.9055860117077827,1.93815678358078,1.93815678358078,1.93815678358078,1.93815678358078,1.93815678358078,0.531331729143858,1.5450840815901756,0.0,-0.9075547568500042,1.93815678358078,1.93815678358078,1.93815678358078,1.4896228909492493,0.0,1.1737704277038574,1.6558805480599403,0.0,0.0,1.3655598275363445,0.0,-1.3537591323256493,0.0,0.0,1.93815678358078,1.93815678358078,1.93815678358078,1.93815678358078,1.93815678358078,1.5535790473222733,0.531331729143858,1.9055860117077827,0.0,0.0,0.9093577973544598,1.5530727803707123,1.8357392400503159,0.0,1.93815678358078,1.93815678358078,1.93815678358078,1.93815678358078,1.93815678358078,1.93815678358078,1.4214670285582542,1.4214670285582542,1.93815678358078,1.93815678358078,1.93815678358078,1.93815678358078,1.93815678358078,1.93815678358078,1.93815678358078,1.93815678358078,1.93815678358078,1.93815678358078,1.93815678358078,1.93815678358078,1.93815678358078,1.93815678358078,1.93815678358078,1.93815678358078,1.93815678358078,1.93815678358078,1.93815678358078,1.93815678358078,1.93815678358078,1.93815678358078,1.93815678358078,1.93815678358078,1.93815678358078,1.93815678358078,1.93815678358078,1.93815678358078,1.93815678358078,1.93815678358078,1.93815678358078,1.93815678358078,1.93815678358078,1.93815678358078,1.93815678358078,1.93815678358078,1.93815678358078,1.6558805480599403,1.6558805480599403,1.93815678358078,1.93815678358078,1.93815678358078,1.93815678358078,1.6558805480599403,1.93815678358078,1.93815678358078,1.93815678358078,1.93815678358078,1.93815678358078,1.93815678358078,1.8727533519268036,1.93815678358078,1.93815678358078,1.93815678358078,1.93815678358078,1.93815678358078,1.93815678358078,1.93815678358078,1.93815678358078,1.93815678358078,1.93815678358078,1.93815678358078,1.93815678358078,1.93815678358078,1.5535790473222733,1.5535790473222733,1.537446677684784,1.93815678358078,1.9055860117077827,0.531331729143858,1.9055860117077827,0.0,1.5450840815901756,1.93815678358078,1.93815678358078,0.531331729143858,0.531331729143858,1.3593998737633228,1.93815678358078,0.9184176102280617,0.8356847800314426,1.93815678358078,0.0,-0.9859340265393257,0.0,0.9184176102280617,0.9184176102280617,0.0,1.93815678358078,0.531331729143858,1.93815678358078,0.531331729143858,0.0,1.93815678358078,0.8356847800314426,1.93815678358078,1.93815678358078,1.93815678358078,1.93815678358078,1.93815678358078,1.93815678358078,1.93815678358078,1.93815678358078,1.93815678358078,1.93815678358078,1.93815678358078,1.93815678358078,1.93815678358078,1.5535790473222733,0.0,0.0,0.0,0.0,1.93815678358078,1.93815678358078,0.5979151930660009,0.5979151930660009,0.5979151930660009,1.9055860117077827,0.0,1.4000484719872475,-1.770062930881977,0.0,0.0,0.0,0.0,0.0,0.0,1.6558805480599403,0.0,0.0,0.0,0.0,0.0,0.0,0.0,0.0,1.8727533519268036,0.0,0.0,0.0,0.0,0.0,1.8347794190049171,0.0,0.0,1.6558805480599403,0.0,0.0,0.0,0.0,0.0,0.0,0.5979151930660009,1.6558805480599403,1.6558805480599403,0.0,0.0,0.0,0.0,1.6558805480599403,0.0,1.6558805480599403,0.0,1.93815678358078,0.531331729143858,0.0,0.0,0.0,0.0,1.1983852833509445,1.1983852833509445,1.430046372115612,0.0,1.8347794190049171,1.93815678358078,0.0,0.0,0.0,0.0,1.93815678358078,1.4896228909492493,1.4896228909492493,0.0,0.0,0.0,0.0,0.0,0.0,0.0,0.0,0.0,0.0,0.0,0.0,0.0,-0.7321791723370552,0.0,1.3593998737633228,0.0,-1.2304957956075668,0.0,0.0,0.0,1.6558805480599403,0.0,0.0,1.4896228909492493,0.0,0.0,0.0,0.0,0.0,1.6558805480599403,0.0,0.0,0.0,0.5979151930660009,0.0,0.0,2.033536322414875,0.0,0.0,0.0,0.0,0.0,0.0,0.0,0.0,0.0,0.0,0.0,0.0,0.0,-1.8744248896837234,1.8347794190049171,1.1983852833509445,1.6558805480599403,0.0,1.3655598275363445,1.6558805480599403,0.0,0.0,0.0,0.0,0.0,0.0,1.9055860117077827,0.0,0.0,0.0,0.0,0.0,0.0,-0.784526951611042,0.0,0.0,2.033536322414875,0.0,1.93815678358078,1.93815678358078,1.8347794190049171,1.1983852833509445,1.4000256545841694,1.1983852833509445,1.1983852833509445,1.1983852833509445,1.1983852833509445,1.1983852833509445,0.0,0.0,2.033536322414875,2.033536322414875,0.0,0.0,0.0,0.0,0.0,2.033536322414875,0.0,0.0,0.0,0.0,0.0,0.0,0.0,0.0,0.0,0.0,1.8347794190049171,1.8347794190049171,0.0,0.0,1.5535790473222733,1.5535790473222733,0.0,1.8347794190049171,0.0,-0.698654493317008,1.537446677684784,1.5535790473222733,1.5535790473222733,0.0,1.8347794190049171,0.0,0.0,0.0,-1.284197624772787,0.8356847800314426,1.6558805480599403,0.0,0.0,0.0,0.0,0.0,1.4896228909492493,0.0,1.4896228909492493,1.4896228909492493,1.93815678358078,1.537446677684784,0.0,1.5535790473222733,1.5535790473222733,1.9055860117077827,1.93815678358078,1.93815678358078,0.531331729143858,0.531331729143858,1.140790432691574,0.0,0.8356847800314426,1.93815678358078,1.93815678358078,1.1983852833509445,1.1983852833509445,1.1983852833509445,1.4000484719872475,1.8347794190049171,2.033536322414875,0.9184176102280617,0.0,0.0,0.8356847800314426,0.8356847800314426,1.1983852833509445,0.531331729143858,0.531331729143858,0.531331729143858,0.6767175160348415,0.6767175160348415,0.6767175160348415,1.1983852833509445,1.1983852833509445,0.6767175160348415,0.6767175160348415,0.6767175160348415,1.1983852833509445,0.6767175160348415,1.1983852833509445,1.1983852833509445,1.1983852833509445,1.1983852833509445,1.1983852833509445,1.1983852833509445,1.1983852833509445,1.1983852833509445,1.1983852833509445,1.1983852833509445,0.6767175160348415,1.5535790473222733,1.5535790473222733,1.5530727803707123,0.0,1.6712073236703873,1.6712073236703873,1.3655598275363445,0.5979151930660009,0.0,1.3468372635543346,1.93815678358078,1.93815678358078,0.6767175160348415,1.93815678358078,0.0,1.9055860117077827,0.0,0.0,1.5530727803707123,1.93815678358078,1.5530727803707123,0.0,0.0,2.033536322414875,1.6558805480599403,1.3593998737633228,0.8356847800314426,1.1737704277038574,1.1737704277038574,1.1737704277038574,0.6767175160348415,1.1737704277038574,-1.0477668605744839,-1.0477668605744839,-1.0477668605744839,-1.0477668605744839,-1.0477668605744839,0.0,0.531331729143858,0.0,0.0,0.0,0.0,0.0,1.1737704277038574,0.0,0.0,0.0,0.0,0.6767175160348415,0.6767175160348415,1.591278426349163,0.0,0.0,0.0,1.270492561161518,1.1737704277038574,1.1737704277038574,1.1737704277038574,1.1737704277038574,1.1737704277038574,1.140790432691574,1.5530727803707123,1.5530727803707123,0.0,1.8347794190049171,-0.666345888748765,1.3593998737633228,1.5530727803707123,1.6558805480599403,1.6558805480599403,1.6558805480599403,0.0,0.0,1.6558805480599403,1.316862367093563,1.316862367093563,-0.992379616945982,1.591278426349163,0.0,0.0,1.140790432691574,0.9184176102280617,0.0,-1.5635523945093155,0.0,0.0,-1.0818774811923504,0.013455183943733573,0.013455183943733573,-1.0818774811923504,0.0,-1.5442226082086563,-1.572331041097641,1.4896228909492493,1.4896228909492493,1.4896228909492493,1.4896228909492493,1.4896228909492493,0.531331729143858,1.1737704277038574,0.531331729143858,1.9055860117077827,0.531331729143858,0.531331729143858,1.4896228909492493,0.0,0.9184176102280617,0.0,0.0,0.0,1.4896228909492493,1.4896228909492493,1.4896228909492493,0.0,0.0,-1.7692914232611656,0.0,0.0,0.0,0.0,1.4896228909492493,0.0,0.0,0.0,1.4214670285582542,0.0,1.8347794190049171,-1.5101118013262749,0.0,1.6558805480599403,0.0,1.5530727803707123,0.0,0.0,0.0,0.0,0.0,0.0,0.0,0.0,0.0,0.0,0.0,0.0,0.0,0.0,0.0,0.0,0.0,0.0,0.0,0.0,0.0,0.0,0.0,1.6558805480599403,0.0,0.9184176102280617,0.6767175160348415,0.9184176102280617,0.9184176102280617,-0.07658944232389331,-0.07658944232389331,-0.4594439174979925,-0.6579244043678045,-1.0818774811923504,0.0,-1.193040143698454,0.0,0.0,0.0,-0.477851927280426,-0.1533716917037964,0.0,0.09367478778585792,0.09367478778585792,-0.9360704571008682,1.5535790473222733,-2.0141545683145523,-0.9656199254095554,-0.698654493317008,-1.0818774811923504,-1.3526152819395065,0.0,0.531331729143858,0.0,0.0,0.0,0.0,0.0,1.591278426349163,0.0,0.0,1.1737704277038574,0.0,-1.7909683287143707,0.0,0.0,0.0,1.6558805480599403,0.0,0.0,0.0,0.0,-0.9360704571008682,-0.07658944232389331,-1.0018689557909966,0.0,0.0,-1.3318877667188644,-1.0152922943234444,-0.666345888748765,0.0,-1.0152922943234444,0.0,-1.0477668605744839,-1.0477668605744839,-1.572331041097641,-1.0608548298478127,-0.07658944232389331,-0.07658944232389331,-0.07658944232389331,-0.666345888748765,-0.666345888748765,-0.9607706218957901,-0.9607706218957901,-0.7321791723370552,1.4000256545841694,-1.0183481499552727,0.0,0.0,-1.7692914232611656,0.0,0.0,-1.7358651384711266,-1.0018689557909966,1.537446677684784,-0.9133354760706425,1.6558805480599403,-1.046466175466776,-1.770062930881977,-2.0368970930576324,-2.0368970930576324,1.93815678358078,1.93815678358078,0.6767175160348415,1.93815678358078,1.93815678358078,0.0,-1.0212656110525131,-1.0212656110525131,-1.1323991231620312,-0.6579244043678045,-1.0402858257293701,0.0,-1.8744248896837234,-0.7619789335876703,-0.7619789335876703,1.93815678358078,-0.7040446624159813,-0.8803888224065304,-0.8965984918177128,0.0,-0.8430337533354759,-0.992379616945982,-0.992379616945982,0.0,-1.0152922943234444,-2.0368970930576324,-1.0152922943234444,-1.0152922943234444,1.93815678358078,-1.0152922943234444,-1.0152922943234444,0.0,1.6558805480599403,-0.8873860351741314,-0.8430337533354759,-1.217073481529951,-0.8638260886073112,-0.8693881332874298,-1.122412085533142,-1.209696102887392,-1.0527289472520351,-1.4635495841503143,-1.5101118013262749,-1.4635495841503143,-1.4635495841503143,-0.9075547568500042,-0.9075547568500042,-0.9075547568500042,-0.9075547568500042,-0.9075547568500042,-0.9075547568500042,-0.9075547568500042,0.0,0.0,-1.0978689417243004,-0.784526951611042,-0.784526951611042,-1.3954375870525837,-1.2801485136151314,-0.9075547568500042,-0.9075547568500042,-1.0234503075480461,-0.7321791723370552,-0.7321791723370552,0.0,1.3468372635543346,1.6558805480599403,-0.698654493317008,-1.5984270721673965,0.0,-0.8430337533354759,-1.7468851059675217,-0.9530302137136459,-0.9530302137136459,-0.8430337533354759,-0.8430337533354759,-0.8430337533354759,-1.4650623314082623,-1.4650623314082623,-0.8430337533354759,-0.8430337533354759,-0.8430337533354759,-1.0527289472520351,0.0,-0.8996567688882351,-0.8996567688882351,0.0,0.0,-1.1860606260597706,-1.0018689557909966,-0.7168329786509275,0.0,1.93815678358078,1.93815678358078,1.93815678358078,0.0,0.0,0.0,-1.1360395699739456,0.0,-1.0527289472520351,-0.6629223469644785,-0.9048118256032467,-0.992379616945982,-0.992379616945982,-0.9972650557756424,-0.9972650557756424,0.0,-1.0527289472520351,-1.0527289472520351,-0.7275828160345554,-0.9859340265393257,-0.9397781454026699,-0.992379616945982,-0.992379616945982,0.0,-1.0018689557909966,0.0,0.0,0.0,-1.5984270721673965,-0.698654493317008,0.0,-1.0527289472520351,-1.0527289472520351,-1.0527289472520351,-1.0527289472520351,1.9055860117077827,0.0,-0.992379616945982,-0.992379616945982,-0.992379616945982,-1.572331041097641,-1.1389797553420067,-1.1394643224775791,-1.0527289472520351,-0.9835699573159218,-1.0527289472520351,-1.0527289472520351,-1.0527289472520351,-1.0527289472520351,-1.0527289472520351,-1.284197624772787,-1.0527289472520351,-1.0018689557909966,-2.0368970930576324,-1.0527289472520351,-1.0527289472520351,-1.0527289472520351,-1.0527289472520351,-0.8430337533354759,-1.10990721732378,-1.10990721732378,-0.8430337533354759,-1.217073481529951,-1.217073481529951,-1.0527289472520351,-1.0527289472520351,-1.0527289472520351,-1.0527289472520351,-1.0527289472520351,-1.0527289472520351,-1.0527289472520351,-0.9835699573159218,-0.9835699573159218,-1.0527289472520351,-1.0527289472520351,-0.8430337533354759,-1.0527289472520351,-1.0527289472520351,-1.0527289472520351,-1.0527289472520351,-1.0527289472520351,-1.0527289472520351,-1.0527289472520351,-1.0527289472520351,-1.0527289472520351,-1.0527289472520351,-1.0527289472520351,-1.0527289472520351,-1.0527289472520351,-1.0527289472520351,-1.0527289472520351,-1.0527289472520351,-0.992379616945982,-0.992379616945982,-0.8873860351741314,-0.8873860351741314,-0.8873860351741314,-0.992379616945982,-1.5881853178143501,-1.5881853178143501,-1.5881853178143501,-1.3178839348256588,-1.0527289472520351,-1.0527289472520351,-1.284197624772787,-1.0527289472520351,-1.0527289472520351,-1.0527289472520351,-1.0527289472520351,-1.0527289472520351,-1.0527289472520351,-1.0527289472520351,-1.0527289472520351,-1.0527289472520351,-1.0527289472520351,-1.0527289472520351,-1.0527289472520351,-1.0527289472520351,-1.0527289472520351,-1.0527289472520351,-1.0527289472520351,-1.0527289472520351,-0.8430337533354759,-1.0527289472520351,-1.0527289472520351,-1.0527289472520351,-1.0527289472520351,-1.0527289472520351,-1.0527289472520351,-0.9530302137136459,-0.9530302137136459,-0.9530302137136459,-1.0527289472520351,-1.0527289472520351,-1.0527289472520351,-1.0527289472520351,-1.0527289472520351,-1.0527289472520351,-0.992379616945982,-1.5881853178143501,0.0,-1.09170600771904,-1.09170600771904,-1.0018689557909966,-1.0512621141970158,-1.0018689557909966,-1.315490249544382,-0.7059104740619659,0.0,-1.0212656110525131,0.0,-0.9859340265393257,-1.2255752459168434,-1.2255752459168434,-1.0207920335233212,-1.0207920335233212,-0.9972650557756424,0.0,-0.9509332478046417,1.591278426349163,-1.5442226082086563,0.0,0.0,-1.0207920335233212,-1.0207920335233212,-1.0207920335233212,0.0,-1.5442226082086563,0.0,-1.1389797553420067,-0.784526951611042,-0.784526951611042,-1.7154151573777199,0.0,-1.046466175466776,-1.0527289472520351,-1.0527289472520351,-1.0527289472520351,-1.0527289472520351,-1.0527289472520351,-1.0527289472520351,-1.0527289472520351,-1.0527289472520351,-1.0527289472520351,-1.0527289472520351,-1.0527289472520351,-1.208583079278469,-1.217073481529951,-1.217073481529951,-1.0527289472520351,-1.0527289472520351,-0.7003545295447111,-0.9530302137136459,-1.0527289472520351,-1.0527289472520351,0.0,-0.9859340265393257,-0.9859340265393257,-1.0207920335233212,-0.8430337533354759,0.0,-1.155775599181652,-1.217073481529951,-0.9835699573159218,-0.9835699573159218,-0.9835699573159218,-0.9835699573159218,-0.9835699573159218,-0.9835699573159218,-0.8873860351741314,-0.8873860351741314,-0.8873860351741314,-1.1360395699739456,-1.1360395699739456,0.0,0.0,-1.7358651384711266,-1.7358651384711266,0.20613332744687796,-0.7003545295447111,1.1983852833509445,-2.0368970930576324,-2.021542936563492,-1.8722152337431908,0.0,-1.0207920335233212,-1.0207920335233212,-1.0207920335233212,-1.7358651384711266,-2.0368970930576324,-2.0368970930576324,-2.0368970930576324,0.0,-1.770062930881977,-1.770062930881977,-0.8469658903777599,-1.2892712838947773,-1.2892712838947773,-1.2892712838947773,-1.2892712838947773,-1.2892712838947773,-0.8996567688882351,-1.284197624772787,1.1737704277038574,0.5979151930660009,-2.0368970930576324,-1.1793381534516811,0.0,0.0,-0.4908523987978697,1.93815678358078,1.93815678358078,-0.3208883572369814,-1.5984270721673965,-1.5984270721673965,-1.5984270721673965,-1.5984270721673965,-1.7100954428315163,-0.8803888224065304,1.8727533519268036,0.0,-0.4594439174979925,0.0,0.0,-0.7003545295447111,-1.4635495841503143,-1.4635495841503143,-1.7154151573777199,0.0,-1.3855818659067154,-1.5984270721673965,0.0,-1.2316475622355938,-1.284197624772787,-1.1335722170770168,-1.564851775765419,0.0,0.0,0.0,-0.7216414902359247,0.0,0.0,0.0,-2.0368970930576324,0.0,0.0,0.0,-0.8469658903777599,0.0,1.5530727803707123,0.0,-0.6206405349075794,-0.6206405349075794,0.531331729143858,0.0,-1.4597597531974316,-2.0368970930576324,-1.4597597531974316,0.0,-0.7619789335876703,-0.7321791723370552,-1.3473203405737877,-1.3473203405737877,-1.4597597531974316,0.0,0.0,0.0,0.0,1.537446677684784,-1.4635495841503143,1.93815678358078,1.6558805480599403,0.0,-1.0477668605744839,0.0,-1.4650623314082623,-1.1304405517876148,1.591278426349163,1.591278426349163,-1.0152922943234444,0.0,0.0,-2.0368970930576324,0.0,-1.478993333876133,-1.478993333876133,-1.572331041097641,-1.5881853178143501,-0.8469658903777599,-1.0018689557909966,-1.0018689557909966,-1.8722152337431908,-1.8722152337431908,-0.698654493317008,1.6558805480599403,-1.5632657334208488,-2.130066230893135,-1.9243452697992325,-1.284197624772787,-1.0207920335233212,-1.0207920335233212,-1.3526152819395065,-1.3526152819395065,-1.3526152819395065],\"yaxis\":\"y\",\"type\":\"scattergl\",\"textposition\":\"top center\"}],                        {\"template\":{\"data\":{\"histogram2dcontour\":[{\"type\":\"histogram2dcontour\",\"colorbar\":{\"outlinewidth\":0,\"ticks\":\"\"},\"colorscale\":[[0.0,\"#0d0887\"],[0.1111111111111111,\"#46039f\"],[0.2222222222222222,\"#7201a8\"],[0.3333333333333333,\"#9c179e\"],[0.4444444444444444,\"#bd3786\"],[0.5555555555555556,\"#d8576b\"],[0.6666666666666666,\"#ed7953\"],[0.7777777777777778,\"#fb9f3a\"],[0.8888888888888888,\"#fdca26\"],[1.0,\"#f0f921\"]]}],\"choropleth\":[{\"type\":\"choropleth\",\"colorbar\":{\"outlinewidth\":0,\"ticks\":\"\"}}],\"histogram2d\":[{\"type\":\"histogram2d\",\"colorbar\":{\"outlinewidth\":0,\"ticks\":\"\"},\"colorscale\":[[0.0,\"#0d0887\"],[0.1111111111111111,\"#46039f\"],[0.2222222222222222,\"#7201a8\"],[0.3333333333333333,\"#9c179e\"],[0.4444444444444444,\"#bd3786\"],[0.5555555555555556,\"#d8576b\"],[0.6666666666666666,\"#ed7953\"],[0.7777777777777778,\"#fb9f3a\"],[0.8888888888888888,\"#fdca26\"],[1.0,\"#f0f921\"]]}],\"heatmap\":[{\"type\":\"heatmap\",\"colorbar\":{\"outlinewidth\":0,\"ticks\":\"\"},\"colorscale\":[[0.0,\"#0d0887\"],[0.1111111111111111,\"#46039f\"],[0.2222222222222222,\"#7201a8\"],[0.3333333333333333,\"#9c179e\"],[0.4444444444444444,\"#bd3786\"],[0.5555555555555556,\"#d8576b\"],[0.6666666666666666,\"#ed7953\"],[0.7777777777777778,\"#fb9f3a\"],[0.8888888888888888,\"#fdca26\"],[1.0,\"#f0f921\"]]}],\"heatmapgl\":[{\"type\":\"heatmapgl\",\"colorbar\":{\"outlinewidth\":0,\"ticks\":\"\"},\"colorscale\":[[0.0,\"#0d0887\"],[0.1111111111111111,\"#46039f\"],[0.2222222222222222,\"#7201a8\"],[0.3333333333333333,\"#9c179e\"],[0.4444444444444444,\"#bd3786\"],[0.5555555555555556,\"#d8576b\"],[0.6666666666666666,\"#ed7953\"],[0.7777777777777778,\"#fb9f3a\"],[0.8888888888888888,\"#fdca26\"],[1.0,\"#f0f921\"]]}],\"contourcarpet\":[{\"type\":\"contourcarpet\",\"colorbar\":{\"outlinewidth\":0,\"ticks\":\"\"}}],\"contour\":[{\"type\":\"contour\",\"colorbar\":{\"outlinewidth\":0,\"ticks\":\"\"},\"colorscale\":[[0.0,\"#0d0887\"],[0.1111111111111111,\"#46039f\"],[0.2222222222222222,\"#7201a8\"],[0.3333333333333333,\"#9c179e\"],[0.4444444444444444,\"#bd3786\"],[0.5555555555555556,\"#d8576b\"],[0.6666666666666666,\"#ed7953\"],[0.7777777777777778,\"#fb9f3a\"],[0.8888888888888888,\"#fdca26\"],[1.0,\"#f0f921\"]]}],\"surface\":[{\"type\":\"surface\",\"colorbar\":{\"outlinewidth\":0,\"ticks\":\"\"},\"colorscale\":[[0.0,\"#0d0887\"],[0.1111111111111111,\"#46039f\"],[0.2222222222222222,\"#7201a8\"],[0.3333333333333333,\"#9c179e\"],[0.4444444444444444,\"#bd3786\"],[0.5555555555555556,\"#d8576b\"],[0.6666666666666666,\"#ed7953\"],[0.7777777777777778,\"#fb9f3a\"],[0.8888888888888888,\"#fdca26\"],[1.0,\"#f0f921\"]]}],\"mesh3d\":[{\"type\":\"mesh3d\",\"colorbar\":{\"outlinewidth\":0,\"ticks\":\"\"}}],\"scatter\":[{\"fillpattern\":{\"fillmode\":\"overlay\",\"size\":10,\"solidity\":0.2},\"type\":\"scatter\"}],\"parcoords\":[{\"type\":\"parcoords\",\"line\":{\"colorbar\":{\"outlinewidth\":0,\"ticks\":\"\"}}}],\"scatterpolargl\":[{\"type\":\"scatterpolargl\",\"marker\":{\"colorbar\":{\"outlinewidth\":0,\"ticks\":\"\"}}}],\"bar\":[{\"error_x\":{\"color\":\"#2a3f5f\"},\"error_y\":{\"color\":\"#2a3f5f\"},\"marker\":{\"line\":{\"color\":\"#E5ECF6\",\"width\":0.5},\"pattern\":{\"fillmode\":\"overlay\",\"size\":10,\"solidity\":0.2}},\"type\":\"bar\"}],\"scattergeo\":[{\"type\":\"scattergeo\",\"marker\":{\"colorbar\":{\"outlinewidth\":0,\"ticks\":\"\"}}}],\"scatterpolar\":[{\"type\":\"scatterpolar\",\"marker\":{\"colorbar\":{\"outlinewidth\":0,\"ticks\":\"\"}}}],\"histogram\":[{\"marker\":{\"pattern\":{\"fillmode\":\"overlay\",\"size\":10,\"solidity\":0.2}},\"type\":\"histogram\"}],\"scattergl\":[{\"type\":\"scattergl\",\"marker\":{\"colorbar\":{\"outlinewidth\":0,\"ticks\":\"\"}}}],\"scatter3d\":[{\"type\":\"scatter3d\",\"line\":{\"colorbar\":{\"outlinewidth\":0,\"ticks\":\"\"}},\"marker\":{\"colorbar\":{\"outlinewidth\":0,\"ticks\":\"\"}}}],\"scattermapbox\":[{\"type\":\"scattermapbox\",\"marker\":{\"colorbar\":{\"outlinewidth\":0,\"ticks\":\"\"}}}],\"scatterternary\":[{\"type\":\"scatterternary\",\"marker\":{\"colorbar\":{\"outlinewidth\":0,\"ticks\":\"\"}}}],\"scattercarpet\":[{\"type\":\"scattercarpet\",\"marker\":{\"colorbar\":{\"outlinewidth\":0,\"ticks\":\"\"}}}],\"carpet\":[{\"aaxis\":{\"endlinecolor\":\"#2a3f5f\",\"gridcolor\":\"white\",\"linecolor\":\"white\",\"minorgridcolor\":\"white\",\"startlinecolor\":\"#2a3f5f\"},\"baxis\":{\"endlinecolor\":\"#2a3f5f\",\"gridcolor\":\"white\",\"linecolor\":\"white\",\"minorgridcolor\":\"white\",\"startlinecolor\":\"#2a3f5f\"},\"type\":\"carpet\"}],\"table\":[{\"cells\":{\"fill\":{\"color\":\"#EBF0F8\"},\"line\":{\"color\":\"white\"}},\"header\":{\"fill\":{\"color\":\"#C8D4E3\"},\"line\":{\"color\":\"white\"}},\"type\":\"table\"}],\"barpolar\":[{\"marker\":{\"line\":{\"color\":\"#E5ECF6\",\"width\":0.5},\"pattern\":{\"fillmode\":\"overlay\",\"size\":10,\"solidity\":0.2}},\"type\":\"barpolar\"}],\"pie\":[{\"automargin\":true,\"type\":\"pie\"}]},\"layout\":{\"autotypenumbers\":\"strict\",\"colorway\":[\"#636efa\",\"#EF553B\",\"#00cc96\",\"#ab63fa\",\"#FFA15A\",\"#19d3f3\",\"#FF6692\",\"#B6E880\",\"#FF97FF\",\"#FECB52\"],\"font\":{\"color\":\"#2a3f5f\"},\"hovermode\":\"closest\",\"hoverlabel\":{\"align\":\"left\"},\"paper_bgcolor\":\"white\",\"plot_bgcolor\":\"#E5ECF6\",\"polar\":{\"bgcolor\":\"#E5ECF6\",\"angularaxis\":{\"gridcolor\":\"white\",\"linecolor\":\"white\",\"ticks\":\"\"},\"radialaxis\":{\"gridcolor\":\"white\",\"linecolor\":\"white\",\"ticks\":\"\"}},\"ternary\":{\"bgcolor\":\"#E5ECF6\",\"aaxis\":{\"gridcolor\":\"white\",\"linecolor\":\"white\",\"ticks\":\"\"},\"baxis\":{\"gridcolor\":\"white\",\"linecolor\":\"white\",\"ticks\":\"\"},\"caxis\":{\"gridcolor\":\"white\",\"linecolor\":\"white\",\"ticks\":\"\"}},\"coloraxis\":{\"colorbar\":{\"outlinewidth\":0,\"ticks\":\"\"}},\"colorscale\":{\"sequential\":[[0.0,\"#0d0887\"],[0.1111111111111111,\"#46039f\"],[0.2222222222222222,\"#7201a8\"],[0.3333333333333333,\"#9c179e\"],[0.4444444444444444,\"#bd3786\"],[0.5555555555555556,\"#d8576b\"],[0.6666666666666666,\"#ed7953\"],[0.7777777777777778,\"#fb9f3a\"],[0.8888888888888888,\"#fdca26\"],[1.0,\"#f0f921\"]],\"sequentialminus\":[[0.0,\"#0d0887\"],[0.1111111111111111,\"#46039f\"],[0.2222222222222222,\"#7201a8\"],[0.3333333333333333,\"#9c179e\"],[0.4444444444444444,\"#bd3786\"],[0.5555555555555556,\"#d8576b\"],[0.6666666666666666,\"#ed7953\"],[0.7777777777777778,\"#fb9f3a\"],[0.8888888888888888,\"#fdca26\"],[1.0,\"#f0f921\"]],\"diverging\":[[0,\"#8e0152\"],[0.1,\"#c51b7d\"],[0.2,\"#de77ae\"],[0.3,\"#f1b6da\"],[0.4,\"#fde0ef\"],[0.5,\"#f7f7f7\"],[0.6,\"#e6f5d0\"],[0.7,\"#b8e186\"],[0.8,\"#7fbc41\"],[0.9,\"#4d9221\"],[1,\"#276419\"]]},\"xaxis\":{\"gridcolor\":\"white\",\"linecolor\":\"white\",\"ticks\":\"\",\"title\":{\"standoff\":15},\"zerolinecolor\":\"white\",\"automargin\":true,\"zerolinewidth\":2},\"yaxis\":{\"gridcolor\":\"white\",\"linecolor\":\"white\",\"ticks\":\"\",\"title\":{\"standoff\":15},\"zerolinecolor\":\"white\",\"automargin\":true,\"zerolinewidth\":2},\"scene\":{\"xaxis\":{\"backgroundcolor\":\"#E5ECF6\",\"gridcolor\":\"white\",\"linecolor\":\"white\",\"showbackground\":true,\"ticks\":\"\",\"zerolinecolor\":\"white\",\"gridwidth\":2},\"yaxis\":{\"backgroundcolor\":\"#E5ECF6\",\"gridcolor\":\"white\",\"linecolor\":\"white\",\"showbackground\":true,\"ticks\":\"\",\"zerolinecolor\":\"white\",\"gridwidth\":2},\"zaxis\":{\"backgroundcolor\":\"#E5ECF6\",\"gridcolor\":\"white\",\"linecolor\":\"white\",\"showbackground\":true,\"ticks\":\"\",\"zerolinecolor\":\"white\",\"gridwidth\":2}},\"shapedefaults\":{\"line\":{\"color\":\"#2a3f5f\"}},\"annotationdefaults\":{\"arrowcolor\":\"#2a3f5f\",\"arrowhead\":0,\"arrowwidth\":1},\"geo\":{\"bgcolor\":\"white\",\"landcolor\":\"#E5ECF6\",\"subunitcolor\":\"white\",\"showland\":true,\"showlakes\":true,\"lakecolor\":\"white\"},\"title\":{\"x\":0.05},\"mapbox\":{\"style\":\"light\"}}},\"xaxis\":{\"anchor\":\"y\",\"domain\":[0.0,1.0],\"title\":{\"text\":\"Active Ranks\"}},\"yaxis\":{\"anchor\":\"x\",\"domain\":[0.0,1.0],\"title\":{\"text\":\"Inactive Ranks\"}},\"coloraxis\":{\"colorbar\":{\"title\":{\"text\":\"inactive__ranks\"}},\"colorscale\":[[0.0,\"#0d0887\"],[0.1111111111111111,\"#46039f\"],[0.2222222222222222,\"#7201a8\"],[0.3333333333333333,\"#9c179e\"],[0.4444444444444444,\"#bd3786\"],[0.5555555555555556,\"#d8576b\"],[0.6666666666666666,\"#ed7953\"],[0.7777777777777778,\"#fb9f3a\"],[0.8888888888888888,\"#fdca26\"],[1.0,\"#f0f921\"]]},\"legend\":{\"tracegroupgap\":0},\"title\":{\"text\":\"Word Rankings\"}},                        {\"responsive\": true}                    ).then(function(){\n",
              "                            \n",
              "var gd = document.getElementById('da2cd2a9-c124-4a71-be59-704acb389a6c');\n",
              "var x = new MutationObserver(function (mutations, observer) {{\n",
              "        var display = window.getComputedStyle(gd).display;\n",
              "        if (!display || display === 'none') {{\n",
              "            console.log([gd, 'removed!']);\n",
              "            Plotly.purge(gd);\n",
              "            observer.disconnect();\n",
              "        }}\n",
              "}});\n",
              "\n",
              "// Listen for the removal of the full notebook cells\n",
              "var notebookContainer = gd.closest('#notebook-container');\n",
              "if (notebookContainer) {{\n",
              "    x.observe(notebookContainer, {childList: true});\n",
              "}}\n",
              "\n",
              "// Listen for the clearing of the current output cell\n",
              "var outputEl = gd.closest('.output');\n",
              "if (outputEl) {{\n",
              "    x.observe(outputEl, {childList: true});\n",
              "}}\n",
              "\n",
              "                        })                };                            </script>        </div>\n",
              "</body>\n",
              "</html>"
            ]
          },
          "metadata": {},
          "output_type": "display_data"
        }
      ],
      "source": [
        "import plotly.express as px\n",
        "\n",
        "# fig = px.scatter(merged_df, x='active__ranks', y='inactive__ranks', title='Word Rankings')\n",
        "# fig.update_traces(marker=dict(color='blue'), mode='markers')\n",
        "# fig.show()\n",
        "\n",
        "\n",
        "fig = px.scatter(merged_df_freq_ranks, x='active__ranks', y='inactive__ranks', title='Word Rankings', text='word', color='inactive__ranks')\n",
        "fig.update_traces(mode='markers', textposition='top center')\n",
        "fig.update_layout(xaxis_title='Active Ranks', yaxis_title='Inactive Ranks')\n",
        "fig.show()\n",
        "# import plotly.io as pio\n",
        "\n",
        "# Save the scatter plot as an HTML file\n",
        "#pio.write_html(fig, 'scatter_plot.html')"
      ]
    },
    {
      "cell_type": "code",
      "execution_count": null,
      "metadata": {
        "colab": {
          "base_uri": "https://localhost:8080/",
          "height": 542
        },
        "id": "N21CWyBaz244",
        "outputId": "335db26d-9050-449d-d14d-0d5e387b6d17"
      },
      "outputs": [
        {
          "data": {
            "text/html": [
              "<html>\n",
              "<head><meta charset=\"utf-8\" /></head>\n",
              "<body>\n",
              "    <div>            <script src=\"https://cdnjs.cloudflare.com/ajax/libs/mathjax/2.7.5/MathJax.js?config=TeX-AMS-MML_SVG\"></script><script type=\"text/javascript\">if (window.MathJax && window.MathJax.Hub && window.MathJax.Hub.Config) {window.MathJax.Hub.Config({SVG: {font: \"STIX-Web\"}});}</script>                <script type=\"text/javascript\">window.PlotlyConfig = {MathJaxConfig: 'local'};</script>\n",
              "        <script src=\"https://cdn.plot.ly/plotly-2.18.2.min.js\"></script>                <div id=\"d8cab7e9-5e4c-4d9f-aa7c-7bbc28c2748c\" class=\"plotly-graph-div\" style=\"height:525px; width:100%;\"></div>            <script type=\"text/javascript\">                                    window.PLOTLYENV=window.PLOTLYENV || {};                                    if (document.getElementById(\"d8cab7e9-5e4c-4d9f-aa7c-7bbc28c2748c\")) {                    Plotly.newPlot(                        \"d8cab7e9-5e4c-4d9f-aa7c-7bbc28c2748c\",                        [{\"hovertemplate\":\"active__ranks=%{x}<br>inactive__ranks=%{y}<br>Frequency=%{marker.size}<extra></extra>\",\"legendgroup\":\"\",\"marker\":{\"color\":\"blue\",\"size\":[25,11,8,5,6,6,1,1,1,2,13,13,21,19,12,12,17,35,64,35,3,1,5,31,3,3,4,11,101,15,54,50,46,17,2,2,3,2,18,11,4,31,4,12,112,165,34,22,55,19,8,1,5,50,49,48,2,1,20,3,1,1,3,3,15,1,1,9,9,9,9,9,21,42,6,2,2,3,14,3,1,4,4,3,3,3,19,6,6,65,96,115,82,65,65,63,64,92,97,64,34,191,127,64,477,64,64,64,124,31,31,53,99,64,63,63,63,63,63,55,60,69,60,60,60,86,32,34,98,98,312,97,34,98,99,197,60,54,173,5,12,4,78,56,41,41,61,16,39,39,48,46,56,21,21,9,63,18,36,32,12,15,269,59,120,111,3,17,57,18,58,3,43,3,19,7,1,114,138,57,70,1,128,24,117,132,96,48,300,304,150,150,151,150,150,150,64,20,1,1,1,1,64,57,2,2,2,5,1,4,46,2,1,2,1,2,1,4,4,1,1,1,1,1,1,3,2,1,3,1,1,1,2,1,1,5,1,1,1,1,4,1,3,2,2,1,1,1,1,7,2,6,2,3,11,1,1,3,3,10,10,3,2,3,19,1,1,2,1,13,3,3,2,1,1,1,1,1,1,1,1,1,1,1,1,50,1,3,2,34,1,1,1,3,1,2,3,1,1,1,13,2,17,2,2,1,5,2,2,4,2,2,2,2,2,2,2,2,2,2,1,1,2,13,4,20,6,2,5,7,3,3,5,2,3,3,15,2,2,2,1,1,1,7,1,1,2,1,6,6,14,30,6,14,6,6,6,8,1,1,2,2,1,1,1,1,1,6,1,1,1,1,3,1,1,1,1,1,2,2,1,1,2,2,1,2,1,30,7,36,17,2,4,2,6,2,10,7,3,1,1,1,1,1,3,1,5,5,18,6,1,38,28,14,215,229,64,46,5,4,13,67,115,48,17,22,6,8,7,12,1,1,11,11,19,13,12,82,29,29,58,27,27,29,29,39,12,29,57,31,31,28,28,28,28,56,28,28,30,8,8,4,2,3,3,6,3,1,3,5,20,21,34,1,31,4,6,26,43,18,2,2,5,30,6,3,14,14,4,3,6,5,4,4,6,53,1,19,1,2,1,1,1,19,1,1,1,1,5,5,4,1,1,1,5,4,4,4,4,4,5,3,3,2,4,4,2,5,5,8,7,2,1,2,3,3,9,6,1,5,16,5,4,7,4,2,100,6,6,10,1,8,39,11,21,9,9,9,15,15,25,22,56,10,6,3,7,2,2,2,4,7,7,6,7,9,3,2,1,1,5,2,1,2,3,1,3,4,2,3,2,21,9,1,1,3,3,1,2,4,4,1,2,2,2,3,2,2,1,1,1,2,3,2,2,3,3,12,2,4,4,114,53,8,24,7,1,4,1,1,2,2,4,1,20,7,28,17,13,3,3,60,46,1,11,1,3,3,1,3,4,2,1,7,2,2,1,1,1,3,1,1,1,1,5,4,5,3,1,5,24,111,1,14,3,59,163,15,4,18,12,13,71,157,117,144,5,6,2,1,3,54,7,1,10,647,12,6,7,3,17,296,255,106,160,43,106,171,1,101,71,13,6,16,1,11,12,12,48,2,3,2,1,65,77,12,1,35,135,33,33,199,48,39,1,3,13,193,16,2,3,7,2,10,33,8,21,153,2,4,4,4,4,4,3,2,1,9,7,7,19,2,17,17,125,13,13,2,5,12,111,48,1,31,73,25,141,1085,75,345,110,101,530,962,479,227,1,2,2,1,1,2,3,3,2,16,6,6,1,3,1,4,1,3,4,11,11,24,175,162,1,9,9,5,124,10,11,11,1,60,2,1,2,141,52,2,169,180,300,513,34,1,27,19,16,21,2,2,728,2,3719,19918,2412,793,728,11,653,80,22,333,287,247,460,413,130,52,395,241,279,735,238,862,242,235,256,1620,213,408,728,1426,71,1012,1295,1305,1299,1878,898,901,896,2265,792,896,1536,1626,1706,1688,728,138,493,187,266,350,166,221,184,119,391,1174,1000,264,243,237,234,225,387,401,725,383,724,804,881,386,386,370,377,386,267,151,328,552,347,334,525,532,176,176,176,420,680,356,482,412,881,98,58,1,5,5,196,6,175,7,4,1,13,3,10,60,14,9,34,5,2,6,9,8,6,8,46,46,58,1,4,3,8,25,6,3,10,51,93,42,41,41,41,41,489,343,499,445,558,3,173,126,184,184,201,796,85,256,2,154,24,2,2,1,10,264,76,7,21,7,336,204,199,55,64,7,7,4,1,20,19,11,2,15,198,6,170,1,31,29,30,38,317,313,313,12,10,21,6,4,4,7,4,4,5,29,24,4,21,5,2,1,4,7,43,4,49,49,72,48,24,2,3,3,12,1,2,71,40,12,11,5,8,6,1,5,8,96,21,3,3,3,5,5,9,9,20,3,1,2,10,1,5,9,6,6,17,9,18,138,17,1,4,518,61,61,5,1,1,1,4,3,8,7,4,1,8,1,22,15,9,9,5,1,8,34,1,2,2,9,22,22,42,35,72,13,25,18,4,8,28,27,27,23,18,23,20],\"sizemode\":\"area\",\"sizeref\":49.795,\"symbol\":\"circle\"},\"mode\":\"markers\",\"name\":\"\",\"showlegend\":false,\"x\":[1.9533662125468254,1.9533662125468254,1.9533662125468254,1.9533662125468254,1.9533662125468254,1.9533662125468254,1.9533662125468254,1.9533662125468254,1.9533662125468254,1.9533662125468254,1.9533662125468254,1.9533662125468254,1.9533662125468254,1.9533662125468254,1.9533662125468254,1.9533662125468254,1.9533662125468254,1.9533662125468254,1.9533662125468254,1.9533662125468254,1.9533662125468254,1.9533662125468254,1.9533662125468254,1.9533662125468254,1.9533662125468254,1.9533662125468254,1.9533662125468254,1.9533662125468254,1.9533662125468254,1.9533662125468254,1.9533662125468254,1.9533662125468254,1.9533662125468254,1.9533662125468254,1.9533662125468254,1.9533662125468254,1.9533662125468254,1.9533662125468254,1.9533662125468254,1.9533662125468254,1.9533662125468254,1.9533662125468254,1.9533662125468254,1.9533662125468254,1.9533662125468254,1.9533662125468254,1.9533662125468254,1.9533662125468254,1.9533662125468254,1.9533662125468254,1.9533662125468254,1.9533662125468254,1.9533662125468254,1.9533662125468254,1.9533662125468254,1.9533662125468254,1.9533662125468254,1.9533662125468254,1.9533662125468254,1.9533662125468254,1.9533662125468254,1.9533662125468254,1.9533662125468254,1.9533662125468254,1.9533662125468254,1.9533662125468254,1.9533662125468254,1.9533662125468254,1.9533662125468254,1.9533662125468254,1.9533662125468254,1.9533662125468254,1.9533662125468254,1.9533662125468254,1.9533662125468254,1.9533662125468254,1.9533662125468254,1.9533662125468254,1.9533662125468254,1.9533662125468254,1.9533662125468254,1.9533662125468254,1.9533662125468254,1.9533662125468254,1.9533662125468254,1.9533662125468254,1.9533662125468254,1.899312250316143,1.899312250316143,1.899312250316143,1.899312250316143,1.899312250316143,1.899312250316143,1.899312250316143,1.899312250316143,1.899312250316143,1.899312250316143,1.899312250316143,1.899312250316143,1.899312250316143,1.899312250316143,1.899312250316143,1.899312250316143,1.899312250316143,1.899312250316143,1.899312250316143,1.899312250316143,1.899312250316143,1.899312250316143,1.899312250316143,1.899312250316143,1.899312250316143,1.899312250316143,1.899312250316143,1.899312250316143,1.899312250316143,1.899312250316143,1.899312250316143,1.899312250316143,1.899312250316143,1.899312250316143,1.899312250316143,1.899312250316143,1.899312250316143,1.899312250316143,1.899312250316143,1.899312250316143,1.899312250316143,1.899312250316143,1.899312250316143,1.899312250316143,1.899312250316143,1.899312250316143,1.899312250316143,1.899312250316143,1.899312250316143,1.899312250316143,1.899312250316143,1.899312250316143,1.899312250316143,1.899312250316143,1.899312250316143,1.899312250316143,1.899312250316143,1.899312250316143,1.899312250316143,1.899312250316143,1.899312250316143,1.899312250316143,1.899312250316143,1.899312250316143,1.899312250316143,1.899312250316143,1.899312250316143,1.899312250316143,1.899312250316143,1.899312250316143,1.899312250316143,1.899312250316143,1.899312250316143,1.899312250316143,1.899312250316143,1.899312250316143,1.899312250316143,1.899312250316143,1.899312250316143,1.899312250316143,1.899312250316143,1.899312250316143,1.899312250316143,1.899312250316143,1.899312250316143,1.899312250316143,1.899312250316143,1.899312250316143,1.899312250316143,1.899312250316143,1.899312250316143,1.899312250316143,1.899312250316143,1.899312250316143,1.899312250316143,1.899312250316143,1.899312250316143,1.899312250316143,1.899312250316143,1.899312250316143,1.899312250316143,1.899312250316143,1.899312250316143,1.899312250316143,1.899312250316143,1.899312250316143,1.899312250316143,1.899312250316143,1.899312250316143,1.899312250316143,1.899312250316143,1.899312250316143,1.899312250316143,1.899312250316143,1.899312250316143,1.899312250316143,1.899312250316143,1.7824675887823105,1.7824675887823105,1.7824675887823105,1.7824675887823105,1.7824675887823105,1.7824675887823105,1.7824675887823105,1.7824675887823105,1.7824675887823105,1.7824675887823105,1.7824675887823105,1.7824675887823105,1.7824675887823105,1.7824675887823105,1.7824675887823105,1.7824675887823105,1.7824675887823105,1.7824675887823105,1.7824675887823105,1.7824675887823105,1.7824675887823105,1.7824675887823105,1.7824675887823105,1.7824675887823105,1.7824675887823105,1.7824675887823105,1.7824675887823105,1.7824675887823105,1.7824675887823105,1.7824675887823105,1.7824675887823105,1.7824675887823105,1.7824675887823105,1.7824675887823105,1.7824675887823105,1.7824675887823105,1.7824675887823105,1.7824675887823105,1.7824675887823105,1.7824675887823105,1.7824675887823105,1.7824675887823105,1.7824675887823105,1.7824675887823105,1.7824675887823105,1.6047289595007896,1.6047289595007896,1.6047289595007896,1.6047289595007896,1.6047289595007896,1.6047289595007896,1.6047289595007896,1.6047289595007896,1.6047289595007896,1.6047289595007896,1.592225395143032,1.592225395143032,1.592225395143032,1.592225395143032,1.592225395143032,1.592225395143032,1.592225395143032,1.592225395143032,1.592225395143032,1.592225395143032,1.592225395143032,1.592225395143032,1.592225395143032,1.592225395143032,1.592225395143032,1.592225395143032,1.592225395143032,1.592225395143032,1.592225395143032,1.592225395143032,1.592225395143032,1.5351061709225178,1.5351061709225178,1.5351061709225178,1.5351061709225178,1.5351061709225178,1.5351061709225178,1.5351061709225178,1.5351061709225178,1.5351061709225178,1.5351061709225178,1.5351061709225178,1.5351061709225178,1.5351061709225178,1.5351061709225178,1.5351061709225178,1.5351061709225178,1.5351061709225178,1.5351061709225178,1.5351061709225178,1.5351061709225178,1.5351061709225178,1.5351061709225178,1.5351061709225178,1.5351061709225178,1.5351061709225178,1.5351061709225178,1.5351061709225178,1.5351061709225178,1.5351061709225178,1.5351061709225178,1.5351061709225178,1.5351061709225178,1.5351061709225178,1.5351061709225178,1.5351061709225178,1.5351061709225178,1.5351061709225178,1.5351061709225178,1.5351061709225178,1.5351061709225178,1.5351061709225178,1.5351061709225178,1.5351061709225178,1.5351061709225178,1.5351061709225178,1.4188910834491253,1.4188910834491253,1.4188910834491253,1.4188910834491253,1.4188910834491253,1.4188910834491253,1.4188910834491253,1.4188910834491253,1.4188910834491253,1.4188910834491253,1.4188910834491253,1.4188910834491253,1.4188910834491253,1.4188910834491253,1.4188910834491253,1.4188910834491253,1.4188910834491253,1.4188910834491253,1.4188910834491253,1.4188910834491253,1.4188910834491253,1.4188910834491253,1.4188910834491253,1.4188910834491253,1.4188910834491253,1.3750189915299416,1.3750189915299416,1.3750189915299416,1.3750189915299416,1.3750189915299416,1.3750189915299416,1.3750189915299416,1.3750189915299416,1.3750189915299416,1.3750189915299416,1.3750189915299416,1.3750189915299416,1.3750189915299416,1.3750189915299416,1.3750189915299416,1.3750189915299416,1.3750189915299416,1.3750189915299416,1.3750189915299416,1.3750189915299416,1.3750189915299416,1.3750189915299416,1.3750189915299416,1.3750189915299416,1.3750189915299416,1.3750189915299416,1.3750189915299416,1.3750189915299416,1.3750189915299416,1.3750189915299416,1.3750189915299416,1.3750189915299416,1.3750189915299416,1.3750189915299416,1.3750189915299416,1.3750189915299416,1.3750189915299416,1.2681547552347183,1.2681547552347183,1.2681547552347183,1.2681547552347183,1.2681547552347183,1.2681547552347183,1.2681547552347183,1.2681547552347183,1.2681547552347183,1.2681547552347183,1.2681547552347183,1.2681547552347183,1.2681547552347183,1.2681547552347183,1.2681547552347183,1.2681547552347183,1.2681547552347183,1.2681547552347183,1.2681547552347183,1.2681547552347183,1.2681547552347183,1.2681547552347183,1.2681547552347183,1.2681547552347183,1.2681547552347183,1.2681547552347183,1.2681547552347183,1.2276587076485157,1.2276587076485157,1.2276587076485157,1.2276587076485157,1.2276587076485157,1.2276587076485157,1.2276587076485157,1.2276587076485157,1.2276587076485157,1.2276587076485157,1.2276587076485157,1.2276587076485157,1.2276587076485157,1.2276587076485157,1.2276587076485157,1.2276587076485157,1.2276587076485157,1.2276587076485157,1.2276587076485157,1.2276587076485157,1.2276587076485157,1.2276587076485157,1.2276587076485157,1.2276587076485157,1.2276587076485157,1.2276587076485157,1.2276587076485157,1.2276587076485157,1.2276587076485157,1.2276587076485157,1.2276587076485157,1.2276587076485157,1.2276587076485157,1.2276587076485157,1.2276587076485157,1.2276587076485157,1.2276587076485157,1.2276587076485157,1.2276587076485157,1.2276587076485157,1.2276587076485157,1.2276587076485157,1.2276587076485157,1.2276587076485157,1.2276587076485157,1.2276587076485157,1.2276587076485157,1.2113594450056553,1.2113594450056553,1.2113594450056553,1.2113594450056553,1.2113594450056553,1.2113594450056553,1.2113594450056553,1.2113594450056553,1.2113594450056553,1.195753924548626,1.195753924548626,1.195753924548626,1.195753924548626,1.195753924548626,1.195753924548626,1.195753924548626,1.195753924548626,1.195753924548626,1.195753924548626,1.1240282095968723,1.1240282095968723,1.1240282095968723,1.1240282095968723,1.1240282095968723,1.1240282095968723,1.1240282095968723,1.1240282095968723,1.1240282095968723,1.1240282095968723,1.0484782047569752,1.0484782047569752,1.0484782047569752,1.0484782047569752,1.0484782047569752,1.0484782047569752,1.0484782047569752,1.0484782047569752,0.9223847649991512,0.9223847649991512,0.9223847649991512,0.9223847649991512,0.9223847649991512,0.9223847649991512,0.9223847649991512,0.9223847649991512,0.9223847649991512,0.9223847649991512,0.921651441603899,0.921651441603899,0.921651441603899,0.921651441603899,0.921651441603899,0.921651441603899,0.9142876602709293,0.9142876602709293,0.9142876602709293,0.9142876602709293,0.9142876602709293,0.9142876602709293,0.9142876602709293,0.8792157284915447,0.8792157284915447,0.8792157284915447,0.8792157284915447,0.8792157284915447,0.8792157284915447,0.8792157284915447,0.8792157284915447,0.8792157284915447,0.8792157284915447,0.8792157284915447,0.8792157284915447,0.8792157284915447,0.8792157284915447,0.8792157284915447,0.8792157284915447,0.8792157284915447,0.8453956805169582,0.7781679276376963,0.7781679276376963,0.7781679276376963,0.7781679276376963,0.7781679276376963,0.7781679276376963,0.7781679276376963,0.6694865878671408,0.6694865878671408,0.6694865878671408,0.6694865878671408,0.6661347579210997,0.6163462996482849,0.5677946377545595,0.5677946377545595,0.5677946377545595,0.5677946377545595,0.5677946377545595,0.5677946377545595,0.5677946377545595,0.5677946377545595,0.5677946377545595,0.5677946377545595,0.5677946377545595,0.5677946377545595,0.5677946377545595,0.5677946377545595,0.5677946377545595,0.5677946377545595,0.5677946377545595,0.5677946377545595,0.5677946377545595,0.5677946377545595,0.5677946377545595,0.5677946377545595,0.5677946377545595,0.5677946377545595,0.5677946377545595,0.5677946377545595,0.5677946377545595,0.5677946377545595,0.5677946377545595,0.5677946377545595,0.5677946377545595,0.5677946377545595,0.5677946377545595,0.5677946377545595,0.5677946377545595,0.5677946377545595,0.5677946377545595,0.5677946377545595,0.5677946377545595,0.5677946377545595,0.5677946377545595,0.5677946377545595,0.5677946377545595,0.5677946377545595,0.5677946377545595,0.5677946377545595,0.5677946377545595,0.5677946377545595,0.5677946377545595,0.5677946377545595,0.5677946377545595,0.5677946377545595,0.5677946377545595,0.5677946377545595,0.5677946377545595,0.5677946377545595,0.5677946377545595,0.5677946377545595,0.5677946377545595,0.5677946377545595,0.5677946377545595,0.5677946377545595,0.5677946377545595,0.5677946377545595,0.5677946377545595,0.5677946377545595,0.5677946377545595,0.5677946377545595,0.5677946377545595,0.3191162832081318,0.3191162832081318,0.3191162832081318,0.3191162832081318,0.2961901482194662,0.23218314163386822,0.23218314163386822,0.2289964584633708,0.2289964584633708,0.2099163131788373,0.0831806450150907,0.08056701626628637,0.06986883818171918,0.06603655056096613,0.06603655056096613,0.043276260839775205,0.043276260839775205,0.043276260839775205,0.03215499164070934,0.004743865429190919,0.004743865429190919,0.004743865429190919,-0.004373880437924527,-0.012415554374456406,-0.050809705862775445,-0.050809705862775445,-0.050809705862775445,-0.10072111617773771,-0.1112479018047452,-0.1112479018047452,-0.1112479018047452,-0.12538067530840635,-0.12629509437829256,-0.12629509437829256,-0.12956486316397786,-0.12956486316397786,-0.12956486316397786,-0.12956486316397786,-0.12956486316397786,-0.12956486316397786,-0.12956486316397786,-0.12956486316397786,-0.12956486316397786,-0.14109479961916804,-0.15256550395861268,-0.1687621115706861,-0.1815485768020153,-0.1815485768020153,-0.19373398972675204,-0.19373398972675204,-0.19373398972675204,-0.19373398972675204,-0.19373398972675204,-0.19506779499351978,-0.19506779499351978,-0.19506779499351978,-0.1982624176889658,-0.1998409628868103,-0.1998409628868103,-0.1998409628868103,-0.1998409628868103,-0.1998409628868103,-0.1998409628868103,-0.1998409628868103,-0.1998409628868103,-0.20154186058789492,-0.20827711559832096,-0.20827711559832096,-0.20827711559832096,-0.23226148914545774,-0.23226148914545774,-0.23226148914545774,-0.23585092276334763,-0.23702401667833328,-0.24844594299793243,-0.24844594299793243,-0.24844594299793243,-0.24844594299793243,-0.24844594299793243,-0.2510512713342905,-0.2510512713342905,-0.2510512713342905,-0.25704519357532263,-0.25704519357532263,-0.25704519357532263,-0.25704519357532263,-0.25704519357532263,-0.2604353940114379,-0.27375363279134035,-0.27375363279134035,-0.27375363279134035,-0.2880340442061424,-0.2995230024680495,-0.30169645324349403,-0.30893960501998663,-0.3103331197053194,-0.3103331197053194,-0.3113239537924528,-0.3162161447107792,-0.31682513654232025,-0.31682513654232025,-0.3235962940379977,-0.3235962940379977,-0.3235962940379977,-0.3235962940379977,-0.3484241897240281,-0.3484241897240281,-0.3484241897240281,-0.3484241897240281,-0.3484241897240281,-0.3484241897240281,-0.3484241897240281,-0.3484241897240281,-0.3494036849588156,-0.355411134660244,-0.364555767737329,-0.364555767737329,-0.36653445567935705,-0.3670822596177459,-0.3760246327146888,-0.38354042917490005,-0.387156312353909,-0.40884586051106453,-0.40884586051106453,-0.40884586051106453,-0.40884586051106453,-0.40884586051106453,-0.4231102764606476,-0.4231102764606476,-0.4231102764606476,-0.4231102764606476,-0.4231102764606476,-0.4231102764606476,-0.4231102764606476,-0.43410593643784523,-0.43914690613746643,-0.43914690613746643,-0.4558398388326168,-0.4558398388326168,-0.4558398388326168,-0.4642193205654621,-0.4661637358367443,-0.4661637358367443,-0.4661637358367443,-0.4661637358367443,-0.4661637358367443,-0.4682724364101887,-0.4682724364101887,-0.4682724364101887,-0.4682724364101887,-0.4682724364101887,-0.4702405072748661,-0.4702405072748661,-0.4702405072748661,-0.4702405072748661,-0.4702405072748661,-0.4702405072748661,-0.4702405072748661,-0.4702405072748661,-0.4702405072748661,-0.4702405072748661,-0.4702405072748661,-0.4702405072748661,-0.4702405072748661,-0.4702405072748661,-0.47396086156368256,-0.47779614105820656,-0.47779614105820656,-0.48375213518738747,-0.484479870647192,-0.4926395136862993,-0.49406830221414566,-0.49406830221414566,-0.49406830221414566,-0.4969804547727108,-0.4969804547727108,-0.4969804547727108,-0.5005807150155306,-0.501752644777298,-0.501752644777298,-0.5053266882896423,-0.5219530779868364,-0.5265802145004272,-0.5394515115767717,-0.5503328051418066,-0.5601168144494295,-0.5601168144494295,-0.5601168144494295,-0.5601168144494295,-0.5624864250421524,-0.5635433830320835,-0.5635433830320835,-0.5785771645605564,-0.5806639790534973,-0.5806639790534973,-0.5814992357045412,-0.5814992357045412,-0.586578156799078,-0.586578156799078,-0.586578156799078,-0.586578156799078,-0.586578156799078,-0.586578156799078,-0.586578156799078,-0.586578156799078,-0.586578156799078,-0.586578156799078,-0.586578156799078,-0.586578156799078,-0.586578156799078,-0.586578156799078,-0.586578156799078,-0.586578156799078,-0.586578156799078,-0.5942172836512327,-0.5942172836512327,-0.5949284881353378,-0.5991677287966013,-0.5991677287966013,-0.5991677287966013,-0.5991677287966013,-0.5991677287966013,-0.5991677287966013,-0.5991677287966013,-0.5991677287966013,-0.5991677287966013,-0.5991677287966013,-0.5991677287966013,-0.5991677287966013,-0.5991677287966013,-0.5991677287966013,-0.5991677287966013,-0.5991677287966013,-0.5991677287966013,-0.5991677287966013,-0.5991677287966013,-0.5991677287966013,-0.5991677287966013,-0.5991677287966013,-0.5991677287966013,-0.5991677287966013,-0.5991677287966013,-0.5991677287966013,-0.5991677287966013,-0.5991677287966013,-0.5991677287966013,-0.5991677287966013,-0.5991677287966013,-0.5991677287966013,-0.5991677287966013,-0.5991677287966013,-0.5991677287966013,-0.5991677287966013,-0.5991677287966013,-0.5991677287966013,-0.5991677287966013,-0.5991677287966013,-0.5991677287966013,-0.5991677287966013,-0.5991677287966013,-0.5991677287966013,-0.5991677287966013,-0.5991677287966013,-0.5991677287966013,-0.5991677287966013,-0.5991677287966013,-0.5991677287966013,-0.5991677287966013,-0.5991677287966013,-0.5991677287966013,-0.5991677287966013,-0.5991677287966013,-0.5991677287966013,-0.5991677287966013,-0.5991677287966013,-0.5991677287966013,-0.5991677287966013,-0.5991677287966013,-0.5991677287966013,-0.5991677287966013,-0.5991677287966013,-0.5991677287966013,-0.5991677287966013,-0.5991677287966013,-0.5991677287966013,-0.5991677287966013,-0.5991677287966013,-0.5991677287966013,-0.5991677287966013,-0.5991677287966013,-0.5991677287966013,-0.5991677287966013,-0.5991677287966013,-0.5991677287966013,-0.5991677287966013,-0.5991677287966013,-0.5991677287966013,-0.5991677287966013,-0.5991677287966013,-0.5991677287966013,-0.5991677287966013,-0.5991677287966013,-0.5991677287966013,-0.5991677287966013,-0.5991677287966013,-0.5991677287966013,-0.5991677287966013,-0.5991677287966013,-0.5991677287966013,-0.5991677287966013,-0.5991677287966013,-0.5991677287966013,-0.5991677287966013,-0.5991677287966013,-0.6046711932867765,-0.6046711932867765,-0.6046711932867765,-0.6081943865865469,-0.6081943865865469,-0.6081943865865469,-0.6245059426873922,-0.6250323727726936,-0.642860122025013,-0.6495505571365356,-0.6576143205165863,-0.660279393196106,-0.660279393196106,-0.660279393196106,-0.660279393196106,-0.660279393196106,-0.6615558639168739,-0.6663149688392878,-0.6663149688392878,-0.6663149688392878,-0.6663149688392878,-0.6663149688392878,-0.6663149688392878,-0.667736679315567,-0.667736679315567,-0.667736679315567,-0.667736679315567,-0.6725546438246965,-0.6811029743403196,-0.6837858352810144,-0.6837858352810144,-0.6837858352810144,-0.6873575039207935,-0.687685888260603,-0.6978534627705812,-0.7010958157479763,-0.7010958157479763,-0.7010958157479763,-0.7010958157479763,-0.7010958157479763,-0.7010958157479763,-0.7010958157479763,-0.7010958157479763,-0.7010958157479763,-0.7010958157479763,-0.7010958157479763,-0.7010958157479763,-0.7010958157479763,-0.7010958157479763,-0.7010958157479763,-0.7010958157479763,-0.7010958157479763,-0.7010958157479763,-0.7010958157479763,-0.7010958157479763,-0.7109045051038265,-0.714214751496911,-0.714214751496911,-0.7185390219092369,-0.7296028081327677,-0.7319894153624773,-0.7411886006593704,-0.7411886006593704,-0.7411886006593704,-0.7411886006593704,-0.7411886006593704,-0.7411886006593704,-0.7411886006593704,-0.7411886006593704,-0.7411886006593704,-0.7411886006593704,-0.7411886006593704,-0.7469804491847754,-0.7469804491847754,-0.7597154472023249,-0.7603291887789965,-0.764036551117897,-0.764036551117897,-0.7799960672855377,-0.7807173300534487,-0.7807173300534487,-0.7860678248107433,-0.7860678248107433,-0.7860678248107433,-0.7860678248107433,-0.7860678248107433,-0.7860678248107433,-0.7860678248107433,-0.7860678248107433,-0.7860678248107433,-0.7860678248107433,-0.7860678248107433,-0.7948489859700203,-0.7948489859700203,-0.7948489859700203,-0.797733198851347,-0.797733198851347,-0.797733198851347,-0.797733198851347,-0.797733198851347,-0.797733198851347,-0.8206858299672604,-0.8226684294641018,-0.8226684294641018,-0.8226684294641018,-0.8226684294641018,-0.8226684294641018,-0.8279121480882168,-0.8287746459245682,-0.8328474126756191,-0.8328474126756191,-0.8332664147019386,-0.8332664147019386,-0.8343188092112541,-0.8343188092112541,-0.8343188092112541,-0.8343188092112541,-0.8440938778221607,-0.8440938778221607,-0.8466856554150581,-0.8708690293133259,-0.8708690293133259,-0.8708690293133259,-0.8708690293133259,-0.8708690293133259,-0.8708690293133259,-0.8708690293133259,-0.872358214110136,-0.872358214110136,-0.8807039819657803,-0.8807039819657803,-0.8863447234034538,-0.8885406889021397,-0.8885406889021397,-0.9031892754137516,-0.9042591787874699,-0.9042591787874699,-0.9042591787874699,-0.9042591787874699,-0.9042591787874699,-0.9042591787874699,-0.9287013672292233,-0.9287013672292233,-0.9287013672292233,-0.9287013672292233,-0.9305106475949287,-0.9728924371302128,-0.9728924371302128,-0.9753765538334846,-1.0016602464020252,-1.0019348934292793,-1.0126077570021152,-1.0126077570021152,-1.0126077570021152,-1.014585793018341,-1.014585793018341,-1.014585793018341,-1.014585793018341,-1.032772846519947,-1.0359307751059532,-1.0359307751059532,-1.0359307751059532,-1.0359307751059532,-1.0359307751059532,-1.0485506616532803,-1.0485506616532803,-1.0485506616532803,-1.0485506616532803,-1.0485506616532803,-1.0541393421590328,-1.0541393421590328,-1.0541393421590328,-1.0541393421590328,-1.0541393421590328,-1.0551029816269875,-1.06259910389781,-1.0983189567923546,-1.0983189567923546,-1.0983189567923546,-1.0983189567923546,-1.134844683110714,-1.134844683110714,-1.135533396154642,-1.1369599029421806,-1.188728492707014,-1.188728492707014,-1.2125872075557709,-1.2161959894001484,-1.2161959894001484,-1.2161959894001484,-1.2161959894001484,-1.2371769174933434,-1.2371769174933434,-1.409995835274458,-1.409995835274458,-1.409995835274458,-1.4156321994960308,-1.41577972099185,-1.4537639915943146,-1.5150568448007107,-1.5150568448007107,-1.5150568448007107,-1.5150568448007107,-1.5150568448007107],\"xaxis\":\"x\",\"y\":[1.93815678358078,0.531331729143858,0.531331729143858,-1.1245261877775192,-1.1245261877775192,0.6767175160348415,0.0,0.0,0.0,1.8727533519268036,1.9055860117077827,1.9055860117077827,1.93815678358078,0.531331729143858,0.531331729143858,0.531331729143858,1.3593998737633228,1.1983852833509445,1.93815678358078,1.1983852833509445,1.6558805480599403,0.0,1.6558805480599403,-0.07658944232389331,1.6558805480599403,1.3655598275363445,1.6558805480599403,-0.698654493317008,-1.1245261877775192,1.6558805480599403,1.93815678358078,1.93815678358078,1.93815678358078,1.6558805480599403,0.0,1.3655598275363445,1.3655598275363445,1.3655598275363445,1.1737704277038574,2.033536322414875,0.5979151930660009,1.93815678358078,0.0,1.9055860117077827,1.93815678358078,1.93815678358078,1.93815678358078,1.93815678358078,1.93815678358078,0.531331729143858,1.5450840815901756,0.0,-0.9075547568500042,1.93815678358078,1.93815678358078,1.93815678358078,1.4896228909492493,0.0,1.1737704277038574,1.6558805480599403,0.0,0.0,1.3655598275363445,0.0,-1.3537591323256493,0.0,0.0,1.93815678358078,1.93815678358078,1.93815678358078,1.93815678358078,1.93815678358078,1.5535790473222733,0.531331729143858,1.9055860117077827,0.0,0.0,0.9093577973544598,1.5530727803707123,1.8357392400503159,0.0,1.93815678358078,1.93815678358078,1.93815678358078,1.93815678358078,1.93815678358078,1.93815678358078,1.4214670285582542,1.4214670285582542,1.93815678358078,1.93815678358078,1.93815678358078,1.93815678358078,1.93815678358078,1.93815678358078,1.93815678358078,1.93815678358078,1.93815678358078,1.93815678358078,1.93815678358078,1.93815678358078,1.93815678358078,1.93815678358078,1.93815678358078,1.93815678358078,1.93815678358078,1.93815678358078,1.93815678358078,1.93815678358078,1.93815678358078,1.93815678358078,1.93815678358078,1.93815678358078,1.93815678358078,1.93815678358078,1.93815678358078,1.93815678358078,1.93815678358078,1.93815678358078,1.93815678358078,1.93815678358078,1.93815678358078,1.93815678358078,1.93815678358078,1.93815678358078,1.93815678358078,1.6558805480599403,1.6558805480599403,1.93815678358078,1.93815678358078,1.93815678358078,1.93815678358078,1.6558805480599403,1.93815678358078,1.93815678358078,1.93815678358078,1.93815678358078,1.93815678358078,1.93815678358078,1.8727533519268036,1.93815678358078,1.93815678358078,1.93815678358078,1.93815678358078,1.93815678358078,1.93815678358078,1.93815678358078,1.93815678358078,1.93815678358078,1.93815678358078,1.93815678358078,1.93815678358078,1.93815678358078,1.5535790473222733,1.5535790473222733,1.537446677684784,1.93815678358078,1.9055860117077827,0.531331729143858,1.9055860117077827,0.0,1.5450840815901756,1.93815678358078,1.93815678358078,0.531331729143858,0.531331729143858,1.3593998737633228,1.93815678358078,0.9184176102280617,0.8356847800314426,1.93815678358078,0.0,-0.9859340265393257,0.0,0.9184176102280617,0.9184176102280617,0.0,1.93815678358078,0.531331729143858,1.93815678358078,0.531331729143858,0.0,1.93815678358078,0.8356847800314426,1.93815678358078,1.93815678358078,1.93815678358078,1.93815678358078,1.93815678358078,1.93815678358078,1.93815678358078,1.93815678358078,1.93815678358078,1.93815678358078,1.93815678358078,1.93815678358078,1.93815678358078,1.5535790473222733,0.0,0.0,0.0,0.0,1.93815678358078,1.93815678358078,0.5979151930660009,0.5979151930660009,0.5979151930660009,1.9055860117077827,0.0,1.4000484719872475,-1.770062930881977,0.0,0.0,0.0,0.0,0.0,0.0,1.6558805480599403,0.0,0.0,0.0,0.0,0.0,0.0,0.0,0.0,1.8727533519268036,0.0,0.0,0.0,0.0,0.0,1.8347794190049171,0.0,0.0,1.6558805480599403,0.0,0.0,0.0,0.0,0.0,0.0,0.5979151930660009,1.6558805480599403,1.6558805480599403,0.0,0.0,0.0,0.0,1.6558805480599403,0.0,1.6558805480599403,0.0,1.93815678358078,0.531331729143858,0.0,0.0,0.0,0.0,1.1983852833509445,1.1983852833509445,1.430046372115612,0.0,1.8347794190049171,1.93815678358078,0.0,0.0,0.0,0.0,1.93815678358078,1.4896228909492493,1.4896228909492493,0.0,0.0,0.0,0.0,0.0,0.0,0.0,0.0,0.0,0.0,0.0,0.0,0.0,-0.7321791723370552,0.0,1.3593998737633228,0.0,-1.2304957956075668,0.0,0.0,0.0,1.6558805480599403,0.0,0.0,1.4896228909492493,0.0,0.0,0.0,0.0,0.0,1.6558805480599403,0.0,0.0,0.0,0.5979151930660009,0.0,0.0,2.033536322414875,0.0,0.0,0.0,0.0,0.0,0.0,0.0,0.0,0.0,0.0,0.0,0.0,0.0,-1.8744248896837234,1.8347794190049171,1.1983852833509445,1.6558805480599403,0.0,1.3655598275363445,1.6558805480599403,0.0,0.0,0.0,0.0,0.0,0.0,1.9055860117077827,0.0,0.0,0.0,0.0,0.0,0.0,-0.784526951611042,0.0,0.0,2.033536322414875,0.0,1.93815678358078,1.93815678358078,1.8347794190049171,1.1983852833509445,1.4000256545841694,1.1983852833509445,1.1983852833509445,1.1983852833509445,1.1983852833509445,1.1983852833509445,0.0,0.0,2.033536322414875,2.033536322414875,0.0,0.0,0.0,0.0,0.0,2.033536322414875,0.0,0.0,0.0,0.0,0.0,0.0,0.0,0.0,0.0,0.0,1.8347794190049171,1.8347794190049171,0.0,0.0,1.5535790473222733,1.5535790473222733,0.0,1.8347794190049171,0.0,-0.698654493317008,1.537446677684784,1.5535790473222733,1.5535790473222733,0.0,1.8347794190049171,0.0,0.0,0.0,-1.284197624772787,0.8356847800314426,1.6558805480599403,0.0,0.0,0.0,0.0,0.0,1.4896228909492493,0.0,1.4896228909492493,1.4896228909492493,1.93815678358078,1.537446677684784,0.0,1.5535790473222733,1.5535790473222733,1.9055860117077827,1.93815678358078,1.93815678358078,0.531331729143858,0.531331729143858,1.140790432691574,0.0,0.8356847800314426,1.93815678358078,1.93815678358078,1.1983852833509445,1.1983852833509445,1.1983852833509445,1.4000484719872475,1.8347794190049171,2.033536322414875,0.9184176102280617,0.0,0.0,0.8356847800314426,0.8356847800314426,1.1983852833509445,0.531331729143858,0.531331729143858,0.531331729143858,0.6767175160348415,0.6767175160348415,0.6767175160348415,1.1983852833509445,1.1983852833509445,0.6767175160348415,0.6767175160348415,0.6767175160348415,1.1983852833509445,0.6767175160348415,1.1983852833509445,1.1983852833509445,1.1983852833509445,1.1983852833509445,1.1983852833509445,1.1983852833509445,1.1983852833509445,1.1983852833509445,1.1983852833509445,1.1983852833509445,0.6767175160348415,1.5535790473222733,1.5535790473222733,1.5530727803707123,0.0,1.6712073236703873,1.6712073236703873,1.3655598275363445,0.5979151930660009,0.0,1.3468372635543346,1.93815678358078,1.93815678358078,0.6767175160348415,1.93815678358078,0.0,1.9055860117077827,0.0,0.0,1.5530727803707123,1.93815678358078,1.5530727803707123,0.0,0.0,2.033536322414875,1.6558805480599403,1.3593998737633228,0.8356847800314426,1.1737704277038574,1.1737704277038574,1.1737704277038574,0.6767175160348415,1.1737704277038574,-1.0477668605744839,-1.0477668605744839,-1.0477668605744839,-1.0477668605744839,-1.0477668605744839,0.0,0.531331729143858,0.0,0.0,0.0,0.0,0.0,1.1737704277038574,0.0,0.0,0.0,0.0,0.6767175160348415,0.6767175160348415,1.591278426349163,0.0,0.0,0.0,1.270492561161518,1.1737704277038574,1.1737704277038574,1.1737704277038574,1.1737704277038574,1.1737704277038574,1.140790432691574,1.5530727803707123,1.5530727803707123,0.0,1.8347794190049171,-0.666345888748765,1.3593998737633228,1.5530727803707123,1.6558805480599403,1.6558805480599403,1.6558805480599403,0.0,0.0,1.6558805480599403,1.316862367093563,1.316862367093563,-0.992379616945982,1.591278426349163,0.0,0.0,1.140790432691574,0.9184176102280617,0.0,-1.5635523945093155,0.0,0.0,-1.0818774811923504,0.013455183943733573,0.013455183943733573,-1.0818774811923504,0.0,-1.5442226082086563,-1.572331041097641,1.4896228909492493,1.4896228909492493,1.4896228909492493,1.4896228909492493,1.4896228909492493,0.531331729143858,1.1737704277038574,0.531331729143858,1.9055860117077827,0.531331729143858,0.531331729143858,1.4896228909492493,0.0,0.9184176102280617,0.0,0.0,0.0,1.4896228909492493,1.4896228909492493,1.4896228909492493,0.0,0.0,-1.7692914232611656,0.0,0.0,0.0,0.0,1.4896228909492493,0.0,0.0,0.0,1.4214670285582542,0.0,1.8347794190049171,-1.5101118013262749,0.0,1.6558805480599403,0.0,1.5530727803707123,0.0,0.0,0.0,0.0,0.0,0.0,0.0,0.0,0.0,0.0,0.0,0.0,0.0,0.0,0.0,0.0,0.0,0.0,0.0,0.0,0.0,0.0,0.0,1.6558805480599403,0.0,0.9184176102280617,0.6767175160348415,0.9184176102280617,0.9184176102280617,-0.07658944232389331,-0.07658944232389331,-0.4594439174979925,-0.6579244043678045,-1.0818774811923504,0.0,-1.193040143698454,0.0,0.0,0.0,-0.477851927280426,-0.1533716917037964,0.0,0.09367478778585792,0.09367478778585792,-0.9360704571008682,1.5535790473222733,-2.0141545683145523,-0.9656199254095554,-0.698654493317008,-1.0818774811923504,-1.3526152819395065,0.0,0.531331729143858,0.0,0.0,0.0,0.0,0.0,1.591278426349163,0.0,0.0,1.1737704277038574,0.0,-1.7909683287143707,0.0,0.0,0.0,1.6558805480599403,0.0,0.0,0.0,0.0,-0.9360704571008682,-0.07658944232389331,-1.0018689557909966,0.0,0.0,-1.3318877667188644,-1.0152922943234444,-0.666345888748765,0.0,-1.0152922943234444,0.0,-1.0477668605744839,-1.0477668605744839,-1.572331041097641,-1.0608548298478127,-0.07658944232389331,-0.07658944232389331,-0.07658944232389331,-0.666345888748765,-0.666345888748765,-0.9607706218957901,-0.9607706218957901,-0.7321791723370552,1.4000256545841694,-1.0183481499552727,0.0,0.0,-1.7692914232611656,0.0,0.0,-1.7358651384711266,-1.0018689557909966,1.537446677684784,-0.9133354760706425,1.6558805480599403,-1.046466175466776,-1.770062930881977,-2.0368970930576324,-2.0368970930576324,1.93815678358078,1.93815678358078,0.6767175160348415,1.93815678358078,1.93815678358078,0.0,-1.0212656110525131,-1.0212656110525131,-1.1323991231620312,-0.6579244043678045,-1.0402858257293701,0.0,-1.8744248896837234,-0.7619789335876703,-0.7619789335876703,1.93815678358078,-0.7040446624159813,-0.8803888224065304,-0.8965984918177128,0.0,-0.8430337533354759,-0.992379616945982,-0.992379616945982,0.0,-1.0152922943234444,-2.0368970930576324,-1.0152922943234444,-1.0152922943234444,1.93815678358078,-1.0152922943234444,-1.0152922943234444,0.0,1.6558805480599403,-0.8873860351741314,-0.8430337533354759,-1.217073481529951,-0.8638260886073112,-0.8693881332874298,-1.122412085533142,-1.209696102887392,-1.0527289472520351,-1.4635495841503143,-1.5101118013262749,-1.4635495841503143,-1.4635495841503143,-0.9075547568500042,-0.9075547568500042,-0.9075547568500042,-0.9075547568500042,-0.9075547568500042,-0.9075547568500042,-0.9075547568500042,0.0,0.0,-1.0978689417243004,-0.784526951611042,-0.784526951611042,-1.3954375870525837,-1.2801485136151314,-0.9075547568500042,-0.9075547568500042,-1.0234503075480461,-0.7321791723370552,-0.7321791723370552,0.0,1.3468372635543346,1.6558805480599403,-0.698654493317008,-1.5984270721673965,0.0,-0.8430337533354759,-1.7468851059675217,-0.9530302137136459,-0.9530302137136459,-0.8430337533354759,-0.8430337533354759,-0.8430337533354759,-1.4650623314082623,-1.4650623314082623,-0.8430337533354759,-0.8430337533354759,-0.8430337533354759,-1.0527289472520351,0.0,-0.8996567688882351,-0.8996567688882351,0.0,0.0,-1.1860606260597706,-1.0018689557909966,-0.7168329786509275,0.0,1.93815678358078,1.93815678358078,1.93815678358078,0.0,0.0,0.0,-1.1360395699739456,0.0,-1.0527289472520351,-0.6629223469644785,-0.9048118256032467,-0.992379616945982,-0.992379616945982,-0.9972650557756424,-0.9972650557756424,0.0,-1.0527289472520351,-1.0527289472520351,-0.7275828160345554,-0.9859340265393257,-0.9397781454026699,-0.992379616945982,-0.992379616945982,0.0,-1.0018689557909966,0.0,0.0,0.0,-1.5984270721673965,-0.698654493317008,0.0,-1.0527289472520351,-1.0527289472520351,-1.0527289472520351,-1.0527289472520351,1.9055860117077827,0.0,-0.992379616945982,-0.992379616945982,-0.992379616945982,-1.572331041097641,-1.1389797553420067,-1.1394643224775791,-1.0527289472520351,-0.9835699573159218,-1.0527289472520351,-1.0527289472520351,-1.0527289472520351,-1.0527289472520351,-1.0527289472520351,-1.284197624772787,-1.0527289472520351,-1.0018689557909966,-2.0368970930576324,-1.0527289472520351,-1.0527289472520351,-1.0527289472520351,-1.0527289472520351,-0.8430337533354759,-1.10990721732378,-1.10990721732378,-0.8430337533354759,-1.217073481529951,-1.217073481529951,-1.0527289472520351,-1.0527289472520351,-1.0527289472520351,-1.0527289472520351,-1.0527289472520351,-1.0527289472520351,-1.0527289472520351,-0.9835699573159218,-0.9835699573159218,-1.0527289472520351,-1.0527289472520351,-0.8430337533354759,-1.0527289472520351,-1.0527289472520351,-1.0527289472520351,-1.0527289472520351,-1.0527289472520351,-1.0527289472520351,-1.0527289472520351,-1.0527289472520351,-1.0527289472520351,-1.0527289472520351,-1.0527289472520351,-1.0527289472520351,-1.0527289472520351,-1.0527289472520351,-1.0527289472520351,-1.0527289472520351,-0.992379616945982,-0.992379616945982,-0.8873860351741314,-0.8873860351741314,-0.8873860351741314,-0.992379616945982,-1.5881853178143501,-1.5881853178143501,-1.5881853178143501,-1.3178839348256588,-1.0527289472520351,-1.0527289472520351,-1.284197624772787,-1.0527289472520351,-1.0527289472520351,-1.0527289472520351,-1.0527289472520351,-1.0527289472520351,-1.0527289472520351,-1.0527289472520351,-1.0527289472520351,-1.0527289472520351,-1.0527289472520351,-1.0527289472520351,-1.0527289472520351,-1.0527289472520351,-1.0527289472520351,-1.0527289472520351,-1.0527289472520351,-1.0527289472520351,-0.8430337533354759,-1.0527289472520351,-1.0527289472520351,-1.0527289472520351,-1.0527289472520351,-1.0527289472520351,-1.0527289472520351,-0.9530302137136459,-0.9530302137136459,-0.9530302137136459,-1.0527289472520351,-1.0527289472520351,-1.0527289472520351,-1.0527289472520351,-1.0527289472520351,-1.0527289472520351,-0.992379616945982,-1.5881853178143501,0.0,-1.09170600771904,-1.09170600771904,-1.0018689557909966,-1.0512621141970158,-1.0018689557909966,-1.315490249544382,-0.7059104740619659,0.0,-1.0212656110525131,0.0,-0.9859340265393257,-1.2255752459168434,-1.2255752459168434,-1.0207920335233212,-1.0207920335233212,-0.9972650557756424,0.0,-0.9509332478046417,1.591278426349163,-1.5442226082086563,0.0,0.0,-1.0207920335233212,-1.0207920335233212,-1.0207920335233212,0.0,-1.5442226082086563,0.0,-1.1389797553420067,-0.784526951611042,-0.784526951611042,-1.7154151573777199,0.0,-1.046466175466776,-1.0527289472520351,-1.0527289472520351,-1.0527289472520351,-1.0527289472520351,-1.0527289472520351,-1.0527289472520351,-1.0527289472520351,-1.0527289472520351,-1.0527289472520351,-1.0527289472520351,-1.0527289472520351,-1.208583079278469,-1.217073481529951,-1.217073481529951,-1.0527289472520351,-1.0527289472520351,-0.7003545295447111,-0.9530302137136459,-1.0527289472520351,-1.0527289472520351,0.0,-0.9859340265393257,-0.9859340265393257,-1.0207920335233212,-0.8430337533354759,0.0,-1.155775599181652,-1.217073481529951,-0.9835699573159218,-0.9835699573159218,-0.9835699573159218,-0.9835699573159218,-0.9835699573159218,-0.9835699573159218,-0.8873860351741314,-0.8873860351741314,-0.8873860351741314,-1.1360395699739456,-1.1360395699739456,0.0,0.0,-1.7358651384711266,-1.7358651384711266,0.20613332744687796,-0.7003545295447111,1.1983852833509445,-2.0368970930576324,-2.021542936563492,-1.8722152337431908,0.0,-1.0207920335233212,-1.0207920335233212,-1.0207920335233212,-1.7358651384711266,-2.0368970930576324,-2.0368970930576324,-2.0368970930576324,0.0,-1.770062930881977,-1.770062930881977,-0.8469658903777599,-1.2892712838947773,-1.2892712838947773,-1.2892712838947773,-1.2892712838947773,-1.2892712838947773,-0.8996567688882351,-1.284197624772787,1.1737704277038574,0.5979151930660009,-2.0368970930576324,-1.1793381534516811,0.0,0.0,-0.4908523987978697,1.93815678358078,1.93815678358078,-0.3208883572369814,-1.5984270721673965,-1.5984270721673965,-1.5984270721673965,-1.5984270721673965,-1.7100954428315163,-0.8803888224065304,1.8727533519268036,0.0,-0.4594439174979925,0.0,0.0,-0.7003545295447111,-1.4635495841503143,-1.4635495841503143,-1.7154151573777199,0.0,-1.3855818659067154,-1.5984270721673965,0.0,-1.2316475622355938,-1.284197624772787,-1.1335722170770168,-1.564851775765419,0.0,0.0,0.0,-0.7216414902359247,0.0,0.0,0.0,-2.0368970930576324,0.0,0.0,0.0,-0.8469658903777599,0.0,1.5530727803707123,0.0,-0.6206405349075794,-0.6206405349075794,0.531331729143858,0.0,-1.4597597531974316,-2.0368970930576324,-1.4597597531974316,0.0,-0.7619789335876703,-0.7321791723370552,-1.3473203405737877,-1.3473203405737877,-1.4597597531974316,0.0,0.0,0.0,0.0,1.537446677684784,-1.4635495841503143,1.93815678358078,1.6558805480599403,0.0,-1.0477668605744839,0.0,-1.4650623314082623,-1.1304405517876148,1.591278426349163,1.591278426349163,-1.0152922943234444,0.0,0.0,-2.0368970930576324,0.0,-1.478993333876133,-1.478993333876133,-1.572331041097641,-1.5881853178143501,-0.8469658903777599,-1.0018689557909966,-1.0018689557909966,-1.8722152337431908,-1.8722152337431908,-0.698654493317008,1.6558805480599403,-1.5632657334208488,-2.130066230893135,-1.9243452697992325,-1.284197624772787,-1.0207920335233212,-1.0207920335233212,-1.3526152819395065,-1.3526152819395065,-1.3526152819395065],\"yaxis\":\"y\",\"type\":\"scattergl\"}],                        {\"template\":{\"data\":{\"histogram2dcontour\":[{\"type\":\"histogram2dcontour\",\"colorbar\":{\"outlinewidth\":0,\"ticks\":\"\"},\"colorscale\":[[0.0,\"#0d0887\"],[0.1111111111111111,\"#46039f\"],[0.2222222222222222,\"#7201a8\"],[0.3333333333333333,\"#9c179e\"],[0.4444444444444444,\"#bd3786\"],[0.5555555555555556,\"#d8576b\"],[0.6666666666666666,\"#ed7953\"],[0.7777777777777778,\"#fb9f3a\"],[0.8888888888888888,\"#fdca26\"],[1.0,\"#f0f921\"]]}],\"choropleth\":[{\"type\":\"choropleth\",\"colorbar\":{\"outlinewidth\":0,\"ticks\":\"\"}}],\"histogram2d\":[{\"type\":\"histogram2d\",\"colorbar\":{\"outlinewidth\":0,\"ticks\":\"\"},\"colorscale\":[[0.0,\"#0d0887\"],[0.1111111111111111,\"#46039f\"],[0.2222222222222222,\"#7201a8\"],[0.3333333333333333,\"#9c179e\"],[0.4444444444444444,\"#bd3786\"],[0.5555555555555556,\"#d8576b\"],[0.6666666666666666,\"#ed7953\"],[0.7777777777777778,\"#fb9f3a\"],[0.8888888888888888,\"#fdca26\"],[1.0,\"#f0f921\"]]}],\"heatmap\":[{\"type\":\"heatmap\",\"colorbar\":{\"outlinewidth\":0,\"ticks\":\"\"},\"colorscale\":[[0.0,\"#0d0887\"],[0.1111111111111111,\"#46039f\"],[0.2222222222222222,\"#7201a8\"],[0.3333333333333333,\"#9c179e\"],[0.4444444444444444,\"#bd3786\"],[0.5555555555555556,\"#d8576b\"],[0.6666666666666666,\"#ed7953\"],[0.7777777777777778,\"#fb9f3a\"],[0.8888888888888888,\"#fdca26\"],[1.0,\"#f0f921\"]]}],\"heatmapgl\":[{\"type\":\"heatmapgl\",\"colorbar\":{\"outlinewidth\":0,\"ticks\":\"\"},\"colorscale\":[[0.0,\"#0d0887\"],[0.1111111111111111,\"#46039f\"],[0.2222222222222222,\"#7201a8\"],[0.3333333333333333,\"#9c179e\"],[0.4444444444444444,\"#bd3786\"],[0.5555555555555556,\"#d8576b\"],[0.6666666666666666,\"#ed7953\"],[0.7777777777777778,\"#fb9f3a\"],[0.8888888888888888,\"#fdca26\"],[1.0,\"#f0f921\"]]}],\"contourcarpet\":[{\"type\":\"contourcarpet\",\"colorbar\":{\"outlinewidth\":0,\"ticks\":\"\"}}],\"contour\":[{\"type\":\"contour\",\"colorbar\":{\"outlinewidth\":0,\"ticks\":\"\"},\"colorscale\":[[0.0,\"#0d0887\"],[0.1111111111111111,\"#46039f\"],[0.2222222222222222,\"#7201a8\"],[0.3333333333333333,\"#9c179e\"],[0.4444444444444444,\"#bd3786\"],[0.5555555555555556,\"#d8576b\"],[0.6666666666666666,\"#ed7953\"],[0.7777777777777778,\"#fb9f3a\"],[0.8888888888888888,\"#fdca26\"],[1.0,\"#f0f921\"]]}],\"surface\":[{\"type\":\"surface\",\"colorbar\":{\"outlinewidth\":0,\"ticks\":\"\"},\"colorscale\":[[0.0,\"#0d0887\"],[0.1111111111111111,\"#46039f\"],[0.2222222222222222,\"#7201a8\"],[0.3333333333333333,\"#9c179e\"],[0.4444444444444444,\"#bd3786\"],[0.5555555555555556,\"#d8576b\"],[0.6666666666666666,\"#ed7953\"],[0.7777777777777778,\"#fb9f3a\"],[0.8888888888888888,\"#fdca26\"],[1.0,\"#f0f921\"]]}],\"mesh3d\":[{\"type\":\"mesh3d\",\"colorbar\":{\"outlinewidth\":0,\"ticks\":\"\"}}],\"scatter\":[{\"fillpattern\":{\"fillmode\":\"overlay\",\"size\":10,\"solidity\":0.2},\"type\":\"scatter\"}],\"parcoords\":[{\"type\":\"parcoords\",\"line\":{\"colorbar\":{\"outlinewidth\":0,\"ticks\":\"\"}}}],\"scatterpolargl\":[{\"type\":\"scatterpolargl\",\"marker\":{\"colorbar\":{\"outlinewidth\":0,\"ticks\":\"\"}}}],\"bar\":[{\"error_x\":{\"color\":\"#2a3f5f\"},\"error_y\":{\"color\":\"#2a3f5f\"},\"marker\":{\"line\":{\"color\":\"#E5ECF6\",\"width\":0.5},\"pattern\":{\"fillmode\":\"overlay\",\"size\":10,\"solidity\":0.2}},\"type\":\"bar\"}],\"scattergeo\":[{\"type\":\"scattergeo\",\"marker\":{\"colorbar\":{\"outlinewidth\":0,\"ticks\":\"\"}}}],\"scatterpolar\":[{\"type\":\"scatterpolar\",\"marker\":{\"colorbar\":{\"outlinewidth\":0,\"ticks\":\"\"}}}],\"histogram\":[{\"marker\":{\"pattern\":{\"fillmode\":\"overlay\",\"size\":10,\"solidity\":0.2}},\"type\":\"histogram\"}],\"scattergl\":[{\"type\":\"scattergl\",\"marker\":{\"colorbar\":{\"outlinewidth\":0,\"ticks\":\"\"}}}],\"scatter3d\":[{\"type\":\"scatter3d\",\"line\":{\"colorbar\":{\"outlinewidth\":0,\"ticks\":\"\"}},\"marker\":{\"colorbar\":{\"outlinewidth\":0,\"ticks\":\"\"}}}],\"scattermapbox\":[{\"type\":\"scattermapbox\",\"marker\":{\"colorbar\":{\"outlinewidth\":0,\"ticks\":\"\"}}}],\"scatterternary\":[{\"type\":\"scatterternary\",\"marker\":{\"colorbar\":{\"outlinewidth\":0,\"ticks\":\"\"}}}],\"scattercarpet\":[{\"type\":\"scattercarpet\",\"marker\":{\"colorbar\":{\"outlinewidth\":0,\"ticks\":\"\"}}}],\"carpet\":[{\"aaxis\":{\"endlinecolor\":\"#2a3f5f\",\"gridcolor\":\"white\",\"linecolor\":\"white\",\"minorgridcolor\":\"white\",\"startlinecolor\":\"#2a3f5f\"},\"baxis\":{\"endlinecolor\":\"#2a3f5f\",\"gridcolor\":\"white\",\"linecolor\":\"white\",\"minorgridcolor\":\"white\",\"startlinecolor\":\"#2a3f5f\"},\"type\":\"carpet\"}],\"table\":[{\"cells\":{\"fill\":{\"color\":\"#EBF0F8\"},\"line\":{\"color\":\"white\"}},\"header\":{\"fill\":{\"color\":\"#C8D4E3\"},\"line\":{\"color\":\"white\"}},\"type\":\"table\"}],\"barpolar\":[{\"marker\":{\"line\":{\"color\":\"#E5ECF6\",\"width\":0.5},\"pattern\":{\"fillmode\":\"overlay\",\"size\":10,\"solidity\":0.2}},\"type\":\"barpolar\"}],\"pie\":[{\"automargin\":true,\"type\":\"pie\"}]},\"layout\":{\"autotypenumbers\":\"strict\",\"colorway\":[\"#636efa\",\"#EF553B\",\"#00cc96\",\"#ab63fa\",\"#FFA15A\",\"#19d3f3\",\"#FF6692\",\"#B6E880\",\"#FF97FF\",\"#FECB52\"],\"font\":{\"color\":\"#2a3f5f\"},\"hovermode\":\"closest\",\"hoverlabel\":{\"align\":\"left\"},\"paper_bgcolor\":\"white\",\"plot_bgcolor\":\"#E5ECF6\",\"polar\":{\"bgcolor\":\"#E5ECF6\",\"angularaxis\":{\"gridcolor\":\"white\",\"linecolor\":\"white\",\"ticks\":\"\"},\"radialaxis\":{\"gridcolor\":\"white\",\"linecolor\":\"white\",\"ticks\":\"\"}},\"ternary\":{\"bgcolor\":\"#E5ECF6\",\"aaxis\":{\"gridcolor\":\"white\",\"linecolor\":\"white\",\"ticks\":\"\"},\"baxis\":{\"gridcolor\":\"white\",\"linecolor\":\"white\",\"ticks\":\"\"},\"caxis\":{\"gridcolor\":\"white\",\"linecolor\":\"white\",\"ticks\":\"\"}},\"coloraxis\":{\"colorbar\":{\"outlinewidth\":0,\"ticks\":\"\"}},\"colorscale\":{\"sequential\":[[0.0,\"#0d0887\"],[0.1111111111111111,\"#46039f\"],[0.2222222222222222,\"#7201a8\"],[0.3333333333333333,\"#9c179e\"],[0.4444444444444444,\"#bd3786\"],[0.5555555555555556,\"#d8576b\"],[0.6666666666666666,\"#ed7953\"],[0.7777777777777778,\"#fb9f3a\"],[0.8888888888888888,\"#fdca26\"],[1.0,\"#f0f921\"]],\"sequentialminus\":[[0.0,\"#0d0887\"],[0.1111111111111111,\"#46039f\"],[0.2222222222222222,\"#7201a8\"],[0.3333333333333333,\"#9c179e\"],[0.4444444444444444,\"#bd3786\"],[0.5555555555555556,\"#d8576b\"],[0.6666666666666666,\"#ed7953\"],[0.7777777777777778,\"#fb9f3a\"],[0.8888888888888888,\"#fdca26\"],[1.0,\"#f0f921\"]],\"diverging\":[[0,\"#8e0152\"],[0.1,\"#c51b7d\"],[0.2,\"#de77ae\"],[0.3,\"#f1b6da\"],[0.4,\"#fde0ef\"],[0.5,\"#f7f7f7\"],[0.6,\"#e6f5d0\"],[0.7,\"#b8e186\"],[0.8,\"#7fbc41\"],[0.9,\"#4d9221\"],[1,\"#276419\"]]},\"xaxis\":{\"gridcolor\":\"white\",\"linecolor\":\"white\",\"ticks\":\"\",\"title\":{\"standoff\":15},\"zerolinecolor\":\"white\",\"automargin\":true,\"zerolinewidth\":2},\"yaxis\":{\"gridcolor\":\"white\",\"linecolor\":\"white\",\"ticks\":\"\",\"title\":{\"standoff\":15},\"zerolinecolor\":\"white\",\"automargin\":true,\"zerolinewidth\":2},\"scene\":{\"xaxis\":{\"backgroundcolor\":\"#E5ECF6\",\"gridcolor\":\"white\",\"linecolor\":\"white\",\"showbackground\":true,\"ticks\":\"\",\"zerolinecolor\":\"white\",\"gridwidth\":2},\"yaxis\":{\"backgroundcolor\":\"#E5ECF6\",\"gridcolor\":\"white\",\"linecolor\":\"white\",\"showbackground\":true,\"ticks\":\"\",\"zerolinecolor\":\"white\",\"gridwidth\":2},\"zaxis\":{\"backgroundcolor\":\"#E5ECF6\",\"gridcolor\":\"white\",\"linecolor\":\"white\",\"showbackground\":true,\"ticks\":\"\",\"zerolinecolor\":\"white\",\"gridwidth\":2}},\"shapedefaults\":{\"line\":{\"color\":\"#2a3f5f\"}},\"annotationdefaults\":{\"arrowcolor\":\"#2a3f5f\",\"arrowhead\":0,\"arrowwidth\":1},\"geo\":{\"bgcolor\":\"white\",\"landcolor\":\"#E5ECF6\",\"subunitcolor\":\"white\",\"showland\":true,\"showlakes\":true,\"lakecolor\":\"white\"},\"title\":{\"x\":0.05},\"mapbox\":{\"style\":\"light\"}}},\"xaxis\":{\"anchor\":\"y\",\"domain\":[0.0,1.0],\"title\":{\"text\":\"active__ranks\"}},\"yaxis\":{\"anchor\":\"x\",\"domain\":[0.0,1.0],\"title\":{\"text\":\"inactive__ranks\"}},\"legend\":{\"tracegroupgap\":0,\"itemsizing\":\"constant\"},\"title\":{\"text\":\"Word Rankings\"}},                        {\"responsive\": true}                    ).then(function(){\n",
              "                            \n",
              "var gd = document.getElementById('d8cab7e9-5e4c-4d9f-aa7c-7bbc28c2748c');\n",
              "var x = new MutationObserver(function (mutations, observer) {{\n",
              "        var display = window.getComputedStyle(gd).display;\n",
              "        if (!display || display === 'none') {{\n",
              "            console.log([gd, 'removed!']);\n",
              "            Plotly.purge(gd);\n",
              "            observer.disconnect();\n",
              "        }}\n",
              "}});\n",
              "\n",
              "// Listen for the removal of the full notebook cells\n",
              "var notebookContainer = gd.closest('#notebook-container');\n",
              "if (notebookContainer) {{\n",
              "    x.observe(notebookContainer, {childList: true});\n",
              "}}\n",
              "\n",
              "// Listen for the clearing of the current output cell\n",
              "var outputEl = gd.closest('.output');\n",
              "if (outputEl) {{\n",
              "    x.observe(outputEl, {childList: true});\n",
              "}}\n",
              "\n",
              "                        })                };                            </script>        </div>\n",
              "</body>\n",
              "</html>"
            ]
          },
          "metadata": {},
          "output_type": "display_data"
        }
      ],
      "source": [
        "import plotly.express as px\n",
        "\n",
        "# Generate Plotly scatter plot with size based on 'Freq' values\n",
        "fig = px.scatter(merged_df_freq_ranks, x='active__ranks', y='inactive__ranks', size='Frequency', title='Word Rankings')\n",
        "\n",
        "fig.update_traces(marker=dict(color='blue'), mode='markers')\n",
        "\n",
        "fig.show()\n"
      ]
    },
    {
      "cell_type": "code",
      "execution_count": null,
      "metadata": {
        "id": "AaMtGRGBz22W"
      },
      "outputs": [],
      "source": []
    },
    {
      "cell_type": "code",
      "execution_count": null,
      "metadata": {
        "id": "axYUy_7sz2z1"
      },
      "outputs": [],
      "source": []
    },
    {
      "cell_type": "code",
      "execution_count": null,
      "metadata": {
        "id": "n4WFw379z2xh"
      },
      "outputs": [],
      "source": []
    },
    {
      "cell_type": "code",
      "execution_count": null,
      "metadata": {
        "id": "KTxPYGVBz2vC"
      },
      "outputs": [],
      "source": []
    },
    {
      "cell_type": "code",
      "execution_count": null,
      "metadata": {
        "id": "kyQUQu9vz2st"
      },
      "outputs": [],
      "source": []
    },
    {
      "cell_type": "code",
      "execution_count": null,
      "metadata": {
        "id": "AStyV7yPz2qI"
      },
      "outputs": [],
      "source": []
    },
    {
      "cell_type": "code",
      "execution_count": null,
      "metadata": {
        "id": "z_xr3TJzz2nw"
      },
      "outputs": [],
      "source": []
    },
    {
      "cell_type": "code",
      "execution_count": null,
      "metadata": {
        "id": "SrqaiZ3Wz2lX"
      },
      "outputs": [],
      "source": []
    },
    {
      "cell_type": "code",
      "execution_count": null,
      "metadata": {
        "id": "fiQLjgQZz2jT"
      },
      "outputs": [],
      "source": []
    },
    {
      "cell_type": "code",
      "execution_count": null,
      "metadata": {
        "id": "e1P6LTYsz2hF"
      },
      "outputs": [],
      "source": []
    },
    {
      "cell_type": "code",
      "execution_count": null,
      "metadata": {
        "id": "hVgI23AYz2ee"
      },
      "outputs": [],
      "source": []
    },
    {
      "cell_type": "code",
      "execution_count": null,
      "metadata": {
        "id": "Ng7bQslSz2b8"
      },
      "outputs": [],
      "source": []
    },
    {
      "cell_type": "code",
      "execution_count": null,
      "metadata": {
        "id": "e6-5jwTXz2Zp"
      },
      "outputs": [],
      "source": []
    },
    {
      "cell_type": "code",
      "execution_count": null,
      "metadata": {
        "id": "hErdkAhWz2UY"
      },
      "outputs": [],
      "source": []
    },
    {
      "cell_type": "code",
      "execution_count": null,
      "metadata": {
        "id": "2tNBj3sHz2Pr"
      },
      "outputs": [],
      "source": []
    },
    {
      "cell_type": "markdown",
      "metadata": {
        "id": "DJ1wkYJIL-XF"
      },
      "source": [
        "### To create a new DataFrame consisting of the vocabulary and the corresponding word frequencies for \"Active\" and \"Inactive\" classes, you can use the code provided below. To add colors to distinguish between 'Active_Freq' and 'Inactive_Freq' in the bar chart, you can specify different colors for each bar."
      ]
    },
    {
      "cell_type": "code",
      "execution_count": null,
      "metadata": {
        "colab": {
          "base_uri": "https://localhost:8080/",
          "height": 542
        },
        "id": "nQQBNFxhJhnA",
        "outputId": "f7026484-4a69-4288-af92-a32cbcf2493f"
      },
      "outputs": [
        {
          "data": {
            "text/html": [
              "<html>\n",
              "<head><meta charset=\"utf-8\" /></head>\n",
              "<body>\n",
              "    <div>            <script src=\"https://cdnjs.cloudflare.com/ajax/libs/mathjax/2.7.5/MathJax.js?config=TeX-AMS-MML_SVG\"></script><script type=\"text/javascript\">if (window.MathJax && window.MathJax.Hub && window.MathJax.Hub.Config) {window.MathJax.Hub.Config({SVG: {font: \"STIX-Web\"}});}</script>                <script type=\"text/javascript\">window.PlotlyConfig = {MathJaxConfig: 'local'};</script>\n",
              "        <script src=\"https://cdn.plot.ly/plotly-2.18.2.min.js\"></script>                <div id=\"65291b5d-15eb-47f8-aeed-2a079e49f459\" class=\"plotly-graph-div\" style=\"height:525px; width:100%;\"></div>            <script type=\"text/javascript\">                                    window.PLOTLYENV=window.PLOTLYENV || {};                                    if (document.getElementById(\"65291b5d-15eb-47f8-aeed-2a079e49f459\")) {                    Plotly.newPlot(                        \"65291b5d-15eb-47f8-aeed-2a079e49f459\",                        [{\"alignmentgroup\":\"True\",\"hovertemplate\":\"Disease Severity=Active_Freq<br>Word=%{x}<br>Frequency=%{y}<extra></extra>\",\"legendgroup\":\"Active_Freq\",\"marker\":{\"color\":\"blue\",\"pattern\":{\"shape\":\"\"}},\"name\":\"Active_Freq\",\"offsetgroup\":\"Active_Freq\",\"orientation\":\"v\",\"showlegend\":true,\"textposition\":\"auto\",\"x\":[\"body\",\"quadrant\",\"Ileitisileal\",\"FUV\",\"Op\",\"drugs\",\"atory\",\"hour\",\"andmarks\",\"Background\",\"contained\",\"way\",\"testing\",\"level\",\"meds\",\"granuloma\",\"setting\",\"q\",\"recheck\",\"loading\",\"TeleHealth\",\"Resection\",\"Gluten\",\"Uceris\",\"5714\",\"unable\",\"injections\",\"infliximab\",\"preparation\",\"congestion\",\"empiric\",\"2840997\",\"Bentyl\",\"intestine\",\"reassessment\",\"invisible\",\"2C738G048\",\"100\",\"tsps\",\"hypertrophied\",\"Vascular\",\"well\",\"Profile\",\"Tolerated\",\"methotrexate\",\"one\",\"Screening\",\"colonlarge\",\"117\",\"flexible\",\"1000\",\"bowel\",\"per\",\"Check\",\"Established\",\"skin\",\"habits\",\"Advance\",\"diverticulosis\",\"note\",\"AC\",\"Biopsycold\",\"GIFH190\",\"colocolonic\",\"4686\",\"using\",\"Preanesthesia\",\"erianalRectal\",\"Prep\",\"inflammatory\",\"4C729G506\",\"PSC\",\"lmc\",\"Date\",\"onethird\",\"Chronic\",\"stool\",\"HD\",\"painfever\",\"evaluation\",\"usf\",\"shortening\",\"oral\",\"Otherwise\",\"accomplish\",\"sutures\",\"Asacol\",\"Return\",\"Polyp\",\"ulceration\",\"diverticula\",\"incomplete\",\"lower\",\"5\",\"lipomatous\",\"0625\",\"weekly\",\"significantly\",\"ok\",\"kPa\",\"given\",\"External\",\"Olympus\",\"folate\",\"QHS\",\"ADA\",\"resected\",\"May\",\"25\",\"Endo\",\"Prior\",\"vascularity\",\"findings\",\"Somewhat\",\"0630\",\"elevation\",\"Shortcut\",\"throughout\",\"tumor\",\"six\",\"colon\",\"portion\",\"revealed\",\"erythematous\",\"evaluated\",\"shape\",\"concerned\",\"confluent\",\"BID\",\"encouraged\",\"prolapse\",\"200mg\",\"Plavix\",\"GIQuIC\",\"Diverticulosis\",\"seeds\",\"pressure\",\"skyrizi\",\"pain\",\"125\",\"benignappearing\",\"sigmoidoscopy\",\"Exudate\",\"Technically\",\"stenosis\",\"gm\",\"ASGE\",\"hemostatic\",\"5846\",\"Discussed\",\"history\",\"Performed\",\"PR\",\"4C729G469\",\"PerianalRectal\",\"tomography\",\"refusing\",\"Tattoo\",\"also\",\"Stopping\",\"uality\",\"Mild\",\"Nodular\",\"Followup\",\"positive\",\"LA\",\"quantife\",\"enema\",\"Personally\",\"active\",\"II\",\"506\",\"Loss\",\"two\",\"father\",\"rectosigmoid\",\"activities\",\"Successful\",\"needs\",\"152\",\"10mgkg\",\"Anticoagulant\",\"dicyclomine\",\"22\",\"lactoferrin\",\"xifaxan\",\"malodorous\",\"Accomplished\",\"balsalazide\",\"22mg\",\"hematoma\",\"TB\",\"PreAnesthesia\",\"Deep\",\"visible\",\"determined\",\"Bowel\",\"Verification\",\"30cm\",\"fair\",\"done\",\"total\",\"ambulatory\",\"inhibitors\",\"Q\",\"respiratory\",\"568\",\"decision\",\"distal\",\"764\",\"Anal\",\"reduction\",\"Skinny\",\"able\",\"esr\",\"4C729G468\",\"reevaluation\",\"impacted\",\"5G402G887\",\"Injected\",\"therapy\",\"Colazal\",\"antitrypsin\",\"tomorrow\",\"stalkpedunculated\",\"diverticular\",\"order\",\"unsuccessfully\",\"eroded\",\"MAC\",\"weeks\",\"800\",\"2855825\",\"Blank\",\"consent\",\"erosion\",\"liver\",\"Weight\",\"hemorrhage\",\"schedule\",\"Driving\",\"Time\",\"ana\",\"sent\",\"ge\",\"Tags\",\"Telephone\",\"plans\",\"vegetable\",\"Nuprin\",\"EG760R\",\"Portions\",\"todays\",\"pills\",\"relative\",\"characterized\",\"driving\",\"insurance\",\"sphincter\",\"withdrawal\",\"fiber\",\"associate\",\"questions\",\"adult\",\"5868\",\"papillae\",\"5829\",\"medical\",\"response\",\"polyp\",\"use\",\"colon3\",\"hepatic\",\"benefit\",\"NSAID\",\"opaque\",\"undergo\",\"evidence\",\"5ASA\",\"hemorrhoids\",\"duration\",\"Allergies\",\"bothers\",\"Treatment\",\"found\",\"ileocolonic\",\"2C738G117\",\"Patent\",\"Chart\",\"tags\",\"0636\",\"Colonoscopy\",\"Tests\",\"Magnification\",\"symptoms\",\"GA\",\"office\",\"mtx\",\"Resume\",\"marked\",\"Remaining\",\"nonadvanced\",\"Impression\",\"fu\",\"RN\",\"Instruction\",\"Low\",\"Clip\",\"Clinically\",\"example\",\"Mayo\",\"0466\",\"discharge\",\"pattern\",\"taken\",\"stricture\",\"hart\",\"post\",\"indefinitely\",\"H180AL\",\"alt\",\"Fuji\",\"dysplasia\",\"rivaroxaban\",\"firstdegree\",\"starting\",\"currently\",\"Met\",\"lRectal\",\"future\",\"HQ190L\",\"hours\",\"Area\",\"Looks\",\"pulmonary\",\"Failing\",\"valve\",\"spared\",\"regarding\",\"2758\",\"flagyl\",\"J\",\"MRI\",\"proctosigmoiditis\",\"rate\",\"ent\",\"discussed\",\"increase\",\"Rule\",\"374\",\"DRE\",\"company\",\"99\",\"94\",\"12grams\",\"gold\",\"recommend\",\"Moderately\",\"eat\",\"adalimumab\",\"4pm\",\"neoplasm\",\"constipation\",\"viewed\",\"863\",\"instructions\",\"nodular\",\"hemostasis\",\"Band\",\"Tab\",\"CFHQ190L\",\"mass\",\"carpetlike\",\"histology\",\"apixaban\",\"minor\",\"await\",\"switch\",\"Aphtha\",\"247\",\"markers\",\"Capsule\",\"retreatment\",\"family\",\"Endoscopy\",\"Tortuous\",\"High\",\"Path\",\"Lavage\",\"ds\",\"Excision\",\"0666\",\"Nonbleeding\",\"condition\",\"Enema\",\"infusions\",\"025\",\"290\",\"5735\",\"examined\",\"66\",\"Redundant\",\"Vital\",\"renttear\",\"applying\",\"GI\",\"Surgeon\",\"Multiple\",\"xeljanz\",\"adenomatous\",\"upper\",\"endtoside\",\"10mg\",\"posterior\",\"friability\",\"Biopsied\",\"studies\",\"four\",\"Perform\",\"Determine\",\"course\",\"renal\",\"CT\",\"40\",\"ne\",\"Enterography\",\"anastomosis\",\"Suppositories\",\"fatty\",\"injectionlift\",\"diabetic\",\"edema\",\"Three\",\"Incomplete\",\"Lipomatous\",\"leftsided\",\"COLON\",\"Note\",\"mid\",\"ait\",\"Video\",\"hemwell\",\"Sedation\",\"C\",\"origin\",\"Iron\",\"continued\",\"completeness\",\"around\",\"Xarelto\",\"Referring\",\"clip\",\"scores\",\"Canasa\",\"500\",\"2876279\",\"Studies\",\"8446\",\"251\",\"Positive\",\"QID\",\"323\",\"Aspirin\",\"infusion\",\"B\",\"perianally\",\"CRP\",\"mildly\",\"JARRODOPHILUS\",\"Participation\",\"Gender\",\"Anticoags\",\"transplant\",\"including\",\"67\",\"least\",\"seen\",\"give\",\"77\",\"Diarrhea\",\"might\",\"Surveillance\",\"PCFH190L\",\"8am\",\"BBPS\",\"surgery\",\"72022\",\"Entyvio\",\"crohns\",\"consistency\",\"Obtain\",\"Comorbidities\",\"taper\",\"necessary\",\"unusual\",\"Scars\",\"121\",\"CRNA\",\"Daily\",\"BM\",\"Physician\",\"severely\",\"mesalamine\",\"length\",\"40cm\",\"water\",\"increasing\",\"Stool\",\"Ileum\",\"Right\",\"TID\",\"Unassisted\",\"complete\",\"recommended\",\"systemic\",\"123\",\"looping\",\"Clinic\",\"Ped\",\"transverse\",\"yrs\",\"appeared\",\"3641\",\"Finding\",\"olerated\",\"anastamosis\",\"Recommendation\",\"lications\",\"metformin\",\"JAK\",\"Upper\",\"Week\",\"caliber\",\"barium\",\"2C738G123\",\"suggesting\",\"511\",\"e\",\"008\",\"50cm\",\"8478\",\"greater\",\"patchy\",\"2C738G115\",\"Fairly\",\"difficulty\",\"048\",\"appendiceal\",\"cap\",\"low\",\"FH\",\"15cm\",\"ID\",\"SSAs\",\"47\",\"anesthetist\",\"mL\",\"colonoscopy\",\"decreased\",\"4C729G556\",\"Pelvic\",\"week\",\"injection\",\"initally\",\"terminal\",\"endtoend\",\"Instructions\",\"Imodium\",\"line\",\"4C729G456\",\"intolerance\",\"11\",\"72\",\"Await\",\"l\",\"unsuccessful\",\"Previous\",\"successfully\",\"Enlarged\",\"Last\",\"traversed\",\"due\",\"ast\",\"Without\",\"maligcy\",\"staining\",\"3\",\"answered\",\"Unable\",\"mucosa\",\"IV\",\"RTC\",\"fragments\",\"difficile\",\"got\",\"Functional\",\"room\",\"responsible\",\"inflamed\",\"loop\",\"number\",\"tolerated\",\"iron\",\"topical\",\"Glycopyrrolate\",\"Minimal\",\"O2\",\"smallmouthed\",\"medically\",\"abnormal\",\"care\",\"H\",\"potential\",\"secondary\",\"pancolitis\",\"Needed\",\"sthesia\",\"agents\",\"Imaging\",\"Scattered\",\"proposed\",\"Scar\",\"4C729G290\",\"like\",\"1\",\"prostate\",\"visualization\",\"normalcy\",\"microscopic\",\"clear\",\"high\",\"Score\",\"Assessment\",\"Prednisone\",\"Study\",\"200\",\"colonoscope\",\"mercaptopurine\",\"Delayed\",\"Home\",\"ifficult\",\"Photographed\",\"Adult\",\"Fulguration\",\"Total\",\"Mental\",\"62\",\"Fellows\",\"Repeat\",\"Congested\",\"injected\",\"stools\",\"primary\",\"EGD\",\"mm\",\"suggestive\",\"stopping\",\"Welchol\",\"UCEIS\",\"ferritin\",\"Lower\",\"Ondansetron\",\"iffuse\",\"PRN\",\"BPS\",\"Number\",\"tortuous\",\"2018\",\"Lialda\",\"mayo\",\"Responsible\",\"suspected\",\"iv\",\"numerous\",\"Largo\",\"completion\",\"Immune\",\"QD\",\"retained\",\"staff\",\"reviewed\",\"Propofol\",\"areas\",\"Crohns\",\"QI\",\"HYBRID\",\"severe\",\"nstructions\",\"monitored\",\"abdominal\",\"labs\",\"anus\",\"scope\",\"day\",\"Hematochezia\",\"activity\",\"joint\",\"2855868\",\"clinic\",\"whether\",\"Lab\",\"persistent\",\"informed\",\"remove\",\"aspirin\",\"5G402G894\",\"results\",\"4C729G518\",\"position\",\"4C729G505\",\"suppository\",\"Complications\",\"alpha\",\"tb\",\"Tabs\",\"final\",\"tone\",\"Heme\",\"650\",\"tract\",\"inflammed\",\"ulcerative\",\"palpable\",\"risk\",\"5742\",\"consider\",\"Landmarks\",\"RectoSigmoiditis\",\"Zofran\",\"2876294\",\"could\",\"review\",\"appearing\",\"polypoid\",\"vedolizumab\",\"stelara\",\"erythema\",\"quiescent\",\"Written\",\"piecemeal\",\"12\",\"healthy\",\"cm\",\"months\",\"shells\",\"clinically\",\"scar\",\"11am\",\"every\",\"assistance\",\"760R\",\"diarrhea\",\"contraindications\",\"somewhat\",\"viral\",\"Entire\",\"ibuprofen\",\"Inadequate\",\"Ulcerated\",\"benefits\",\"pus\",\"ation\",\"65\",\"Imported\",\"erosions\",\"month\",\"proximal\",\"Blood\",\"dysplastic\",\"go\",\"2200353\",\"5713\",\"setons\",\"LON\",\"Estimated\",\"January\",\"Ileitis\",\"without\",\"upcoming\",\"delayed\",\"Nurse\",\"antibody\",\"Humira\",\"technique\",\"need\",\"Severe\",\"2876285\",\"cecal\",\"helpful\",\"stenotic\",\"skip\",\"leum\",\"180AL\",\"115\",\"advancing\",\"diagnosis\",\"area\",\"normal\",\"300\",\"tolerance\",\"quality\",\"Apriso\",\"colonic\",\"frondlikevillous\",\"five\",\"nonbleeding\",\"Metamucil\",\"pending\",\"entire\",\"requested\",\"semipedunculated\",\"400\",\"Robinul\",\"obtained\",\"IBDU\",\"slip\",\"pediatric\",\"rectal\",\"hyperplastic\",\"documentation\",\"tymlos\",\"diffuse\",\"fungal\",\"Eliquis\",\"avoid\",\"anoscopy\",\"nonobstructing\",\"last\",\"ileocecal\",\"identification\",\"colitis\",\"digital\",\"Unspecified\",\"pseudopolyps\",\"colectomy\",\"aggressive\",\"iverticulosis\",\"naproxen\",\"EUS\",\"15mg\",\"reviewing\",\"retrieval\",\"circumferential\",\"5695\",\"loss\",\"culosis\",\"inadequate\",\"Tumor\",\"Conscious\",\"spontaneous\",\"thick\",\"biopsies\",\"ENDO\",\"107\",\"courtesy\",\"vit\",\"rectumrectosigmoid\",\"scharge\",\"Exclusion\",\"Fentanyl\",\"x\",\"wEase\",\"place\",\"poor\",\"present\",\"Eat\",\"esrcrp\",\"mucosal\",\"random\",\"6G402G047\",\"resection\",\"current\",\"accomplished\",\"VCE\",\"clopidogrel\",\"IBD\",\"350\",\"rx\",\"86\",\"repeat\",\"xeralto\",\"cyst\",\"Specimens\",\"purposes\",\"Hemorrhoids\",\"0655\",\"endoscopic\",\"446\",\"andor\",\"Immediate\",\"500mg\",\"Treated\",\"4C729G453\",\"DL\",\"cell\",\"Midazolam\",\"Five\",\"interfering\",\"patent\",\"granularity\",\"moderately\",\"w\",\"Airway\",\"peds\",\"23\",\"LACTOBACILLUS\",\"Barium\",\"b12\",\"Quality\",\"lotrimin\",\"hematology\",\"91522\",\"colonrectum\",\"Inflammation\",\"NASH\",\"single\",\"EC\",\"Pancolitis\",\"weight\",\"PROBIOTIC\",\"IC\",\"removal\",\"4319\",\"PCFQ180AL\",\"focused\",\"Medication\",\"stop\",\"supine\",\"pushing\",\"intrinsic\",\"diet\",\"localized\",\"habitus\",\"Abnormalities\",\"310\",\"scan\",\"1899\",\"colorectal\",\"Primary\",\"size\",\"peat\",\"aphthous\",\"continuous\",\"Specify\",\"maligt\",\"Africa\",\"Antibodies\",\"performed\",\"EC760RVL\",\"budesonide\",\"otal\",\"suspect\",\"2855830\",\"Drug\",\"Info\",\"specimens\",\"narrowing\",\"ASA\",\"scarred\",\"humira\",\"5mgkg\",\"Biopsy\",\"Definitions\",\"saturations\",\"5890\",\"Pre\",\"20cm\",\"calprotectin\",\"Endoscopist\",\"placed\",\"new\",\"allergies\",\"center\",\"surrounded\",\"Maneuver\",\"maintaining\",\"fifteen\",\"introduced\",\"anticoagulants\",\"History\",\"5831\",\"working\",\"Normal\",\"AspirinNSAID\",\"designated\",\"Criteria\",\"today\",\"529\",\"ceruloplasmin\",\"daily\",\"4\",\"85\",\"Internal\",\"treating\",\"first\",\"4C729G446\",\"Cleared\",\"large\",\"Inflamed\",\"right\",\"descending\",\"biopsied\",\"read\",\"avsola\",\"Evidence\",\"Change\",\"100mg\",\"anticoagulant\",\"ammonia\",\"small\",\"severity\",\"provided\",\"pouchanal\",\"return\",\"pill\",\"pains\",\"ebv\",\"2603980\",\"region\",\"Diet\",\"124\",\"1Fuji\",\"measuring\",\"protuberance\",\"4695Colon\",\"4C729G467\",\"Benefiber\",\"blockers\",\"internal\",\"successful\",\"20mg\",\"Anticoagulants\",\"crp\",\"Micro\",\"Lidocaine\",\"LEUS\",\"Decreased\",\"tid\",\"01\",\"unexplained\",\"options\",\"free\",\"Boston\",\"despite\",\"Consent\",\"Lipoma\",\"20\",\"biopsy\",\"7\",\"flatus\",\"neoterminal\",\"Necessary\",\"solitary\",\"elevated\",\"Age\",\"Pedi\",\"Polypoid\",\"biologics\",\"dose\",\"0028\",\"lesions\",\"TC\",\"externalinternal\",\"antiplatelet\",\"back\",\"Single\",\"Signs\",\"UC\",\"fistula\",\"Present\",\"Polypectomy\",\"Poor\",\"5674\",\"friable\",\"4690\",\"examination\",\"defect\",\"9\",\"compared\",\"scarring\",\"distant\",\"Post\",\"CMP\",\"260\",\"deficiency\",\"aided\",\"Generic\",\"Severity\",\"july\",\"withdrawing\",\"shallow\",\"Entocort\",\"olon\",\"Gastrointestinal\",\"aborted\",\"r\",\"discuss\",\"109\",\"coming\",\"clinical\",\"midline\",\"PO\",\"Site\",\"manual\",\"space\",\"Flexible\",\"BP\",\"Mucosa\",\"Left\",\"would\",\"asymptomatic\",\"orally\",\"sessile\",\"make\",\"407\",\"needed\",\"FUJI\",\"Index\",\"Moderate\",\"FH190L\",\"risks\",\"inflammation\",\"visualized\",\"medium\",\"lesion\",\"3560\",\"spasm\",\"applied\",\"Foreign\",\"significant\",\"thru\",\"nodules\",\"ephedrine\",\"resume\",\"antiinflammatory\",\"518\",\"Monitored\",\"relatives\",\"50\",\"pulling\",\"crpesr\",\"Peridiverticular\",\"retrieved\",\"reinserting\",\"Per\",\"Loose\",\"4C729G460\",\"ileitis\",\"ulcerated\",\"4689\",\"diverticulum\",\"L\",\"nontraversed\",\"Significant\",\"improved\",\"precise\",\"Disease\",\"2041\",\"minimal\",\"ustekinumab\",\"tapering\",\"Mizrahi\",\"Inflammatory\",\"retroflexion\",\"Small\",\"SugarFree\",\"develop\",\"Data\",\"occasional\",\"nonsteroidal\",\"augmented\",\"ascending\",\"Pediatric\",\"B6\",\"Avoidance\",\"0669\",\"foreign\",\"5726\",\"571\",\"presumed\",\"followed\",\"bleeding\",\"Pertinent\",\"identified\",\"600\",\"2876269\",\"recommendations\",\"check\",\"contact\",\"AP\",\"COL\",\"cancer\",\"ESR\",\"Fibroscan\",\"Personal\",\"snare\",\"Stelara\",\"Suppository\",\"P674\",\"heart\",\"shingles\",\"Additional\",\"Ulceration\",\"tsp\",\"Colonic\",\"checking\",\"degree\",\"vidence\",\"material\",\"IDApancytopenia\",\"Scarred\",\"recent\",\"le\",\"Ulcer\",\"verified\",\"perianal\",\"Proctosigmoid\",\"firm\",\"LRC\",\"largemouthed\",\"cecum\",\"122\",\"anemia\",\"qu\",\"resulting\",\"days\",\"administered\",\"Contact\",\"mg\",\"trial\",\"Transverse\",\"TNF\",\"liquid\",\"68\",\"abdomen\",\"flat\",\"home\",\"Many\",\"ablate\",\"neo\",\"Practitioner\",\"may\",\"Pseudopolyps\",\"2200196\",\"score\",\"mplications\",\"ileum\",\"start\",\"5659\",\"Complete\",\"4C729G454\",\"Nodule\",\"Preparation\",\"505\",\"ggt\",\"satisfactory\",\"pre\",\"Melena\",\"development\",\"One\",\"polypectomy\",\"proctitis\",\"6\",\"receiving\",\"Cipro\",\"1st\",\"signs\",\"sedation\",\"waiting\",\"Proctitis\",\"dt\",\"10\",\"Narrow\",\"available\",\"shed\",\"2021\",\"bedtime\",\"graded\",\"ender\",\"bx\",\"ct\",\"OH\",\"4698\",\"PostSurgical\",\"Scale\",\"benign\",\"Ileal\",\"po\",\"blood\",\"polyposis\",\"SQ\",\"scattered\",\"Status\",\"pan\",\"suboptimal\",\"immune\",\"comorbidity\",\"change\",\"test\",\"Variable\",\"Assess\",\"5881\",\"endoscopy\",\"follow\",\"102022\",\"additional\",\"along\",\"apnea\",\"moderate\",\"4C729G463\",\"Physical\",\"emergencies\",\"58\",\"record\",\"staple\",\"canal\",\"Increased\",\"Difficult\",\"cope\",\"complications\",\"2840985\",\"Diffuse\",\"2C738G122\",\"Friable\",\"FLORASTOR\",\"ills\",\"anal\",\"cbc\",\"older\",\"base\",\"2840992\",\"ileal\",\"product\",\"asma\",\"prednisone\",\"increased\",\"Refer\",\"sat\",\"See\",\"lab\",\"Cologuard\",\"lift\",\"prior\",\"Perianal\",\"anesthesia\",\"report\",\"None\",\"patches\",\"medication\",\"TIVA\",\"LR\",\"prep\",\"age\",\"Ultrasound\",\"mucus\",\"5683\",\"oids\",\"travelers\",\"chronic\",\"syndrome\",\"Granularity\",\"forcepsmicroscopic\",\"adenoma\",\"physical\",\"absent\",\"take\",\"end\",\"rule\",\"Motrin\",\"quantaferon\",\"Fair\",\"sterile\",\"ulcers\",\"appears\",\"Take\",\"years\",\"35\",\"assessment\",\"equals\",\"Suture\",\"Constipation\",\"111\",\"come\",\"immunogenicity\",\"Certification\",\"550\",\"entyvio\",\"mild\",\"multiple\",\"Anatomy\",\"hsv\",\"Medications\",\"0628Colon\",\"Erythema\",\"intact\",\"involved\",\"monoferric\",\"cream\",\"premedication\",\"PEDIATRIC\",\"records\",\"known\",\"Start\",\"worsened\",\"straightening\",\"rash\",\"proctosigmoid\",\"ventilation\",\"hot\",\"disease\",\"plications\",\"please\",\"ulcer\",\"se\",\"Analperianal\",\"path\",\"continue\",\"surveillance\",\"Rectal\",\"Reviewed\",\"Abnormal\",\"sensitivities\",\"although\",\"Continue\",\"Generalized\",\"Scope\",\"sleep\",\"Unexplained\",\"5731\",\"III\",\"appearance\",\"Patchy\",\"106\",\"8\",\"rectum\",\"saline\",\"since\",\"Antiplatelets\",\"1302023\",\"sigmoid\",\"Mucosal\",\"pathology\",\"negatives\",\"metfor\",\"ed\",\"Examined\",\"CBC\",\"noncircumferential\",\"diminutive\",\"Exam\",\"2290637\",\"Care\",\"received\",\"2C738G121\",\"nonthrombosed\",\"stigmata\",\"flexure\",\"Endoscopes\",\"amount\",\"Segmental\",\"Indication\",\"Skin\",\"except\",\"Skills\",\"Grade\",\"HC\",\"PCFH190DL\",\"therapeutic\",\"medications\",\"fat\",\"Ulcerative\",\"Cortenema\",\"extensive\",\"Dr\",\"116\",\"90mcg\",\"HR\",\"immediate\",\"Biopsies\",\"Gastroenterologist\",\"Abdominal\",\"Results\",\"Bleed\",\"2\",\"next\",\"remission\",\"Vancocin\",\"Office\",\"Loaner\",\"noted\",\"based\",\"eliquis\",\"polyps\",\"difficult\",\"extent\",\"previous\",\"General\",\"good\",\"Meet\",\"Simple\",\"esophageal\",\"supervision\",\"altered\",\"566\",\"multipie\",\"maneuver\",\"pancytopenia\",\"Colitis\",\"144\",\"updated\",\"Use\",\"examinations\",\"PED\",\"150\",\"enlarged\",\"Endoscopic\",\"scheduled\",\"olyps\",\"pelvis\",\"going\",\"lialda\",\"Tear\",\"0649\",\"regular\",\"adequacy\",\"left\",\"HP\",\"C760RVL\",\"ordered\",\"Advanced\",\"hepatitis\",\"5844\",\"cold\",\"clearance\",\"abnormality\",\"lon\",\"extremely\",\"Withdrawal\",\"association\",\"P\",\"Rowasa\",\"excessive\",\"vaccine\",\"doses\",\"contrast\",\"cmv\",\"lavage\",\"ileorectal\",\"pathogens\",\"Erythematous\",\"aphthae\",\"Attending\",\"collected\",\"concern\",\"Stricture\",\"splenic\",\"EBL\",\"assess\",\"DC\",\"physician\",\"unknown\",\"Stop\",\"nodule\",\"Test\",\"te\",\"4C729G470\",\"looked\",\"colonpatchyMayo\",\"Colon\",\"Obtained\",\"angiodysplastic\",\"previously\",\"Cancer\",\"Hydrocortisone\",\"appointment\",\"year\",\"obtain\",\"intention\",\"study\",\"submucosal\",\"4C729G451\",\"IDA\",\"levels\",\"sulfasalazine\",\"Eleview\",\"Findings\",\"Erosion\",\"ultrasound\",\"B12\",\"sk\",\"Hypertrophied\",\"quantiferon\",\"oxygen\",\"Diphenhydramine\",\"Advil\",\"limbs\",\"folic\",\"cmp\",\"15\",\"Method\",\"Taper\",\"Family\",\"ama\",\"Resected\",\"definitive\",\"orifice\",\"Discharge\",\"30\",\"three\",\"Two\",\"3131\",\"Four\",\"Administration\",\"gluten\",\"exam\",\"removed\",\"tissue\",\"0622\",\"athology\",\"vancomycin\",\"deemed\",\"ER\",\"acid\",\"DifficultyTolerance\",\"Remicade\",\"patulous\",\"5848\",\"Localized\",\"Pathology\",\"lipoma\",\"opening\",\"changing\",\"congested\",\"computed\",\"advanced\",\"Well\",\"forceps\",\"Referral\",\"Angiodysplasia\",\"Fiber\",\"Incidental\",\"include\",\"discharged\",\"Days\",\"Orders\",\"sided\",\"traverse\",\"pouch\",\"Colonoscope\",\"residual\",\"ulcerations\",\"Colorectal\",\"nurse\",\"60\",\"Anesthesia\",\"556\",\"mediumsized\",\"vascular\"],\"xaxis\":\"x\",\"y\":[1,6,1,0,140,6,8,0,3,28,2,0,2,0,1,0,1,5,0,2,0,13,2,12,1,1,2,16,23,5,1,5,2,1,1,1,3,1,0,4,2,65,290,358,0,1,5,1,4,0,25,264,139,2,49,2,8,12,1,111,1,5,2,0,1,25,2,6,260,11,1,1,0,268,15,14,42,3,1,4,1,0,1,89,2,0,3,1028,0,4,4,0,5,13,0,2,1,1,3,0,4,2,42,2,25,0,1,1,9,146,55,9,59,5,2,1,196,2,1,0,444,15,12,22,22,4,2,1,5,0,16,2,0,6,47,0,7,4,16,2,2,8,1,3,2,25,2,0,2,53,41,125,27,2,211,6,1,1,12,6,0,0,3,87,1,0,1,0,110,1,20,1,134,11,1,2,114,4,2,11,0,152,2,1,1,2,1,7,9,1,0,1,208,15,0,10,282,10,1,0,1,40,46,1,12,1,1,0,15,10,6,0,1,0,5,1,0,0,0,0,26,9,2,116,2,4,2,1,12,10,14,3,1,1,23,1,1,2,5,2,16,0,2,6,1,2,32,0,0,2,0,7,1,2,2,17,20,1,11,0,9,2,23,15,1,6,1,9,17,108,1,0,29,0,30,40,22,9,0,64,40,15,0,1,101,5,4,1,106,4,2,740,1,9,57,10,63,1,31,3,1,0,324,4,1,0,4,0,3,0,85,1,57,15,51,7,0,1,0,0,2,14,4,0,1,0,0,89,5,1,1,0,1,2,1,1,23,4,0,1,4,0,1,18,2,5,132,5,1,1,17,1,0,1,2,2,0,1,1,15,1,4,2,0,0,419,8,0,9,0,13,9,1,53,0,15,2,1,6,0,1,3,0,9,5,2,90,0,0,0,1,3,12,22,7,2,5,1,1,27,1,0,1,2,2,304,6,27,2,1,1,2,2,2,14,32,2,2,4,4,3,0,29,37,0,9,7,3,0,0,0,6,6,1,0,15,28,3,6,1,3,0,15,2,3,6,0,1,3,0,48,0,22,25,3,7,0,0,1,2,2,0,23,6,1,0,2,4,0,114,170,6,1,2,1,0,208,0,1,12,0,7,3,0,154,32,0,10,0,4,5,1,2,10,1,0,4,9,25,0,91,1,79,0,1,0,3,4,238,23,3,7,14,14,23,1,11,252,10,55,14,14,1,40,2,3,349,26,1,1,0,12,1,0,1,0,1,4,14,4,0,1,5,2,1,20,3,24,0,6,1,0,10,0,1,10,1,60,2,2,0,2,1,1,43,0,292,0,2,3,0,0,0,767,3,0,162,0,0,270,1,7,1,10,1,40,68,23,1,113,64,1,40,2,0,1,10,15,15,0,419,35,4,1,0,116,1,0,10,2,40,106,57,9,62,0,3,12,9,3,10,3,1,2,34,4,0,1,4,1,1,218,233,47,2,0,0,2,361,406,1,187,54,1,88,1,1,16,500,7,1,2,30,6,15,0,2,0,6,1,4,0,0,2,0,2,5,1,25,2,15,0,1,2,1,4,1,0,2,0,47,151,4,267,2,5,16,0,1,11,7,49,4,2,17,425,1,1,2,2,2,1,23,1,0,0,69,0,1,2,0,312,2,3,3,2,11,0,1,6,0,128,13,89,1,1,184,0,0,3,1,7,0,7,10,5,17,0,418,2,25,0,17,21,1,2,1,0,6,0,0,26,10,1,1,113,6,1,1,45,2,3,5,5,5,0,26,135,1,20,0,0,0,50,185,1,64,20,0,57,6,0,14,1,11,1,3,0,1,1,1,7,1,2,1,5,27,208,3,23,23,9,81,1,6,21,0,2,53,0,1,1,0,49,1,1,6,42,2,110,0,5,0,0,0,8,1,1,22,29,133,26,0,6,1,1,0,6,0,2,22,12,9,0,61,2,0,2,6,4,2,65,4,0,2,4,1,1,1,7,3,7,0,0,40,4,0,2,2,0,0,0,0,0,0,1,1,2,0,12,0,0,20,0,61,3,0,3,15,1,1,1,1,6,1,7,2,0,1,4,12,42,2,0,1,0,2,1,255,0,0,0,3,19,0,0,38,3,0,0,15,0,1,1,1,364,3,1,1,2,42,7,1,50,0,6,1,3,43,9,0,4,9,2,4,2,0,43,18,50,2,0,1,2,1,6,0,238,3,0,0,46,10,1,1,10,1,1,4,0,4,23,1,1,20,0,0,24,12,23,0,0,266,1,15,89,0,9,2,10,37,0,20,1,2,3,10,8,9,11,47,7,1,0,31,7,2,12,0,149,9,57,0,19,0,1,1,1,1,410,12,2,0,2,3,1,0,0,28,2,2,200,4,8,8,0,1,2,0,3,23,3,22,2,15,2,14,20,6,1,0,10,0,1,170,10,1,2,21,0,11,1,0,12,1,69,1,78,0,555,0,1,1,2,4,12,0,82,9,1,1,141,2,0,6,4,19,6,0,1,5,36,14,2,1,0,4,3,1,2,2,33,2,1,1,8,1,1,22,2,1,0,8,1,0,2,24,6,16,2,68,23,2,1,18,1,2,2,0,9,5,0,2,2,6,0,112,1,3,1,1,2,12,1,1,0,3,1,7,0,5,7,2,3,3,5,127,1,1,10,2,2,125,68,2,0,1,6,0,6,0,49,45,1,11,2,0,1,1,3,3,43,12,1,0,3,54,1,59,1,0,80,2,0,26,16,9,2,1,1,1,1,1,0,21,0,1,0,0,0,1,2,1,5,20,21,3,0,2,4,33,1,7,1,0,8,125,359,75,1,22,0,41,0,10,2,69,0,1,3,6,26,18,1,23,4,205,1,2,8,1,1,38,2,1,22,11,0,0,10,1,10,6,0,3,1,57,51,22,1,0,12,9,57,0,0,0,14,2,0,0,4,0,3,22,2,2,2,57,0,12,1,1,1,0,0,1,9,1,6,16,0,0,1,0,0,2,3,12,2,23,57,2,13,2,3,0,353,1,808,2,0,1,2,0,1,12,4,4,1,3,0,0,2,4,1,1,1,109,1,2,2,19,39,53,1,72,1,3,28,1,2,5,1,2,0,2,2,67,0,2,5,1,10,3,2,0,1,2,2,14,0,3,4,0,85,2,121,22,0,0,11,2,0,0,1,3,40,0,1,1,554,3,3,2,15,0,0,0,57,1,3,4,6,0,0,1,1,7,354,23,2,1,1,0,2,2,133,33,15,60,11,1,585,2,58,3,2,0,4,0,4,0,82,49,1,1,6,1,51,48,71,12,1,0,1,2,1,10,252,0,145,1,4,10,2,49,147,15,4,367,4,1,10,53,0,4,16,179,3,64,9,2,116,9,2,1,388,35,1,9,731,0,52,2,0,2,209,2,19,14,0,55,4,4,67,1,1,1,68,1,9,3,1,0,137,0,59,11,1,0,24,3,3,0,10,76,1,8,2,2,1,4,15,1,26,16,1,2,7,2,1,80,0,5,4,3,0,0,106,8,3,1,0,15,1,3,0,1,0,1,121,0,1,23,20,134,0,1,54,0,2,2,2,2,2,1,1,1078,15,0,69,1,2,6,3,2,1,2,0,3,0,0,3,0,336,3,0,2,1,2,1,1,2,2,0,1,4,0,8,11,12,2,12,0,24,575,7,1,12,1,5,6,1,15,28,1,0,6,1,22,1,1,358,16,1,0,4,731,0,0,2,19,6,24,360,71,10,0,0,14,17,23,6,140,21,1,0,36,40,15,3,10,4,362,2,2,4],\"yaxis\":\"y\",\"type\":\"bar\"},{\"alignmentgroup\":\"True\",\"hovertemplate\":\"Disease Severity=Inactive_Freq<br>Word=%{x}<br>Frequency=%{y}<extra></extra>\",\"legendgroup\":\"Inactive_Freq\",\"marker\":{\"color\":\"red\",\"pattern\":{\"shape\":\"\"}},\"name\":\"Inactive_Freq\",\"offsetgroup\":\"Inactive_Freq\",\"orientation\":\"v\",\"showlegend\":true,\"textposition\":\"auto\",\"x\":[\"body\",\"quadrant\",\"Ileitisileal\",\"FUV\",\"Op\",\"drugs\",\"atory\",\"hour\",\"andmarks\",\"Background\",\"contained\",\"way\",\"testing\",\"level\",\"meds\",\"granuloma\",\"setting\",\"q\",\"recheck\",\"loading\",\"TeleHealth\",\"Resection\",\"Gluten\",\"Uceris\",\"5714\",\"unable\",\"injections\",\"infliximab\",\"preparation\",\"congestion\",\"empiric\",\"2840997\",\"Bentyl\",\"intestine\",\"reassessment\",\"invisible\",\"2C738G048\",\"100\",\"tsps\",\"hypertrophied\",\"Vascular\",\"well\",\"Profile\",\"Tolerated\",\"methotrexate\",\"one\",\"Screening\",\"colonlarge\",\"117\",\"flexible\",\"1000\",\"bowel\",\"per\",\"Check\",\"Established\",\"skin\",\"habits\",\"Advance\",\"diverticulosis\",\"note\",\"AC\",\"Biopsycold\",\"GIFH190\",\"colocolonic\",\"4686\",\"using\",\"Preanesthesia\",\"erianalRectal\",\"Prep\",\"inflammatory\",\"4C729G506\",\"PSC\",\"lmc\",\"Date\",\"onethird\",\"Chronic\",\"stool\",\"HD\",\"painfever\",\"evaluation\",\"usf\",\"shortening\",\"oral\",\"Otherwise\",\"accomplish\",\"sutures\",\"Asacol\",\"Return\",\"Polyp\",\"ulceration\",\"diverticula\",\"incomplete\",\"lower\",\"5\",\"lipomatous\",\"0625\",\"weekly\",\"significantly\",\"ok\",\"kPa\",\"given\",\"External\",\"Olympus\",\"folate\",\"QHS\",\"ADA\",\"resected\",\"May\",\"25\",\"Endo\",\"Prior\",\"vascularity\",\"findings\",\"Somewhat\",\"0630\",\"elevation\",\"Shortcut\",\"throughout\",\"tumor\",\"six\",\"colon\",\"portion\",\"revealed\",\"erythematous\",\"evaluated\",\"shape\",\"concerned\",\"confluent\",\"BID\",\"encouraged\",\"prolapse\",\"200mg\",\"Plavix\",\"GIQuIC\",\"Diverticulosis\",\"seeds\",\"pressure\",\"skyrizi\",\"pain\",\"125\",\"benignappearing\",\"sigmoidoscopy\",\"Exudate\",\"Technically\",\"stenosis\",\"gm\",\"ASGE\",\"hemostatic\",\"5846\",\"Discussed\",\"history\",\"Performed\",\"PR\",\"4C729G469\",\"PerianalRectal\",\"tomography\",\"refusing\",\"Tattoo\",\"also\",\"Stopping\",\"uality\",\"Mild\",\"Nodular\",\"Followup\",\"positive\",\"LA\",\"quantife\",\"enema\",\"Personally\",\"active\",\"II\",\"506\",\"Loss\",\"two\",\"father\",\"rectosigmoid\",\"activities\",\"Successful\",\"needs\",\"152\",\"10mgkg\",\"Anticoagulant\",\"dicyclomine\",\"22\",\"lactoferrin\",\"xifaxan\",\"malodorous\",\"Accomplished\",\"balsalazide\",\"22mg\",\"hematoma\",\"TB\",\"PreAnesthesia\",\"Deep\",\"visible\",\"determined\",\"Bowel\",\"Verification\",\"30cm\",\"fair\",\"done\",\"total\",\"ambulatory\",\"inhibitors\",\"Q\",\"respiratory\",\"568\",\"decision\",\"distal\",\"764\",\"Anal\",\"reduction\",\"Skinny\",\"able\",\"esr\",\"4C729G468\",\"reevaluation\",\"impacted\",\"5G402G887\",\"Injected\",\"therapy\",\"Colazal\",\"antitrypsin\",\"tomorrow\",\"stalkpedunculated\",\"diverticular\",\"order\",\"unsuccessfully\",\"eroded\",\"MAC\",\"weeks\",\"800\",\"2855825\",\"Blank\",\"consent\",\"erosion\",\"liver\",\"Weight\",\"hemorrhage\",\"schedule\",\"Driving\",\"Time\",\"ana\",\"sent\",\"ge\",\"Tags\",\"Telephone\",\"plans\",\"vegetable\",\"Nuprin\",\"EG760R\",\"Portions\",\"todays\",\"pills\",\"relative\",\"characterized\",\"driving\",\"insurance\",\"sphincter\",\"withdrawal\",\"fiber\",\"associate\",\"questions\",\"adult\",\"5868\",\"papillae\",\"5829\",\"medical\",\"response\",\"polyp\",\"use\",\"colon3\",\"hepatic\",\"benefit\",\"NSAID\",\"opaque\",\"undergo\",\"evidence\",\"5ASA\",\"hemorrhoids\",\"duration\",\"Allergies\",\"bothers\",\"Treatment\",\"found\",\"ileocolonic\",\"2C738G117\",\"Patent\",\"Chart\",\"tags\",\"0636\",\"Colonoscopy\",\"Tests\",\"Magnification\",\"symptoms\",\"GA\",\"office\",\"mtx\",\"Resume\",\"marked\",\"Remaining\",\"nonadvanced\",\"Impression\",\"fu\",\"RN\",\"Instruction\",\"Low\",\"Clip\",\"Clinically\",\"example\",\"Mayo\",\"0466\",\"discharge\",\"pattern\",\"taken\",\"stricture\",\"hart\",\"post\",\"indefinitely\",\"H180AL\",\"alt\",\"Fuji\",\"dysplasia\",\"rivaroxaban\",\"firstdegree\",\"starting\",\"currently\",\"Met\",\"lRectal\",\"future\",\"HQ190L\",\"hours\",\"Area\",\"Looks\",\"pulmonary\",\"Failing\",\"valve\",\"spared\",\"regarding\",\"2758\",\"flagyl\",\"J\",\"MRI\",\"proctosigmoiditis\",\"rate\",\"ent\",\"discussed\",\"increase\",\"Rule\",\"374\",\"DRE\",\"company\",\"99\",\"94\",\"12grams\",\"gold\",\"recommend\",\"Moderately\",\"eat\",\"adalimumab\",\"4pm\",\"neoplasm\",\"constipation\",\"viewed\",\"863\",\"instructions\",\"nodular\",\"hemostasis\",\"Band\",\"Tab\",\"CFHQ190L\",\"mass\",\"carpetlike\",\"histology\",\"apixaban\",\"minor\",\"await\",\"switch\",\"Aphtha\",\"247\",\"markers\",\"Capsule\",\"retreatment\",\"family\",\"Endoscopy\",\"Tortuous\",\"High\",\"Path\",\"Lavage\",\"ds\",\"Excision\",\"0666\",\"Nonbleeding\",\"condition\",\"Enema\",\"infusions\",\"025\",\"290\",\"5735\",\"examined\",\"66\",\"Redundant\",\"Vital\",\"renttear\",\"applying\",\"GI\",\"Surgeon\",\"Multiple\",\"xeljanz\",\"adenomatous\",\"upper\",\"endtoside\",\"10mg\",\"posterior\",\"friability\",\"Biopsied\",\"studies\",\"four\",\"Perform\",\"Determine\",\"course\",\"renal\",\"CT\",\"40\",\"ne\",\"Enterography\",\"anastomosis\",\"Suppositories\",\"fatty\",\"injectionlift\",\"diabetic\",\"edema\",\"Three\",\"Incomplete\",\"Lipomatous\",\"leftsided\",\"COLON\",\"Note\",\"mid\",\"ait\",\"Video\",\"hemwell\",\"Sedation\",\"C\",\"origin\",\"Iron\",\"continued\",\"completeness\",\"around\",\"Xarelto\",\"Referring\",\"clip\",\"scores\",\"Canasa\",\"500\",\"2876279\",\"Studies\",\"8446\",\"251\",\"Positive\",\"QID\",\"323\",\"Aspirin\",\"infusion\",\"B\",\"perianally\",\"CRP\",\"mildly\",\"JARRODOPHILUS\",\"Participation\",\"Gender\",\"Anticoags\",\"transplant\",\"including\",\"67\",\"least\",\"seen\",\"give\",\"77\",\"Diarrhea\",\"might\",\"Surveillance\",\"PCFH190L\",\"8am\",\"BBPS\",\"surgery\",\"72022\",\"Entyvio\",\"crohns\",\"consistency\",\"Obtain\",\"Comorbidities\",\"taper\",\"necessary\",\"unusual\",\"Scars\",\"121\",\"CRNA\",\"Daily\",\"BM\",\"Physician\",\"severely\",\"mesalamine\",\"length\",\"40cm\",\"water\",\"increasing\",\"Stool\",\"Ileum\",\"Right\",\"TID\",\"Unassisted\",\"complete\",\"recommended\",\"systemic\",\"123\",\"looping\",\"Clinic\",\"Ped\",\"transverse\",\"yrs\",\"appeared\",\"3641\",\"Finding\",\"olerated\",\"anastamosis\",\"Recommendation\",\"lications\",\"metformin\",\"JAK\",\"Upper\",\"Week\",\"caliber\",\"barium\",\"2C738G123\",\"suggesting\",\"511\",\"e\",\"008\",\"50cm\",\"8478\",\"greater\",\"patchy\",\"2C738G115\",\"Fairly\",\"difficulty\",\"048\",\"appendiceal\",\"cap\",\"low\",\"FH\",\"15cm\",\"ID\",\"SSAs\",\"47\",\"anesthetist\",\"mL\",\"colonoscopy\",\"decreased\",\"4C729G556\",\"Pelvic\",\"week\",\"injection\",\"initally\",\"terminal\",\"endtoend\",\"Instructions\",\"Imodium\",\"line\",\"4C729G456\",\"intolerance\",\"11\",\"72\",\"Await\",\"l\",\"unsuccessful\",\"Previous\",\"successfully\",\"Enlarged\",\"Last\",\"traversed\",\"due\",\"ast\",\"Without\",\"maligcy\",\"staining\",\"3\",\"answered\",\"Unable\",\"mucosa\",\"IV\",\"RTC\",\"fragments\",\"difficile\",\"got\",\"Functional\",\"room\",\"responsible\",\"inflamed\",\"loop\",\"number\",\"tolerated\",\"iron\",\"topical\",\"Glycopyrrolate\",\"Minimal\",\"O2\",\"smallmouthed\",\"medically\",\"abnormal\",\"care\",\"H\",\"potential\",\"secondary\",\"pancolitis\",\"Needed\",\"sthesia\",\"agents\",\"Imaging\",\"Scattered\",\"proposed\",\"Scar\",\"4C729G290\",\"like\",\"1\",\"prostate\",\"visualization\",\"normalcy\",\"microscopic\",\"clear\",\"high\",\"Score\",\"Assessment\",\"Prednisone\",\"Study\",\"200\",\"colonoscope\",\"mercaptopurine\",\"Delayed\",\"Home\",\"ifficult\",\"Photographed\",\"Adult\",\"Fulguration\",\"Total\",\"Mental\",\"62\",\"Fellows\",\"Repeat\",\"Congested\",\"injected\",\"stools\",\"primary\",\"EGD\",\"mm\",\"suggestive\",\"stopping\",\"Welchol\",\"UCEIS\",\"ferritin\",\"Lower\",\"Ondansetron\",\"iffuse\",\"PRN\",\"BPS\",\"Number\",\"tortuous\",\"2018\",\"Lialda\",\"mayo\",\"Responsible\",\"suspected\",\"iv\",\"numerous\",\"Largo\",\"completion\",\"Immune\",\"QD\",\"retained\",\"staff\",\"reviewed\",\"Propofol\",\"areas\",\"Crohns\",\"QI\",\"HYBRID\",\"severe\",\"nstructions\",\"monitored\",\"abdominal\",\"labs\",\"anus\",\"scope\",\"day\",\"Hematochezia\",\"activity\",\"joint\",\"2855868\",\"clinic\",\"whether\",\"Lab\",\"persistent\",\"informed\",\"remove\",\"aspirin\",\"5G402G894\",\"results\",\"4C729G518\",\"position\",\"4C729G505\",\"suppository\",\"Complications\",\"alpha\",\"tb\",\"Tabs\",\"final\",\"tone\",\"Heme\",\"650\",\"tract\",\"inflammed\",\"ulcerative\",\"palpable\",\"risk\",\"5742\",\"consider\",\"Landmarks\",\"RectoSigmoiditis\",\"Zofran\",\"2876294\",\"could\",\"review\",\"appearing\",\"polypoid\",\"vedolizumab\",\"stelara\",\"erythema\",\"quiescent\",\"Written\",\"piecemeal\",\"12\",\"healthy\",\"cm\",\"months\",\"shells\",\"clinically\",\"scar\",\"11am\",\"every\",\"assistance\",\"760R\",\"diarrhea\",\"contraindications\",\"somewhat\",\"viral\",\"Entire\",\"ibuprofen\",\"Inadequate\",\"Ulcerated\",\"benefits\",\"pus\",\"ation\",\"65\",\"Imported\",\"erosions\",\"month\",\"proximal\",\"Blood\",\"dysplastic\",\"go\",\"2200353\",\"5713\",\"setons\",\"LON\",\"Estimated\",\"January\",\"Ileitis\",\"without\",\"upcoming\",\"delayed\",\"Nurse\",\"antibody\",\"Humira\",\"technique\",\"need\",\"Severe\",\"2876285\",\"cecal\",\"helpful\",\"stenotic\",\"skip\",\"leum\",\"180AL\",\"115\",\"advancing\",\"diagnosis\",\"area\",\"normal\",\"300\",\"tolerance\",\"quality\",\"Apriso\",\"colonic\",\"frondlikevillous\",\"five\",\"nonbleeding\",\"Metamucil\",\"pending\",\"entire\",\"requested\",\"semipedunculated\",\"400\",\"Robinul\",\"obtained\",\"IBDU\",\"slip\",\"pediatric\",\"rectal\",\"hyperplastic\",\"documentation\",\"tymlos\",\"diffuse\",\"fungal\",\"Eliquis\",\"avoid\",\"anoscopy\",\"nonobstructing\",\"last\",\"ileocecal\",\"identification\",\"colitis\",\"digital\",\"Unspecified\",\"pseudopolyps\",\"colectomy\",\"aggressive\",\"iverticulosis\",\"naproxen\",\"EUS\",\"15mg\",\"reviewing\",\"retrieval\",\"circumferential\",\"5695\",\"loss\",\"culosis\",\"inadequate\",\"Tumor\",\"Conscious\",\"spontaneous\",\"thick\",\"biopsies\",\"ENDO\",\"107\",\"courtesy\",\"vit\",\"rectumrectosigmoid\",\"scharge\",\"Exclusion\",\"Fentanyl\",\"x\",\"wEase\",\"place\",\"poor\",\"present\",\"Eat\",\"esrcrp\",\"mucosal\",\"random\",\"6G402G047\",\"resection\",\"current\",\"accomplished\",\"VCE\",\"clopidogrel\",\"IBD\",\"350\",\"rx\",\"86\",\"repeat\",\"xeralto\",\"cyst\",\"Specimens\",\"purposes\",\"Hemorrhoids\",\"0655\",\"endoscopic\",\"446\",\"andor\",\"Immediate\",\"500mg\",\"Treated\",\"4C729G453\",\"DL\",\"cell\",\"Midazolam\",\"Five\",\"interfering\",\"patent\",\"granularity\",\"moderately\",\"w\",\"Airway\",\"peds\",\"23\",\"LACTOBACILLUS\",\"Barium\",\"b12\",\"Quality\",\"lotrimin\",\"hematology\",\"91522\",\"colonrectum\",\"Inflammation\",\"NASH\",\"single\",\"EC\",\"Pancolitis\",\"weight\",\"PROBIOTIC\",\"IC\",\"removal\",\"4319\",\"PCFQ180AL\",\"focused\",\"Medication\",\"stop\",\"supine\",\"pushing\",\"intrinsic\",\"diet\",\"localized\",\"habitus\",\"Abnormalities\",\"310\",\"scan\",\"1899\",\"colorectal\",\"Primary\",\"size\",\"peat\",\"aphthous\",\"continuous\",\"Specify\",\"maligt\",\"Africa\",\"Antibodies\",\"performed\",\"EC760RVL\",\"budesonide\",\"otal\",\"suspect\",\"2855830\",\"Drug\",\"Info\",\"specimens\",\"narrowing\",\"ASA\",\"scarred\",\"humira\",\"5mgkg\",\"Biopsy\",\"Definitions\",\"saturations\",\"5890\",\"Pre\",\"20cm\",\"calprotectin\",\"Endoscopist\",\"placed\",\"new\",\"allergies\",\"center\",\"surrounded\",\"Maneuver\",\"maintaining\",\"fifteen\",\"introduced\",\"anticoagulants\",\"History\",\"5831\",\"working\",\"Normal\",\"AspirinNSAID\",\"designated\",\"Criteria\",\"today\",\"529\",\"ceruloplasmin\",\"daily\",\"4\",\"85\",\"Internal\",\"treating\",\"first\",\"4C729G446\",\"Cleared\",\"large\",\"Inflamed\",\"right\",\"descending\",\"biopsied\",\"read\",\"avsola\",\"Evidence\",\"Change\",\"100mg\",\"anticoagulant\",\"ammonia\",\"small\",\"severity\",\"provided\",\"pouchanal\",\"return\",\"pill\",\"pains\",\"ebv\",\"2603980\",\"region\",\"Diet\",\"124\",\"1Fuji\",\"measuring\",\"protuberance\",\"4695Colon\",\"4C729G467\",\"Benefiber\",\"blockers\",\"internal\",\"successful\",\"20mg\",\"Anticoagulants\",\"crp\",\"Micro\",\"Lidocaine\",\"LEUS\",\"Decreased\",\"tid\",\"01\",\"unexplained\",\"options\",\"free\",\"Boston\",\"despite\",\"Consent\",\"Lipoma\",\"20\",\"biopsy\",\"7\",\"flatus\",\"neoterminal\",\"Necessary\",\"solitary\",\"elevated\",\"Age\",\"Pedi\",\"Polypoid\",\"biologics\",\"dose\",\"0028\",\"lesions\",\"TC\",\"externalinternal\",\"antiplatelet\",\"back\",\"Single\",\"Signs\",\"UC\",\"fistula\",\"Present\",\"Polypectomy\",\"Poor\",\"5674\",\"friable\",\"4690\",\"examination\",\"defect\",\"9\",\"compared\",\"scarring\",\"distant\",\"Post\",\"CMP\",\"260\",\"deficiency\",\"aided\",\"Generic\",\"Severity\",\"july\",\"withdrawing\",\"shallow\",\"Entocort\",\"olon\",\"Gastrointestinal\",\"aborted\",\"r\",\"discuss\",\"109\",\"coming\",\"clinical\",\"midline\",\"PO\",\"Site\",\"manual\",\"space\",\"Flexible\",\"BP\",\"Mucosa\",\"Left\",\"would\",\"asymptomatic\",\"orally\",\"sessile\",\"make\",\"407\",\"needed\",\"FUJI\",\"Index\",\"Moderate\",\"FH190L\",\"risks\",\"inflammation\",\"visualized\",\"medium\",\"lesion\",\"3560\",\"spasm\",\"applied\",\"Foreign\",\"significant\",\"thru\",\"nodules\",\"ephedrine\",\"resume\",\"antiinflammatory\",\"518\",\"Monitored\",\"relatives\",\"50\",\"pulling\",\"crpesr\",\"Peridiverticular\",\"retrieved\",\"reinserting\",\"Per\",\"Loose\",\"4C729G460\",\"ileitis\",\"ulcerated\",\"4689\",\"diverticulum\",\"L\",\"nontraversed\",\"Significant\",\"improved\",\"precise\",\"Disease\",\"2041\",\"minimal\",\"ustekinumab\",\"tapering\",\"Mizrahi\",\"Inflammatory\",\"retroflexion\",\"Small\",\"SugarFree\",\"develop\",\"Data\",\"occasional\",\"nonsteroidal\",\"augmented\",\"ascending\",\"Pediatric\",\"B6\",\"Avoidance\",\"0669\",\"foreign\",\"5726\",\"571\",\"presumed\",\"followed\",\"bleeding\",\"Pertinent\",\"identified\",\"600\",\"2876269\",\"recommendations\",\"check\",\"contact\",\"AP\",\"COL\",\"cancer\",\"ESR\",\"Fibroscan\",\"Personal\",\"snare\",\"Stelara\",\"Suppository\",\"P674\",\"heart\",\"shingles\",\"Additional\",\"Ulceration\",\"tsp\",\"Colonic\",\"checking\",\"degree\",\"vidence\",\"material\",\"IDApancytopenia\",\"Scarred\",\"recent\",\"le\",\"Ulcer\",\"verified\",\"perianal\",\"Proctosigmoid\",\"firm\",\"LRC\",\"largemouthed\",\"cecum\",\"122\",\"anemia\",\"qu\",\"resulting\",\"days\",\"administered\",\"Contact\",\"mg\",\"trial\",\"Transverse\",\"TNF\",\"liquid\",\"68\",\"abdomen\",\"flat\",\"home\",\"Many\",\"ablate\",\"neo\",\"Practitioner\",\"may\",\"Pseudopolyps\",\"2200196\",\"score\",\"mplications\",\"ileum\",\"start\",\"5659\",\"Complete\",\"4C729G454\",\"Nodule\",\"Preparation\",\"505\",\"ggt\",\"satisfactory\",\"pre\",\"Melena\",\"development\",\"One\",\"polypectomy\",\"proctitis\",\"6\",\"receiving\",\"Cipro\",\"1st\",\"signs\",\"sedation\",\"waiting\",\"Proctitis\",\"dt\",\"10\",\"Narrow\",\"available\",\"shed\",\"2021\",\"bedtime\",\"graded\",\"ender\",\"bx\",\"ct\",\"OH\",\"4698\",\"PostSurgical\",\"Scale\",\"benign\",\"Ileal\",\"po\",\"blood\",\"polyposis\",\"SQ\",\"scattered\",\"Status\",\"pan\",\"suboptimal\",\"immune\",\"comorbidity\",\"change\",\"test\",\"Variable\",\"Assess\",\"5881\",\"endoscopy\",\"follow\",\"102022\",\"additional\",\"along\",\"apnea\",\"moderate\",\"4C729G463\",\"Physical\",\"emergencies\",\"58\",\"record\",\"staple\",\"canal\",\"Increased\",\"Difficult\",\"cope\",\"complications\",\"2840985\",\"Diffuse\",\"2C738G122\",\"Friable\",\"FLORASTOR\",\"ills\",\"anal\",\"cbc\",\"older\",\"base\",\"2840992\",\"ileal\",\"product\",\"asma\",\"prednisone\",\"increased\",\"Refer\",\"sat\",\"See\",\"lab\",\"Cologuard\",\"lift\",\"prior\",\"Perianal\",\"anesthesia\",\"report\",\"None\",\"patches\",\"medication\",\"TIVA\",\"LR\",\"prep\",\"age\",\"Ultrasound\",\"mucus\",\"5683\",\"oids\",\"travelers\",\"chronic\",\"syndrome\",\"Granularity\",\"forcepsmicroscopic\",\"adenoma\",\"physical\",\"absent\",\"take\",\"end\",\"rule\",\"Motrin\",\"quantaferon\",\"Fair\",\"sterile\",\"ulcers\",\"appears\",\"Take\",\"years\",\"35\",\"assessment\",\"equals\",\"Suture\",\"Constipation\",\"111\",\"come\",\"immunogenicity\",\"Certification\",\"550\",\"entyvio\",\"mild\",\"multiple\",\"Anatomy\",\"hsv\",\"Medications\",\"0628Colon\",\"Erythema\",\"intact\",\"involved\",\"monoferric\",\"cream\",\"premedication\",\"PEDIATRIC\",\"records\",\"known\",\"Start\",\"worsened\",\"straightening\",\"rash\",\"proctosigmoid\",\"ventilation\",\"hot\",\"disease\",\"plications\",\"please\",\"ulcer\",\"se\",\"Analperianal\",\"path\",\"continue\",\"surveillance\",\"Rectal\",\"Reviewed\",\"Abnormal\",\"sensitivities\",\"although\",\"Continue\",\"Generalized\",\"Scope\",\"sleep\",\"Unexplained\",\"5731\",\"III\",\"appearance\",\"Patchy\",\"106\",\"8\",\"rectum\",\"saline\",\"since\",\"Antiplatelets\",\"1302023\",\"sigmoid\",\"Mucosal\",\"pathology\",\"negatives\",\"metfor\",\"ed\",\"Examined\",\"CBC\",\"noncircumferential\",\"diminutive\",\"Exam\",\"2290637\",\"Care\",\"received\",\"2C738G121\",\"nonthrombosed\",\"stigmata\",\"flexure\",\"Endoscopes\",\"amount\",\"Segmental\",\"Indication\",\"Skin\",\"except\",\"Skills\",\"Grade\",\"HC\",\"PCFH190DL\",\"therapeutic\",\"medications\",\"fat\",\"Ulcerative\",\"Cortenema\",\"extensive\",\"Dr\",\"116\",\"90mcg\",\"HR\",\"immediate\",\"Biopsies\",\"Gastroenterologist\",\"Abdominal\",\"Results\",\"Bleed\",\"2\",\"next\",\"remission\",\"Vancocin\",\"Office\",\"Loaner\",\"noted\",\"based\",\"eliquis\",\"polyps\",\"difficult\",\"extent\",\"previous\",\"General\",\"good\",\"Meet\",\"Simple\",\"esophageal\",\"supervision\",\"altered\",\"566\",\"multipie\",\"maneuver\",\"pancytopenia\",\"Colitis\",\"144\",\"updated\",\"Use\",\"examinations\",\"PED\",\"150\",\"enlarged\",\"Endoscopic\",\"scheduled\",\"olyps\",\"pelvis\",\"going\",\"lialda\",\"Tear\",\"0649\",\"regular\",\"adequacy\",\"left\",\"HP\",\"C760RVL\",\"ordered\",\"Advanced\",\"hepatitis\",\"5844\",\"cold\",\"clearance\",\"abnormality\",\"lon\",\"extremely\",\"Withdrawal\",\"association\",\"P\",\"Rowasa\",\"excessive\",\"vaccine\",\"doses\",\"contrast\",\"cmv\",\"lavage\",\"ileorectal\",\"pathogens\",\"Erythematous\",\"aphthae\",\"Attending\",\"collected\",\"concern\",\"Stricture\",\"splenic\",\"EBL\",\"assess\",\"DC\",\"physician\",\"unknown\",\"Stop\",\"nodule\",\"Test\",\"te\",\"4C729G470\",\"looked\",\"colonpatchyMayo\",\"Colon\",\"Obtained\",\"angiodysplastic\",\"previously\",\"Cancer\",\"Hydrocortisone\",\"appointment\",\"year\",\"obtain\",\"intention\",\"study\",\"submucosal\",\"4C729G451\",\"IDA\",\"levels\",\"sulfasalazine\",\"Eleview\",\"Findings\",\"Erosion\",\"ultrasound\",\"B12\",\"sk\",\"Hypertrophied\",\"quantiferon\",\"oxygen\",\"Diphenhydramine\",\"Advil\",\"limbs\",\"folic\",\"cmp\",\"15\",\"Method\",\"Taper\",\"Family\",\"ama\",\"Resected\",\"definitive\",\"orifice\",\"Discharge\",\"30\",\"three\",\"Two\",\"3131\",\"Four\",\"Administration\",\"gluten\",\"exam\",\"removed\",\"tissue\",\"0622\",\"athology\",\"vancomycin\",\"deemed\",\"ER\",\"acid\",\"DifficultyTolerance\",\"Remicade\",\"patulous\",\"5848\",\"Localized\",\"Pathology\",\"lipoma\",\"opening\",\"changing\",\"congested\",\"computed\",\"advanced\",\"Well\",\"forceps\",\"Referral\",\"Angiodysplasia\",\"Fiber\",\"Incidental\",\"include\",\"discharged\",\"Days\",\"Orders\",\"sided\",\"traverse\",\"pouch\",\"Colonoscope\",\"residual\",\"ulcerations\",\"Colorectal\",\"nurse\",\"60\",\"Anesthesia\",\"556\",\"mediumsized\",\"vascular\"],\"xaxis\":\"x\",\"y\":[5,4,0,2,161,3,2,1,1,58,0,1,0,1,3,1,0,0,1,0,2,35,0,0,0,1,0,3,42,3,0,0,2,7,2,0,5,1,1,10,1,99,255,356,1,5,2,0,2,1,24,167,115,0,24,4,6,12,6,125,2,2,0,2,1,44,5,4,213,4,0,8,1,253,46,6,62,0,0,9,0,2,0,85,2,2,0,1186,1,6,18,2,7,29,1,4,1,1,0,1,1,2,42,0,23,3,1,0,3,143,86,3,94,15,2,0,162,1,0,3,712,42,19,9,38,8,0,0,5,1,39,0,1,5,74,1,12,2,19,0,1,1,0,2,4,8,3,1,1,80,58,142,21,2,215,3,0,1,22,0,1,2,2,107,1,1,0,2,115,0,33,0,128,13,0,10,186,10,0,16,1,160,2,0,0,2,1,1,0,0,1,0,197,6,2,19,253,18,0,2,2,64,82,0,6,0,0,1,2,7,12,2,0,2,0,3,1,2,1,2,12,0,0,188,0,16,2,0,0,19,7,0,0,0,41,0,2,4,1,0,11,2,0,11,1,0,39,1,1,1,1,2,0,0,4,18,24,0,37,1,45,0,41,33,0,15,1,12,13,241,2,1,38,2,34,58,41,22,2,156,86,27,2,1,168,9,2,6,69,7,4,951,10,32,93,19,114,0,41,0,0,2,313,6,3,4,2,1,5,2,86,0,93,6,73,5,1,0,18,1,0,25,2,1,0,2,2,95,4,0,2,2,2,0,0,0,41,0,4,0,0,2,0,10,0,6,212,1,0,2,17,0,1,0,0,1,1,0,4,8,0,2,5,1,1,480,2,1,32,2,3,0,0,66,1,17,2,1,4,1,0,3,3,3,9,11,225,1,1,2,1,3,40,41,12,0,8,5,0,72,0,2,0,0,6,349,9,30,0,2,3,4,0,0,5,30,1,1,6,2,2,1,8,12,1,0,23,0,2,2,3,1,0,1,2,10,46,3,28,0,3,1,18,1,5,6,1,2,0,1,27,1,38,23,3,1,6,1,0,0,0,1,30,0,0,1,0,15,2,114,162,6,0,2,2,1,285,1,0,7,2,19,1,1,226,40,1,3,2,8,1,1,0,19,0,1,2,18,12,2,93,0,56,1,0,1,4,3,231,38,0,5,35,32,41,3,13,244,8,82,39,42,0,59,3,0,345,13,0,0,6,6,0,2,3,1,2,1,20,0,1,2,7,3,1,35,5,41,1,10,4,1,18,1,2,18,2,129,10,3,1,0,0,0,72,6,311,2,4,3,1,1,2,848,2,1,173,3,4,256,7,13,0,32,0,58,131,41,0,151,108,3,57,0,1,0,18,33,4,2,480,52,2,0,2,109,3,3,19,0,75,69,93,3,107,4,2,19,32,0,18,24,5,0,38,17,2,0,8,0,16,234,243,6,0,2,1,0,387,490,2,200,68,2,142,0,0,10,741,5,2,0,57,5,49,1,0,2,1,0,6,2,1,4,3,2,12,0,8,1,33,2,0,0,1,10,0,1,1,2,82,145,2,246,3,3,13,1,0,14,6,47,6,4,5,369,1,0,1,0,10,0,41,0,1,1,112,1,1,2,3,333,0,1,2,1,35,1,0,3,2,107,26,197,1,2,199,1,1,1,0,13,7,0,3,2,7,2,480,0,8,15,14,21,0,0,18,1,12,2,1,15,18,7,0,122,3,1,0,82,0,3,8,3,2,3,9,128,0,39,1,1,4,35,183,0,29,31,2,93,6,1,6,1,9,1,5,1,0,0,0,6,0,4,1,2,33,318,2,41,42,12,130,0,10,39,2,0,113,2,0,4,1,69,1,0,5,79,3,125,1,0,3,1,1,14,0,5,41,53,160,52,1,3,0,0,1,3,4,1,41,34,2,1,61,7,1,0,7,0,0,115,2,1,0,1,0,0,1,10,2,1,4,1,83,16,1,0,4,1,2,1,1,1,1,8,2,0,1,31,1,1,26,1,102,4,3,6,19,2,0,2,6,0,0,9,0,1,6,2,5,75,0,1,0,2,0,0,211,2,1,1,0,5,1,2,8,1,1,2,18,1,0,1,0,358,1,0,0,1,93,3,2,51,1,3,0,4,66,10,2,1,2,2,2,0,2,77,34,8,0,1,0,0,0,13,2,245,4,4,1,46,32,0,1,18,0,0,0,2,0,41,1,0,38,1,1,41,22,41,1,1,371,3,33,95,1,13,0,1,20,2,38,0,0,5,19,13,4,14,64,1,0,1,37,2,0,19,1,162,5,93,2,31,2,1,0,1,0,468,12,3,1,0,1,3,1,1,79,2,0,179,0,0,4,3,6,0,1,5,41,0,38,0,27,2,4,48,14,1,1,19,2,0,162,8,1,0,33,1,28,0,1,19,0,108,0,85,2,629,7,3,1,1,2,19,2,122,4,1,1,163,0,1,6,10,20,1,1,2,0,8,17,0,1,1,0,1,0,0,0,20,2,3,0,0,3,0,38,2,0,1,35,0,1,3,41,1,21,1,123,10,0,3,16,0,4,2,2,15,0,1,0,2,3,1,100,0,1,0,0,0,36,2,0,2,3,0,3,1,2,10,1,2,4,1,76,0,1,0,0,1,51,94,1,2,0,5,1,3,1,71,63,0,14,2,1,3,0,0,0,37,29,2,1,2,78,1,93,0,1,163,0,1,33,38,0,0,1,0,0,0,0,2,28,2,3,1,1,1,0,3,0,5,36,45,0,1,0,13,26,9,6,0,1,3,131,387,69,0,38,2,58,1,5,1,123,2,1,0,6,37,23,0,38,1,306,2,0,14,0,0,51,2,0,41,18,1,1,34,3,1,15,2,3,3,93,69,35,0,1,19,32,93,1,1,1,4,1,1,2,1,1,0,38,1,0,0,55,1,6,0,0,0,1,1,2,6,1,0,13,3,3,0,1,2,1,0,9,6,41,93,0,11,4,2,1,359,0,882,1,3,9,2,2,0,18,1,8,0,0,2,2,0,0,2,0,0,125,0,0,2,39,39,81,0,80,0,4,54,0,6,8,1,0,2,7,0,54,1,2,2,2,18,0,1,1,1,1,1,8,1,0,0,1,195,2,75,38,1,4,5,0,1,3,0,1,57,3,0,0,631,2,15,4,46,1,2,1,56,0,2,0,0,2,6,1,0,8,238,14,0,2,0,4,1,0,302,21,27,52,19,1,708,3,70,0,1,3,10,9,3,1,160,65,2,0,6,0,87,54,111,29,0,1,0,0,0,16,257,1,149,0,2,24,1,66,162,19,1,355,3,1,5,104,1,1,13,258,12,115,0,0,115,10,0,3,402,42,1,8,778,1,58,1,5,0,263,2,19,25,3,69,7,3,87,1,3,2,57,0,18,2,0,1,135,1,41,10,0,4,32,2,0,5,5,153,0,3,0,0,0,6,21,0,45,27,0,0,5,0,1,141,1,11,3,0,2,2,69,12,1,0,1,6,0,3,1,0,5,0,116,2,0,15,28,131,2,0,107,1,0,0,0,0,4,0,0,1247,27,2,146,4,0,9,4,4,1,0,1,4,2,3,0,1,329,4,3,0,1,5,0,0,3,1,2,0,1,1,6,0,6,0,35,1,41,701,0,12,28,0,11,7,0,34,73,13,3,2,0,41,0,0,351,4,0,1,3,787,2,2,0,4,3,41,359,113,10,1,2,14,44,41,0,161,32,0,2,34,58,1,6,18,4,363,3,4,2],\"yaxis\":\"y\",\"type\":\"bar\"}],                        {\"template\":{\"data\":{\"histogram2dcontour\":[{\"type\":\"histogram2dcontour\",\"colorbar\":{\"outlinewidth\":0,\"ticks\":\"\"},\"colorscale\":[[0.0,\"#0d0887\"],[0.1111111111111111,\"#46039f\"],[0.2222222222222222,\"#7201a8\"],[0.3333333333333333,\"#9c179e\"],[0.4444444444444444,\"#bd3786\"],[0.5555555555555556,\"#d8576b\"],[0.6666666666666666,\"#ed7953\"],[0.7777777777777778,\"#fb9f3a\"],[0.8888888888888888,\"#fdca26\"],[1.0,\"#f0f921\"]]}],\"choropleth\":[{\"type\":\"choropleth\",\"colorbar\":{\"outlinewidth\":0,\"ticks\":\"\"}}],\"histogram2d\":[{\"type\":\"histogram2d\",\"colorbar\":{\"outlinewidth\":0,\"ticks\":\"\"},\"colorscale\":[[0.0,\"#0d0887\"],[0.1111111111111111,\"#46039f\"],[0.2222222222222222,\"#7201a8\"],[0.3333333333333333,\"#9c179e\"],[0.4444444444444444,\"#bd3786\"],[0.5555555555555556,\"#d8576b\"],[0.6666666666666666,\"#ed7953\"],[0.7777777777777778,\"#fb9f3a\"],[0.8888888888888888,\"#fdca26\"],[1.0,\"#f0f921\"]]}],\"heatmap\":[{\"type\":\"heatmap\",\"colorbar\":{\"outlinewidth\":0,\"ticks\":\"\"},\"colorscale\":[[0.0,\"#0d0887\"],[0.1111111111111111,\"#46039f\"],[0.2222222222222222,\"#7201a8\"],[0.3333333333333333,\"#9c179e\"],[0.4444444444444444,\"#bd3786\"],[0.5555555555555556,\"#d8576b\"],[0.6666666666666666,\"#ed7953\"],[0.7777777777777778,\"#fb9f3a\"],[0.8888888888888888,\"#fdca26\"],[1.0,\"#f0f921\"]]}],\"heatmapgl\":[{\"type\":\"heatmapgl\",\"colorbar\":{\"outlinewidth\":0,\"ticks\":\"\"},\"colorscale\":[[0.0,\"#0d0887\"],[0.1111111111111111,\"#46039f\"],[0.2222222222222222,\"#7201a8\"],[0.3333333333333333,\"#9c179e\"],[0.4444444444444444,\"#bd3786\"],[0.5555555555555556,\"#d8576b\"],[0.6666666666666666,\"#ed7953\"],[0.7777777777777778,\"#fb9f3a\"],[0.8888888888888888,\"#fdca26\"],[1.0,\"#f0f921\"]]}],\"contourcarpet\":[{\"type\":\"contourcarpet\",\"colorbar\":{\"outlinewidth\":0,\"ticks\":\"\"}}],\"contour\":[{\"type\":\"contour\",\"colorbar\":{\"outlinewidth\":0,\"ticks\":\"\"},\"colorscale\":[[0.0,\"#0d0887\"],[0.1111111111111111,\"#46039f\"],[0.2222222222222222,\"#7201a8\"],[0.3333333333333333,\"#9c179e\"],[0.4444444444444444,\"#bd3786\"],[0.5555555555555556,\"#d8576b\"],[0.6666666666666666,\"#ed7953\"],[0.7777777777777778,\"#fb9f3a\"],[0.8888888888888888,\"#fdca26\"],[1.0,\"#f0f921\"]]}],\"surface\":[{\"type\":\"surface\",\"colorbar\":{\"outlinewidth\":0,\"ticks\":\"\"},\"colorscale\":[[0.0,\"#0d0887\"],[0.1111111111111111,\"#46039f\"],[0.2222222222222222,\"#7201a8\"],[0.3333333333333333,\"#9c179e\"],[0.4444444444444444,\"#bd3786\"],[0.5555555555555556,\"#d8576b\"],[0.6666666666666666,\"#ed7953\"],[0.7777777777777778,\"#fb9f3a\"],[0.8888888888888888,\"#fdca26\"],[1.0,\"#f0f921\"]]}],\"mesh3d\":[{\"type\":\"mesh3d\",\"colorbar\":{\"outlinewidth\":0,\"ticks\":\"\"}}],\"scatter\":[{\"fillpattern\":{\"fillmode\":\"overlay\",\"size\":10,\"solidity\":0.2},\"type\":\"scatter\"}],\"parcoords\":[{\"type\":\"parcoords\",\"line\":{\"colorbar\":{\"outlinewidth\":0,\"ticks\":\"\"}}}],\"scatterpolargl\":[{\"type\":\"scatterpolargl\",\"marker\":{\"colorbar\":{\"outlinewidth\":0,\"ticks\":\"\"}}}],\"bar\":[{\"error_x\":{\"color\":\"#2a3f5f\"},\"error_y\":{\"color\":\"#2a3f5f\"},\"marker\":{\"line\":{\"color\":\"#E5ECF6\",\"width\":0.5},\"pattern\":{\"fillmode\":\"overlay\",\"size\":10,\"solidity\":0.2}},\"type\":\"bar\"}],\"scattergeo\":[{\"type\":\"scattergeo\",\"marker\":{\"colorbar\":{\"outlinewidth\":0,\"ticks\":\"\"}}}],\"scatterpolar\":[{\"type\":\"scatterpolar\",\"marker\":{\"colorbar\":{\"outlinewidth\":0,\"ticks\":\"\"}}}],\"histogram\":[{\"marker\":{\"pattern\":{\"fillmode\":\"overlay\",\"size\":10,\"solidity\":0.2}},\"type\":\"histogram\"}],\"scattergl\":[{\"type\":\"scattergl\",\"marker\":{\"colorbar\":{\"outlinewidth\":0,\"ticks\":\"\"}}}],\"scatter3d\":[{\"type\":\"scatter3d\",\"line\":{\"colorbar\":{\"outlinewidth\":0,\"ticks\":\"\"}},\"marker\":{\"colorbar\":{\"outlinewidth\":0,\"ticks\":\"\"}}}],\"scattermapbox\":[{\"type\":\"scattermapbox\",\"marker\":{\"colorbar\":{\"outlinewidth\":0,\"ticks\":\"\"}}}],\"scatterternary\":[{\"type\":\"scatterternary\",\"marker\":{\"colorbar\":{\"outlinewidth\":0,\"ticks\":\"\"}}}],\"scattercarpet\":[{\"type\":\"scattercarpet\",\"marker\":{\"colorbar\":{\"outlinewidth\":0,\"ticks\":\"\"}}}],\"carpet\":[{\"aaxis\":{\"endlinecolor\":\"#2a3f5f\",\"gridcolor\":\"white\",\"linecolor\":\"white\",\"minorgridcolor\":\"white\",\"startlinecolor\":\"#2a3f5f\"},\"baxis\":{\"endlinecolor\":\"#2a3f5f\",\"gridcolor\":\"white\",\"linecolor\":\"white\",\"minorgridcolor\":\"white\",\"startlinecolor\":\"#2a3f5f\"},\"type\":\"carpet\"}],\"table\":[{\"cells\":{\"fill\":{\"color\":\"#EBF0F8\"},\"line\":{\"color\":\"white\"}},\"header\":{\"fill\":{\"color\":\"#C8D4E3\"},\"line\":{\"color\":\"white\"}},\"type\":\"table\"}],\"barpolar\":[{\"marker\":{\"line\":{\"color\":\"#E5ECF6\",\"width\":0.5},\"pattern\":{\"fillmode\":\"overlay\",\"size\":10,\"solidity\":0.2}},\"type\":\"barpolar\"}],\"pie\":[{\"automargin\":true,\"type\":\"pie\"}]},\"layout\":{\"autotypenumbers\":\"strict\",\"colorway\":[\"#636efa\",\"#EF553B\",\"#00cc96\",\"#ab63fa\",\"#FFA15A\",\"#19d3f3\",\"#FF6692\",\"#B6E880\",\"#FF97FF\",\"#FECB52\"],\"font\":{\"color\":\"#2a3f5f\"},\"hovermode\":\"closest\",\"hoverlabel\":{\"align\":\"left\"},\"paper_bgcolor\":\"white\",\"plot_bgcolor\":\"#E5ECF6\",\"polar\":{\"bgcolor\":\"#E5ECF6\",\"angularaxis\":{\"gridcolor\":\"white\",\"linecolor\":\"white\",\"ticks\":\"\"},\"radialaxis\":{\"gridcolor\":\"white\",\"linecolor\":\"white\",\"ticks\":\"\"}},\"ternary\":{\"bgcolor\":\"#E5ECF6\",\"aaxis\":{\"gridcolor\":\"white\",\"linecolor\":\"white\",\"ticks\":\"\"},\"baxis\":{\"gridcolor\":\"white\",\"linecolor\":\"white\",\"ticks\":\"\"},\"caxis\":{\"gridcolor\":\"white\",\"linecolor\":\"white\",\"ticks\":\"\"}},\"coloraxis\":{\"colorbar\":{\"outlinewidth\":0,\"ticks\":\"\"}},\"colorscale\":{\"sequential\":[[0.0,\"#0d0887\"],[0.1111111111111111,\"#46039f\"],[0.2222222222222222,\"#7201a8\"],[0.3333333333333333,\"#9c179e\"],[0.4444444444444444,\"#bd3786\"],[0.5555555555555556,\"#d8576b\"],[0.6666666666666666,\"#ed7953\"],[0.7777777777777778,\"#fb9f3a\"],[0.8888888888888888,\"#fdca26\"],[1.0,\"#f0f921\"]],\"sequentialminus\":[[0.0,\"#0d0887\"],[0.1111111111111111,\"#46039f\"],[0.2222222222222222,\"#7201a8\"],[0.3333333333333333,\"#9c179e\"],[0.4444444444444444,\"#bd3786\"],[0.5555555555555556,\"#d8576b\"],[0.6666666666666666,\"#ed7953\"],[0.7777777777777778,\"#fb9f3a\"],[0.8888888888888888,\"#fdca26\"],[1.0,\"#f0f921\"]],\"diverging\":[[0,\"#8e0152\"],[0.1,\"#c51b7d\"],[0.2,\"#de77ae\"],[0.3,\"#f1b6da\"],[0.4,\"#fde0ef\"],[0.5,\"#f7f7f7\"],[0.6,\"#e6f5d0\"],[0.7,\"#b8e186\"],[0.8,\"#7fbc41\"],[0.9,\"#4d9221\"],[1,\"#276419\"]]},\"xaxis\":{\"gridcolor\":\"white\",\"linecolor\":\"white\",\"ticks\":\"\",\"title\":{\"standoff\":15},\"zerolinecolor\":\"white\",\"automargin\":true,\"zerolinewidth\":2},\"yaxis\":{\"gridcolor\":\"white\",\"linecolor\":\"white\",\"ticks\":\"\",\"title\":{\"standoff\":15},\"zerolinecolor\":\"white\",\"automargin\":true,\"zerolinewidth\":2},\"scene\":{\"xaxis\":{\"backgroundcolor\":\"#E5ECF6\",\"gridcolor\":\"white\",\"linecolor\":\"white\",\"showbackground\":true,\"ticks\":\"\",\"zerolinecolor\":\"white\",\"gridwidth\":2},\"yaxis\":{\"backgroundcolor\":\"#E5ECF6\",\"gridcolor\":\"white\",\"linecolor\":\"white\",\"showbackground\":true,\"ticks\":\"\",\"zerolinecolor\":\"white\",\"gridwidth\":2},\"zaxis\":{\"backgroundcolor\":\"#E5ECF6\",\"gridcolor\":\"white\",\"linecolor\":\"white\",\"showbackground\":true,\"ticks\":\"\",\"zerolinecolor\":\"white\",\"gridwidth\":2}},\"shapedefaults\":{\"line\":{\"color\":\"#2a3f5f\"}},\"annotationdefaults\":{\"arrowcolor\":\"#2a3f5f\",\"arrowhead\":0,\"arrowwidth\":1},\"geo\":{\"bgcolor\":\"white\",\"landcolor\":\"#E5ECF6\",\"subunitcolor\":\"white\",\"showland\":true,\"showlakes\":true,\"lakecolor\":\"white\"},\"title\":{\"x\":0.05},\"mapbox\":{\"style\":\"light\"}}},\"xaxis\":{\"anchor\":\"y\",\"domain\":[0.0,1.0],\"title\":{\"text\":\"Word\"},\"tickangle\":-45},\"yaxis\":{\"anchor\":\"x\",\"domain\":[0.0,1.0],\"title\":{\"text\":\"Frequency\"}},\"legend\":{\"title\":{\"text\":\"Disease Severity\"},\"tracegroupgap\":0},\"title\":{\"text\":\"Word Frequency by Disease Severity\"},\"barmode\":\"relative\"},                        {\"responsive\": true}                    ).then(function(){\n",
              "                            \n",
              "var gd = document.getElementById('65291b5d-15eb-47f8-aeed-2a079e49f459');\n",
              "var x = new MutationObserver(function (mutations, observer) {{\n",
              "        var display = window.getComputedStyle(gd).display;\n",
              "        if (!display || display === 'none') {{\n",
              "            console.log([gd, 'removed!']);\n",
              "            Plotly.purge(gd);\n",
              "            observer.disconnect();\n",
              "        }}\n",
              "}});\n",
              "\n",
              "// Listen for the removal of the full notebook cells\n",
              "var notebookContainer = gd.closest('#notebook-container');\n",
              "if (notebookContainer) {{\n",
              "    x.observe(notebookContainer, {childList: true});\n",
              "}}\n",
              "\n",
              "// Listen for the clearing of the current output cell\n",
              "var outputEl = gd.closest('.output');\n",
              "if (outputEl) {{\n",
              "    x.observe(outputEl, {childList: true});\n",
              "}}\n",
              "\n",
              "                        })                };                            </script>        </div>\n",
              "</body>\n",
              "</html>"
            ]
          },
          "metadata": {},
          "output_type": "display_data"
        }
      ],
      "source": [
        "import plotly.express as px\n",
        "\n",
        "# Create a copy of the DataFrame and convert the 'Word' column to string type\n",
        "plot_df = new_df.copy()\n",
        "plot_df['Word'] = plot_df['Word'].astype(str)\n",
        "\n",
        "# Create the bar chart using Plotly\n",
        "fig = px.bar(plot_df, x='Word', y=['Active_Freq', 'Inactive_Freq'],\n",
        "             color_discrete_sequence=['blue', 'red'],\n",
        "             labels={'value': 'Frequency', 'variable': 'Disease Severity'},\n",
        "             title='Word Frequency by Disease Severity')\n",
        "\n",
        "# Rotate x-axis labels for better visibility\n",
        "fig.update_layout(xaxis_tickangle=-45)\n",
        "\n",
        "# Show the chart\n",
        "fig.show()\n"
      ]
    },
    {
      "cell_type": "markdown",
      "metadata": {
        "id": "cDWckt2HLlxE"
      },
      "source": [
        "### Code that includes plots using Plotly to compare the frequencies of words with Higher frequency in the 'Active_Freq' column compared to the 'Inactive_Freq' column:"
      ]
    },
    {
      "cell_type": "code",
      "execution_count": null,
      "metadata": {
        "colab": {
          "base_uri": "https://localhost:8080/",
          "height": 542
        },
        "id": "-e47ubyeI0Y-",
        "outputId": "c9faca05-9b57-433c-fb34-e12e527f5b77"
      },
      "outputs": [
        {
          "data": {
            "text/html": [
              "<html>\n",
              "<head><meta charset=\"utf-8\" /></head>\n",
              "<body>\n",
              "    <div>            <script src=\"https://cdnjs.cloudflare.com/ajax/libs/mathjax/2.7.5/MathJax.js?config=TeX-AMS-MML_SVG\"></script><script type=\"text/javascript\">if (window.MathJax && window.MathJax.Hub && window.MathJax.Hub.Config) {window.MathJax.Hub.Config({SVG: {font: \"STIX-Web\"}});}</script>                <script type=\"text/javascript\">window.PlotlyConfig = {MathJaxConfig: 'local'};</script>\n",
              "        <script src=\"https://cdn.plot.ly/plotly-2.18.2.min.js\"></script>                <div id=\"d673b02c-2566-4cac-87c0-25a13db64594\" class=\"plotly-graph-div\" style=\"height:525px; width:100%;\"></div>            <script type=\"text/javascript\">                                    window.PLOTLYENV=window.PLOTLYENV || {};                                    if (document.getElementById(\"d673b02c-2566-4cac-87c0-25a13db64594\")) {                    Plotly.newPlot(                        \"d673b02c-2566-4cac-87c0-25a13db64594\",                        [{\"alignmentgroup\":\"True\",\"hovertemplate\":\"Disease Severity=Active_Freq<br>Word=%{x}<br>Frequency=%{y}<extra></extra>\",\"legendgroup\":\"Active_Freq\",\"marker\":{\"color\":\"#636efa\",\"pattern\":{\"shape\":\"\"}},\"name\":\"Active_Freq\",\"offsetgroup\":\"Active_Freq\",\"orientation\":\"v\",\"showlegend\":true,\"textposition\":\"auto\",\"x\":[\"quadrant\",\"Ileitisileal\",\"drugs\",\"atory\",\"andmarks\",\"contained\",\"testing\",\"setting\",\"q\",\"loading\",\"Gluten\",\"Uceris\",\"5714\",\"injections\",\"infliximab\",\"congestion\",\"empiric\",\"2840997\",\"invisible\",\"Vascular\",\"Profile\",\"Tolerated\",\"Screening\",\"colonlarge\",\"117\",\"1000\",\"bowel\",\"per\",\"Check\",\"Established\",\"habits\",\"Biopsycold\",\"GIFH190\",\"erianalRectal\",\"Prep\",\"inflammatory\",\"4C729G506\",\"Date\",\"Chronic\",\"HD\",\"painfever\",\"usf\",\"oral\",\"Otherwise\",\"Asacol\",\"ok\",\"given\",\"folate\",\"QHS\",\"May\",\"25\",\"Endo\",\"vascularity\",\"elevation\",\"Shortcut\",\"throughout\",\"tumor\",\"erythematous\",\"concerned\",\"confluent\",\"200mg\",\"GIQuIC\",\"skyrizi\",\"125\",\"benignappearing\",\"sigmoidoscopy\",\"Exudate\",\"Technically\",\"gm\",\"5846\",\"PR\",\"tomography\",\"refusing\",\"Stopping\",\"Nodular\",\"quantife\",\"active\",\"506\",\"Loss\",\"father\",\"needs\",\"22\",\"lactoferrin\",\"Accomplished\",\"balsalazide\",\"22mg\",\"TB\",\"PreAnesthesia\",\"Deep\",\"Bowel\",\"30cm\",\"inhibitors\",\"Q\",\"respiratory\",\"568\",\"distal\",\"764\",\"Skinny\",\"esr\",\"therapy\",\"Colazal\",\"antitrypsin\",\"stalkpedunculated\",\"unsuccessfully\",\"eroded\",\"weeks\",\"800\",\"2855825\",\"Blank\",\"erosion\",\"hemorrhage\",\"schedule\",\"Driving\",\"ana\",\"Tags\",\"Nuprin\",\"Portions\",\"todays\",\"pills\",\"insurance\",\"associate\",\"5868\",\"response\",\"2C738G117\",\"Chart\",\"mtx\",\"marked\",\"Remaining\",\"Impression\",\"Low\",\"0466\",\"pattern\",\"stricture\",\"post\",\"alt\",\"dysplasia\",\"firstdegree\",\"lRectal\",\"future\",\"Looks\",\"pulmonary\",\"Failing\",\"spared\",\"2758\",\"flagyl\",\"MRI\",\"proctosigmoiditis\",\"rate\",\"increase\",\"Rule\",\"company\",\"94\",\"12grams\",\"gold\",\"Moderately\",\"adalimumab\",\"4pm\",\"neoplasm\",\"nodular\",\"CFHQ190L\",\"mass\",\"carpetlike\",\"Aphtha\",\"markers\",\"family\",\"infusions\",\"5735\",\"66\",\"Vital\",\"renttear\",\"xeljanz\",\"10mg\",\"posterior\",\"friability\",\"Biopsied\",\"studies\",\"four\",\"Determine\",\"course\",\"CT\",\"40\",\"Enterography\",\"Suppositories\",\"edema\",\"Three\",\"leftsided\",\"ait\",\"C\",\"around\",\"Referring\",\"Canasa\",\"2876279\",\"251\",\"Positive\",\"QID\",\"infusion\",\"B\",\"CRP\",\"Gender\",\"transplant\",\"77\",\"Diarrhea\",\"PCFH190L\",\"Entyvio\",\"Obtain\",\"taper\",\"unusual\",\"121\",\"Daily\",\"severely\",\"mesalamine\",\"40cm\",\"Stool\",\"Ileum\",\"TID\",\"Unassisted\",\"Clinic\",\"Ped\",\"3641\",\"anastamosis\",\"Recommendation\",\"lications\",\"metformin\",\"JAK\",\"Week\",\"caliber\",\"e\",\"50cm\",\"week\",\"injection\",\"initally\",\"l\",\"Last\",\"ast\",\"maligcy\",\"Unable\",\"difficile\",\"Functional\",\"inflamed\",\"iron\",\"topical\",\"Minimal\",\"abnormal\",\"H\",\"secondary\",\"sthesia\",\"Scattered\",\"like\",\"normalcy\",\"clear\",\"Prednisone\",\"Study\",\"mercaptopurine\",\"Mental\",\"62\",\"Fellows\",\"Congested\",\"stools\",\"EGD\",\"stopping\",\"UCEIS\",\"ferritin\",\"2018\",\"Lialda\",\"mayo\",\"iv\",\"numerous\",\"Immune\",\"retained\",\"Propofol\",\"areas\",\"Crohns\",\"HYBRID\",\"severe\",\"monitored\",\"labs\",\"anus\",\"Hematochezia\",\"activity\",\"2855868\",\"clinic\",\"whether\",\"persistent\",\"remove\",\"alpha\",\"tb\",\"Tabs\",\"final\",\"650\",\"tract\",\"ulcerative\",\"2876294\",\"could\",\"polypoid\",\"vedolizumab\",\"stelara\",\"erythema\",\"piecemeal\",\"12\",\"cm\",\"shells\",\"clinically\",\"diarrhea\",\"viral\",\"ibuprofen\",\"Ulcerated\",\"pus\",\"Imported\",\"erosions\",\"proximal\",\"Blood\",\"dysplastic\",\"LON\",\"Estimated\",\"January\",\"Ileitis\",\"Humira\",\"need\",\"helpful\",\"stenotic\",\"skip\",\"leum\",\"180AL\",\"diagnosis\",\"300\",\"frondlikevillous\",\"pending\",\"semipedunculated\",\"slip\",\"pediatric\",\"diffuse\",\"nonobstructing\",\"pseudopolyps\",\"colectomy\",\"aggressive\",\"naproxen\",\"15mg\",\"circumferential\",\"Tumor\",\"spontaneous\",\"thick\",\"ENDO\",\"courtesy\",\"vit\",\"rectumrectosigmoid\",\"scharge\",\"x\",\"wEase\",\"mucosal\",\"rx\",\"500mg\",\"DL\",\"cell\",\"Five\",\"granularity\",\"moderately\",\"Airway\",\"23\",\"Barium\",\"b12\",\"Quality\",\"colonrectum\",\"Inflammation\",\"EC\",\"Pancolitis\",\"4319\",\"focused\",\"Medication\",\"stop\",\"supine\",\"pushing\",\"intrinsic\",\"localized\",\"scan\",\"1899\",\"aphthous\",\"continuous\",\"maligt\",\"Africa\",\"budesonide\",\"otal\",\"2855830\",\"Drug\",\"Info\",\"saturations\",\"20cm\",\"calprotectin\",\"Endoscopist\",\"new\",\"surrounded\",\"ceruloplasmin\",\"daily\",\"4\",\"treating\",\"first\",\"Inflamed\",\"biopsied\",\"read\",\"Change\",\"100mg\",\"severity\",\"ebv\",\"region\",\"protuberance\",\"4695Colon\",\"20mg\",\"Anticoagulants\",\"crp\",\"Micro\",\"Lidocaine\",\"tid\",\"free\",\"despite\",\"20\",\"elevated\",\"Age\",\"Pedi\",\"biologics\",\"TC\",\"back\",\"Signs\",\"friable\",\"4690\",\"compared\",\"CMP\",\"Severity\",\"shallow\",\"Entocort\",\"Gastrointestinal\",\"discuss\",\"109\",\"coming\",\"clinical\",\"midline\",\"PO\",\"space\",\"Flexible\",\"Mucosa\",\"asymptomatic\",\"make\",\"Index\",\"FH190L\",\"inflammation\",\"visualized\",\"lesion\",\"3560\",\"thru\",\"ephedrine\",\"antiinflammatory\",\"Monitored\",\"relatives\",\"50\",\"pulling\",\"crpesr\",\"Peridiverticular\",\"Per\",\"ileitis\",\"ulcerated\",\"diverticulum\",\"nontraversed\",\"Significant\",\"precise\",\"Disease\",\"2041\",\"ustekinumab\",\"tapering\",\"Mizrahi\",\"Inflammatory\",\"Small\",\"develop\",\"Data\",\"nonsteroidal\",\"B6\",\"571\",\"presumed\",\"followed\",\"bleeding\",\"2876269\",\"AP\",\"ESR\",\"Stelara\",\"Suppository\",\"heart\",\"shingles\",\"Additional\",\"Ulceration\",\"Scarred\",\"le\",\"Proctosigmoid\",\"LRC\",\"cecum\",\"anemia\",\"qu\",\"days\",\"mg\",\"trial\",\"abdomen\",\"flat\",\"neo\",\"2200196\",\"mplications\",\"5659\",\"4C729G454\",\"Nodule\",\"ggt\",\"proctitis\",\"Proctitis\",\"graded\",\"ender\",\"OH\",\"PostSurgical\",\"benign\",\"Ileal\",\"po\",\"blood\",\"SQ\",\"scattered\",\"Status\",\"pan\",\"change\",\"Variable\",\"Assess\",\"follow\",\"along\",\"apnea\",\"moderate\",\"58\",\"record\",\"canal\",\"cope\",\"2840985\",\"ills\",\"cbc\",\"base\",\"2840992\",\"asma\",\"prednisone\",\"Refer\",\"sat\",\"lab\",\"Cologuard\",\"report\",\"patches\",\"LR\",\"mucus\",\"travelers\",\"chronic\",\"forcepsmicroscopic\",\"absent\",\"take\",\"Motrin\",\"quantaferon\",\"Fair\",\"ulcers\",\"appears\",\"assessment\",\"111\",\"come\",\"550\",\"entyvio\",\"Anatomy\",\"hsv\",\"0628Colon\",\"PEDIATRIC\",\"records\",\"known\",\"Start\",\"worsened\",\"ventilation\",\"disease\",\"plications\",\"please\",\"se\",\"path\",\"continue\",\"Rectal\",\"Abnormal\",\"sleep\",\"Unexplained\",\"Patchy\",\"since\",\"1302023\",\"metfor\",\"Examined\",\"CBC\",\"noncircumferential\",\"received\",\"2C738G121\",\"stigmata\",\"Segmental\",\"Indication\",\"Skin\",\"Skills\",\"PCFH190DL\",\"therapeutic\",\"Cortenema\",\"extensive\",\"Dr\",\"90mcg\",\"Abdominal\",\"next\",\"Vancocin\",\"extent\",\"Simple\",\"esophageal\",\"altered\",\"566\",\"maneuver\",\"Colitis\",\"144\",\"updated\",\"PED\",\"150\",\"Endoscopic\",\"olyps\",\"pelvis\",\"going\",\"lialda\",\"Tear\",\"adequacy\",\"C760RVL\",\"ordered\",\"Advanced\",\"hepatitis\",\"lon\",\"extremely\",\"P\",\"excessive\",\"vaccine\",\"contrast\",\"cmv\",\"pathogens\",\"aphthae\",\"Attending\",\"concern\",\"Stricture\",\"EBL\",\"DC\",\"Stop\",\"nodule\",\"Test\",\"te\",\"looked\",\"colonpatchyMayo\",\"Hydrocortisone\",\"study\",\"sulfasalazine\",\"Findings\",\"B12\",\"quantiferon\",\"oxygen\",\"Advil\",\"folic\",\"cmp\",\"Method\",\"Taper\",\"Family\",\"ama\",\"30\",\"3131\",\"gluten\",\"athology\",\"vancomycin\",\"ER\",\"acid\",\"DifficultyTolerance\",\"Remicade\",\"patulous\",\"Localized\",\"changing\",\"congested\",\"computed\",\"Well\",\"Days\",\"traverse\",\"Colonoscope\",\"ulcerations\",\"vascular\"],\"xaxis\":\"x\",\"y\":[6,1,6,8,3,2,2,1,5,2,2,12,1,2,16,5,1,5,1,2,290,358,5,1,4,25,264,139,2,49,8,5,2,6,260,11,1,268,14,3,1,1,1,89,3,3,4,2,25,1,9,146,9,1,196,2,1,22,2,1,2,6,4,2,2,8,1,3,25,2,27,6,1,6,3,1,1,1,134,1,2,1,1,7,9,1,1,208,15,282,1,1,12,1,1,15,10,1,5,26,9,2,2,1,12,14,3,1,1,1,5,2,16,2,2,2,7,1,2,1,2,1,17,4,106,1,3,1,324,4,1,15,7,1,2,4,1,5,1,2,1,1,4,1,4,1,18,2,5,1,1,1,2,2,1,15,1,4,8,13,9,1,6,1,9,2,1,1,1,2,2,2,2,14,32,2,2,4,3,29,37,9,3,6,6,15,1,2,3,48,25,7,1,2,2,6,1,2,170,1,1,12,3,10,5,2,1,4,25,1,79,1,4,238,3,7,252,10,1,3,349,26,1,1,12,1,4,4,2,1,1,3,270,1,1,1,2,1,15,4,1,116,2,106,9,3,3,2,1,1,47,2,2,1,1,16,7,2,6,2,6,1,1,25,2,1,2,1,2,151,4,267,5,16,1,7,49,17,425,1,2,2,1,1,2,3,3,2,1,6,128,3,1,7,10,5,17,2,25,17,1,2,26,1,6,1,2,5,5,26,135,1,50,185,1,64,14,11,1,1,1,7,1,5,3,1,2,1,1,6,5,1,6,1,1,6,2,9,2,4,2,4,2,4,1,1,3,7,2,2,1,6,1,2,4,12,2,1,2,1,255,3,19,38,3,1,1,364,3,1,1,2,7,6,1,4,9,4,2,50,2,1,2,1,1,1,1,4,4,1,2,10,37,1,2,9,7,1,7,2,9,1,1,2,3,2,200,4,8,8,2,3,2,14,1,170,10,2,1,1,1,2,4,9,2,6,5,36,2,4,3,1,2,2,33,1,8,1,1,1,6,2,23,2,18,1,5,2,6,112,1,3,1,1,2,1,1,7,5,2,3,5,127,1,10,2,2,125,2,1,6,6,1,1,3,3,43,3,1,2,9,2,1,1,1,1,1,1,3,2,33,7,1,8,75,1,10,2,3,1,4,2,1,1,1,10,1,14,2,4,3,2,2,2,57,12,1,1,1,9,6,16,1,2,3,12,2,13,3,1,2,1,4,1,3,2,4,1,1,1,2,1,1,1,2,2,67,5,3,2,2,2,14,3,4,121,11,2,1,3,1,1,3,57,1,3,4,6,1,354,23,2,1,2,2,33,60,3,2,4,1,1,1,1,2,1,1,4,2,4,367,4,10,4,16,9,2,116,2,9,2,2,4,68,1,3,1,137,59,11,1,3,3,10,1,8,2,2,1,1,1,2,7,2,4,3,106,3,1,15,1,1,1,121,1,23,134,1,2,2,2,2,1,1,2,2,3,336,2,1,1,2,1,4,8,11,12,2,7,1,1,6,1,1,1,358,16,1,4,2,19,6,360,6,1,36,15,4],\"yaxis\":\"y\",\"type\":\"bar\"},{\"alignmentgroup\":\"True\",\"hovertemplate\":\"Disease Severity=Inactive_Freq<br>Word=%{x}<br>Frequency=%{y}<extra></extra>\",\"legendgroup\":\"Inactive_Freq\",\"marker\":{\"color\":\"#EF553B\",\"pattern\":{\"shape\":\"\"}},\"name\":\"Inactive_Freq\",\"offsetgroup\":\"Inactive_Freq\",\"orientation\":\"v\",\"showlegend\":true,\"textposition\":\"auto\",\"x\":[\"quadrant\",\"Ileitisileal\",\"drugs\",\"atory\",\"andmarks\",\"contained\",\"testing\",\"setting\",\"q\",\"loading\",\"Gluten\",\"Uceris\",\"5714\",\"injections\",\"infliximab\",\"congestion\",\"empiric\",\"2840997\",\"invisible\",\"Vascular\",\"Profile\",\"Tolerated\",\"Screening\",\"colonlarge\",\"117\",\"1000\",\"bowel\",\"per\",\"Check\",\"Established\",\"habits\",\"Biopsycold\",\"GIFH190\",\"erianalRectal\",\"Prep\",\"inflammatory\",\"4C729G506\",\"Date\",\"Chronic\",\"HD\",\"painfever\",\"usf\",\"oral\",\"Otherwise\",\"Asacol\",\"ok\",\"given\",\"folate\",\"QHS\",\"May\",\"25\",\"Endo\",\"vascularity\",\"elevation\",\"Shortcut\",\"throughout\",\"tumor\",\"erythematous\",\"concerned\",\"confluent\",\"200mg\",\"GIQuIC\",\"skyrizi\",\"125\",\"benignappearing\",\"sigmoidoscopy\",\"Exudate\",\"Technically\",\"gm\",\"5846\",\"PR\",\"tomography\",\"refusing\",\"Stopping\",\"Nodular\",\"quantife\",\"active\",\"506\",\"Loss\",\"father\",\"needs\",\"22\",\"lactoferrin\",\"Accomplished\",\"balsalazide\",\"22mg\",\"TB\",\"PreAnesthesia\",\"Deep\",\"Bowel\",\"30cm\",\"inhibitors\",\"Q\",\"respiratory\",\"568\",\"distal\",\"764\",\"Skinny\",\"esr\",\"therapy\",\"Colazal\",\"antitrypsin\",\"stalkpedunculated\",\"unsuccessfully\",\"eroded\",\"weeks\",\"800\",\"2855825\",\"Blank\",\"erosion\",\"hemorrhage\",\"schedule\",\"Driving\",\"ana\",\"Tags\",\"Nuprin\",\"Portions\",\"todays\",\"pills\",\"insurance\",\"associate\",\"5868\",\"response\",\"2C738G117\",\"Chart\",\"mtx\",\"marked\",\"Remaining\",\"Impression\",\"Low\",\"0466\",\"pattern\",\"stricture\",\"post\",\"alt\",\"dysplasia\",\"firstdegree\",\"lRectal\",\"future\",\"Looks\",\"pulmonary\",\"Failing\",\"spared\",\"2758\",\"flagyl\",\"MRI\",\"proctosigmoiditis\",\"rate\",\"increase\",\"Rule\",\"company\",\"94\",\"12grams\",\"gold\",\"Moderately\",\"adalimumab\",\"4pm\",\"neoplasm\",\"nodular\",\"CFHQ190L\",\"mass\",\"carpetlike\",\"Aphtha\",\"markers\",\"family\",\"infusions\",\"5735\",\"66\",\"Vital\",\"renttear\",\"xeljanz\",\"10mg\",\"posterior\",\"friability\",\"Biopsied\",\"studies\",\"four\",\"Determine\",\"course\",\"CT\",\"40\",\"Enterography\",\"Suppositories\",\"edema\",\"Three\",\"leftsided\",\"ait\",\"C\",\"around\",\"Referring\",\"Canasa\",\"2876279\",\"251\",\"Positive\",\"QID\",\"infusion\",\"B\",\"CRP\",\"Gender\",\"transplant\",\"77\",\"Diarrhea\",\"PCFH190L\",\"Entyvio\",\"Obtain\",\"taper\",\"unusual\",\"121\",\"Daily\",\"severely\",\"mesalamine\",\"40cm\",\"Stool\",\"Ileum\",\"TID\",\"Unassisted\",\"Clinic\",\"Ped\",\"3641\",\"anastamosis\",\"Recommendation\",\"lications\",\"metformin\",\"JAK\",\"Week\",\"caliber\",\"e\",\"50cm\",\"week\",\"injection\",\"initally\",\"l\",\"Last\",\"ast\",\"maligcy\",\"Unable\",\"difficile\",\"Functional\",\"inflamed\",\"iron\",\"topical\",\"Minimal\",\"abnormal\",\"H\",\"secondary\",\"sthesia\",\"Scattered\",\"like\",\"normalcy\",\"clear\",\"Prednisone\",\"Study\",\"mercaptopurine\",\"Mental\",\"62\",\"Fellows\",\"Congested\",\"stools\",\"EGD\",\"stopping\",\"UCEIS\",\"ferritin\",\"2018\",\"Lialda\",\"mayo\",\"iv\",\"numerous\",\"Immune\",\"retained\",\"Propofol\",\"areas\",\"Crohns\",\"HYBRID\",\"severe\",\"monitored\",\"labs\",\"anus\",\"Hematochezia\",\"activity\",\"2855868\",\"clinic\",\"whether\",\"persistent\",\"remove\",\"alpha\",\"tb\",\"Tabs\",\"final\",\"650\",\"tract\",\"ulcerative\",\"2876294\",\"could\",\"polypoid\",\"vedolizumab\",\"stelara\",\"erythema\",\"piecemeal\",\"12\",\"cm\",\"shells\",\"clinically\",\"diarrhea\",\"viral\",\"ibuprofen\",\"Ulcerated\",\"pus\",\"Imported\",\"erosions\",\"proximal\",\"Blood\",\"dysplastic\",\"LON\",\"Estimated\",\"January\",\"Ileitis\",\"Humira\",\"need\",\"helpful\",\"stenotic\",\"skip\",\"leum\",\"180AL\",\"diagnosis\",\"300\",\"frondlikevillous\",\"pending\",\"semipedunculated\",\"slip\",\"pediatric\",\"diffuse\",\"nonobstructing\",\"pseudopolyps\",\"colectomy\",\"aggressive\",\"naproxen\",\"15mg\",\"circumferential\",\"Tumor\",\"spontaneous\",\"thick\",\"ENDO\",\"courtesy\",\"vit\",\"rectumrectosigmoid\",\"scharge\",\"x\",\"wEase\",\"mucosal\",\"rx\",\"500mg\",\"DL\",\"cell\",\"Five\",\"granularity\",\"moderately\",\"Airway\",\"23\",\"Barium\",\"b12\",\"Quality\",\"colonrectum\",\"Inflammation\",\"EC\",\"Pancolitis\",\"4319\",\"focused\",\"Medication\",\"stop\",\"supine\",\"pushing\",\"intrinsic\",\"localized\",\"scan\",\"1899\",\"aphthous\",\"continuous\",\"maligt\",\"Africa\",\"budesonide\",\"otal\",\"2855830\",\"Drug\",\"Info\",\"saturations\",\"20cm\",\"calprotectin\",\"Endoscopist\",\"new\",\"surrounded\",\"ceruloplasmin\",\"daily\",\"4\",\"treating\",\"first\",\"Inflamed\",\"biopsied\",\"read\",\"Change\",\"100mg\",\"severity\",\"ebv\",\"region\",\"protuberance\",\"4695Colon\",\"20mg\",\"Anticoagulants\",\"crp\",\"Micro\",\"Lidocaine\",\"tid\",\"free\",\"despite\",\"20\",\"elevated\",\"Age\",\"Pedi\",\"biologics\",\"TC\",\"back\",\"Signs\",\"friable\",\"4690\",\"compared\",\"CMP\",\"Severity\",\"shallow\",\"Entocort\",\"Gastrointestinal\",\"discuss\",\"109\",\"coming\",\"clinical\",\"midline\",\"PO\",\"space\",\"Flexible\",\"Mucosa\",\"asymptomatic\",\"make\",\"Index\",\"FH190L\",\"inflammation\",\"visualized\",\"lesion\",\"3560\",\"thru\",\"ephedrine\",\"antiinflammatory\",\"Monitored\",\"relatives\",\"50\",\"pulling\",\"crpesr\",\"Peridiverticular\",\"Per\",\"ileitis\",\"ulcerated\",\"diverticulum\",\"nontraversed\",\"Significant\",\"precise\",\"Disease\",\"2041\",\"ustekinumab\",\"tapering\",\"Mizrahi\",\"Inflammatory\",\"Small\",\"develop\",\"Data\",\"nonsteroidal\",\"B6\",\"571\",\"presumed\",\"followed\",\"bleeding\",\"2876269\",\"AP\",\"ESR\",\"Stelara\",\"Suppository\",\"heart\",\"shingles\",\"Additional\",\"Ulceration\",\"Scarred\",\"le\",\"Proctosigmoid\",\"LRC\",\"cecum\",\"anemia\",\"qu\",\"days\",\"mg\",\"trial\",\"abdomen\",\"flat\",\"neo\",\"2200196\",\"mplications\",\"5659\",\"4C729G454\",\"Nodule\",\"ggt\",\"proctitis\",\"Proctitis\",\"graded\",\"ender\",\"OH\",\"PostSurgical\",\"benign\",\"Ileal\",\"po\",\"blood\",\"SQ\",\"scattered\",\"Status\",\"pan\",\"change\",\"Variable\",\"Assess\",\"follow\",\"along\",\"apnea\",\"moderate\",\"58\",\"record\",\"canal\",\"cope\",\"2840985\",\"ills\",\"cbc\",\"base\",\"2840992\",\"asma\",\"prednisone\",\"Refer\",\"sat\",\"lab\",\"Cologuard\",\"report\",\"patches\",\"LR\",\"mucus\",\"travelers\",\"chronic\",\"forcepsmicroscopic\",\"absent\",\"take\",\"Motrin\",\"quantaferon\",\"Fair\",\"ulcers\",\"appears\",\"assessment\",\"111\",\"come\",\"550\",\"entyvio\",\"Anatomy\",\"hsv\",\"0628Colon\",\"PEDIATRIC\",\"records\",\"known\",\"Start\",\"worsened\",\"ventilation\",\"disease\",\"plications\",\"please\",\"se\",\"path\",\"continue\",\"Rectal\",\"Abnormal\",\"sleep\",\"Unexplained\",\"Patchy\",\"since\",\"1302023\",\"metfor\",\"Examined\",\"CBC\",\"noncircumferential\",\"received\",\"2C738G121\",\"stigmata\",\"Segmental\",\"Indication\",\"Skin\",\"Skills\",\"PCFH190DL\",\"therapeutic\",\"Cortenema\",\"extensive\",\"Dr\",\"90mcg\",\"Abdominal\",\"next\",\"Vancocin\",\"extent\",\"Simple\",\"esophageal\",\"altered\",\"566\",\"maneuver\",\"Colitis\",\"144\",\"updated\",\"PED\",\"150\",\"Endoscopic\",\"olyps\",\"pelvis\",\"going\",\"lialda\",\"Tear\",\"adequacy\",\"C760RVL\",\"ordered\",\"Advanced\",\"hepatitis\",\"lon\",\"extremely\",\"P\",\"excessive\",\"vaccine\",\"contrast\",\"cmv\",\"pathogens\",\"aphthae\",\"Attending\",\"concern\",\"Stricture\",\"EBL\",\"DC\",\"Stop\",\"nodule\",\"Test\",\"te\",\"looked\",\"colonpatchyMayo\",\"Hydrocortisone\",\"study\",\"sulfasalazine\",\"Findings\",\"B12\",\"quantiferon\",\"oxygen\",\"Advil\",\"folic\",\"cmp\",\"Method\",\"Taper\",\"Family\",\"ama\",\"30\",\"3131\",\"gluten\",\"athology\",\"vancomycin\",\"ER\",\"acid\",\"DifficultyTolerance\",\"Remicade\",\"patulous\",\"Localized\",\"changing\",\"congested\",\"computed\",\"Well\",\"Days\",\"traverse\",\"Colonoscope\",\"ulcerations\",\"vascular\"],\"xaxis\":\"x\",\"y\":[4,0,3,2,1,0,0,0,0,0,0,0,0,0,3,3,0,0,0,1,255,356,2,0,2,24,167,115,0,24,6,2,0,4,213,4,0,253,6,0,0,0,0,85,0,0,1,0,23,0,3,143,3,0,162,1,0,9,0,0,0,5,2,0,1,1,0,2,8,1,21,3,0,0,2,0,0,0,128,0,0,0,0,1,0,0,0,197,6,253,0,0,6,0,0,2,7,0,0,12,0,0,0,0,0,7,0,0,0,0,1,0,11,0,0,1,2,0,0,0,0,0,13,2,69,0,0,0,313,2,0,6,5,0,0,2,0,4,0,0,0,0,0,0,0,0,10,0,1,0,0,0,0,1,0,8,0,2,2,3,0,0,4,0,3,0,0,0,0,0,0,0,0,5,30,1,1,2,2,8,12,0,0,1,0,10,0,1,0,27,23,1,0,0,0,0,0,0,162,0,0,7,1,3,1,0,0,2,12,0,56,0,3,231,0,5,244,8,0,0,345,13,0,0,6,0,1,0,0,0,0,2,256,0,0,0,0,0,4,2,0,109,0,69,3,2,0,0,0,0,6,0,0,0,0,10,5,0,5,0,1,0,0,8,1,0,0,0,1,145,2,246,3,13,0,6,47,5,369,0,1,0,0,0,0,1,2,1,0,3,107,1,0,0,3,2,7,0,8,14,0,0,15,0,3,0,0,3,2,9,128,0,35,183,0,29,6,9,0,0,0,6,0,2,2,0,0,0,0,5,0,0,3,0,0,3,1,2,0,0,0,2,0,1,0,0,2,1,0,0,0,0,0,0,2,5,0,0,0,0,211,0,5,8,1,0,0,358,1,0,0,1,3,3,0,1,2,2,0,8,0,0,0,0,0,0,0,0,0,0,0,1,20,0,0,4,1,0,2,0,5,0,0,0,1,0,179,0,0,4,0,0,0,4,0,162,8,0,0,0,0,1,2,4,0,1,0,8,0,0,1,0,0,0,20,0,0,0,0,0,1,1,10,0,16,0,0,0,3,100,0,1,0,0,0,0,0,3,2,1,2,1,76,0,0,0,1,51,1,0,5,3,0,0,0,0,37,2,0,0,0,0,0,0,0,0,0,0,0,0,26,6,0,3,69,0,5,1,0,0,1,0,0,0,0,1,0,4,1,1,0,1,0,0,55,6,0,0,0,6,0,13,0,1,0,9,0,11,2,0,1,0,1,0,0,0,0,0,0,0,0,0,0,0,0,0,54,2,0,1,1,1,8,0,0,75,5,0,0,1,0,0,2,56,0,2,0,0,0,238,14,0,0,1,0,21,52,0,1,3,0,0,0,0,0,0,0,2,1,1,355,3,5,1,13,0,0,115,0,8,1,0,3,57,0,2,0,135,41,10,0,2,0,5,0,3,0,0,0,0,0,0,5,0,3,0,69,1,0,6,0,0,0,116,0,15,131,0,0,0,0,0,0,0,0,0,0,329,0,0,0,1,0,1,6,0,6,0,0,0,0,2,0,0,0,351,4,0,3,0,4,3,359,0,0,34,1,2],\"yaxis\":\"y\",\"type\":\"bar\"}],                        {\"template\":{\"data\":{\"histogram2dcontour\":[{\"type\":\"histogram2dcontour\",\"colorbar\":{\"outlinewidth\":0,\"ticks\":\"\"},\"colorscale\":[[0.0,\"#0d0887\"],[0.1111111111111111,\"#46039f\"],[0.2222222222222222,\"#7201a8\"],[0.3333333333333333,\"#9c179e\"],[0.4444444444444444,\"#bd3786\"],[0.5555555555555556,\"#d8576b\"],[0.6666666666666666,\"#ed7953\"],[0.7777777777777778,\"#fb9f3a\"],[0.8888888888888888,\"#fdca26\"],[1.0,\"#f0f921\"]]}],\"choropleth\":[{\"type\":\"choropleth\",\"colorbar\":{\"outlinewidth\":0,\"ticks\":\"\"}}],\"histogram2d\":[{\"type\":\"histogram2d\",\"colorbar\":{\"outlinewidth\":0,\"ticks\":\"\"},\"colorscale\":[[0.0,\"#0d0887\"],[0.1111111111111111,\"#46039f\"],[0.2222222222222222,\"#7201a8\"],[0.3333333333333333,\"#9c179e\"],[0.4444444444444444,\"#bd3786\"],[0.5555555555555556,\"#d8576b\"],[0.6666666666666666,\"#ed7953\"],[0.7777777777777778,\"#fb9f3a\"],[0.8888888888888888,\"#fdca26\"],[1.0,\"#f0f921\"]]}],\"heatmap\":[{\"type\":\"heatmap\",\"colorbar\":{\"outlinewidth\":0,\"ticks\":\"\"},\"colorscale\":[[0.0,\"#0d0887\"],[0.1111111111111111,\"#46039f\"],[0.2222222222222222,\"#7201a8\"],[0.3333333333333333,\"#9c179e\"],[0.4444444444444444,\"#bd3786\"],[0.5555555555555556,\"#d8576b\"],[0.6666666666666666,\"#ed7953\"],[0.7777777777777778,\"#fb9f3a\"],[0.8888888888888888,\"#fdca26\"],[1.0,\"#f0f921\"]]}],\"heatmapgl\":[{\"type\":\"heatmapgl\",\"colorbar\":{\"outlinewidth\":0,\"ticks\":\"\"},\"colorscale\":[[0.0,\"#0d0887\"],[0.1111111111111111,\"#46039f\"],[0.2222222222222222,\"#7201a8\"],[0.3333333333333333,\"#9c179e\"],[0.4444444444444444,\"#bd3786\"],[0.5555555555555556,\"#d8576b\"],[0.6666666666666666,\"#ed7953\"],[0.7777777777777778,\"#fb9f3a\"],[0.8888888888888888,\"#fdca26\"],[1.0,\"#f0f921\"]]}],\"contourcarpet\":[{\"type\":\"contourcarpet\",\"colorbar\":{\"outlinewidth\":0,\"ticks\":\"\"}}],\"contour\":[{\"type\":\"contour\",\"colorbar\":{\"outlinewidth\":0,\"ticks\":\"\"},\"colorscale\":[[0.0,\"#0d0887\"],[0.1111111111111111,\"#46039f\"],[0.2222222222222222,\"#7201a8\"],[0.3333333333333333,\"#9c179e\"],[0.4444444444444444,\"#bd3786\"],[0.5555555555555556,\"#d8576b\"],[0.6666666666666666,\"#ed7953\"],[0.7777777777777778,\"#fb9f3a\"],[0.8888888888888888,\"#fdca26\"],[1.0,\"#f0f921\"]]}],\"surface\":[{\"type\":\"surface\",\"colorbar\":{\"outlinewidth\":0,\"ticks\":\"\"},\"colorscale\":[[0.0,\"#0d0887\"],[0.1111111111111111,\"#46039f\"],[0.2222222222222222,\"#7201a8\"],[0.3333333333333333,\"#9c179e\"],[0.4444444444444444,\"#bd3786\"],[0.5555555555555556,\"#d8576b\"],[0.6666666666666666,\"#ed7953\"],[0.7777777777777778,\"#fb9f3a\"],[0.8888888888888888,\"#fdca26\"],[1.0,\"#f0f921\"]]}],\"mesh3d\":[{\"type\":\"mesh3d\",\"colorbar\":{\"outlinewidth\":0,\"ticks\":\"\"}}],\"scatter\":[{\"fillpattern\":{\"fillmode\":\"overlay\",\"size\":10,\"solidity\":0.2},\"type\":\"scatter\"}],\"parcoords\":[{\"type\":\"parcoords\",\"line\":{\"colorbar\":{\"outlinewidth\":0,\"ticks\":\"\"}}}],\"scatterpolargl\":[{\"type\":\"scatterpolargl\",\"marker\":{\"colorbar\":{\"outlinewidth\":0,\"ticks\":\"\"}}}],\"bar\":[{\"error_x\":{\"color\":\"#2a3f5f\"},\"error_y\":{\"color\":\"#2a3f5f\"},\"marker\":{\"line\":{\"color\":\"#E5ECF6\",\"width\":0.5},\"pattern\":{\"fillmode\":\"overlay\",\"size\":10,\"solidity\":0.2}},\"type\":\"bar\"}],\"scattergeo\":[{\"type\":\"scattergeo\",\"marker\":{\"colorbar\":{\"outlinewidth\":0,\"ticks\":\"\"}}}],\"scatterpolar\":[{\"type\":\"scatterpolar\",\"marker\":{\"colorbar\":{\"outlinewidth\":0,\"ticks\":\"\"}}}],\"histogram\":[{\"marker\":{\"pattern\":{\"fillmode\":\"overlay\",\"size\":10,\"solidity\":0.2}},\"type\":\"histogram\"}],\"scattergl\":[{\"type\":\"scattergl\",\"marker\":{\"colorbar\":{\"outlinewidth\":0,\"ticks\":\"\"}}}],\"scatter3d\":[{\"type\":\"scatter3d\",\"line\":{\"colorbar\":{\"outlinewidth\":0,\"ticks\":\"\"}},\"marker\":{\"colorbar\":{\"outlinewidth\":0,\"ticks\":\"\"}}}],\"scattermapbox\":[{\"type\":\"scattermapbox\",\"marker\":{\"colorbar\":{\"outlinewidth\":0,\"ticks\":\"\"}}}],\"scatterternary\":[{\"type\":\"scatterternary\",\"marker\":{\"colorbar\":{\"outlinewidth\":0,\"ticks\":\"\"}}}],\"scattercarpet\":[{\"type\":\"scattercarpet\",\"marker\":{\"colorbar\":{\"outlinewidth\":0,\"ticks\":\"\"}}}],\"carpet\":[{\"aaxis\":{\"endlinecolor\":\"#2a3f5f\",\"gridcolor\":\"white\",\"linecolor\":\"white\",\"minorgridcolor\":\"white\",\"startlinecolor\":\"#2a3f5f\"},\"baxis\":{\"endlinecolor\":\"#2a3f5f\",\"gridcolor\":\"white\",\"linecolor\":\"white\",\"minorgridcolor\":\"white\",\"startlinecolor\":\"#2a3f5f\"},\"type\":\"carpet\"}],\"table\":[{\"cells\":{\"fill\":{\"color\":\"#EBF0F8\"},\"line\":{\"color\":\"white\"}},\"header\":{\"fill\":{\"color\":\"#C8D4E3\"},\"line\":{\"color\":\"white\"}},\"type\":\"table\"}],\"barpolar\":[{\"marker\":{\"line\":{\"color\":\"#E5ECF6\",\"width\":0.5},\"pattern\":{\"fillmode\":\"overlay\",\"size\":10,\"solidity\":0.2}},\"type\":\"barpolar\"}],\"pie\":[{\"automargin\":true,\"type\":\"pie\"}]},\"layout\":{\"autotypenumbers\":\"strict\",\"colorway\":[\"#636efa\",\"#EF553B\",\"#00cc96\",\"#ab63fa\",\"#FFA15A\",\"#19d3f3\",\"#FF6692\",\"#B6E880\",\"#FF97FF\",\"#FECB52\"],\"font\":{\"color\":\"#2a3f5f\"},\"hovermode\":\"closest\",\"hoverlabel\":{\"align\":\"left\"},\"paper_bgcolor\":\"white\",\"plot_bgcolor\":\"#E5ECF6\",\"polar\":{\"bgcolor\":\"#E5ECF6\",\"angularaxis\":{\"gridcolor\":\"white\",\"linecolor\":\"white\",\"ticks\":\"\"},\"radialaxis\":{\"gridcolor\":\"white\",\"linecolor\":\"white\",\"ticks\":\"\"}},\"ternary\":{\"bgcolor\":\"#E5ECF6\",\"aaxis\":{\"gridcolor\":\"white\",\"linecolor\":\"white\",\"ticks\":\"\"},\"baxis\":{\"gridcolor\":\"white\",\"linecolor\":\"white\",\"ticks\":\"\"},\"caxis\":{\"gridcolor\":\"white\",\"linecolor\":\"white\",\"ticks\":\"\"}},\"coloraxis\":{\"colorbar\":{\"outlinewidth\":0,\"ticks\":\"\"}},\"colorscale\":{\"sequential\":[[0.0,\"#0d0887\"],[0.1111111111111111,\"#46039f\"],[0.2222222222222222,\"#7201a8\"],[0.3333333333333333,\"#9c179e\"],[0.4444444444444444,\"#bd3786\"],[0.5555555555555556,\"#d8576b\"],[0.6666666666666666,\"#ed7953\"],[0.7777777777777778,\"#fb9f3a\"],[0.8888888888888888,\"#fdca26\"],[1.0,\"#f0f921\"]],\"sequentialminus\":[[0.0,\"#0d0887\"],[0.1111111111111111,\"#46039f\"],[0.2222222222222222,\"#7201a8\"],[0.3333333333333333,\"#9c179e\"],[0.4444444444444444,\"#bd3786\"],[0.5555555555555556,\"#d8576b\"],[0.6666666666666666,\"#ed7953\"],[0.7777777777777778,\"#fb9f3a\"],[0.8888888888888888,\"#fdca26\"],[1.0,\"#f0f921\"]],\"diverging\":[[0,\"#8e0152\"],[0.1,\"#c51b7d\"],[0.2,\"#de77ae\"],[0.3,\"#f1b6da\"],[0.4,\"#fde0ef\"],[0.5,\"#f7f7f7\"],[0.6,\"#e6f5d0\"],[0.7,\"#b8e186\"],[0.8,\"#7fbc41\"],[0.9,\"#4d9221\"],[1,\"#276419\"]]},\"xaxis\":{\"gridcolor\":\"white\",\"linecolor\":\"white\",\"ticks\":\"\",\"title\":{\"standoff\":15},\"zerolinecolor\":\"white\",\"automargin\":true,\"zerolinewidth\":2},\"yaxis\":{\"gridcolor\":\"white\",\"linecolor\":\"white\",\"ticks\":\"\",\"title\":{\"standoff\":15},\"zerolinecolor\":\"white\",\"automargin\":true,\"zerolinewidth\":2},\"scene\":{\"xaxis\":{\"backgroundcolor\":\"#E5ECF6\",\"gridcolor\":\"white\",\"linecolor\":\"white\",\"showbackground\":true,\"ticks\":\"\",\"zerolinecolor\":\"white\",\"gridwidth\":2},\"yaxis\":{\"backgroundcolor\":\"#E5ECF6\",\"gridcolor\":\"white\",\"linecolor\":\"white\",\"showbackground\":true,\"ticks\":\"\",\"zerolinecolor\":\"white\",\"gridwidth\":2},\"zaxis\":{\"backgroundcolor\":\"#E5ECF6\",\"gridcolor\":\"white\",\"linecolor\":\"white\",\"showbackground\":true,\"ticks\":\"\",\"zerolinecolor\":\"white\",\"gridwidth\":2}},\"shapedefaults\":{\"line\":{\"color\":\"#2a3f5f\"}},\"annotationdefaults\":{\"arrowcolor\":\"#2a3f5f\",\"arrowhead\":0,\"arrowwidth\":1},\"geo\":{\"bgcolor\":\"white\",\"landcolor\":\"#E5ECF6\",\"subunitcolor\":\"white\",\"showland\":true,\"showlakes\":true,\"lakecolor\":\"white\"},\"title\":{\"x\":0.05},\"mapbox\":{\"style\":\"light\"}}},\"xaxis\":{\"anchor\":\"y\",\"domain\":[0.0,1.0],\"title\":{\"text\":\"Word\"},\"tickangle\":-45},\"yaxis\":{\"anchor\":\"x\",\"domain\":[0.0,1.0],\"title\":{\"text\":\"Frequency\"}},\"legend\":{\"title\":{\"text\":\"Disease Severity\"},\"tracegroupgap\":0},\"title\":{\"text\":\"Comparison of Word Frequencies (Active vs. Inactive)\"},\"barmode\":\"group\"},                        {\"responsive\": true}                    ).then(function(){\n",
              "                            \n",
              "var gd = document.getElementById('d673b02c-2566-4cac-87c0-25a13db64594');\n",
              "var x = new MutationObserver(function (mutations, observer) {{\n",
              "        var display = window.getComputedStyle(gd).display;\n",
              "        if (!display || display === 'none') {{\n",
              "            console.log([gd, 'removed!']);\n",
              "            Plotly.purge(gd);\n",
              "            observer.disconnect();\n",
              "        }}\n",
              "}});\n",
              "\n",
              "// Listen for the removal of the full notebook cells\n",
              "var notebookContainer = gd.closest('#notebook-container');\n",
              "if (notebookContainer) {{\n",
              "    x.observe(notebookContainer, {childList: true});\n",
              "}}\n",
              "\n",
              "// Listen for the clearing of the current output cell\n",
              "var outputEl = gd.closest('.output');\n",
              "if (outputEl) {{\n",
              "    x.observe(outputEl, {childList: true});\n",
              "}}\n",
              "\n",
              "                        })                };                            </script>        </div>\n",
              "</body>\n",
              "</html>"
            ]
          },
          "metadata": {},
          "output_type": "display_data"
        }
      ],
      "source": [
        "# Filter words with lower frequency in Active_Freq than Inactive_Freq\n",
        "lower_freq_words = new_df[new_df['Inactive_Freq'] < new_df['Active_Freq']]\n",
        "\n",
        "# Plotting bar chart\n",
        "fig = px.bar(lower_freq_words, x='Word', y=['Active_Freq', 'Inactive_Freq'],\n",
        "             title='Comparison of Word Frequencies (Active vs. Inactive)',\n",
        "             labels={'value': 'Frequency', 'variable': 'Disease Severity'},\n",
        "             barmode='group')\n",
        "\n",
        "fig.update_layout(xaxis_tickangle=-45)\n",
        "\n",
        "# Show the plot\n",
        "fig.show()\n"
      ]
    },
    {
      "cell_type": "code",
      "execution_count": null,
      "metadata": {
        "id": "_GaLFHExJ9aJ"
      },
      "outputs": [],
      "source": [
        "import medspacy\n",
        "import spacy\n",
        "\n",
        "# Load the pre-trained MedSpacy model\n",
        "nlp = medspacy.load()\n",
        "\n",
        "# Initialize an empty list to store medical terms with lower frequency\n",
        "medical_lower_freq_words = []\n",
        "\n",
        "# Iterate over the words with lower frequency\n",
        "for word in lower_freq_words:\n",
        "    doc = nlp(word)  # Process the word with MedSpacy\n",
        "    if any(ent._.is_medical for ent in doc.ents):\n",
        "        medical_lower_freq_words.append(word)\n",
        "\n",
        "\n"
      ]
    },
    {
      "cell_type": "code",
      "execution_count": null,
      "metadata": {
        "id": "5LB07e7EKzET"
      },
      "outputs": [],
      "source": [
        "# Print the medical terms with lower frequency\n",
        "for word in medical_lower_freq_words:\n",
        "    print(word)"
      ]
    },
    {
      "cell_type": "code",
      "execution_count": null,
      "metadata": {
        "colab": {
          "base_uri": "https://localhost:8080/"
        },
        "id": "qra-gyXhLY1J",
        "outputId": "6056a519-6323-45a3-cb62-5784f2985c01"
      },
      "outputs": [
        {
          "name": "stdout",
          "output_type": "stream",
          "text": [
            "Empty DataFrame\n",
            "Columns: [Word, Active_Freq, Inactive_Freq]\n",
            "Index: []\n"
          ]
        }
      ],
      "source": [
        "# Load the pre-trained MedSpacy model\n",
        "nlp = medspacy.load()\n",
        "\n",
        "# Create a list to store medical words\n",
        "medical_words = []\n",
        "\n",
        "# Iterate over the words in the vocabulary\n",
        "for word in vocabulary:\n",
        "    doc = nlp(word)  # Process the word with MedSpacy\n",
        "    if any(ent._.is_medical for ent in doc.ents):\n",
        "        medical_words.append(word)\n",
        "\n",
        "# Filter the DataFrame to include only medical words\n",
        "medical_df = new_df[new_df['Word'].isin(medical_words)]\n",
        "\n",
        "# Print the filtered DataFrame\n",
        "print(medical_df)\n"
      ]
    },
    {
      "cell_type": "markdown",
      "metadata": {
        "id": "Tf-lpaLfNOwp"
      },
      "source": [
        " to add medical terms to the MedSpacy model and train it on custom medical data, you can follow these steps:\n",
        "\n",
        "1. **Collect Medical Corpus**: Gather a corpus of medical texts that cover the specific domain or medical terms you want to add. This could include medical journals, clinical notes, research papers, or any other relevant sources.\n",
        "\n",
        "2. **Annotate Data**: Annotate the collected medical corpus with the entities you want to recognize, such as medical terms or specific medical concepts. You can use annotation tools like Prodigy, Brat, or even manually annotate the data.\n",
        "\n",
        "3. **Convert Annotations to MedSpaCy Format**: Convert the annotated data into MedSpaCy format, which typically involves converting the annotations to the Doc and Span objects of MedSpaCy.\n",
        "\n",
        "4. **Train MedSpaCy**: Use the converted annotated data to train a MedSpaCy model. This involves initializing a blank MedSpaCy model, loading the converted data, and running multiple training iterations to update the model's entity recognition capabilities.\n",
        "\n",
        "5. **Evaluate and Fine-tune**: After training, evaluate the performance of the trained model on a held-out dataset. If necessary, fine-tune the model by iterating over the training and evaluation process until satisfactory performance is achieved.\n",
        "\n",
        "6. **Test and Use**: Once the model is trained and performs well, you can use it to recognize medical terms in new text data."
      ]
    },
    {
      "cell_type": "code",
      "execution_count": null,
      "metadata": {
        "colab": {
          "base_uri": "https://localhost:8080/",
          "height": 380
        },
        "id": "_smGjqHmPWnh",
        "outputId": "aefe9514-677e-4891-f949-1a7fd3c01d06"
      },
      "outputs": [],
      "source": [
        "import spacy\n",
        "import scispacy\n",
        "\n",
        "# Load the scispacy pipeline\n",
        "nlp = spacy.load(\"en_core_sci_md\")\n",
        "\n",
        "# Define the text to analyze\n",
        "text = \"ENCRYPTED\"\n",
        "\n",
        "# Process the text with the scispacy pipeline\n",
        "doc = nlp(text)\n",
        "\n",
        "# Extract medical terms from the document\n",
        "medical_terms = [ent.text for ent in doc.ents if ent.label_ in ['CHEMICAL', 'DISEASE', 'SYMPTOM']]\n",
        "\n",
        "# Print the extracted medical terms\n",
        "for term in medical_terms:\n",
        "    print(term)\n"
      ]
    }
  ],
  "metadata": {
    "colab": {
      "provenance": []
    },
    "kernelspec": {
      "display_name": "Python 3",
      "name": "python3"
    },
    "language_info": {
      "name": "python"
    }
  },
  "nbformat": 4,
  "nbformat_minor": 0
}
