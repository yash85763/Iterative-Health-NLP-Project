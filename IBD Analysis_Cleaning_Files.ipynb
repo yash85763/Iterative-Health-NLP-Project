{
 "cells": [
  {
   "cell_type": "markdown",
   "id": "e5eb3d5e",
   "metadata": {},
   "source": [
    "# Introduction"
   ]
  },
  {
   "cell_type": "markdown",
   "id": "84800a98",
   "metadata": {},
   "source": [
    "The project aims to develop natural language processing and machine learning techniques to \n",
    "automate the identification of patients with active Inflammatory Bowel Disease (IBD). The project \n",
    "will analyze text-based data from electronic health records (EHR) to identify keywords and multi\u0002word sequences associated with active IBD. The output from this process will be used to predict \n",
    "the likelihood of finding a patient with an active disease and modify the internal processes of the \n",
    "company to avoid manual review of images for some exams"
   ]
  },
  {
   "cell_type": "code",
   "execution_count": 1,
   "id": "32c100c5",
   "metadata": {},
   "outputs": [],
   "source": [
    "import pandas as pd\n",
    "import numpy as np\n",
    "from bs4 import BeautifulSoup"
   ]
  },
  {
   "cell_type": "code",
   "execution_count": 2,
   "id": "050c7941",
   "metadata": {},
   "outputs": [],
   "source": [
    "#Loading all the datasets\n",
    "\n",
    "# Load dataset 1\n",
    "exam_notes_df = pd.read_csv('Exam_notes')\n",
    "# Load dataset 2\n",
    "image_CD_df = pd.read_csv('Images Crohn Disease')\n",
    "# Load dataset 3\n",
    "image_UC_df = pd.read_csv('Images Ulcerative Colitis')\n",
    "\n",
    "# Load dataset 3\n",
    "GI_chrons_df = pd.read_excel(\"GI responses - Crohn's disease\")\n",
    "\n",
    "# Load dataset 4\n",
    "GI_ulcerative_df = pd.read_excel(\"GI responses - Ulcerative collitis\")"
   ]
  },
  {
   "cell_type": "markdown",
   "id": "6127debe",
   "metadata": {},
   "source": [
    "## Exam Notes"
   ]
  },
  {
   "cell_type": "code",
   "execution_count": 3,
   "id": "d986a1ec",
   "metadata": {},
   "outputs": [],
   "source": [
    "# Function to parse exam notes\n",
    "def parse_exam_notes(html_text):\n",
    "    soup = BeautifulSoup(html_text, 'html.parser')\n",
    "    entries = soup.find_all('h3')\n",
    "\n",
    "    result = {}\n",
    "    for entry in entries:\n",
    "        heading = entry.text.strip()\n",
    "        ul_tags = entry.find_next_siblings('ul')\n",
    "\n",
    "        item_text_list = []  # List to store both Item and Text\n",
    "\n",
    "        for ul_tag in ul_tags:\n",
    "            li_tags = ul_tag.find_all('li')\n",
    "            for li_tag in li_tags:\n",
    "                li_text = li_tag.text.strip()\n",
    "\n",
    "                # Extract both Item and Text\n",
    "                if li_text.startswith('Item:'):\n",
    "                    split_text = li_text.split(': ', 1)\n",
    "                    if len(split_text) >= 2:\n",
    "                        item_text_list.append(split_text[1])\n",
    "                if li_text.startswith('Text:'):\n",
    "                    split_text = li_text.split(': ', 1)\n",
    "                    if len(split_text) >= 2:\n",
    "                        item_text_list.append(split_text[1])\n",
    "\n",
    "        result[heading] = item_text_list\n",
    "\n",
    "    first_heading = list(result.keys())[0]\n",
    "    first_item_text_list = result[first_heading]\n",
    "\n",
    "    # Convert the list of sentences into a single sentence\n",
    "    first_sentence = ' '.join([sentence for sentence in first_item_text_list])\n",
    "\n",
    "    return first_sentence\n",
    "\n",
    "\n",
    "# Apply parsing function to each row in Exam Notes column\n",
    "exam_notes_df['Exam Notes'] = exam_notes_df['Exam Notes'].apply(parse_exam_notes)"
   ]
  },
  {
   "cell_type": "code",
   "execution_count": 4,
   "id": "5893e7f7",
   "metadata": {},
   "outputs": [],
   "source": [
    "exam_notes_df = exam_notes_df.rename(columns={\"Exam ID\": \"Exam_ID\", \n",
    "                                              \"Exam Notes\": \"Exam_Notes\"})"
   ]
  },
  {
   "cell_type": "code",
   "execution_count": 5,
   "id": "e2f6083a",
   "metadata": {},
   "outputs": [],
   "source": [
    "exam_notes_df = exam_notes_df.drop_duplicates()"
   ]
  },
  {
   "cell_type": "code",
   "execution_count": 6,
   "id": "3b56ff87",
   "metadata": {},
   "outputs": [
    {
     "data": {
      "text/plain": [
       "5161"
      ]
     },
     "execution_count": 6,
     "metadata": {},
     "output_type": "execute_result"
    }
   ],
   "source": [
    "len(exam_notes_df['Exam_ID'].unique())"
   ]
  },
  {
   "cell_type": "code",
   "execution_count": 7,
   "id": "00c1b134",
   "metadata": {},
   "outputs": [
    {
     "data": {
      "text/plain": [
       "(5161, 2)"
      ]
     },
     "execution_count": 7,
     "metadata": {},
     "output_type": "execute_result"
    }
   ],
   "source": [
    "exam_notes_df.shape"
   ]
  },
  {
   "cell_type": "markdown",
   "id": "23307b99",
   "metadata": {},
   "source": [
    "## Image CD"
   ]
  },
  {
   "cell_type": "code",
   "execution_count": 8,
   "id": "07ed8bd2",
   "metadata": {},
   "outputs": [],
   "source": [
    "image_CD_df = image_CD_df.rename(columns={\"Exam ID\": \"Exam_ID\"})"
   ]
  },
  {
   "cell_type": "code",
   "execution_count": null,
   "id": "10027e82",
   "metadata": {},
   "outputs": [],
   "source": [
    "image_CD_df['Image_Info'] = image_CD_df['Image Comments'].fillna('') + image_CD_df['Image Location Text'].fillna('')\n",
    "image_CD_df = image_CD_df.drop(['Image Comments', 'Image Location Text'], axis=1)\n",
    "image_CD_df.drop_duplicates()"
   ]
  },
  {
   "cell_type": "code",
   "execution_count": 10,
   "id": "589b924e",
   "metadata": {},
   "outputs": [],
   "source": [
    "image_CD_df = image_CD_df.groupby('Exam_ID')['Image_Info'].agg(lambda x: ' '.join(x)).reset_index()"
   ]
  },
  {
   "cell_type": "code",
   "execution_count": 11,
   "id": "241e3eb3",
   "metadata": {},
   "outputs": [],
   "source": [
    "image_CD_df = image_CD_df.drop_duplicates()"
   ]
  },
  {
   "cell_type": "code",
   "execution_count": 12,
   "id": "2e87915f",
   "metadata": {},
   "outputs": [
    {
     "data": {
      "text/plain": [
       "2146"
      ]
     },
     "execution_count": 12,
     "metadata": {},
     "output_type": "execute_result"
    }
   ],
   "source": [
    "len(image_CD_df['Exam_ID'].unique())"
   ]
  },
  {
   "cell_type": "code",
   "execution_count": 13,
   "id": "e9155085",
   "metadata": {},
   "outputs": [
    {
     "data": {
      "text/plain": [
       "(2146, 2)"
      ]
     },
     "execution_count": 13,
     "metadata": {},
     "output_type": "execute_result"
    }
   ],
   "source": [
    "image_CD_df.shape"
   ]
  },
  {
   "cell_type": "markdown",
   "id": "bd04e245",
   "metadata": {},
   "source": [
    "## Image UC"
   ]
  },
  {
   "cell_type": "code",
   "execution_count": 14,
   "id": "d74f3be8",
   "metadata": {},
   "outputs": [],
   "source": [
    "image_UC_df = image_UC_df.rename(columns={\"Exam ID\": \"Exam_ID\"})"
   ]
  },
  {
   "cell_type": "code",
   "execution_count": null,
   "id": "4a3c0c88",
   "metadata": {},
   "outputs": [],
   "source": [
    "image_UC_df['Image_Info'] = image_UC_df['Image Comments'].fillna('') + image_UC_df['Image Location Text'].fillna('')\n",
    "image_UC_df = image_UC_df.drop(['Image Comments', 'Image Location Text'], axis=1)\n",
    "image_UC_df.drop_duplicates()"
   ]
  },
  {
   "cell_type": "code",
   "execution_count": 16,
   "id": "056c68ef",
   "metadata": {},
   "outputs": [],
   "source": [
    "image_UC_df = image_UC_df.groupby('Exam_ID')['Image_Info'].agg(lambda x: ' '.join(x)).reset_index()"
   ]
  },
  {
   "cell_type": "code",
   "execution_count": 17,
   "id": "b0f743b9",
   "metadata": {},
   "outputs": [],
   "source": [
    "image_UC_df = image_UC_df.drop_duplicates()"
   ]
  },
  {
   "cell_type": "code",
   "execution_count": 18,
   "id": "4fd547c3",
   "metadata": {},
   "outputs": [
    {
     "data": {
      "text/plain": [
       "2823"
      ]
     },
     "execution_count": 18,
     "metadata": {},
     "output_type": "execute_result"
    }
   ],
   "source": [
    "len(image_UC_df['Exam_ID'].unique())"
   ]
  },
  {
   "cell_type": "code",
   "execution_count": 19,
   "id": "a107c7cc",
   "metadata": {},
   "outputs": [
    {
     "data": {
      "text/plain": [
       "(2823, 2)"
      ]
     },
     "execution_count": 19,
     "metadata": {},
     "output_type": "execute_result"
    }
   ],
   "source": [
    "image_UC_df.shape"
   ]
  },
  {
   "cell_type": "markdown",
   "id": "7fc53141",
   "metadata": {},
   "source": [
    "## GI Response Chrons"
   ]
  },
  {
   "cell_type": "code",
   "execution_count": 20,
   "id": "146cea1e",
   "metadata": {},
   "outputs": [],
   "source": [
    "GI_chrons_df.drop(['Do you have any other comments or feedback you would like to add? ',\n",
    "       \"Is this patient's disease confined to the ileum?\",\n",
    "       'Is this patient post-surgical?',\n",
    "       'Does the quality of the images hinder you from accurately scoring this exam?',\n",
    "       'Do you agree with the diagnosis of CD?',\n",
    "       'Holistically speaking, do you judge this patient to be a likely candidate for inclusion in a clinical trial?',\n",
    "       'Why, in brief?','What SES-CD score would you give this exam?'], axis = 1, inplace = True)"
   ]
  },
  {
   "cell_type": "code",
   "execution_count": 21,
   "id": "9d515443",
   "metadata": {},
   "outputs": [],
   "source": [
    "# Renaming the column using Rename function\n",
    "GI_chrons_df = GI_chrons_df.rename(columns={\"Exam ID\": \"Exam_ID\", \n",
    "                                                    \"How would you categorize this patient's disease severity?\": \"Disease_Severity\",\n",
    "                                                    \"Did you detect ulcers in your review of this patient's case?\": \"Ulcer\"})"
   ]
  },
  {
   "cell_type": "code",
   "execution_count": 22,
   "id": "7c9dc2a7",
   "metadata": {},
   "outputs": [],
   "source": [
    "GI_chrons_df = GI_chrons_df.drop_duplicates()"
   ]
  },
  {
   "cell_type": "code",
   "execution_count": 23,
   "id": "e10b9d4a",
   "metadata": {},
   "outputs": [
    {
     "data": {
      "text/plain": [
       "(396, 3)"
      ]
     },
     "execution_count": 23,
     "metadata": {},
     "output_type": "execute_result"
    }
   ],
   "source": [
    "GI_chrons_df.shape"
   ]
  },
  {
   "cell_type": "markdown",
   "id": "f03f20f2",
   "metadata": {},
   "source": [
    "## GI Response Ulcerative"
   ]
  },
  {
   "cell_type": "code",
   "execution_count": 24,
   "id": "d597e47e",
   "metadata": {},
   "outputs": [],
   "source": [
    "GI_ulcerative_df.drop(['Is this patient post-surgical?',\n",
    "       'Does the quality of the images hinder you from accurately scoring this exam?',\n",
    "       'What MES would you give this exam?',\n",
    "       'Please assess the extent of colonic involvement:',\n",
    "       'Do you have any other comments or feedback you would like to add? ',\n",
    "       'Do you agree with the diagnosis of UC?',\n",
    "       'Holistically speaking, do you judge this patient to be a likely candidate for inclusion in a clinical trial?',\n",
    "       'Why, in brief?',\"Did you detect erosions in your review of this patient's case?\"], axis = 1, inplace = True)"
   ]
  },
  {
   "cell_type": "code",
   "execution_count": 25,
   "id": "5a5bba2c",
   "metadata": {},
   "outputs": [],
   "source": [
    "# Renaming the column using Rename function\n",
    "GI_ulcerative_df = GI_ulcerative_df.rename(columns={\"Exam ID\": \"Exam_ID\", \n",
    "                                                    \"How would you categorize this patient's disease severity?\": \"Disease_Severity\",\n",
    "                                                    \"Did you detect ulcers in your review of this patient's case?\": \"Ulcer\"})"
   ]
  },
  {
   "cell_type": "code",
   "execution_count": 26,
   "id": "51ad35ef",
   "metadata": {},
   "outputs": [],
   "source": [
    "GI_ulcerative_df = GI_ulcerative_df.drop_duplicates()"
   ]
  },
  {
   "cell_type": "code",
   "execution_count": 27,
   "id": "77882506",
   "metadata": {},
   "outputs": [
    {
     "data": {
      "text/plain": [
       "(398, 3)"
      ]
     },
     "execution_count": 27,
     "metadata": {},
     "output_type": "execute_result"
    }
   ],
   "source": [
    "GI_ulcerative_df.shape"
   ]
  },
  {
   "cell_type": "code",
   "execution_count": 28,
   "id": "28db866b",
   "metadata": {},
   "outputs": [],
   "source": [
    "# Specify the file path for the Excel file\n",
    "exam_notes_TYPE_file_path = 'cleaned_exam_notes'\n",
    "\n",
    "# Write the DataFrame to the CSV file\n",
    "exam_notes_df.to_TYPE(exam_notes_TYPE_file_path, index=False)"
   ]
  },
  {
   "cell_type": "code",
   "execution_count": 29,
   "id": "9e54d08a",
   "metadata": {},
   "outputs": [],
   "source": [
    "# Specify the file path for the Excel file\n",
    "image_cd_TYPE_file_path = 'cleaned_image_cd'\n",
    "\n",
    "# Write the DataFrame to the CSV file\n",
    "image_CD_df.to_TYPE(image_cd_TYPE_file_path, index=False)"
   ]
  },
  {
   "cell_type": "code",
   "execution_count": 30,
   "id": "7422176c",
   "metadata": {},
   "outputs": [],
   "source": [
    "# Specify the file path for the Excel file\n",
    "image_UC_TYPE_file_path = 'cleaned_image_uc'\n",
    "\n",
    "# Write the DataFrame to the CSV file\n",
    "image_UC_df.to_TYPE(image_UC_TYPE_file_path, index=False)"
   ]
  },
  {
   "cell_type": "code",
   "execution_count": 31,
   "id": "4ab84590",
   "metadata": {},
   "outputs": [],
   "source": [
    "# Specify the file path for the Excel file\n",
    "GI_chrons_TYPE_file_path = 'cleaned_GI_response_chrons'\n",
    "\n",
    "# Write the DataFrame to the CSV file\n",
    "GI_chrons_df.to_TYPE(GI_chrons_TYPE_file_path, index=False)"
   ]
  },
  {
   "cell_type": "code",
   "execution_count": 32,
   "id": "d7868244",
   "metadata": {},
   "outputs": [],
   "source": [
    "# Specify the file path for the Excel file\n",
    "GI_ulcerative_TYPE_file_path = 'cleaned_GI_response_ulcerative'\n",
    "\n",
    "# Write the DataFrame to the CSV file\n",
    "GI_ulcerative_df.to_TYPE(GI_ulcerative_TYPE_file_path, index=False)"
   ]
  },
  {
   "cell_type": "code",
   "execution_count": null,
   "id": "29917e47",
   "metadata": {},
   "outputs": [],
   "source": []
  },
  {
   "cell_type": "code",
   "execution_count": null,
   "id": "e91e2e45",
   "metadata": {},
   "outputs": [],
   "source": []
  }
 ],
 "metadata": {
  "kernelspec": {
   "display_name": "Python 3 (ipykernel)",
   "language": "python",
   "name": "python3"
  },
  "language_info": {
   "codemirror_mode": {
    "name": "ipython",
    "version": 3
   },
   "file_extension": ".py",
   "mimetype": "text/x-python",
   "name": "python",
   "nbconvert_exporter": "python",
   "pygments_lexer": "ipython3",
   "version": "3.10.9"
  }
 },
 "nbformat": 4,
 "nbformat_minor": 5
}
