{
 "cells": [
  {
   "cell_type": "markdown",
   "metadata": {
    "id": "CcGxiMPIeMjf"
   },
   "source": [
    "# IBD Analysis"
   ]
  },
  {
   "cell_type": "markdown",
   "metadata": {
    "id": "SOao2hjpf7L0"
   },
   "source": [
    "## Introduction\n",
    "\n"
   ]
  },
  {
   "cell_type": "markdown",
   "metadata": {
    "id": "8q0qSyl-hQrw"
   },
   "source": [
    "The following code will merge 5 cleaned files and perform data preprocessing"
   ]
  },
  {
   "cell_type": "code",
   "execution_count": null,
   "metadata": {
    "id": "M3lGoGT74QCK"
   },
   "outputs": [],
   "source": [
    "#Importing required packages\n",
    "\n",
    "import nltk\n",
    "from nltk.corpus import stopwords\n",
    "from nltk.stem import WordNetLemmatizer\n",
    "from nltk.tokenize import word_tokenize\n",
    "import pandas as pd\n",
    "from bs4 import BeautifulSoup\n",
    "import matplotlib.pyplot as plt\n",
    "import seaborn as sns\n",
    "import re\n",
    "import numpy as np"
   ]
  },
  {
   "cell_type": "code",
   "execution_count": null,
   "metadata": {},
   "outputs": [],
   "source": [
    "#Loading all cleaned datasets\n",
    "\n",
    "# Load dataset 1\n",
    "exam_notes_df = pd.read_csv('IBD Clinical Notes Data')\n",
    "# Load dataset 2\n",
    "image_CD_df = pd.read_csv(\"IBD Image Data for Crohn's Disease \")\n",
    "# Load dataset 3\n",
    "image_UC_df = pd.read_csv('IBD Image Data for Ulcerative Colitis')\n",
    "\n",
    "# Load dataset 3\n",
    "GI_chrons_df = pd.read_csv(\"GI Responses for Crohn Disease\")\n",
    "\n",
    "# Load dataset 4\n",
    "GI_ulcerative_df = pd.read_csv(\"GI Responses for Ulcerative Colitis\")"
   ]
  },
  {
   "cell_type": "markdown",
   "metadata": {},
   "source": [
    "# Data Preparation And Cleaning"
   ]
  },
  {
   "cell_type": "markdown",
   "metadata": {},
   "source": [
    "## Merging Exam Notes and Image UC and CD \n"
   ]
  },
  {
   "cell_type": "code",
   "execution_count": null,
   "metadata": {},
   "outputs": [],
   "source": [
    "# Merging Exam Notes and Image UC and CD\n",
    "merged_df1 = pd.merge(exam_notes_df, image_CD_df, on='Exam_ID', how='outer')\n",
    "merged_df1 = pd.merge(merged_df1, image_UC_df, on='Exam_ID', how='outer')\n",
    "\n",
    "merged_df1['Image_Info_x'] = merged_df1['Image_Info_x'].astype(str)\n",
    "merged_df1['Image_Info_y'] = merged_df1['Image_Info_y'].astype(str)\n",
    "\n",
    "merged_df1['Image_Info'] = merged_df1['Image_Info_x'].fillna('') + merged_df1['Image_Info_y'].fillna('')\n",
    "merged_df1 = merged_df1.drop(['Image_Info_x', 'Image_Info_y'], axis=1)"
   ]
  },
  {
   "cell_type": "code",
   "execution_count": null,
   "metadata": {},
   "outputs": [],
   "source": [
    "merged_df1.shape"
   ]
  },
  {
   "cell_type": "code",
   "execution_count": null,
   "metadata": {},
   "outputs": [],
   "source": [
    "len(merged_df1['Exam_ID'].unique())"
   ]
  },
  {
   "cell_type": "code",
   "execution_count": null,
   "metadata": {},
   "outputs": [],
   "source": [
    "def print_null_percentage(df):\n",
    "    for col in df.columns:\n",
    "        null_count = df[col].isnull().sum()\n",
    "        null_percentage = (null_count / len(df)) * 100\n",
    "        print(f\"Percentage of null values in {col}: {null_percentage}%\")"
   ]
  },
  {
   "cell_type": "code",
   "execution_count": null,
   "metadata": {},
   "outputs": [],
   "source": [
    "print_null_percentage(merged_df1)"
   ]
  },
  {
   "cell_type": "markdown",
   "metadata": {},
   "source": [
    "## Merged Exam notes and Images dataframe + GI Ulcerative dataframe\n",
    "\n",
    "Total 361\n",
    "Active = 170\n",
    "Inactive = 191"
   ]
  },
  {
   "cell_type": "code",
   "execution_count": null,
   "metadata": {},
   "outputs": [],
   "source": [
    "# Merging Exam Notes and Image UC and CD and GI Ulcerative dataframe \n",
    "merged_df2 = pd.merge(merged_df1, GI_ulcerative_df, on='Exam_ID',how='right')"
   ]
  },
  {
   "cell_type": "code",
   "execution_count": null,
   "metadata": {},
   "outputs": [],
   "source": [
    "merged_df2"
   ]
  },
  {
   "cell_type": "code",
   "execution_count": null,
   "metadata": {},
   "outputs": [],
   "source": [
    "merged_df2= merged_df2.dropna()"
   ]
  },
  {
   "cell_type": "code",
   "execution_count": null,
   "metadata": {},
   "outputs": [],
   "source": [
    "print_null_percentage(merged_df2)"
   ]
  },
  {
   "cell_type": "code",
   "execution_count": null,
   "metadata": {},
   "outputs": [],
   "source": [
    "merged_df2.shape"
   ]
  },
  {
   "cell_type": "code",
   "execution_count": null,
   "metadata": {},
   "outputs": [],
   "source": [
    "merged_df2_Inactive = merged_df2[merged_df2['Disease_Severity'] != 'Active']"
   ]
  },
  {
   "cell_type": "code",
   "execution_count": null,
   "metadata": {},
   "outputs": [],
   "source": [
    "merged_df2_Inactive.shape"
   ]
  },
  {
   "cell_type": "markdown",
   "metadata": {},
   "source": [
    "## Merged Exam notes and Images dataframe + GI Chrons dataframe\n",
    "\n",
    "Total 372\n",
    "Active = 200\n",
    "Inactive = 172"
   ]
  },
  {
   "cell_type": "code",
   "execution_count": null,
   "metadata": {},
   "outputs": [],
   "source": [
    "# Merging Exam Notes and Image UC and CD and GI Chrons dataframe\n",
    "merged_df3 = pd.merge(merged_df1, GI_chrons_df, on='Exam_ID',how='right')"
   ]
  },
  {
   "cell_type": "code",
   "execution_count": null,
   "metadata": {},
   "outputs": [],
   "source": [
    "merged_df3"
   ]
  },
  {
   "cell_type": "code",
   "execution_count": null,
   "metadata": {},
   "outputs": [],
   "source": [
    "merged_df3= merged_df3.dropna()"
   ]
  },
  {
   "cell_type": "code",
   "execution_count": null,
   "metadata": {},
   "outputs": [],
   "source": [
    "print_null_percentage(merged_df3)"
   ]
  },
  {
   "cell_type": "code",
   "execution_count": null,
   "metadata": {},
   "outputs": [],
   "source": [
    "merged_df3.shape"
   ]
  },
  {
   "cell_type": "code",
   "execution_count": null,
   "metadata": {},
   "outputs": [],
   "source": [
    "merged_df3_Inactive = merged_df3[merged_df3['Disease_Severity'] != 'Active']"
   ]
  },
  {
   "cell_type": "code",
   "execution_count": null,
   "metadata": {},
   "outputs": [],
   "source": [
    "merged_df3_Inactive.shape"
   ]
  },
  {
   "cell_type": "code",
   "execution_count": null,
   "metadata": {},
   "outputs": [],
   "source": [
    "merged_df3.loc[merged_df3['Exam_ID'] == '3908FC01091A445B88E2D241A85BA442']"
   ]
  },
  {
   "cell_type": "markdown",
   "metadata": {},
   "source": [
    "## Find common Exam IDs in these two merged dataframes"
   ]
  },
  {
   "cell_type": "code",
   "execution_count": null,
   "metadata": {},
   "outputs": [],
   "source": [
    "def find_common_ids(df1, df2, primary_key_column):\n",
    "    # Perform an inner merge based on the primary key column\n",
    "    common_keys = df1.merge(df2, on=primary_key_column)[primary_key_column].tolist()\n",
    "\n",
    "    # Return the common primary keys as a list\n",
    "    return common_keys"
   ]
  },
  {
   "cell_type": "code",
   "execution_count": null,
   "metadata": {},
   "outputs": [],
   "source": [
    "common_ids = find_common_ids(merged_df2,merged_df3,'Exam_ID')"
   ]
  },
  {
   "cell_type": "code",
   "execution_count": null,
   "metadata": {},
   "outputs": [],
   "source": [
    "def drop_common_ids(df1, df2, common_ids):\n",
    "    # Drop common keys from df1\n",
    "    df1 = df1[~df1['Exam_ID'].isin(common_ids)].reset_index(drop=True)\n",
    "\n",
    "    # Drop common keys from df2\n",
    "    df2 = df2[~df2['Exam_ID'].isin(common_ids)].reset_index(drop=True)"
   ]
  },
  {
   "cell_type": "code",
   "execution_count": null,
   "metadata": {},
   "outputs": [],
   "source": [
    "drop_common_ids(merged_df2,merged_df2,common_ids)"
   ]
  },
  {
   "cell_type": "markdown",
   "metadata": {},
   "source": [
    "## Merging the two merged dataframes to get the final dataframe"
   ]
  },
  {
   "cell_type": "code",
   "execution_count": null,
   "metadata": {},
   "outputs": [],
   "source": [
    "final_IBD_df = pd.merge(merged_df2, merged_df3, on='Exam_ID',how='outer')"
   ]
  },
  {
   "cell_type": "code",
   "execution_count": null,
   "metadata": {},
   "outputs": [],
   "source": [
    "print_null_percentage(final_IBD_df)"
   ]
  },
  {
   "cell_type": "code",
   "execution_count": null,
   "metadata": {},
   "outputs": [],
   "source": [
    "final_IBD_df.shape"
   ]
  },
  {
   "cell_type": "markdown",
   "metadata": {},
   "source": [
    "#### Filtering the common data and will add this filtered common data after combining common columns in final mereged dataset"
   ]
  },
  {
   "cell_type": "code",
   "execution_count": null,
   "metadata": {},
   "outputs": [],
   "source": [
    "filtered_final_IBD_df = final_IBD_df.dropna(how='any')"
   ]
  },
  {
   "cell_type": "code",
   "execution_count": null,
   "metadata": {},
   "outputs": [],
   "source": [
    "filtered_final_IBD_df"
   ]
  },
  {
   "cell_type": "code",
   "execution_count": null,
   "metadata": {},
   "outputs": [],
   "source": [
    "filtered_final_IBD_df = filtered_final_IBD_df.drop(['Disease_Severity_y', 'Exam_Notes_y','Image_Info_y','Ulcer_y'], axis=1)"
   ]
  },
  {
   "cell_type": "code",
   "execution_count": null,
   "metadata": {},
   "outputs": [],
   "source": [
    "filtered_final_IBD_df = filtered_final_IBD_df.rename(columns={\"Disease_Severity_x\": \"Disease_Severity\", \n",
    "                                                    \"Exam_Notes_x\": \"Exam_Notes\",\n",
    "                                                    \"Image_Info_x\": \"Image_Info\",\n",
    "                                                    \"Ulcer_x\": \"Ulcer\"})\n"
   ]
  },
  {
   "cell_type": "code",
   "execution_count": null,
   "metadata": {},
   "outputs": [],
   "source": [
    "filtered_df1 = final_IBD_df[~final_IBD_df['Exam_ID'].isin(filtered_final_IBD_df['Exam_ID'])]"
   ]
  },
  {
   "cell_type": "code",
   "execution_count": null,
   "metadata": {},
   "outputs": [],
   "source": [
    "filtered_df1.shape"
   ]
  },
  {
   "cell_type": "code",
   "execution_count": null,
   "metadata": {},
   "outputs": [],
   "source": [
    "print_null_percentage(filtered_df1)"
   ]
  },
  {
   "cell_type": "code",
   "execution_count": null,
   "metadata": {},
   "outputs": [],
   "source": [
    "filtered_df1.head()"
   ]
  },
  {
   "cell_type": "code",
   "execution_count": null,
   "metadata": {},
   "outputs": [],
   "source": [
    "filtered_df1_copy = filtered_df1.copy()\n",
    "filtered_df1_copy['Image_Info_x'] = filtered_df1_copy['Image_Info_x'].astype(str)\n",
    "filtered_df1_copy['Image_Info_y'] = filtered_df1_copy['Image_Info_y'].astype(str)"
   ]
  },
  {
   "cell_type": "code",
   "execution_count": null,
   "metadata": {},
   "outputs": [],
   "source": [
    "filtered_df1_copy.head()"
   ]
  },
  {
   "cell_type": "code",
   "execution_count": null,
   "metadata": {},
   "outputs": [],
   "source": [
    "filtered_df1_copy['Disease_Severity'] = filtered_df1_copy['Disease_Severity_x'].fillna('') + filtered_df1_copy['Disease_Severity_y'].fillna('')\n",
    "filtered_df1_copy['Ulcer'] = filtered_df1_copy['Ulcer_x'].fillna('') + filtered_df1_copy['Ulcer_y'].fillna('')\n",
    "filtered_df1_copy['Exam_Notes'] = filtered_df1_copy['Exam_Notes_x'].fillna('') + filtered_df1_copy['Exam_Notes_y'].fillna('')\n",
    "filtered_df1_copy['Image_Info'] = filtered_df1_copy['Image_Info_x'].fillna('') + filtered_df1_copy['Image_Info_y'].fillna('')"
   ]
  },
  {
   "cell_type": "code",
   "execution_count": null,
   "metadata": {},
   "outputs": [],
   "source": [
    "filtered_df1_copy.drop(['Disease_Severity_x', 'Disease_Severity_y','Exam_Notes_x','Exam_Notes_y','Image_Info_x','Image_Info_y','Ulcer_x','Ulcer_y'], axis=1, inplace=True)"
   ]
  },
  {
   "cell_type": "code",
   "execution_count": null,
   "metadata": {},
   "outputs": [],
   "source": [
    "print_null_percentage(filtered_df1_copy)"
   ]
  },
  {
   "cell_type": "markdown",
   "metadata": {},
   "source": [
    "# Override - new change"
   ]
  },
  {
   "cell_type": "code",
   "execution_count": null,
   "metadata": {},
   "outputs": [],
   "source": [
    "filtered_df1_copy['Image_Info'] = filtered_df1_copy['Image_Info'].replace('nannannan', np.nan)\n",
    "null_values = filtered_df1_copy['Image_Info'].isna().any().any()\n",
    "print(null_values)"
   ]
  },
  {
   "cell_type": "code",
   "execution_count": null,
   "metadata": {},
   "outputs": [],
   "source": [
    "filtered_df1_copy = filtered_df1_copy.dropna()"
   ]
  },
  {
   "cell_type": "markdown",
   "metadata": {},
   "source": [
    "----------------------------------------------------"
   ]
  },
  {
   "cell_type": "code",
   "execution_count": null,
   "metadata": {},
   "outputs": [],
   "source": [
    "filtered_df1_copy.shape"
   ]
  },
  {
   "cell_type": "markdown",
   "metadata": {},
   "source": [
    "## Merging the two final dataframes which has complete data and which has either GI CD or GI UC data\n",
    "\n",
    "Total - 728 datapoints"
   ]
  },
  {
   "cell_type": "code",
   "execution_count": null,
   "metadata": {},
   "outputs": [],
   "source": [
    "#final_IBD_df_new = filtered_df1_copy.append(filtered_final_IBD_df)\n",
    "final_IBD_df_new = pd.concat([filtered_df1_copy, filtered_final_IBD_df], ignore_index=True)"
   ]
  },
  {
   "cell_type": "code",
   "execution_count": null,
   "metadata": {},
   "outputs": [],
   "source": [
    "final_IBD_df_new.shape"
   ]
  },
  {
   "cell_type": "code",
   "execution_count": null,
   "metadata": {},
   "outputs": [],
   "source": [
    "print_null_percentage(final_IBD_df_new)"
   ]
  },
  {
   "cell_type": "code",
   "execution_count": null,
   "metadata": {},
   "outputs": [],
   "source": [
    "filtered_df1_copy['Image_Info'] = filtered_df1_copy['Image_Info'].astype(str)"
   ]
  },
  {
   "cell_type": "code",
   "execution_count": null,
   "metadata": {},
   "outputs": [],
   "source": [
    "# Dropping rows with missing values\n",
    "filtered_df1_copy = filtered_df1_copy.dropna()"
   ]
  },
  {
   "cell_type": "code",
   "execution_count": null,
   "metadata": {},
   "outputs": [],
   "source": [
    "filtered_df1_copy.shape"
   ]
  },
  {
   "cell_type": "markdown",
   "metadata": {},
   "source": [
    "# Data Preprocessing"
   ]
  },
  {
   "cell_type": "code",
   "execution_count": null,
   "metadata": {},
   "outputs": [],
   "source": [
    "# Function to remove special characters\n",
    "def remove_special_characters(df, column_name):\n",
    "    # Define the regular expression pattern to match non-alphanumeric characters\n",
    "    pattern = re.compile(r'[^a-zA-Z0-9\\s]')\n",
    "    # Remove special characters from every value in the specified column\n",
    "    df[column_name] = df[column_name].str.replace(pattern, '')\n",
    "    return df"
   ]
  },
  {
   "cell_type": "code",
   "execution_count": null,
   "metadata": {},
   "outputs": [],
   "source": [
    "def remove_stopwords(df, column_name):\n",
    "    # Get the list of stopwords\n",
    "    stop_words = set(stopwords.words('english'))\n",
    "\n",
    "    # Remove stopwords from every value in the specified column\n",
    "    df[column_name] = df[column_name].apply(lambda x: ' '.join([word for word in str(x).split() if word.lower() not in stop_words]))\n",
    "\n",
    "    # Remove duplicate words like \"Item\", \"Text\"\n",
    "    df[column_name] = df[column_name].str.replace('Item', '').str.replace('Text', '').str.replace('Patient','').str.replace('patient','').str.replace('Procedure','').str.replace('procedure','').str.replace('nan','').str.replace('undefined','')\n",
    "\n",
    "    # Remove empty elements from every value in the specified column\n",
    "    df[column_name] = df[column_name].apply(lambda x: ' '.join([word for word in str(x).split() if word]))\n",
    "    return df"
   ]
  },
  {
   "cell_type": "code",
   "execution_count": null,
   "metadata": {},
   "outputs": [],
   "source": [
    "final_IBD_df_new = remove_special_characters(final_IBD_df_new,'Exam_Notes')\n",
    "final_IBD_df_new = remove_stopwords(final_IBD_df_new,'Exam_Notes')\n",
    "final_IBD_df_new = remove_special_characters(final_IBD_df_new,'Image_Info')\n",
    "final_IBD_df_new['Image_Info'] = final_IBD_df_new['Image_Info'].astype(str)\n",
    "final_IBD_df_new = remove_stopwords(final_IBD_df_new,'Image_Info')"
   ]
  },
  {
   "cell_type": "code",
   "execution_count": null,
   "metadata": {},
   "outputs": [],
   "source": [
    "final_IBD_df_new.shape"
   ]
  },
  {
   "cell_type": "code",
   "execution_count": null,
   "metadata": {},
   "outputs": [],
   "source": [
    "print_null_percentage(final_IBD_df_new)"
   ]
  },
  {
   "cell_type": "code",
   "execution_count": null,
   "metadata": {},
   "outputs": [],
   "source": [
    "final_IBD_df_new['Exam_Notes'] = final_IBD_df_new['Exam_Notes'].apply(lambda x: 'undefined' if all(word == 'undefined' for word in str(x).split()) else x)"
   ]
  },
  {
   "cell_type": "code",
   "execution_count": null,
   "metadata": {},
   "outputs": [],
   "source": [
    "# Specify the file path for the Excel file\n",
    "Merged_File = 'Merged_File'\n",
    "\n",
    "# Write the DataFrame to the CSV file\n",
    "final_IBD_df_new.to_csv(Merged_File, index=False)"
   ]
  },
  {
   "cell_type": "code",
   "execution_count": null,
   "metadata": {},
   "outputs": [],
   "source": [
    "\n"
   ]
  },
  {
   "cell_type": "code",
   "execution_count": null,
   "metadata": {},
   "outputs": [],
   "source": []
  }
 ],
 "metadata": {
  "colab": {
   "collapsed_sections": [
    "A9c-3W0xqmta",
    "xk3nLVDdquBz",
    "d5U7smXPiMrW"
   ],
   "provenance": []
  },
  "kernelspec": {
   "display_name": "Python 3 (ipykernel)",
   "language": "python",
   "name": "python3"
  },
  "language_info": {
   "codemirror_mode": {
    "name": "ipython",
    "version": 3
   },
   "file_extension": ".py",
   "mimetype": "text/x-python",
   "name": "python",
   "nbconvert_exporter": "python",
   "pygments_lexer": "ipython3",
   "version": "3.10.9"
  }
 },
 "nbformat": 4,
 "nbformat_minor": 1
}
